{
 "cells": [
  {
   "cell_type": "code",
   "execution_count": 16,
   "metadata": {},
   "outputs": [],
   "source": [
    "import os as os\n",
    "path = r'/home/falco/Desktop/directory/Cattle_AMR_2/'\n",
    "os.chdir(r'/home/falco/Desktop/directory/Cattle_AMR_2/')\n",
    "data_path = r\"/home/falco/Desktop/directory/Cattle_AMR_2/data/\"\n",
    "output_path = r\"/home/falco/Desktop/directory/Cattle_AMR_2/outputs/\"\n",
    "\n",
    "import sklearn\n",
    "from sklearn.metrics import classification_report, f1_score, accuracy_score, confusion_matrix\n",
    "from sklearn.pipeline import Pipeline\n",
    "from sklearn.ensemble import ExtraTreesClassifier, RandomForestClassifier, AdaBoostClassifier, GradientBoostingClassifier\n",
    "from sklearn.model_selection import GridSearchCV\n",
    "from sklearn.model_selection import StratifiedKFold ,cross_val_score, train_test_split, cross_val_predict\n",
    "from sklearn.tree import DecisionTreeClassifier \n",
    "from sklearn.model_selection import learning_curve\n",
    "from pandas_ml import ConfusionMatrix\n",
    "import re\n",
    "import pandas as pd\n",
    "import numpy as np\n",
    "import seaborn as sns\n",
    "from matplotlib import pyplot as plt\n",
    "import matplotlib.style as style\n",
    "\n",
    "import pandas.api.types as pdtypes\n",
    "\n",
    "from plotnine import *\n",
    "from plydata import *\n",
    "\n",
    "np.random.seed(1234)\n",
    "import pandas as pd\n",
    "from sklearn.ensemble import RandomForestRegressor, RandomForestClassifier\n",
    "from sklearn.model_selection import train_test_split\n",
    "from functions import functions as f\n",
    "\n",
    "\n",
    "style.use('fivethirtyeight')\n",
    "plt.rcParams['lines.linewidth'] = 1\n",
    "dpi = 1000\n",
    "plt.rcParams['font.size'] = 13\n",
    "plt.rcParams['font.family'] = 'Times New Roman'\n",
    "plt.rcParams['axes.labelsize'] = plt.rcParams['font.size']\n",
    "plt.rcParams['axes.titlesize'] = 1.5*plt.rcParams['font.size']\n",
    "plt.rcParams['legend.fontsize'] = plt.rcParams['font.size']+1\n",
    "plt.rcParams['xtick.labelsize'] = plt.rcParams['font.size']\n",
    "plt.rcParams['ytick.labelsize'] = plt.rcParams['font.size']\n",
    "plt.rcParams['figure.figsize'] = 8, 8"
   ]
  },
  {
   "cell_type": "code",
   "execution_count": 17,
   "metadata": {},
   "outputs": [
    {
     "name": "stdout",
     "output_type": "stream",
     "text": [
      "reading datafile\n",
      "fill missing values and correct some values\n",
      "changing the column names\n",
      "generating output variables\n",
      "final R_factor output\n",
      "1    213\n",
      "0     30\n",
      "Name: Ceftiofur, dtype: int64\n",
      "0    204\n",
      "1     39\n",
      "Name: Tetracycline, dtype: int64\n",
      "1    213\n",
      "0     30\n",
      "Name: Penicillin, dtype: int64\n",
      "CPU times: user 562 ms, sys: 3.97 ms, total: 566 ms\n",
      "Wall time: 557 ms\n"
     ]
    }
   ],
   "source": [
    "%%time\n",
    "data, d = f.read_process_data(data_path=data_path)"
   ]
  },
  {
   "cell_type": "markdown",
   "metadata": {},
   "source": [
    "# Model Predictors"
   ]
  },
  {
   "cell_type": "code",
   "execution_count": 18,
   "metadata": {
    "cell_style": "split"
   },
   "outputs": [],
   "source": [
    "herd_parameters = [\n",
    "    'HerdSize', \n",
    "    'RollingHerdAvg', \n",
    "    'Holstein',\n",
    "    'Jersey',\n",
    "    'CullPctMonth',\n",
    "    'CullTimesMonth',\n",
    "    'MainCullReason',\n",
    "    'PctCullBeef',\n",
    "    'PctCullCondemned',\n",
    "    'PctInject',\n",
    "    'VetTreats',\n",
    "    'ManagerTreats',\n",
    "    'StaffTreats',\n",
    "    'ResiduePrevent',\n",
    "    'Chalk4Withdrawal',\n",
    "    'Inventory',\n",
    "    'SeparateUse',\n",
    "    'CombinationUse',\n",
    "    'TrackAntibioticDose',\n",
    "    'TrackAntibioticRoute',\n",
    "    'FamiliarELDU',\n",
    "    'FreqELDU',\n",
    "    'NoELDU',\n",
    "    'NumberCulled',\n",
    "    'SalmonellaVaccine'\n",
    "]"
   ]
  },
  {
   "cell_type": "code",
   "execution_count": 19,
   "metadata": {
    "cell_style": "split"
   },
   "outputs": [],
   "source": [
    "cow_parameters = ['LowMilkCull',\n",
    "                  'ReproCull',\n",
    "                  'LameCull',\n",
    "                  'MastitisCull',\n",
    "                  'OtherCull',\n",
    "                  'AMD',\n",
    "                  'Ani-Inf',\n",
    "                  'No-Treatment',\n",
    "                  'Other',\n",
    "                  'Tetracycline',\n",
    "                  'Penicillin',\n",
    "                  'Ceftiofur',\n",
    "                  'Season'\n",
    "]"
   ]
  },
  {
   "cell_type": "code",
   "execution_count": 20,
   "metadata": {
    "cell_style": "split"
   },
   "outputs": [],
   "source": [
    "categorical = ['CullTimesMonth',\n",
    "               'PctCullCondemned',\n",
    "               'PctInject',\n",
    "               'FreqELDU',\n",
    "               'Season'\n",
    "               ]"
   ]
  },
  {
   "cell_type": "code",
   "execution_count": 21,
   "metadata": {
    "cell_style": "split"
   },
   "outputs": [
    {
     "data": {
      "text/plain": [
       "38"
      ]
     },
     "execution_count": 21,
     "metadata": {},
     "output_type": "execute_result"
    }
   ],
   "source": [
    "features = cow_parameters+ herd_parameters\n",
    "len(features)"
   ]
  },
  {
   "cell_type": "code",
   "execution_count": 22,
   "metadata": {},
   "outputs": [
    {
     "data": {
      "text/plain": [
       "25"
      ]
     },
     "execution_count": 22,
     "metadata": {},
     "output_type": "execute_result"
    }
   ],
   "source": [
    "len(herd_parameters)"
   ]
  },
  {
   "cell_type": "code",
   "execution_count": 23,
   "metadata": {},
   "outputs": [
    {
     "data": {
      "text/plain": [
       "1    107\n",
       "2     75\n",
       "0     61\n",
       "Name: R_factor, dtype: int64"
      ]
     },
     "execution_count": 23,
     "metadata": {},
     "output_type": "execute_result"
    }
   ],
   "source": [
    "data['R_factor'].value_counts()"
   ]
  },
  {
   "cell_type": "code",
   "execution_count": 31,
   "metadata": {},
   "outputs": [
    {
     "data": {
      "text/plain": [
       "1    90\n",
       "2    87\n",
       "0    66\n",
       "Name: Commensal_R, dtype: int64"
      ]
     },
     "execution_count": 31,
     "metadata": {},
     "output_type": "execute_result"
    }
   ],
   "source": [
    "data.Commensal_R.value_counts()"
   ]
  },
  {
   "cell_type": "code",
   "execution_count": 32,
   "metadata": {},
   "outputs": [
    {
     "data": {
      "text/plain": [
       "0    162\n",
       "1     74\n",
       "2      7\n",
       "Name: Ecoli_R, dtype: int64"
      ]
     },
     "execution_count": 32,
     "metadata": {},
     "output_type": "execute_result"
    }
   ],
   "source": [
    "data.Ecoli_R.value_counts()"
   ]
  },
  {
   "cell_type": "code",
   "execution_count": 34,
   "metadata": {},
   "outputs": [
    {
     "data": {
      "text/plain": [
       "1    92\n",
       "0    86\n",
       "2    65\n",
       "Name: Entero_R, dtype: int64"
      ]
     },
     "execution_count": 34,
     "metadata": {},
     "output_type": "execute_result"
    }
   ],
   "source": [
    "data.Entero_R.value_counts()"
   ]
  },
  {
   "cell_type": "code",
   "execution_count": 36,
   "metadata": {},
   "outputs": [
    {
     "data": {
      "text/plain": [
       "0    37\n",
       "1    19\n",
       "2     5\n",
       "Name: Sal_R, dtype: int64"
      ]
     },
     "execution_count": 36,
     "metadata": {},
     "output_type": "execute_result"
    }
   ],
   "source": [
    "data_m.Sal_R.value_counts()"
   ]
  },
  {
   "cell_type": "code",
   "execution_count": 24,
   "metadata": {
    "scrolled": true
   },
   "outputs": [
    {
     "data": {
      "image/png": "[encoded data removed]",
      "text/plain": [
       "<Figure size 576x576 with 1 Axes>"
      ]
     },
     "metadata": {},
     "output_type": "display_data"
    }
   ],
   "source": [
    "data_m = data[data['F_Salmonella PCR_Result'] == 'Positive']\n",
    "plt.hist(data_m['R_factor'], bins=3)\n",
    "plt.show()"
   ]
  },
  {
   "cell_type": "code",
   "execution_count": 25,
   "metadata": {},
   "outputs": [
    {
     "data": {
      "text/plain": [
       "1    34\n",
       "2    21\n",
       "0     6\n",
       "Name: R_factor, dtype: int64"
      ]
     },
     "execution_count": 25,
     "metadata": {},
     "output_type": "execute_result"
    }
   ],
   "source": [
    "data_m['R_factor'].value_counts()"
   ]
  },
  {
   "cell_type": "code",
   "execution_count": null,
   "metadata": {},
   "outputs": [],
   "source": []
  },
  {
   "cell_type": "code",
   "execution_count": 26,
   "metadata": {},
   "outputs": [],
   "source": [
    "from model_functions import *"
   ]
  },
  {
   "cell_type": "code",
   "execution_count": 27,
   "metadata": {},
   "outputs": [],
   "source": [
    "import warnings\n",
    "warnings.filterwarnings('ignore')"
   ]
  },
  {
   "cell_type": "markdown",
   "metadata": {},
   "source": [
    "# Model 1 "
   ]
  },
  {
   "cell_type": "markdown",
   "metadata": {},
   "source": [
    "## Random Forest"
   ]
  },
  {
   "cell_type": "markdown",
   "metadata": {},
   "source": [
    "### Multi-drug resistance"
   ]
  },
  {
   "cell_type": "code",
   "execution_count": 28,
   "metadata": {},
   "outputs": [],
   "source": [
    "tuned_parameters = [{\n",
    "    \n",
    "    'bootstrap': [True, False],\n",
    "     'max_depth': [10, 20, 30, 40, 45, 50, 70],\n",
    "    'n_estimators': [100, 200, 300, 500],\n",
    "    'max_features': ['auto', 'sqrt'],\n",
    "    'criterion': ['gini', 'entropy'],\n",
    "    'min_samples_split': [2, 3, 4, 6], \n",
    "    'min_samples_leaf': [1, 3, 4, 6, 7, 8]\n",
    "    \n",
    "}]"
   ]
  },
  {
   "cell_type": "markdown",
   "metadata": {},
   "source": [
    "## all bacteria"
   ]
  },
  {
   "cell_type": "code",
   "execution_count": 14,
   "metadata": {
    "scrolled": true
   },
   "outputs": [
    {
     "name": "stdout",
     "output_type": "stream",
     "text": [
      "\n",
      "    \n",
      "    Testing and Training datasets and preprocessing\n",
      "    \n",
      "    \n",
      "(170,)\n",
      "\n",
      "    \n",
      "    Simple cross validation with default parameters\n",
      "    \n",
      "    \n",
      "[0.46551724 0.5        0.58928571]\n"
     ]
    },
    {
     "name": "stderr",
     "output_type": "stream",
     "text": [
      "findfont: Font family ['Times New Roman'] not found. Falling back to DejaVu Sans.\n"
     ]
    },
    {
     "name": "stdout",
     "output_type": "stream",
     "text": [
      "              precision    recall  f1-score   support\n",
      "\n",
      "           0       0.45      0.40      0.42        43\n",
      "           1       0.49      0.57      0.53        75\n",
      "           2       0.50      0.42      0.46        52\n",
      "\n",
      "    accuracy                           0.48       170\n",
      "   macro avg       0.48      0.46      0.47       170\n",
      "weighted avg       0.48      0.48      0.48       170\n",
      "\n",
      "\n",
      "    \n",
      "    Plot shows internal validation of the random forest model with default parameters\n",
      "    \n",
      "    \n"
     ]
    },
    {
     "data": {
      "image/png": "[encoded data removed]",
      "text/plain": [
       "<Figure size 432x288 with 2 Axes>"
      ]
     },
     "metadata": {
      "needs_background": "light"
     },
     "output_type": "display_data"
    },
    {
     "name": "stdout",
     "output_type": "stream",
     "text": [
      "\n",
      "    \n",
      "    Exrernal validation Multiple random forest model parameters are tested with k-fold cross validation (internal validation) method\n",
      "    The cross validated model is then used on a \"Holdout dataset\" (data which is not seen by the model in cross validation)\n",
      "    to understand its external validity.\n",
      "    \n",
      "    \n",
      "    \n",
      "# Tuning hyper-parameters for precision\n",
      "\n",
      "Best parameters set found on development set:\n",
      "\n",
      "{'bootstrap': True, 'criterion': 'entropy', 'max_depth': 10, 'max_features': 'auto', 'min_samples_leaf': 8, 'min_samples_split': 4, 'n_estimators': 100}\n",
      "\n",
      "Grid scores on development set:\n",
      "\n",
      "\n",
      "Detailed classification report:\n",
      "\n",
      "The model is trained on the full development set.\n",
      "The scores are computed on the full evaluation set.\n",
      "\n"
     ]
    },
    {
     "data": {
      "image/png": "[encoded data removed]",
      "text/plain": [
       "<Figure size 432x288 with 2 Axes>"
      ]
     },
     "metadata": {
      "needs_background": "light"
     },
     "output_type": "display_data"
    },
    {
     "name": "stdout",
     "output_type": "stream",
     "text": [
      "              precision    recall  f1-score   support\n",
      "\n",
      "           0       0.33      0.22      0.27        18\n",
      "           1       0.42      0.66      0.51        32\n",
      "           2       0.45      0.22      0.29        23\n",
      "\n",
      "    accuracy                           0.41        73\n",
      "   macro avg       0.40      0.37      0.36        73\n",
      "weighted avg       0.41      0.41      0.38        73\n",
      "\n",
      "CPU times: user 1h 6min 31s, sys: 19.8 s, total: 1h 6min 51s\n",
      "Wall time: 1h 6min 51s\n"
     ]
    }
   ],
   "source": [
    "%%time\n",
    "rf = RandomForestClassifier()\n",
    "run_classifier(clf=rf, k=3, \n",
    "               tuned_parameters=tuned_parameters, \n",
    "               y='R_factor', \n",
    "               cow_parameters= cow_parameters,\n",
    "               herd_parameters = herd_parameters, \n",
    "               categorical=categorical, \n",
    "               data = data)"
   ]
  },
  {
   "cell_type": "markdown",
   "metadata": {},
   "source": [
    "## Commensals"
   ]
  },
  {
   "cell_type": "code",
   "execution_count": 37,
   "metadata": {
    "scrolled": false
   },
   "outputs": [
    {
     "name": "stdout",
     "output_type": "stream",
     "text": [
      "\n",
      "    \n",
      "    Testing and Training datasets and preprocessing\n",
      "    \n",
      "    \n",
      "(170,)\n",
      "\n",
      "    \n",
      "    Simple cross validation with default parameters\n",
      "    \n",
      "    \n",
      "[0.56896552 0.41071429 0.42857143]\n",
      "              precision    recall  f1-score   support\n",
      "\n",
      "           0       0.50      0.48      0.49        46\n",
      "           1       0.40      0.43      0.42        63\n",
      "           2       0.58      0.56      0.57        61\n",
      "\n",
      "    accuracy                           0.49       170\n",
      "   macro avg       0.49      0.49      0.49       170\n",
      "weighted avg       0.49      0.49      0.49       170\n",
      "\n",
      "\n",
      "    \n",
      "    Plot shows internal validation of the random forest model with default parameters\n",
      "    \n",
      "    \n"
     ]
    },
    {
     "data": {
      "image/png": "[encoded data removed]",
      "text/plain": [
       "<Figure size 576x576 with 2 Axes>"
      ]
     },
     "metadata": {},
     "output_type": "display_data"
    },
    {
     "name": "stdout",
     "output_type": "stream",
     "text": [
      "\n",
      "    \n",
      "    Exrernal validation Multiple random forest model parameters are tested with k-fold cross validation (internal validation) method\n",
      "    The cross validated model is then used on a \"Holdout dataset\" (data which is not seen by the model in cross validation)\n",
      "    to understand its external validity.\n",
      "    \n",
      "    \n",
      "    \n",
      "# Tuning hyper-parameters for precision\n",
      "\n",
      "Best parameters set found on development set:\n",
      "\n",
      "{'bootstrap': True, 'criterion': 'entropy', 'max_depth': 40, 'max_features': 'auto', 'min_samples_leaf': 8, 'min_samples_split': 4, 'n_estimators': 100}\n",
      "\n",
      "Grid scores on development set:\n",
      "\n",
      "\n",
      "Detailed classification report:\n",
      "\n",
      "The model is trained on the full development set.\n",
      "The scores are computed on the full evaluation set.\n",
      "\n"
     ]
    },
    {
     "data": {
      "image/png": "[encoded data removed]",
      "text/plain": [
       "<Figure size 576x576 with 2 Axes>"
      ]
     },
     "metadata": {},
     "output_type": "display_data"
    },
    {
     "name": "stdout",
     "output_type": "stream",
     "text": [
      "              precision    recall  f1-score   support\n",
      "\n",
      "           0       0.37      0.35      0.36        20\n",
      "           1       0.43      0.37      0.40        27\n",
      "           2       0.58      0.69      0.63        26\n",
      "\n",
      "    accuracy                           0.48        73\n",
      "   macro avg       0.46      0.47      0.46        73\n",
      "weighted avg       0.47      0.48      0.47        73\n",
      "\n",
      "CPU times: user 1h 12min 36s, sys: 21.6 s, total: 1h 12min 58s\n",
      "Wall time: 1h 12min 58s\n"
     ]
    }
   ],
   "source": [
    "%%time\n",
    "rf = RandomForestClassifier()\n",
    "run_classifier(clf=rf, k=3, \n",
    "               tuned_parameters=tuned_parameters, \n",
    "               y='Commensal_R', \n",
    "               cow_parameters= cow_parameters,\n",
    "               herd_parameters = herd_parameters, \n",
    "               categorical=categorical, \n",
    "               data = data)"
   ]
  },
  {
   "cell_type": "markdown",
   "metadata": {},
   "source": [
    "## Ecoli"
   ]
  },
  {
   "cell_type": "code",
   "execution_count": 38,
   "metadata": {
    "scrolled": false
   },
   "outputs": [
    {
     "name": "stdout",
     "output_type": "stream",
     "text": [
      "\n",
      "    \n",
      "    Testing and Training datasets and preprocessing\n",
      "    \n",
      "    \n",
      "(170,)\n",
      "\n",
      "    \n",
      "    Simple cross validation with default parameters\n",
      "    \n",
      "    \n",
      "[0.5        0.63157895 0.65454545]\n",
      "              precision    recall  f1-score   support\n",
      "\n",
      "           0       0.74      0.77      0.75       113\n",
      "           1       0.46      0.46      0.46        52\n",
      "           2       0.00      0.00      0.00         5\n",
      "\n",
      "    accuracy                           0.65       170\n",
      "   macro avg       0.40      0.41      0.40       170\n",
      "weighted avg       0.63      0.65      0.64       170\n",
      "\n",
      "\n",
      "    \n",
      "    Plot shows internal validation of the random forest model with default parameters\n",
      "    \n",
      "    \n"
     ]
    },
    {
     "data": {
      "image/png": "[encoded data removed]",
      "text/plain": [
       "<Figure size 576x576 with 2 Axes>"
      ]
     },
     "metadata": {},
     "output_type": "display_data"
    },
    {
     "name": "stdout",
     "output_type": "stream",
     "text": [
      "\n",
      "    \n",
      "    Exrernal validation Multiple random forest model parameters are tested with k-fold cross validation (internal validation) method\n",
      "    The cross validated model is then used on a \"Holdout dataset\" (data which is not seen by the model in cross validation)\n",
      "    to understand its external validity.\n",
      "    \n",
      "    \n",
      "    \n",
      "# Tuning hyper-parameters for precision\n",
      "\n",
      "Best parameters set found on development set:\n",
      "\n",
      "{'bootstrap': True, 'criterion': 'entropy', 'max_depth': 50, 'max_features': 'sqrt', 'min_samples_leaf': 8, 'min_samples_split': 3, 'n_estimators': 100}\n",
      "\n",
      "Grid scores on development set:\n",
      "\n",
      "\n",
      "Detailed classification report:\n",
      "\n",
      "The model is trained on the full development set.\n",
      "The scores are computed on the full evaluation set.\n",
      "\n"
     ]
    },
    {
     "data": {
      "image/png": "[encoded data removed]",
      "text/plain": [
       "<Figure size 576x576 with 2 Axes>"
      ]
     },
     "metadata": {},
     "output_type": "display_data"
    },
    {
     "name": "stdout",
     "output_type": "stream",
     "text": [
      "              precision    recall  f1-score   support\n",
      "\n",
      "           0       0.69      0.92      0.79        49\n",
      "           1       0.50      0.18      0.27        22\n",
      "           2       0.00      0.00      0.00         2\n",
      "\n",
      "    accuracy                           0.67        73\n",
      "   macro avg       0.40      0.37      0.35        73\n",
      "weighted avg       0.62      0.67      0.61        73\n",
      "\n",
      "CPU times: user 1h 11min 23s, sys: 20.8 s, total: 1h 11min 43s\n",
      "Wall time: 1h 11min 43s\n"
     ]
    }
   ],
   "source": [
    "%%time\n",
    "rf = RandomForestClassifier()\n",
    "run_classifier(clf=rf, k=3, \n",
    "               tuned_parameters=tuned_parameters, \n",
    "               y='Ecoli_R', \n",
    "               cow_parameters= cow_parameters,\n",
    "               herd_parameters = herd_parameters, \n",
    "               categorical=categorical, \n",
    "               data = data)"
   ]
  },
  {
   "cell_type": "markdown",
   "metadata": {},
   "source": [
    "## Entercoccus"
   ]
  },
  {
   "cell_type": "code",
   "execution_count": 39,
   "metadata": {
    "scrolled": false
   },
   "outputs": [
    {
     "name": "stdout",
     "output_type": "stream",
     "text": [
      "\n",
      "    \n",
      "    Testing and Training datasets and preprocessing\n",
      "    \n",
      "    \n",
      "(170,)\n",
      "\n",
      "    \n",
      "    Simple cross validation with default parameters\n",
      "    \n",
      "    \n",
      "[0.55172414 0.375      0.5       ]\n",
      "              precision    recall  f1-score   support\n",
      "\n",
      "           0       0.56      0.55      0.55        60\n",
      "           1       0.40      0.38      0.39        64\n",
      "           2       0.53      0.59      0.56        46\n",
      "\n",
      "    accuracy                           0.49       170\n",
      "   macro avg       0.50      0.50      0.50       170\n",
      "weighted avg       0.49      0.49      0.49       170\n",
      "\n",
      "\n",
      "    \n",
      "    Plot shows internal validation of the random forest model with default parameters\n",
      "    \n",
      "    \n"
     ]
    },
    {
     "data": {
      "image/png": "[encoded data removed]",
      "text/plain": [
       "<Figure size 576x576 with 2 Axes>"
      ]
     },
     "metadata": {},
     "output_type": "display_data"
    },
    {
     "name": "stdout",
     "output_type": "stream",
     "text": [
      "\n",
      "    \n",
      "    Exrernal validation Multiple random forest model parameters are tested with k-fold cross validation (internal validation) method\n",
      "    The cross validated model is then used on a \"Holdout dataset\" (data which is not seen by the model in cross validation)\n",
      "    to understand its external validity.\n",
      "    \n",
      "    \n",
      "    \n",
      "# Tuning hyper-parameters for precision\n",
      "\n",
      "Best parameters set found on development set:\n",
      "\n",
      "{'bootstrap': True, 'criterion': 'entropy', 'max_depth': 30, 'max_features': 'sqrt', 'min_samples_leaf': 4, 'min_samples_split': 2, 'n_estimators': 100}\n",
      "\n",
      "Grid scores on development set:\n",
      "\n",
      "\n",
      "Detailed classification report:\n",
      "\n",
      "The model is trained on the full development set.\n",
      "The scores are computed on the full evaluation set.\n",
      "\n"
     ]
    },
    {
     "data": {
      "image/png": "[encoded data removed]",
      "text/plain": [
       "<Figure size 576x576 with 2 Axes>"
      ]
     },
     "metadata": {},
     "output_type": "display_data"
    },
    {
     "name": "stdout",
     "output_type": "stream",
     "text": [
      "              precision    recall  f1-score   support\n",
      "\n",
      "           0       0.52      0.58      0.55        26\n",
      "           1       0.47      0.50      0.48        28\n",
      "           2       0.36      0.26      0.30        19\n",
      "\n",
      "    accuracy                           0.47        73\n",
      "   macro avg       0.45      0.45      0.44        73\n",
      "weighted avg       0.46      0.47      0.46        73\n",
      "\n",
      "CPU times: user 1h 12min, sys: 21.4 s, total: 1h 12min 21s\n",
      "Wall time: 1h 12min 21s\n"
     ]
    }
   ],
   "source": [
    "%%time\n",
    "rf = RandomForestClassifier()\n",
    "run_classifier(clf=rf, k=3, \n",
    "               tuned_parameters=tuned_parameters, \n",
    "               y='Entero_R', \n",
    "               cow_parameters= cow_parameters,\n",
    "               herd_parameters = herd_parameters, \n",
    "               categorical=categorical, \n",
    "               data = data)"
   ]
  },
  {
   "cell_type": "markdown",
   "metadata": {},
   "source": [
    "## Salmonella"
   ]
  },
  {
   "cell_type": "code",
   "execution_count": 15,
   "metadata": {
    "cell_style": "center",
    "scrolled": true
   },
   "outputs": [
    {
     "name": "stdout",
     "output_type": "stream",
     "text": [
      "\n",
      "    \n",
      "    Testing and Training datasets and preprocessing\n",
      "    \n",
      "    \n",
      "(42,)\n",
      "\n",
      "    \n",
      "    Simple cross validation with default parameters\n",
      "    \n",
      "    \n",
      "[0.53333333 0.71428571 0.53846154]\n",
      "              precision    recall  f1-score   support\n",
      "\n",
      "           0       0.75      0.81      0.78        26\n",
      "           1       0.54      0.54      0.54        13\n",
      "           2       0.00      0.00      0.00         3\n",
      "\n",
      "    accuracy                           0.67        42\n",
      "   macro avg       0.43      0.45      0.44        42\n",
      "weighted avg       0.63      0.67      0.65        42\n",
      "\n",
      "\n",
      "    \n",
      "    Plot shows internal validation of the random forest model with default parameters\n",
      "    \n",
      "    \n"
     ]
    },
    {
     "data": {
      "image/png": "[encoded data removed]",
      "text/plain": [
       "<Figure size 432x288 with 2 Axes>"
      ]
     },
     "metadata": {
      "needs_background": "light"
     },
     "output_type": "display_data"
    },
    {
     "name": "stdout",
     "output_type": "stream",
     "text": [
      "\n",
      "    \n",
      "    Exrernal validation Multiple random forest model parameters are tested with k-fold cross validation (internal validation) method\n",
      "    The cross validated model is then used on a \"Holdout dataset\" (data which is not seen by the model in cross validation)\n",
      "    to understand its external validity.\n",
      "    \n",
      "    \n",
      "    \n",
      "# Tuning hyper-parameters for precision\n",
      "\n",
      "Best parameters set found on development set:\n",
      "\n",
      "{'bootstrap': False, 'criterion': 'gini', 'max_depth': 30, 'max_features': 'sqrt', 'min_samples_leaf': 1, 'min_samples_split': 3, 'n_estimators': 200}\n",
      "\n",
      "Grid scores on development set:\n",
      "\n",
      "\n",
      "Detailed classification report:\n",
      "\n",
      "The model is trained on the full development set.\n",
      "The scores are computed on the full evaluation set.\n",
      "\n"
     ]
    },
    {
     "data": {
      "image/png": "[encoded data removed]",
      "text/plain": [
       "<Figure size 432x288 with 2 Axes>"
      ]
     },
     "metadata": {
      "needs_background": "light"
     },
     "output_type": "display_data"
    },
    {
     "name": "stdout",
     "output_type": "stream",
     "text": [
      "              precision    recall  f1-score   support\n",
      "\n",
      "           0       0.77      0.91      0.83        11\n",
      "           1       0.67      0.67      0.67         6\n",
      "           2       0.00      0.00      0.00         2\n",
      "\n",
      "    accuracy                           0.74        19\n",
      "   macro avg       0.48      0.53      0.50        19\n",
      "weighted avg       0.66      0.74      0.69        19\n",
      "\n",
      "CPU times: user 1h 1min 48s, sys: 19.4 s, total: 1h 2min 8s\n",
      "Wall time: 1h 2min 7s\n"
     ]
    }
   ],
   "source": [
    "%%time\n",
    "rf = RandomForestClassifier()\n",
    "run_classifier(clf=rf, k=3, \n",
    "               tuned_parameters=tuned_parameters, \n",
    "               y='Sal_R', \n",
    "               cow_parameters= cow_parameters,\n",
    "               herd_parameters = herd_parameters, \n",
    "               categorical=categorical, \n",
    "               data = data_m)"
   ]
  }
 ],
 "metadata": {
  "hide_input": false,
  "kernelspec": {
   "display_name": "py37 [conda env:py37]",
   "language": "python",
   "name": "conda-env-py37-py"
  },
  "language_info": {
   "codemirror_mode": {
    "name": "ipython",
    "version": 3
   },
   "file_extension": ".py",
   "mimetype": "text/x-python",
   "name": "python",
   "nbconvert_exporter": "python",
   "pygments_lexer": "ipython3",
   "version": "3.7.6"
  },
  "toc": {
   "base_numbering": 1,
   "nav_menu": {},
   "number_sections": true,
   "sideBar": true,
   "skip_h1_title": false,
   "title_cell": "Table of Contents",
   "title_sidebar": "Contents",
   "toc_cell": false,
   "toc_position": {},
   "toc_section_display": true,
   "toc_window_display": false
  },
  "varInspector": {
   "cols": {
    "lenName": 16,
    "lenType": 16,
    "lenVar": 40
   },
   "kernels_config": {
    "python": {
     "delete_cmd_postfix": "",
     "delete_cmd_prefix": "del ",
     "library": "var_list.py",
     "varRefreshCmd": "print(var_dic_list())"
    },
    "r": {
     "delete_cmd_postfix": ") ",
     "delete_cmd_prefix": "rm(",
     "library": "var_list.r",
     "varRefreshCmd": "cat(var_dic_list()) "
    }
   },
   "types_to_exclude": [
    "module",
    "function",
    "builtin_function_or_method",
    "instance",
    "_Feature"
   ],
   "window_display": false
  }
 },
 "nbformat": 4,
 "nbformat_minor": 2
}
