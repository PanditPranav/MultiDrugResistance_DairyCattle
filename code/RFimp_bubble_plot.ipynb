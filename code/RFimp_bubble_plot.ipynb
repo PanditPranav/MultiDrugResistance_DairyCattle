{
 "cells": [
  {
   "cell_type": "code",
   "execution_count": 1,
   "metadata": {},
   "outputs": [],
   "source": [
    "#install.packages('ggthemes', repos='http://cran.us.r-project.org')\n",
    "#install.packages(\"svglite\", repos='http://cran.us.r-project.org')"
   ]
  },
  {
   "cell_type": "code",
   "execution_count": 2,
   "metadata": {},
   "outputs": [
    {
     "data": {
      "text/html": [
       "<table>\n",
       "<caption>A data.frame: 6 × 4</caption>\n",
       "<thead>\n",
       "\t<tr><th></th><th scope=col>X</th><th scope=col>factor</th><th scope=col>importance</th><th scope=col>model</th></tr>\n",
       "\t<tr><th></th><th scope=col>&lt;int&gt;</th><th scope=col>&lt;fct&gt;</th><th scope=col>&lt;dbl&gt;</th><th scope=col>&lt;fct&gt;</th></tr>\n",
       "</thead>\n",
       "<tbody>\n",
       "\t<tr><th scope=row>1</th><td>0</td><td>NumberCulled  </td><td>1.0000000</td><td>All bacteria</td></tr>\n",
       "\t<tr><th scope=row>2</th><td>1</td><td>CullTimesMonth</td><td>0.9331535</td><td>All bacteria</td></tr>\n",
       "\t<tr><th scope=row>3</th><td>2</td><td>FreqELDU      </td><td>0.8409433</td><td>All bacteria</td></tr>\n",
       "\t<tr><th scope=row>4</th><td>3</td><td>RollingHerdAvg</td><td>0.8326556</td><td>All bacteria</td></tr>\n",
       "\t<tr><th scope=row>5</th><td>4</td><td>Jersey        </td><td>0.7548137</td><td>All bacteria</td></tr>\n",
       "\t<tr><th scope=row>6</th><td>5</td><td>CullPctMonth  </td><td>0.7322618</td><td>All bacteria</td></tr>\n",
       "</tbody>\n",
       "</table>\n"
      ],
      "text/latex": [
       "A data.frame: 6 × 4\n",
       "\\begin{tabular}{r|llll}\n",
       "  & X & factor & importance & model\\\\\n",
       "  & <int> & <fct> & <dbl> & <fct>\\\\\n",
       "\\hline\n",
       "\t1 & 0 & NumberCulled   & 1.0000000 & All bacteria\\\\\n",
       "\t2 & 1 & CullTimesMonth & 0.9331535 & All bacteria\\\\\n",
       "\t3 & 2 & FreqELDU       & 0.8409433 & All bacteria\\\\\n",
       "\t4 & 3 & RollingHerdAvg & 0.8326556 & All bacteria\\\\\n",
       "\t5 & 4 & Jersey         & 0.7548137 & All bacteria\\\\\n",
       "\t6 & 5 & CullPctMonth   & 0.7322618 & All bacteria\\\\\n",
       "\\end{tabular}\n"
      ],
      "text/markdown": [
       "\n",
       "A data.frame: 6 × 4\n",
       "\n",
       "| <!--/--> | X &lt;int&gt; | factor &lt;fct&gt; | importance &lt;dbl&gt; | model &lt;fct&gt; |\n",
       "|---|---|---|---|---|\n",
       "| 1 | 0 | NumberCulled   | 1.0000000 | All bacteria |\n",
       "| 2 | 1 | CullTimesMonth | 0.9331535 | All bacteria |\n",
       "| 3 | 2 | FreqELDU       | 0.8409433 | All bacteria |\n",
       "| 4 | 3 | RollingHerdAvg | 0.8326556 | All bacteria |\n",
       "| 5 | 4 | Jersey         | 0.7548137 | All bacteria |\n",
       "| 6 | 5 | CullPctMonth   | 0.7322618 | All bacteria |\n",
       "\n"
      ],
      "text/plain": [
       "  X factor         importance model       \n",
       "1 0 NumberCulled   1.0000000  All bacteria\n",
       "2 1 CullTimesMonth 0.9331535  All bacteria\n",
       "3 2 FreqELDU       0.8409433  All bacteria\n",
       "4 3 RollingHerdAvg 0.8326556  All bacteria\n",
       "5 4 Jersey         0.7548137  All bacteria\n",
       "6 5 CullPctMonth   0.7322618  All bacteria"
      ]
     },
     "metadata": {},
     "output_type": "display_data"
    }
   ],
   "source": [
    "setwd('C:/Users/Falco/Desktop/directory/Cattle_AMR_2/outputs/')\n",
    "imp = read.csv('RFimp_data.csv', header =T)\n",
    "head(imp)"
   ]
  },
  {
   "cell_type": "code",
   "execution_count": 3,
   "metadata": {},
   "outputs": [
    {
     "data": {
      "text/html": [
       "<ol class=list-inline>\n",
       "\t<li>All bacteria</li>\n",
       "\t<li>Commensals</li>\n",
       "\t<li>Enterococcus sp.</li>\n",
       "\t<li>E. coli</li>\n",
       "\t<li>Salmonella sp.</li>\n",
       "</ol>\n",
       "\n",
       "<details>\n",
       "\t<summary style=display:list-item;cursor:pointer>\n",
       "\t\t<strong>Levels</strong>:\n",
       "\t</summary>\n",
       "\t<ol class=list-inline>\n",
       "\t\t<li>'All bacteria'</li>\n",
       "\t\t<li>'Commensals'</li>\n",
       "\t\t<li>'E. coli'</li>\n",
       "\t\t<li>'Enterococcus sp.'</li>\n",
       "\t\t<li>'Salmonella sp.'</li>\n",
       "\t</ol>\n",
       "</details>"
      ],
      "text/latex": [
       "\\begin{enumerate*}\n",
       "\\item All bacteria\n",
       "\\item Commensals\n",
       "\\item Enterococcus sp.\n",
       "\\item E. coli\n",
       "\\item Salmonella sp.\n",
       "\\end{enumerate*}\n",
       "\n",
       "\\emph{Levels}: \\begin{enumerate*}\n",
       "\\item 'All bacteria'\n",
       "\\item 'Commensals'\n",
       "\\item 'E. coli'\n",
       "\\item 'Enterococcus sp.'\n",
       "\\item 'Salmonella sp.'\n",
       "\\end{enumerate*}\n"
      ],
      "text/markdown": [
       "1. All bacteria\n",
       "2. Commensals\n",
       "3. Enterococcus sp.\n",
       "4. E. coli\n",
       "5. Salmonella sp.\n",
       "\n",
       "\n",
       "\n",
       "**Levels**: 1. 'All bacteria'\n",
       "2. 'Commensals'\n",
       "3. 'E. coli'\n",
       "4. 'Enterococcus sp.'\n",
       "5. 'Salmonella sp.'\n",
       "\n",
       "\n"
      ],
      "text/plain": [
       "[1] All bacteria     Commensals       Enterococcus sp. E. coli         \n",
       "[5] Salmonella sp.  \n",
       "Levels: All bacteria Commensals E. coli Enterococcus sp. Salmonella sp."
      ]
     },
     "metadata": {},
     "output_type": "display_data"
    }
   ],
   "source": [
    "modellist = unique(imp$model)\n",
    "modellist"
   ]
  },
  {
   "cell_type": "code",
   "execution_count": 4,
   "metadata": {},
   "outputs": [],
   "source": [
    "library(ggplot2)\n",
    "library(ggthemes)"
   ]
  },
  {
   "cell_type": "code",
   "execution_count": 5,
   "metadata": {},
   "outputs": [
    {
     "data": {
      "text/html": [
       "<ol class=list-inline>\n",
       "\t<li>NumberCulled</li>\n",
       "\t<li>CullTimesMonth</li>\n",
       "\t<li>FreqELDU</li>\n",
       "\t<li>RollingHerdAvg</li>\n",
       "\t<li>Jersey</li>\n",
       "\t<li>CullPctMonth</li>\n",
       "\t<li>Holstein</li>\n",
       "\t<li>PctInject</li>\n",
       "\t<li>HerdSize</li>\n",
       "\t<li>Season</li>\n",
       "\t<li>Chalk4Withdrawal</li>\n",
       "\t<li>LowMilkCull</li>\n",
       "\t<li>ReproCull</li>\n",
       "\t<li>MastitisCull</li>\n",
       "\t<li>OtherCull</li>\n",
       "</ol>\n",
       "\n",
       "<details>\n",
       "\t<summary style=display:list-item;cursor:pointer>\n",
       "\t\t<strong>Levels</strong>:\n",
       "\t</summary>\n",
       "\t<ol class=list-inline>\n",
       "\t\t<li>'Chalk4Withdrawal'</li>\n",
       "\t\t<li>'CullPctMonth'</li>\n",
       "\t\t<li>'CullTimesMonth'</li>\n",
       "\t\t<li>'FreqELDU'</li>\n",
       "\t\t<li>'HerdSize'</li>\n",
       "\t\t<li>'Holstein'</li>\n",
       "\t\t<li>'Jersey'</li>\n",
       "\t\t<li>'LowMilkCull'</li>\n",
       "\t\t<li>'MastitisCull'</li>\n",
       "\t\t<li>'NumberCulled'</li>\n",
       "\t\t<li>'OtherCull'</li>\n",
       "\t\t<li>'PctInject'</li>\n",
       "\t\t<li>'ReproCull'</li>\n",
       "\t\t<li>'RollingHerdAvg'</li>\n",
       "\t\t<li>'Season'</li>\n",
       "\t</ol>\n",
       "</details>"
      ],
      "text/latex": [
       "\\begin{enumerate*}\n",
       "\\item NumberCulled\n",
       "\\item CullTimesMonth\n",
       "\\item FreqELDU\n",
       "\\item RollingHerdAvg\n",
       "\\item Jersey\n",
       "\\item CullPctMonth\n",
       "\\item Holstein\n",
       "\\item PctInject\n",
       "\\item HerdSize\n",
       "\\item Season\n",
       "\\item Chalk4Withdrawal\n",
       "\\item LowMilkCull\n",
       "\\item ReproCull\n",
       "\\item MastitisCull\n",
       "\\item OtherCull\n",
       "\\end{enumerate*}\n",
       "\n",
       "\\emph{Levels}: \\begin{enumerate*}\n",
       "\\item 'Chalk4Withdrawal'\n",
       "\\item 'CullPctMonth'\n",
       "\\item 'CullTimesMonth'\n",
       "\\item 'FreqELDU'\n",
       "\\item 'HerdSize'\n",
       "\\item 'Holstein'\n",
       "\\item 'Jersey'\n",
       "\\item 'LowMilkCull'\n",
       "\\item 'MastitisCull'\n",
       "\\item 'NumberCulled'\n",
       "\\item 'OtherCull'\n",
       "\\item 'PctInject'\n",
       "\\item 'ReproCull'\n",
       "\\item 'RollingHerdAvg'\n",
       "\\item 'Season'\n",
       "\\end{enumerate*}\n"
      ],
      "text/markdown": [
       "1. NumberCulled\n",
       "2. CullTimesMonth\n",
       "3. FreqELDU\n",
       "4. RollingHerdAvg\n",
       "5. Jersey\n",
       "6. CullPctMonth\n",
       "7. Holstein\n",
       "8. PctInject\n",
       "9. HerdSize\n",
       "10. Season\n",
       "11. Chalk4Withdrawal\n",
       "12. LowMilkCull\n",
       "13. ReproCull\n",
       "14. MastitisCull\n",
       "15. OtherCull\n",
       "\n",
       "\n",
       "\n",
       "**Levels**: 1. 'Chalk4Withdrawal'\n",
       "2. 'CullPctMonth'\n",
       "3. 'CullTimesMonth'\n",
       "4. 'FreqELDU'\n",
       "5. 'HerdSize'\n",
       "6. 'Holstein'\n",
       "7. 'Jersey'\n",
       "8. 'LowMilkCull'\n",
       "9. 'MastitisCull'\n",
       "10. 'NumberCulled'\n",
       "11. 'OtherCull'\n",
       "12. 'PctInject'\n",
       "13. 'ReproCull'\n",
       "14. 'RollingHerdAvg'\n",
       "15. 'Season'\n",
       "\n",
       "\n"
      ],
      "text/plain": [
       " [1] NumberCulled     CullTimesMonth   FreqELDU         RollingHerdAvg  \n",
       " [5] Jersey           CullPctMonth     Holstein         PctInject       \n",
       " [9] HerdSize         Season           Chalk4Withdrawal LowMilkCull     \n",
       "[13] ReproCull        MastitisCull     OtherCull       \n",
       "15 Levels: Chalk4Withdrawal CullPctMonth CullTimesMonth FreqELDU ... Season"
      ]
     },
     "metadata": {},
     "output_type": "display_data"
    }
   ],
   "source": [
    "xfactors = unique(imp$factor)\n",
    "xfactors"
   ]
  },
  {
   "cell_type": "code",
   "execution_count": 6,
   "metadata": {},
   "outputs": [
    {
     "data": {
      "text/html": [
       "15"
      ],
      "text/latex": [
       "15"
      ],
      "text/markdown": [
       "15"
      ],
      "text/plain": [
       "[1] 15"
      ]
     },
     "metadata": {},
     "output_type": "display_data"
    }
   ],
   "source": [
    "length(xfactors)"
   ]
  },
  {
   "cell_type": "code",
   "execution_count": 7,
   "metadata": {},
   "outputs": [
    {
     "data": {
      "text/html": [
       "<ol class=list-inline>\n",
       "\t<li>'1'</li>\n",
       "\t<li>'0.93'</li>\n",
       "\t<li>'0.84'</li>\n",
       "\t<li>'0.83'</li>\n",
       "\t<li>'0.75'</li>\n",
       "\t<li>'0.73'</li>\n",
       "\t<li>'0.71'</li>\n",
       "\t<li>'0.68'</li>\n",
       "\t<li>'0.67'</li>\n",
       "\t<li>'0.31'</li>\n",
       "\t<li>'1'</li>\n",
       "\t<li>'0.99'</li>\n",
       "\t<li>'0.97'</li>\n",
       "\t<li>'0.9'</li>\n",
       "\t<li>'0.81'</li>\n",
       "\t<li>'0.67'</li>\n",
       "\t<li>'0.57'</li>\n",
       "\t<li>'0.57'</li>\n",
       "\t<li>'0.53'</li>\n",
       "\t<li>'0.44'</li>\n",
       "\t<li>'1'</li>\n",
       "\t<li>'0.75'</li>\n",
       "\t<li>'0.7'</li>\n",
       "\t<li>'0.67'</li>\n",
       "\t<li>'0.62'</li>\n",
       "\t<li>'0.6'</li>\n",
       "\t<li>'0.5'</li>\n",
       "\t<li>'0.39'</li>\n",
       "\t<li>'0.38'</li>\n",
       "\t<li>'0.37'</li>\n",
       "\t<li>'1'</li>\n",
       "\t<li>'0.93'</li>\n",
       "\t<li>'0.91'</li>\n",
       "\t<li>'0.77'</li>\n",
       "\t<li>'0.55'</li>\n",
       "\t<li>'0.42'</li>\n",
       "\t<li>'0.42'</li>\n",
       "\t<li>'0.42'</li>\n",
       "\t<li>'0.29'</li>\n",
       "\t<li>'0.24'</li>\n",
       "\t<li>'1'</li>\n",
       "\t<li>'0.95'</li>\n",
       "\t<li>'0.82'</li>\n",
       "\t<li>'0.6'</li>\n",
       "\t<li>'0.59'</li>\n",
       "\t<li>'0.58'</li>\n",
       "\t<li>'0.55'</li>\n",
       "\t<li>'0.51'</li>\n",
       "\t<li>'0.5'</li>\n",
       "\t<li>'0.45'</li>\n",
       "</ol>\n"
      ],
      "text/latex": [
       "\\begin{enumerate*}\n",
       "\\item '1'\n",
       "\\item '0.93'\n",
       "\\item '0.84'\n",
       "\\item '0.83'\n",
       "\\item '0.75'\n",
       "\\item '0.73'\n",
       "\\item '0.71'\n",
       "\\item '0.68'\n",
       "\\item '0.67'\n",
       "\\item '0.31'\n",
       "\\item '1'\n",
       "\\item '0.99'\n",
       "\\item '0.97'\n",
       "\\item '0.9'\n",
       "\\item '0.81'\n",
       "\\item '0.67'\n",
       "\\item '0.57'\n",
       "\\item '0.57'\n",
       "\\item '0.53'\n",
       "\\item '0.44'\n",
       "\\item '1'\n",
       "\\item '0.75'\n",
       "\\item '0.7'\n",
       "\\item '0.67'\n",
       "\\item '0.62'\n",
       "\\item '0.6'\n",
       "\\item '0.5'\n",
       "\\item '0.39'\n",
       "\\item '0.38'\n",
       "\\item '0.37'\n",
       "\\item '1'\n",
       "\\item '0.93'\n",
       "\\item '0.91'\n",
       "\\item '0.77'\n",
       "\\item '0.55'\n",
       "\\item '0.42'\n",
       "\\item '0.42'\n",
       "\\item '0.42'\n",
       "\\item '0.29'\n",
       "\\item '0.24'\n",
       "\\item '1'\n",
       "\\item '0.95'\n",
       "\\item '0.82'\n",
       "\\item '0.6'\n",
       "\\item '0.59'\n",
       "\\item '0.58'\n",
       "\\item '0.55'\n",
       "\\item '0.51'\n",
       "\\item '0.5'\n",
       "\\item '0.45'\n",
       "\\end{enumerate*}\n"
      ],
      "text/markdown": [
       "1. '1'\n",
       "2. '0.93'\n",
       "3. '0.84'\n",
       "4. '0.83'\n",
       "5. '0.75'\n",
       "6. '0.73'\n",
       "7. '0.71'\n",
       "8. '0.68'\n",
       "9. '0.67'\n",
       "10. '0.31'\n",
       "11. '1'\n",
       "12. '0.99'\n",
       "13. '0.97'\n",
       "14. '0.9'\n",
       "15. '0.81'\n",
       "16. '0.67'\n",
       "17. '0.57'\n",
       "18. '0.57'\n",
       "19. '0.53'\n",
       "20. '0.44'\n",
       "21. '1'\n",
       "22. '0.75'\n",
       "23. '0.7'\n",
       "24. '0.67'\n",
       "25. '0.62'\n",
       "26. '0.6'\n",
       "27. '0.5'\n",
       "28. '0.39'\n",
       "29. '0.38'\n",
       "30. '0.37'\n",
       "31. '1'\n",
       "32. '0.93'\n",
       "33. '0.91'\n",
       "34. '0.77'\n",
       "35. '0.55'\n",
       "36. '0.42'\n",
       "37. '0.42'\n",
       "38. '0.42'\n",
       "39. '0.29'\n",
       "40. '0.24'\n",
       "41. '1'\n",
       "42. '0.95'\n",
       "43. '0.82'\n",
       "44. '0.6'\n",
       "45. '0.59'\n",
       "46. '0.58'\n",
       "47. '0.55'\n",
       "48. '0.51'\n",
       "49. '0.5'\n",
       "50. '0.45'\n",
       "\n",
       "\n"
      ],
      "text/plain": [
       " [1] \"1\"    \"0.93\" \"0.84\" \"0.83\" \"0.75\" \"0.73\" \"0.71\" \"0.68\" \"0.67\" \"0.31\"\n",
       "[11] \"1\"    \"0.99\" \"0.97\" \"0.9\"  \"0.81\" \"0.67\" \"0.57\" \"0.57\" \"0.53\" \"0.44\"\n",
       "[21] \"1\"    \"0.75\" \"0.7\"  \"0.67\" \"0.62\" \"0.6\"  \"0.5\"  \"0.39\" \"0.38\" \"0.37\"\n",
       "[31] \"1\"    \"0.93\" \"0.91\" \"0.77\" \"0.55\" \"0.42\" \"0.42\" \"0.42\" \"0.29\" \"0.24\"\n",
       "[41] \"1\"    \"0.95\" \"0.82\" \"0.6\"  \"0.59\" \"0.58\" \"0.55\" \"0.51\" \"0.5\"  \"0.45\""
      ]
     },
     "metadata": {},
     "output_type": "display_data"
    }
   ],
   "source": [
    "label <- gsub(\" \",\"\",paste(round(imp$importance,2)))\n",
    "label"
   ]
  },
  {
   "cell_type": "code",
   "execution_count": 8,
   "metadata": {},
   "outputs": [
    {
     "data": {
      "image/png": "[encoded data removed]",
      "text/plain": [
       "plot without title"
      ]
     },
     "metadata": {
      "image/png": {
       "height": 420,
       "width": 420
      },
      "text/plain": {
       "height": 420,
       "width": 420
      }
     },
     "output_type": "display_data"
    }
   ],
   "source": [
    "label <- gsub(\" \",\"\",paste(round(imp$importance,2)))\n",
    "p6 <- ggplot(imp, aes(x = factor, y = model, size = importance, fill = model, label =label)) +\n",
    "  theme_economist() +\n",
    "  scale_fill_economist() +\n",
    "\n",
    "  geom_point(shape = 21, stroke = 0.2) +\n",
    "  geom_text(hjust = 0.5, vjust=4.5, size = 2) +  \n",
    "  #ggtitle(\"Relative Importance of Traits\") +\n",
    "  scale_x_discrete(breaks=xfactors,\n",
    "        limits = xfactors)+#labels=namesv\n",
    "  scale_y_discrete(limits = modellist)+\n",
    "    \n",
    "  labs(x = \"herd management practices\", y = \"Salmonella sp., Enterococcus sp., and E. coli models\",\n",
    "       size = \"relative influence\", fill = \"models\") +\n",
    "        guides(fill=FALSE)+\n",
    "\n",
    "\n",
    "  #scale_x_continuous(breaks = seq(1, 31, 5)) +\n",
    "  scale_size(range = c(1, 8)) +\n",
    "  #coord_fixed(ratio = 0.8) +\n",
    "  coord_fixed(ratio = 1.7) +\n",
    "  theme(legend.position = \"right\", legend.direction = \"vertical\",\n",
    "        legend.box = \"horizontal\",\n",
    "        legend.key.size = unit(1, \"cm\"),\n",
    "        plot.title = element_text(family=\"Arial\"),\n",
    "        text = element_text(size=7),\n",
    "        axis.title = element_text(size = 8, face = \"italic\"),\n",
    "        legend.text = element_text(size = 8),\n",
    "        legend.title=element_text(face = \"bold\", size = 8),\n",
    "        axis.text.x=element_text(angle=90, hjust = 1))\n",
    "\n",
    "ggsave(filename=\"C:/Users/Falco/Desktop/directory/Cattle_AMR_2/outputs/RF_IMP_bubble.pdf\", plot=p6, width = 8, height = 5.9)\n",
    "ggsave(filename=\"C:/Users/Falco/Desktop/directory/Cattle_AMR_2/outputs/RF_IMP_bubble.svg\", plot=p6, width = 8, height = 5.9)\n",
    "p6"
   ]
  }
 ],
 "metadata": {
  "kernelspec": {
   "display_name": "R [conda env:r_env]",
   "language": "R",
   "name": "conda-env-r_env-r"
  },
  "language_info": {
   "codemirror_mode": "r",
   "file_extension": ".r",
   "mimetype": "text/x-r-source",
   "name": "R",
   "pygments_lexer": "r",
   "version": "3.6.2"
  },
  "toc": {
   "base_numbering": 1,
   "nav_menu": {},
   "number_sections": true,
   "sideBar": true,
   "skip_h1_title": false,
   "title_cell": "Table of Contents",
   "title_sidebar": "Contents",
   "toc_cell": false,
   "toc_position": {},
   "toc_section_display": true,
   "toc_window_display": false
  },
  "varInspector": {
   "cols": {
    "lenName": 16,
    "lenType": 16,
    "lenVar": 40
   },
   "kernels_config": {
    "python": {
     "delete_cmd_postfix": "",
     "delete_cmd_prefix": "del ",
     "library": "var_list.py",
     "varRefreshCmd": "print(var_dic_list())"
    },
    "r": {
     "delete_cmd_postfix": ") ",
     "delete_cmd_prefix": "rm(",
     "library": "var_list.r",
     "varRefreshCmd": "cat(var_dic_list()) "
    }
   },
   "types_to_exclude": [
    "module",
    "function",
    "builtin_function_or_method",
    "instance",
    "_Feature"
   ],
   "window_display": false
  }
 },
 "nbformat": 4,
 "nbformat_minor": 2
}
