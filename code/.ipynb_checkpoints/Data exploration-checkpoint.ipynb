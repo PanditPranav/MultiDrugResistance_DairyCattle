{
 "cells": [
  {
   "cell_type": "code",
   "execution_count": 1,
   "metadata": {},
   "outputs": [],
   "source": [
    "import os as os\n",
    "os.chdir(r'C:\\Users\\falco\\Desktop\\directory\\Cattle_AMR_2')\n",
    "data_path = r'C:/Users/falco/Desktop/directory/Cattle_AMR_2/data/'\n",
    "output_path = r'C:/Users/falco/Desktop/directory/Cattle_AMR_2/outputs/'\n",
    "\n",
    "#os.chdir(r'/home/falco/Desktop/directory/Cattle_AMR_2/')\n",
    "#data_path = r'/home/falco/Desktop/directory/Cattle_AMR_2/data/'\n",
    "#output_path = r'/home/falco/Desktop/directory/Cattle_AMR_2/outputs/'\n",
    "\n",
    "import sklearn\n",
    "from sklearn.metrics import classification_report, f1_score, accuracy_score, confusion_matrix\n",
    "from sklearn.pipeline import Pipeline\n",
    "from sklearn.ensemble import ExtraTreesClassifier, RandomForestClassifier, AdaBoostClassifier, GradientBoostingClassifier\n",
    "from sklearn.model_selection import GridSearchCV\n",
    "from sklearn.model_selection import StratifiedKFold ,cross_val_score, train_test_split, cross_val_predict\n",
    "from sklearn.tree import DecisionTreeClassifier \n",
    "from sklearn.model_selection import learning_curve\n",
    "#from pandas_ml import ConfusionMatrix\n",
    "import re\n",
    "import pandas as pd\n",
    "import numpy as np\n",
    "import seaborn as sns\n",
    "from matplotlib import pyplot as plt\n",
    "\n",
    "\n",
    "import pandas.api.types as pdtypes\n",
    "\n",
    "from plotnine import *\n",
    "from plydata import *\n",
    "\n",
    "np.random.seed(1234)\n",
    "import pandas as pd\n",
    "from sklearn.ensemble import RandomForestRegressor, RandomForestClassifier\n",
    "from sklearn.model_selection import train_test_split\n",
    "from functions import functions as f\n",
    "\n",
    "import matplotlib.style as style\n",
    "style.use('fivethirtyeight')\n",
    "plt.rcParams['lines.linewidth'] = 1\n",
    "dpi = 1000\n",
    "plt.rcParams['font.size'] = 13\n",
    "plt.rcParams['font.family'] = 'Times New Roman'\n",
    "plt.rcParams['axes.labelsize'] = plt.rcParams['font.size']\n",
    "plt.rcParams['axes.titlesize'] = 1.5*plt.rcParams['font.size']\n",
    "plt.rcParams['legend.fontsize'] = plt.rcParams['font.size']+1\n",
    "plt.rcParams['xtick.labelsize'] = plt.rcParams['font.size']\n",
    "plt.rcParams['ytick.labelsize'] = plt.rcParams['font.size']\n",
    "plt.rcParams['figure.figsize'] = 8, 8\n",
    "import warnings\n",
    "warnings.filterwarnings('ignore')"
   ]
  },
  {
   "cell_type": "code",
   "execution_count": 2,
   "metadata": {},
   "outputs": [
    {
     "name": "stdout",
     "output_type": "stream",
     "text": [
      "reading datafile\n",
      "fill missing values and correct some values\n",
      "changing the column names\n",
      "generating output variables\n",
      "final R_factor output\n",
      "1    213\n",
      "0     30\n",
      "Name: Penicillin, dtype: int64\n",
      "1    213\n",
      "0     30\n",
      "Name: Ceftiofur, dtype: int64\n",
      "0    204\n",
      "1     39\n",
      "Name: Tetracycline, dtype: int64\n",
      "Wall time: 471 ms\n"
     ]
    }
   ],
   "source": [
    "%%time\n",
    "data, d = f.read_process_data(data_path=data_path)"
   ]
  },
  {
   "cell_type": "code",
   "execution_count": 3,
   "metadata": {},
   "outputs": [],
   "source": [
    "sal_d = data[data['F_Salmonella PCR_Result'] == 'Positive']"
   ]
  },
  {
   "cell_type": "code",
   "execution_count": 4,
   "metadata": {},
   "outputs": [
    {
     "data": {
      "text/html": [
       "<div>\n",
       "<style scoped>\n",
       "    .dataframe tbody tr th:only-of-type {\n",
       "        vertical-align: middle;\n",
       "    }\n",
       "\n",
       "    .dataframe tbody tr th {\n",
       "        vertical-align: top;\n",
       "    }\n",
       "\n",
       "    .dataframe thead th {\n",
       "        text-align: right;\n",
       "    }\n",
       "</style>\n",
       "<table border=\"1\" class=\"dataframe\">\n",
       "  <thead>\n",
       "    <tr style=\"text-align: right;\">\n",
       "      <th></th>\n",
       "      <th>MT_Results Individual F_AMR_Number of drugs Resistant</th>\n",
       "      <th>MT_Results Individual F_AMR_Number of drugs Susceptable</th>\n",
       "      <th>Multidrug Resistant</th>\n",
       "      <th>Resistant to ?1 drug</th>\n",
       "      <th>Ecoli resistance_Number of drugs Resistant</th>\n",
       "      <th>Ecoli resistance_Number of drugs Susceptable</th>\n",
       "      <th>Ecoli resistance_Multidrug Resistant (1=yes; 0=no)</th>\n",
       "      <th>Ecoli resistance_Resistant  to at least 1 drug (1=yes; 0=no)</th>\n",
       "      <th>Entero resistance_Number of drugs Resistant</th>\n",
       "      <th>Entero resistance_Number of drugs Susceptable</th>\n",
       "      <th>Entero resistance_Multidrug Resistant (1=yes; 0=no)</th>\n",
       "      <th>Entero resistance_Resistant  to at least 1 drug (1=yes; 0=no)</th>\n",
       "      <th>HerdSurvey_Q24_administer_drugs_adultcows</th>\n",
       "    </tr>\n",
       "  </thead>\n",
       "  <tbody>\n",
       "    <tr>\n",
       "      <th>0</th>\n",
       "      <td>0.0</td>\n",
       "      <td>NaN</td>\n",
       "      <td>NaN</td>\n",
       "      <td>NaN</td>\n",
       "      <td>0.0</td>\n",
       "      <td>14.0</td>\n",
       "      <td>0.0</td>\n",
       "      <td>0.0</td>\n",
       "      <td>0.0</td>\n",
       "      <td>13.0</td>\n",
       "      <td>0.0</td>\n",
       "      <td>0.0</td>\n",
       "      <td>NaN</td>\n",
       "    </tr>\n",
       "    <tr>\n",
       "      <th>1</th>\n",
       "      <td>0.0</td>\n",
       "      <td>NaN</td>\n",
       "      <td>NaN</td>\n",
       "      <td>NaN</td>\n",
       "      <td>0.0</td>\n",
       "      <td>14.0</td>\n",
       "      <td>0.0</td>\n",
       "      <td>0.0</td>\n",
       "      <td>4.0</td>\n",
       "      <td>10.0</td>\n",
       "      <td>1.0</td>\n",
       "      <td>1.0</td>\n",
       "      <td>NaN</td>\n",
       "    </tr>\n",
       "    <tr>\n",
       "      <th>2</th>\n",
       "      <td>0.0</td>\n",
       "      <td>NaN</td>\n",
       "      <td>NaN</td>\n",
       "      <td>NaN</td>\n",
       "      <td>0.0</td>\n",
       "      <td>14.0</td>\n",
       "      <td>0.0</td>\n",
       "      <td>0.0</td>\n",
       "      <td>0.0</td>\n",
       "      <td>13.0</td>\n",
       "      <td>0.0</td>\n",
       "      <td>0.0</td>\n",
       "      <td>NaN</td>\n",
       "    </tr>\n",
       "    <tr>\n",
       "      <th>3</th>\n",
       "      <td>0.0</td>\n",
       "      <td>NaN</td>\n",
       "      <td>NaN</td>\n",
       "      <td>NaN</td>\n",
       "      <td>0.0</td>\n",
       "      <td>14.0</td>\n",
       "      <td>0.0</td>\n",
       "      <td>0.0</td>\n",
       "      <td>6.0</td>\n",
       "      <td>7.0</td>\n",
       "      <td>1.0</td>\n",
       "      <td>1.0</td>\n",
       "      <td>NaN</td>\n",
       "    </tr>\n",
       "    <tr>\n",
       "      <th>4</th>\n",
       "      <td>0.0</td>\n",
       "      <td>NaN</td>\n",
       "      <td>NaN</td>\n",
       "      <td>NaN</td>\n",
       "      <td>0.0</td>\n",
       "      <td>14.0</td>\n",
       "      <td>0.0</td>\n",
       "      <td>0.0</td>\n",
       "      <td>10.0</td>\n",
       "      <td>2.0</td>\n",
       "      <td>1.0</td>\n",
       "      <td>1.0</td>\n",
       "      <td>NaN</td>\n",
       "    </tr>\n",
       "  </tbody>\n",
       "</table>\n",
       "</div>"
      ],
      "text/plain": [
       "   MT_Results Individual F_AMR_Number of drugs Resistant  \\\n",
       "0                                                0.0       \n",
       "1                                                0.0       \n",
       "2                                                0.0       \n",
       "3                                                0.0       \n",
       "4                                                0.0       \n",
       "\n",
       "   MT_Results Individual F_AMR_Number of drugs Susceptable  \\\n",
       "0                                                NaN         \n",
       "1                                                NaN         \n",
       "2                                                NaN         \n",
       "3                                                NaN         \n",
       "4                                                NaN         \n",
       "\n",
       "   Multidrug Resistant  Resistant to ?1 drug  \\\n",
       "0                  NaN                   NaN   \n",
       "1                  NaN                   NaN   \n",
       "2                  NaN                   NaN   \n",
       "3                  NaN                   NaN   \n",
       "4                  NaN                   NaN   \n",
       "\n",
       "   Ecoli resistance_Number of drugs Resistant  \\\n",
       "0                                         0.0   \n",
       "1                                         0.0   \n",
       "2                                         0.0   \n",
       "3                                         0.0   \n",
       "4                                         0.0   \n",
       "\n",
       "   Ecoli resistance_Number of drugs Susceptable  \\\n",
       "0                                          14.0   \n",
       "1                                          14.0   \n",
       "2                                          14.0   \n",
       "3                                          14.0   \n",
       "4                                          14.0   \n",
       "\n",
       "   Ecoli resistance_Multidrug Resistant (1=yes; 0=no)  \\\n",
       "0                                                0.0    \n",
       "1                                                0.0    \n",
       "2                                                0.0    \n",
       "3                                                0.0    \n",
       "4                                                0.0    \n",
       "\n",
       "   Ecoli resistance_Resistant  to at least 1 drug (1=yes; 0=no)  \\\n",
       "0                                                0.0              \n",
       "1                                                0.0              \n",
       "2                                                0.0              \n",
       "3                                                0.0              \n",
       "4                                                0.0              \n",
       "\n",
       "   Entero resistance_Number of drugs Resistant  \\\n",
       "0                                          0.0   \n",
       "1                                          4.0   \n",
       "2                                          0.0   \n",
       "3                                          6.0   \n",
       "4                                         10.0   \n",
       "\n",
       "   Entero resistance_Number of drugs Susceptable  \\\n",
       "0                                           13.0   \n",
       "1                                           10.0   \n",
       "2                                           13.0   \n",
       "3                                            7.0   \n",
       "4                                            2.0   \n",
       "\n",
       "   Entero resistance_Multidrug Resistant (1=yes; 0=no)  \\\n",
       "0                                                0.0     \n",
       "1                                                1.0     \n",
       "2                                                0.0     \n",
       "3                                                1.0     \n",
       "4                                                1.0     \n",
       "\n",
       "   Entero resistance_Resistant  to at least 1 drug (1=yes; 0=no)  \\\n",
       "0                                                0.0               \n",
       "1                                                1.0               \n",
       "2                                                0.0               \n",
       "3                                                1.0               \n",
       "4                                                1.0               \n",
       "\n",
       "   HerdSurvey_Q24_administer_drugs_adultcows  \n",
       "0                                        NaN  \n",
       "1                                        NaN  \n",
       "2                                        NaN  \n",
       "3                                        NaN  \n",
       "4                                        NaN  "
      ]
     },
     "execution_count": 4,
     "metadata": {},
     "output_type": "execute_result"
    }
   ],
   "source": [
    "data.filter(like='drug').head()"
   ]
  },
  {
   "cell_type": "code",
   "execution_count": 5,
   "metadata": {},
   "outputs": [
    {
     "data": {
      "text/html": [
       "<div>\n",
       "<style scoped>\n",
       "    .dataframe tbody tr th:only-of-type {\n",
       "        vertical-align: middle;\n",
       "    }\n",
       "\n",
       "    .dataframe tbody tr th {\n",
       "        vertical-align: top;\n",
       "    }\n",
       "\n",
       "    .dataframe thead th {\n",
       "        text-align: right;\n",
       "    }\n",
       "</style>\n",
       "<table border=\"1\" class=\"dataframe\">\n",
       "  <thead>\n",
       "    <tr style=\"text-align: right;\">\n",
       "      <th></th>\n",
       "      <th>Sal_AbR</th>\n",
       "      <th>Entero_AbR</th>\n",
       "      <th>Ecoli_AbR</th>\n",
       "      <th>Dairy ID</th>\n",
       "      <th>R_factor</th>\n",
       "      <th>Sal_R</th>\n",
       "      <th>Ecoli_R</th>\n",
       "      <th>Entero_R</th>\n",
       "      <th>Commensal_R</th>\n",
       "      <th>Sal_AbR_n</th>\n",
       "      <th>Entero_AbR_n</th>\n",
       "      <th>Ecoli_AbR_n</th>\n",
       "      <th>R_n</th>\n",
       "    </tr>\n",
       "  </thead>\n",
       "  <tbody>\n",
       "    <tr>\n",
       "      <th>113</th>\n",
       "      <td>[Tetracyclines]</td>\n",
       "      <td>[Nitrofuran antibacterial]</td>\n",
       "      <td>[Tetracyclines, Aminoglycosides]</td>\n",
       "      <td>CA004</td>\n",
       "      <td>1</td>\n",
       "      <td>1</td>\n",
       "      <td>1</td>\n",
       "      <td>1</td>\n",
       "      <td>2</td>\n",
       "      <td>1</td>\n",
       "      <td>1</td>\n",
       "      <td>2</td>\n",
       "      <td>3</td>\n",
       "    </tr>\n",
       "    <tr>\n",
       "      <th>114</th>\n",
       "      <td>[Tetracyclines]</td>\n",
       "      <td>[Oxazolidinones, Nitrofuran antibacterial, Mac...</td>\n",
       "      <td>[Amphenicols, Tetracyclines]</td>\n",
       "      <td>CA004</td>\n",
       "      <td>2</td>\n",
       "      <td>1</td>\n",
       "      <td>1</td>\n",
       "      <td>2</td>\n",
       "      <td>2</td>\n",
       "      <td>1</td>\n",
       "      <td>3</td>\n",
       "      <td>2</td>\n",
       "      <td>5</td>\n",
       "    </tr>\n",
       "    <tr>\n",
       "      <th>121</th>\n",
       "      <td>[Tetracyclines, Penicillins]</td>\n",
       "      <td>[Nitrofuran antibacterial, Macrolides]</td>\n",
       "      <td>[Amphenicols, Tetracyclines, Aminoglycosides, ...</td>\n",
       "      <td>CA004</td>\n",
       "      <td>2</td>\n",
       "      <td>1</td>\n",
       "      <td>2</td>\n",
       "      <td>1</td>\n",
       "      <td>2</td>\n",
       "      <td>2</td>\n",
       "      <td>2</td>\n",
       "      <td>4</td>\n",
       "      <td>7</td>\n",
       "    </tr>\n",
       "    <tr>\n",
       "      <th>165</th>\n",
       "      <td>[Tetracyclines, Folate pathway antagonist]</td>\n",
       "      <td>[Amphenicols, Macrolides]</td>\n",
       "      <td>[Tetracyclines]</td>\n",
       "      <td>CA004</td>\n",
       "      <td>1</td>\n",
       "      <td>1</td>\n",
       "      <td>1</td>\n",
       "      <td>1</td>\n",
       "      <td>2</td>\n",
       "      <td>2</td>\n",
       "      <td>2</td>\n",
       "      <td>1</td>\n",
       "      <td>4</td>\n",
       "    </tr>\n",
       "    <tr>\n",
       "      <th>167</th>\n",
       "      <td>[Tetracyclines]</td>\n",
       "      <td>[Tetracyclines, Nitrofuran antibacterial]</td>\n",
       "      <td>[Amphenicols, Tetracyclines, Folate pathway an...</td>\n",
       "      <td>CA004</td>\n",
       "      <td>2</td>\n",
       "      <td>1</td>\n",
       "      <td>2</td>\n",
       "      <td>1</td>\n",
       "      <td>2</td>\n",
       "      <td>1</td>\n",
       "      <td>2</td>\n",
       "      <td>3</td>\n",
       "      <td>4</td>\n",
       "    </tr>\n",
       "    <tr>\n",
       "      <th>213</th>\n",
       "      <td>[Tetracyclines]</td>\n",
       "      <td>[Oxazolidinones, Streptogramin]</td>\n",
       "      <td>[Tetracyclines]</td>\n",
       "      <td>CA007</td>\n",
       "      <td>1</td>\n",
       "      <td>1</td>\n",
       "      <td>1</td>\n",
       "      <td>1</td>\n",
       "      <td>2</td>\n",
       "      <td>1</td>\n",
       "      <td>2</td>\n",
       "      <td>1</td>\n",
       "      <td>3</td>\n",
       "    </tr>\n",
       "  </tbody>\n",
       "</table>\n",
       "</div>"
      ],
      "text/plain": [
       "                                        Sal_AbR  \\\n",
       "113                             [Tetracyclines]   \n",
       "114                             [Tetracyclines]   \n",
       "121                [Tetracyclines, Penicillins]   \n",
       "165  [Tetracyclines, Folate pathway antagonist]   \n",
       "167                             [Tetracyclines]   \n",
       "213                             [Tetracyclines]   \n",
       "\n",
       "                                            Entero_AbR  \\\n",
       "113                         [Nitrofuran antibacterial]   \n",
       "114  [Oxazolidinones, Nitrofuran antibacterial, Mac...   \n",
       "121             [Nitrofuran antibacterial, Macrolides]   \n",
       "165                          [Amphenicols, Macrolides]   \n",
       "167          [Tetracyclines, Nitrofuran antibacterial]   \n",
       "213                    [Oxazolidinones, Streptogramin]   \n",
       "\n",
       "                                             Ecoli_AbR Dairy ID R_factor  \\\n",
       "113                   [Tetracyclines, Aminoglycosides]    CA004        1   \n",
       "114                       [Amphenicols, Tetracyclines]    CA004        2   \n",
       "121  [Amphenicols, Tetracyclines, Aminoglycosides, ...    CA004        2   \n",
       "165                                    [Tetracyclines]    CA004        1   \n",
       "167  [Amphenicols, Tetracyclines, Folate pathway an...    CA004        2   \n",
       "213                                    [Tetracyclines]    CA007        1   \n",
       "\n",
       "    Sal_R Ecoli_R Entero_R Commensal_R  Sal_AbR_n  Entero_AbR_n  Ecoli_AbR_n  \\\n",
       "113     1       1        1           2          1             1            2   \n",
       "114     1       1        2           2          1             3            2   \n",
       "121     1       2        1           2          2             2            4   \n",
       "165     1       1        1           2          2             2            1   \n",
       "167     1       2        1           2          1             2            3   \n",
       "213     1       1        1           2          1             2            1   \n",
       "\n",
       "     R_n  \n",
       "113    3  \n",
       "114    5  \n",
       "121    7  \n",
       "165    4  \n",
       "167    4  \n",
       "213    3  "
      ]
     },
     "execution_count": 5,
     "metadata": {},
     "output_type": "execute_result"
    }
   ],
   "source": [
    "data[data['MT_Results Individual_CowID'].isin([4612, 9473, 4920, 49, 9761, 1339])][['Sal_AbR', 'Entero_AbR', 'Ecoli_AbR', 'Dairy ID', 'R_factor', 'Sal_R', 'Ecoli_R', 'Entero_R', 'Commensal_R', 'Sal_AbR_n', 'Entero_AbR_n', 'Ecoli_AbR_n', 'R_n']]"
   ]
  },
  {
   "cell_type": "code",
   "execution_count": 6,
   "metadata": {},
   "outputs": [],
   "source": [
    "data[['Sal_AbR', 'Entero_AbR', 'Ecoli_AbR', 'Dairy ID', 'R_factor', 'Sal_R', 'Ecoli_R', 'Entero_R', 'Commensal_R', 'Sal_AbR_n', 'Entero_AbR_n', 'Ecoli_AbR_n', 'R_n']].to_excel(output_path+'ToCheck.xlsx')"
   ]
  },
  {
   "cell_type": "code",
   "execution_count": 7,
   "metadata": {},
   "outputs": [
    {
     "data": {
      "text/plain": [
       "Penicillin       121\n",
       "Ceftiofur         92\n",
       "None_reported     30\n",
       "Name: Antibiotic1, dtype: int64"
      ]
     },
     "execution_count": 7,
     "metadata": {},
     "output_type": "execute_result"
    }
   ],
   "source": [
    "data['Antibiotic1'].value_counts()"
   ]
  },
  {
   "cell_type": "code",
   "execution_count": 8,
   "metadata": {},
   "outputs": [
    {
     "data": {
      "text/plain": [
       "Penicillin       122\n",
       "Ceftiofur         91\n",
       "None_reported     30\n",
       "Name: Antibiotic2, dtype: int64"
      ]
     },
     "execution_count": 8,
     "metadata": {},
     "output_type": "execute_result"
    }
   ],
   "source": [
    "data['Antibiotic2'].value_counts()"
   ]
  },
  {
   "cell_type": "code",
   "execution_count": 9,
   "metadata": {},
   "outputs": [
    {
     "data": {
      "text/plain": [
       "Ceftiofur        143\n",
       "None_reported     61\n",
       "Tetracycline      39\n",
       "Name: Antibiotic3, dtype: int64"
      ]
     },
     "execution_count": 9,
     "metadata": {},
     "output_type": "execute_result"
    }
   ],
   "source": [
    "data['Antibiotic3'].value_counts()"
   ]
  },
  {
   "cell_type": "code",
   "execution_count": 10,
   "metadata": {},
   "outputs": [
    {
     "data": {
      "text/plain": [
       "1    107\n",
       "2     75\n",
       "0     61\n",
       "Name: R_factor, dtype: int64"
      ]
     },
     "execution_count": 10,
     "metadata": {},
     "output_type": "execute_result"
    }
   ],
   "source": [
    "data['R_factor'].value_counts()"
   ]
  },
  {
   "cell_type": "code",
   "execution_count": 11,
   "metadata": {},
   "outputs": [
    {
     "data": {
      "text/html": [
       "<div>\n",
       "<style scoped>\n",
       "    .dataframe tbody tr th:only-of-type {\n",
       "        vertical-align: middle;\n",
       "    }\n",
       "\n",
       "    .dataframe tbody tr th {\n",
       "        vertical-align: top;\n",
       "    }\n",
       "\n",
       "    .dataframe thead th {\n",
       "        text-align: right;\n",
       "    }\n",
       "</style>\n",
       "<table border=\"1\" class=\"dataframe\">\n",
       "  <thead>\n",
       "    <tr style=\"text-align: right;\">\n",
       "      <th></th>\n",
       "      <th>Abb</th>\n",
       "      <th>Antibiotic</th>\n",
       "      <th>drug_class</th>\n",
       "      <th>entero_natural</th>\n",
       "      <th>ecoli_natural</th>\n",
       "      <th>sal_natural</th>\n",
       "    </tr>\n",
       "  </thead>\n",
       "  <tbody>\n",
       "    <tr>\n",
       "      <th>0</th>\n",
       "      <td>AMP</td>\n",
       "      <td>Ampicillin</td>\n",
       "      <td>Penicillins</td>\n",
       "      <td>0</td>\n",
       "      <td>1</td>\n",
       "      <td>0</td>\n",
       "    </tr>\n",
       "    <tr>\n",
       "      <th>1</th>\n",
       "      <td>AUG2</td>\n",
       "      <td>Augmentin</td>\n",
       "      <td>Penicillins</td>\n",
       "      <td>0</td>\n",
       "      <td>1</td>\n",
       "      <td>0</td>\n",
       "    </tr>\n",
       "    <tr>\n",
       "      <th>2</th>\n",
       "      <td>AXO</td>\n",
       "      <td>Ceftriaxone</td>\n",
       "      <td>Cephalosporins</td>\n",
       "      <td>1</td>\n",
       "      <td>0</td>\n",
       "      <td>1</td>\n",
       "    </tr>\n",
       "    <tr>\n",
       "      <th>3</th>\n",
       "      <td>CHL</td>\n",
       "      <td>Chloramphenicol</td>\n",
       "      <td>Amphenicols</td>\n",
       "      <td>0</td>\n",
       "      <td>0</td>\n",
       "      <td>0</td>\n",
       "    </tr>\n",
       "    <tr>\n",
       "      <th>4</th>\n",
       "      <td>CIP</td>\n",
       "      <td>Ciprofloxacin</td>\n",
       "      <td>Fluoroquinolones</td>\n",
       "      <td>1</td>\n",
       "      <td>0</td>\n",
       "      <td>0</td>\n",
       "    </tr>\n",
       "    <tr>\n",
       "      <th>5</th>\n",
       "      <td>ERY</td>\n",
       "      <td>Erythromycin</td>\n",
       "      <td>Macrolides</td>\n",
       "      <td>0</td>\n",
       "      <td>0</td>\n",
       "      <td>0</td>\n",
       "    </tr>\n",
       "    <tr>\n",
       "      <th>6</th>\n",
       "      <td>FOX</td>\n",
       "      <td>Cefoxitin</td>\n",
       "      <td>Cephalosporins</td>\n",
       "      <td>1</td>\n",
       "      <td>0</td>\n",
       "      <td>1</td>\n",
       "    </tr>\n",
       "    <tr>\n",
       "      <th>7</th>\n",
       "      <td>GEN</td>\n",
       "      <td>Gentamicin</td>\n",
       "      <td>Aminoglycosides</td>\n",
       "      <td>1</td>\n",
       "      <td>0</td>\n",
       "      <td>1</td>\n",
       "    </tr>\n",
       "    <tr>\n",
       "      <th>8</th>\n",
       "      <td>KAN</td>\n",
       "      <td>Kanamycin</td>\n",
       "      <td>Aminoglycosides</td>\n",
       "      <td>1</td>\n",
       "      <td>0</td>\n",
       "      <td>1</td>\n",
       "    </tr>\n",
       "    <tr>\n",
       "      <th>9</th>\n",
       "      <td>LIN</td>\n",
       "      <td>Lincomycin</td>\n",
       "      <td>Lincosamides</td>\n",
       "      <td>1</td>\n",
       "      <td>1</td>\n",
       "      <td>1</td>\n",
       "    </tr>\n",
       "    <tr>\n",
       "      <th>10</th>\n",
       "      <td>LZD</td>\n",
       "      <td>Linezolid</td>\n",
       "      <td>Oxazolidinones</td>\n",
       "      <td>0</td>\n",
       "      <td>1</td>\n",
       "      <td>1</td>\n",
       "    </tr>\n",
       "    <tr>\n",
       "      <th>11</th>\n",
       "      <td>NIT</td>\n",
       "      <td>Nitrofurantoin</td>\n",
       "      <td>Nitrofuran antibacterial</td>\n",
       "      <td>0</td>\n",
       "      <td>0</td>\n",
       "      <td>0</td>\n",
       "    </tr>\n",
       "    <tr>\n",
       "      <th>12</th>\n",
       "      <td>Nal</td>\n",
       "      <td>Nalidixic acid</td>\n",
       "      <td>Quinolones</td>\n",
       "      <td>0</td>\n",
       "      <td>0</td>\n",
       "      <td>0</td>\n",
       "    </tr>\n",
       "    <tr>\n",
       "      <th>13</th>\n",
       "      <td>STR</td>\n",
       "      <td>Streptomycin</td>\n",
       "      <td>Aminoglycosides</td>\n",
       "      <td>1</td>\n",
       "      <td>0</td>\n",
       "      <td>1</td>\n",
       "    </tr>\n",
       "    <tr>\n",
       "      <th>14</th>\n",
       "      <td>SXT</td>\n",
       "      <td>Trimethoprim-sulphamethoxazole</td>\n",
       "      <td>Folate pathway antagonist</td>\n",
       "      <td>1</td>\n",
       "      <td>0</td>\n",
       "      <td>0</td>\n",
       "    </tr>\n",
       "    <tr>\n",
       "      <th>15</th>\n",
       "      <td>SYN</td>\n",
       "      <td>Synercid</td>\n",
       "      <td>Streptogramin</td>\n",
       "      <td>0</td>\n",
       "      <td>0</td>\n",
       "      <td>0</td>\n",
       "    </tr>\n",
       "    <tr>\n",
       "      <th>16</th>\n",
       "      <td>TET</td>\n",
       "      <td>Tetracycline</td>\n",
       "      <td>Tetracyclines</td>\n",
       "      <td>0</td>\n",
       "      <td>0</td>\n",
       "      <td>0</td>\n",
       "    </tr>\n",
       "    <tr>\n",
       "      <th>17</th>\n",
       "      <td>TYLT</td>\n",
       "      <td>Tylosin tartrate</td>\n",
       "      <td>Macrolides</td>\n",
       "      <td>0</td>\n",
       "      <td>0</td>\n",
       "      <td>0</td>\n",
       "    </tr>\n",
       "    <tr>\n",
       "      <th>18</th>\n",
       "      <td>VAN</td>\n",
       "      <td>Vancomycin</td>\n",
       "      <td>Glycopeptides</td>\n",
       "      <td>0</td>\n",
       "      <td>1</td>\n",
       "      <td>1</td>\n",
       "    </tr>\n",
       "    <tr>\n",
       "      <th>19</th>\n",
       "      <td>XNL</td>\n",
       "      <td>Ceftiofur</td>\n",
       "      <td>Cephalosporins</td>\n",
       "      <td>1</td>\n",
       "      <td>0</td>\n",
       "      <td>1</td>\n",
       "    </tr>\n",
       "  </tbody>\n",
       "</table>\n",
       "</div>"
      ],
      "text/plain": [
       "     Abb                      Antibiotic                 drug_class  \\\n",
       "0    AMP                      Ampicillin                Penicillins   \n",
       "1   AUG2                       Augmentin                Penicillins   \n",
       "2    AXO                     Ceftriaxone             Cephalosporins   \n",
       "3    CHL                 Chloramphenicol                Amphenicols   \n",
       "4    CIP                   Ciprofloxacin           Fluoroquinolones   \n",
       "5    ERY                    Erythromycin                 Macrolides   \n",
       "6    FOX                       Cefoxitin             Cephalosporins   \n",
       "7    GEN                      Gentamicin            Aminoglycosides   \n",
       "8    KAN                       Kanamycin            Aminoglycosides   \n",
       "9    LIN                      Lincomycin               Lincosamides   \n",
       "10   LZD                       Linezolid             Oxazolidinones   \n",
       "11   NIT                  Nitrofurantoin   Nitrofuran antibacterial   \n",
       "12   Nal                  Nalidixic acid                 Quinolones   \n",
       "13   STR                    Streptomycin            Aminoglycosides   \n",
       "14   SXT  Trimethoprim-sulphamethoxazole  Folate pathway antagonist   \n",
       "15   SYN                        Synercid              Streptogramin   \n",
       "16   TET                    Tetracycline              Tetracyclines   \n",
       "17  TYLT                Tylosin tartrate                 Macrolides   \n",
       "18   VAN                      Vancomycin              Glycopeptides   \n",
       "19   XNL                       Ceftiofur             Cephalosporins   \n",
       "\n",
       "    entero_natural  ecoli_natural  sal_natural  \n",
       "0                0              1            0  \n",
       "1                0              1            0  \n",
       "2                1              0            1  \n",
       "3                0              0            0  \n",
       "4                1              0            0  \n",
       "5                0              0            0  \n",
       "6                1              0            1  \n",
       "7                1              0            1  \n",
       "8                1              0            1  \n",
       "9                1              1            1  \n",
       "10               0              1            1  \n",
       "11               0              0            0  \n",
       "12               0              0            0  \n",
       "13               1              0            1  \n",
       "14               1              0            0  \n",
       "15               0              0            0  \n",
       "16               0              0            0  \n",
       "17               0              0            0  \n",
       "18               0              1            1  \n",
       "19               1              0            1  "
      ]
     },
     "execution_count": 11,
     "metadata": {},
     "output_type": "execute_result"
    }
   ],
   "source": [
    "d"
   ]
  },
  {
   "cell_type": "code",
   "execution_count": 12,
   "metadata": {},
   "outputs": [],
   "source": [
    "d.to_csv(output_path+'Ref_table.csv')"
   ]
  },
  {
   "cell_type": "code",
   "execution_count": 13,
   "metadata": {},
   "outputs": [
    {
     "data": {
      "text/plain": [
       "0    162\n",
       "1     74\n",
       "2      7\n",
       "Name: Ecoli_R, dtype: int64"
      ]
     },
     "execution_count": 13,
     "metadata": {},
     "output_type": "execute_result"
    }
   ],
   "source": [
    "data.Ecoli_R.value_counts()"
   ]
  },
  {
   "cell_type": "code",
   "execution_count": 14,
   "metadata": {},
   "outputs": [
    {
     "data": {
      "text/html": [
       "<div>\n",
       "<style scoped>\n",
       "    .dataframe tbody tr th:only-of-type {\n",
       "        vertical-align: middle;\n",
       "    }\n",
       "\n",
       "    .dataframe tbody tr th {\n",
       "        vertical-align: top;\n",
       "    }\n",
       "\n",
       "    .dataframe thead th {\n",
       "        text-align: right;\n",
       "    }\n",
       "</style>\n",
       "<table border=\"1\" class=\"dataframe\">\n",
       "  <thead>\n",
       "    <tr style=\"text-align: right;\">\n",
       "      <th></th>\n",
       "      <th>Herd</th>\n",
       "      <th>PCR result</th>\n",
       "      <th>Cows</th>\n",
       "    </tr>\n",
       "  </thead>\n",
       "  <tbody>\n",
       "    <tr>\n",
       "      <th>0</th>\n",
       "      <td>CA001</td>\n",
       "      <td>Inconclusive</td>\n",
       "      <td>6</td>\n",
       "    </tr>\n",
       "    <tr>\n",
       "      <th>1</th>\n",
       "      <td>CA001</td>\n",
       "      <td>Negative</td>\n",
       "      <td>34</td>\n",
       "    </tr>\n",
       "    <tr>\n",
       "      <th>2</th>\n",
       "      <td>CA002</td>\n",
       "      <td>Inconclusive</td>\n",
       "      <td>13</td>\n",
       "    </tr>\n",
       "    <tr>\n",
       "      <th>3</th>\n",
       "      <td>CA002</td>\n",
       "      <td>Negative</td>\n",
       "      <td>27</td>\n",
       "    </tr>\n",
       "    <tr>\n",
       "      <th>4</th>\n",
       "      <td>CA003</td>\n",
       "      <td>Negative</td>\n",
       "      <td>35</td>\n",
       "    </tr>\n",
       "  </tbody>\n",
       "</table>\n",
       "</div>"
      ],
      "text/plain": [
       "    Herd    PCR result  Cows\n",
       "0  CA001  Inconclusive     6\n",
       "1  CA001      Negative    34\n",
       "2  CA002  Inconclusive    13\n",
       "3  CA002      Negative    27\n",
       "4  CA003      Negative    35"
      ]
     },
     "execution_count": 14,
     "metadata": {},
     "output_type": "execute_result"
    }
   ],
   "source": [
    "df = data.groupby(['Dairy ID','F_Salmonella PCR_Result'])['MT_Results Individual_CowID'].nunique().reset_index()#.plot(kind = 'barh')\n",
    "df.columns = ['Herd', 'PCR result', 'Cows']\n",
    "df.head()"
   ]
  },
  {
   "cell_type": "code",
   "execution_count": 15,
   "metadata": {},
   "outputs": [
    {
     "data": {
      "text/html": [
       "<div>\n",
       "<style scoped>\n",
       "    .dataframe tbody tr th:only-of-type {\n",
       "        vertical-align: middle;\n",
       "    }\n",
       "\n",
       "    .dataframe tbody tr th {\n",
       "        vertical-align: top;\n",
       "    }\n",
       "\n",
       "    .dataframe thead th {\n",
       "        text-align: right;\n",
       "    }\n",
       "</style>\n",
       "<table border=\"1\" class=\"dataframe\">\n",
       "  <thead>\n",
       "    <tr style=\"text-align: right;\">\n",
       "      <th></th>\n",
       "      <th>Herd</th>\n",
       "      <th>PCR result</th>\n",
       "      <th>Cows</th>\n",
       "    </tr>\n",
       "  </thead>\n",
       "  <tbody>\n",
       "    <tr>\n",
       "      <th>0</th>\n",
       "      <td>CA001</td>\n",
       "      <td>Inconclusive</td>\n",
       "      <td>6</td>\n",
       "    </tr>\n",
       "    <tr>\n",
       "      <th>1</th>\n",
       "      <td>CA001</td>\n",
       "      <td>Negative</td>\n",
       "      <td>34</td>\n",
       "    </tr>\n",
       "  </tbody>\n",
       "</table>\n",
       "</div>"
      ],
      "text/plain": [
       "    Herd    PCR result  Cows\n",
       "0  CA001  Inconclusive     6\n",
       "1  CA001      Negative    34"
      ]
     },
     "execution_count": 15,
     "metadata": {},
     "output_type": "execute_result"
    }
   ],
   "source": [
    "df[df.Herd =='CA001']"
   ]
  },
  {
   "cell_type": "code",
   "execution_count": 16,
   "metadata": {},
   "outputs": [
    {
     "data": {
      "text/html": [
       "<div>\n",
       "<style scoped>\n",
       "    .dataframe tbody tr th:only-of-type {\n",
       "        vertical-align: middle;\n",
       "    }\n",
       "\n",
       "    .dataframe tbody tr th {\n",
       "        vertical-align: top;\n",
       "    }\n",
       "\n",
       "    .dataframe thead th {\n",
       "        text-align: right;\n",
       "    }\n",
       "</style>\n",
       "<table border=\"1\" class=\"dataframe\">\n",
       "  <thead>\n",
       "    <tr style=\"text-align: right;\">\n",
       "      <th></th>\n",
       "      <th>Herd</th>\n",
       "      <th>PCR result</th>\n",
       "      <th>Cows</th>\n",
       "    </tr>\n",
       "  </thead>\n",
       "  <tbody>\n",
       "    <tr>\n",
       "      <th>2</th>\n",
       "      <td>CA002</td>\n",
       "      <td>Inconclusive</td>\n",
       "      <td>13</td>\n",
       "    </tr>\n",
       "    <tr>\n",
       "      <th>3</th>\n",
       "      <td>CA002</td>\n",
       "      <td>Negative</td>\n",
       "      <td>27</td>\n",
       "    </tr>\n",
       "  </tbody>\n",
       "</table>\n",
       "</div>"
      ],
      "text/plain": [
       "    Herd    PCR result  Cows\n",
       "2  CA002  Inconclusive    13\n",
       "3  CA002      Negative    27"
      ]
     },
     "execution_count": 16,
     "metadata": {},
     "output_type": "execute_result"
    }
   ],
   "source": [
    "df[df.Herd =='CA002']"
   ]
  },
  {
   "cell_type": "code",
   "execution_count": 17,
   "metadata": {},
   "outputs": [
    {
     "data": {
      "text/html": [
       "<div>\n",
       "<style scoped>\n",
       "    .dataframe tbody tr th:only-of-type {\n",
       "        vertical-align: middle;\n",
       "    }\n",
       "\n",
       "    .dataframe tbody tr th {\n",
       "        vertical-align: top;\n",
       "    }\n",
       "\n",
       "    .dataframe thead th {\n",
       "        text-align: right;\n",
       "    }\n",
       "</style>\n",
       "<table border=\"1\" class=\"dataframe\">\n",
       "  <thead>\n",
       "    <tr style=\"text-align: right;\">\n",
       "      <th></th>\n",
       "      <th>Herd</th>\n",
       "      <th>PCR result</th>\n",
       "      <th>Cows</th>\n",
       "    </tr>\n",
       "  </thead>\n",
       "  <tbody>\n",
       "    <tr>\n",
       "      <th>4</th>\n",
       "      <td>CA003</td>\n",
       "      <td>Negative</td>\n",
       "      <td>35</td>\n",
       "    </tr>\n",
       "    <tr>\n",
       "      <th>5</th>\n",
       "      <td>CA003</td>\n",
       "      <td>Positive</td>\n",
       "      <td>5</td>\n",
       "    </tr>\n",
       "  </tbody>\n",
       "</table>\n",
       "</div>"
      ],
      "text/plain": [
       "    Herd PCR result  Cows\n",
       "4  CA003   Negative    35\n",
       "5  CA003   Positive     5"
      ]
     },
     "execution_count": 17,
     "metadata": {},
     "output_type": "execute_result"
    }
   ],
   "source": [
    "df[df.Herd =='CA003']"
   ]
  },
  {
   "cell_type": "code",
   "execution_count": 18,
   "metadata": {},
   "outputs": [
    {
     "data": {
      "text/html": [
       "<div>\n",
       "<style scoped>\n",
       "    .dataframe tbody tr th:only-of-type {\n",
       "        vertical-align: middle;\n",
       "    }\n",
       "\n",
       "    .dataframe tbody tr th {\n",
       "        vertical-align: top;\n",
       "    }\n",
       "\n",
       "    .dataframe thead th {\n",
       "        text-align: right;\n",
       "    }\n",
       "</style>\n",
       "<table border=\"1\" class=\"dataframe\">\n",
       "  <thead>\n",
       "    <tr style=\"text-align: right;\">\n",
       "      <th></th>\n",
       "      <th>Herd</th>\n",
       "      <th>PCR result</th>\n",
       "      <th>Cows</th>\n",
       "    </tr>\n",
       "  </thead>\n",
       "  <tbody>\n",
       "    <tr>\n",
       "      <th>6</th>\n",
       "      <td>CA004</td>\n",
       "      <td>Inconclusive</td>\n",
       "      <td>5</td>\n",
       "    </tr>\n",
       "    <tr>\n",
       "      <th>7</th>\n",
       "      <td>CA004</td>\n",
       "      <td>Negative</td>\n",
       "      <td>14</td>\n",
       "    </tr>\n",
       "    <tr>\n",
       "      <th>8</th>\n",
       "      <td>CA004</td>\n",
       "      <td>Positive</td>\n",
       "      <td>21</td>\n",
       "    </tr>\n",
       "  </tbody>\n",
       "</table>\n",
       "</div>"
      ],
      "text/plain": [
       "    Herd    PCR result  Cows\n",
       "6  CA004  Inconclusive     5\n",
       "7  CA004      Negative    14\n",
       "8  CA004      Positive    21"
      ]
     },
     "execution_count": 18,
     "metadata": {},
     "output_type": "execute_result"
    }
   ],
   "source": [
    "df[df.Herd =='CA004']"
   ]
  },
  {
   "cell_type": "code",
   "execution_count": 19,
   "metadata": {},
   "outputs": [
    {
     "data": {
      "text/html": [
       "<div>\n",
       "<style scoped>\n",
       "    .dataframe tbody tr th:only-of-type {\n",
       "        vertical-align: middle;\n",
       "    }\n",
       "\n",
       "    .dataframe tbody tr th {\n",
       "        vertical-align: top;\n",
       "    }\n",
       "\n",
       "    .dataframe thead th {\n",
       "        text-align: right;\n",
       "    }\n",
       "</style>\n",
       "<table border=\"1\" class=\"dataframe\">\n",
       "  <thead>\n",
       "    <tr style=\"text-align: right;\">\n",
       "      <th></th>\n",
       "      <th>Herd</th>\n",
       "      <th>PCR result</th>\n",
       "      <th>Cows</th>\n",
       "    </tr>\n",
       "  </thead>\n",
       "  <tbody>\n",
       "    <tr>\n",
       "      <th>9</th>\n",
       "      <td>CA005</td>\n",
       "      <td>Inconclusive</td>\n",
       "      <td>5</td>\n",
       "    </tr>\n",
       "    <tr>\n",
       "      <th>10</th>\n",
       "      <td>CA005</td>\n",
       "      <td>Negative</td>\n",
       "      <td>30</td>\n",
       "    </tr>\n",
       "    <tr>\n",
       "      <th>11</th>\n",
       "      <td>CA005</td>\n",
       "      <td>Positive</td>\n",
       "      <td>4</td>\n",
       "    </tr>\n",
       "  </tbody>\n",
       "</table>\n",
       "</div>"
      ],
      "text/plain": [
       "     Herd    PCR result  Cows\n",
       "9   CA005  Inconclusive     5\n",
       "10  CA005      Negative    30\n",
       "11  CA005      Positive     4"
      ]
     },
     "execution_count": 19,
     "metadata": {},
     "output_type": "execute_result"
    }
   ],
   "source": [
    "df[df.Herd =='CA005']"
   ]
  },
  {
   "cell_type": "code",
   "execution_count": 20,
   "metadata": {},
   "outputs": [
    {
     "data": {
      "text/html": [
       "<div>\n",
       "<style scoped>\n",
       "    .dataframe tbody tr th:only-of-type {\n",
       "        vertical-align: middle;\n",
       "    }\n",
       "\n",
       "    .dataframe tbody tr th {\n",
       "        vertical-align: top;\n",
       "    }\n",
       "\n",
       "    .dataframe thead th {\n",
       "        text-align: right;\n",
       "    }\n",
       "</style>\n",
       "<table border=\"1\" class=\"dataframe\">\n",
       "  <thead>\n",
       "    <tr style=\"text-align: right;\">\n",
       "      <th></th>\n",
       "      <th>Herd</th>\n",
       "      <th>PCR result</th>\n",
       "      <th>Cows</th>\n",
       "    </tr>\n",
       "  </thead>\n",
       "  <tbody>\n",
       "    <tr>\n",
       "      <th>12</th>\n",
       "      <td>CA007</td>\n",
       "      <td>Inconclusive</td>\n",
       "      <td>1</td>\n",
       "    </tr>\n",
       "    <tr>\n",
       "      <th>13</th>\n",
       "      <td>CA007</td>\n",
       "      <td>Negative</td>\n",
       "      <td>11</td>\n",
       "    </tr>\n",
       "    <tr>\n",
       "      <th>14</th>\n",
       "      <td>CA007</td>\n",
       "      <td>Positive</td>\n",
       "      <td>28</td>\n",
       "    </tr>\n",
       "  </tbody>\n",
       "</table>\n",
       "</div>"
      ],
      "text/plain": [
       "     Herd    PCR result  Cows\n",
       "12  CA007  Inconclusive     1\n",
       "13  CA007      Negative    11\n",
       "14  CA007      Positive    28"
      ]
     },
     "execution_count": 20,
     "metadata": {},
     "output_type": "execute_result"
    }
   ],
   "source": [
    "df[df.Herd =='CA007']"
   ]
  },
  {
   "cell_type": "code",
   "execution_count": 21,
   "metadata": {},
   "outputs": [
    {
     "data": {
      "text/plain": [
       "0.7"
      ]
     },
     "execution_count": 21,
     "metadata": {},
     "output_type": "execute_result"
    }
   ],
   "source": [
    "float(df[(df.Herd =='CA007') & (df['PCR result'] =='Positive')]['Cows']/df[(df.Herd =='CA007')]['Cows'].sum())"
   ]
  },
  {
   "cell_type": "code",
   "execution_count": 22,
   "metadata": {},
   "outputs": [
    {
     "name": "stdout",
     "output_type": "stream",
     "text": [
      "prevalence in herd CA001 was Series([], Name: Cows, dtype: float64)\n",
      "prevalence in herd CA002 was Series([], Name: Cows, dtype: float64)\n",
      "prevalence in herd CA003 was 5    0.125\n",
      "Name: Cows, dtype: float64\n",
      "prevalence in herd CA004 was 8    0.525\n",
      "Name: Cows, dtype: float64\n",
      "prevalence in herd CA005 was 11    0.102564\n",
      "Name: Cows, dtype: float64\n",
      "prevalence in herd CA007 was 14    0.7\n",
      "Name: Cows, dtype: float64\n"
     ]
    }
   ],
   "source": [
    "for herd in df.Herd.unique().tolist():\n",
    "    p = df[(df.Herd ==herd) & (df['PCR result'] =='Positive')]['Cows']/df[(df.Herd ==herd)]['Cows'].sum()\n",
    "    print ('prevalence in herd %s was %s' %(herd, p))"
   ]
  },
  {
   "cell_type": "code",
   "execution_count": 23,
   "metadata": {},
   "outputs": [
    {
     "data": {
      "text/plain": [
       "Negative        152\n",
       "Positive         61\n",
       "Inconclusive     30\n",
       "Name: F_Salmonella PCR_Result, dtype: int64"
      ]
     },
     "execution_count": 23,
     "metadata": {},
     "output_type": "execute_result"
    }
   ],
   "source": [
    "data['F_Salmonella PCR_Result'].value_counts()"
   ]
  },
  {
   "cell_type": "code",
   "execution_count": 24,
   "metadata": {
    "scrolled": true
   },
   "outputs": [
    {
     "data": {
      "text/html": [
       "<div>\n",
       "<style scoped>\n",
       "    .dataframe tbody tr th:only-of-type {\n",
       "        vertical-align: middle;\n",
       "    }\n",
       "\n",
       "    .dataframe tbody tr th {\n",
       "        vertical-align: top;\n",
       "    }\n",
       "\n",
       "    .dataframe thead th {\n",
       "        text-align: right;\n",
       "    }\n",
       "</style>\n",
       "<table border=\"1\" class=\"dataframe\">\n",
       "  <thead>\n",
       "    <tr style=\"text-align: right;\">\n",
       "      <th></th>\n",
       "      <th>Dairy ID</th>\n",
       "      <th>MT_Results Individual_CowID</th>\n",
       "      <th>SampleID2</th>\n",
       "      <th>F_AMR_CowID</th>\n",
       "      <th>CowID</th>\n",
       "    </tr>\n",
       "  </thead>\n",
       "  <tbody>\n",
       "    <tr>\n",
       "      <th>0</th>\n",
       "      <td>CA005</td>\n",
       "      <td>4672</td>\n",
       "      <td>NaN</td>\n",
       "      <td>NaN</td>\n",
       "      <td>4672</td>\n",
       "    </tr>\n",
       "    <tr>\n",
       "      <th>1</th>\n",
       "      <td>CA005</td>\n",
       "      <td>1099</td>\n",
       "      <td>NaN</td>\n",
       "      <td>NaN</td>\n",
       "      <td>1099</td>\n",
       "    </tr>\n",
       "    <tr>\n",
       "      <th>2</th>\n",
       "      <td>CA005</td>\n",
       "      <td>3786</td>\n",
       "      <td>NaN</td>\n",
       "      <td>NaN</td>\n",
       "      <td>3786</td>\n",
       "    </tr>\n",
       "    <tr>\n",
       "      <th>3</th>\n",
       "      <td>CA005</td>\n",
       "      <td>3596</td>\n",
       "      <td>NaN</td>\n",
       "      <td>NaN</td>\n",
       "      <td>3596</td>\n",
       "    </tr>\n",
       "    <tr>\n",
       "      <th>4</th>\n",
       "      <td>CA005</td>\n",
       "      <td>4880</td>\n",
       "      <td>NaN</td>\n",
       "      <td>NaN</td>\n",
       "      <td>4880</td>\n",
       "    </tr>\n",
       "    <tr>\n",
       "      <th>...</th>\n",
       "      <td>...</td>\n",
       "      <td>...</td>\n",
       "      <td>...</td>\n",
       "      <td>...</td>\n",
       "      <td>...</td>\n",
       "    </tr>\n",
       "    <tr>\n",
       "      <th>238</th>\n",
       "      <td>CA004</td>\n",
       "      <td>5821</td>\n",
       "      <td>NaN</td>\n",
       "      <td>NaN</td>\n",
       "      <td>5821</td>\n",
       "    </tr>\n",
       "    <tr>\n",
       "      <th>239</th>\n",
       "      <td>CA004</td>\n",
       "      <td>8454</td>\n",
       "      <td>NaN</td>\n",
       "      <td>NaN</td>\n",
       "      <td>8454</td>\n",
       "    </tr>\n",
       "    <tr>\n",
       "      <th>240</th>\n",
       "      <td>CA004</td>\n",
       "      <td>9460</td>\n",
       "      <td>NaN</td>\n",
       "      <td>NaN</td>\n",
       "      <td>9460</td>\n",
       "    </tr>\n",
       "    <tr>\n",
       "      <th>241</th>\n",
       "      <td>CA004</td>\n",
       "      <td>2775</td>\n",
       "      <td>NaN</td>\n",
       "      <td>NaN</td>\n",
       "      <td>2775</td>\n",
       "    </tr>\n",
       "    <tr>\n",
       "      <th>242</th>\n",
       "      <td>CA004</td>\n",
       "      <td>6651</td>\n",
       "      <td>F240</td>\n",
       "      <td>6651.0</td>\n",
       "      <td>6651</td>\n",
       "    </tr>\n",
       "  </tbody>\n",
       "</table>\n",
       "<p>243 rows × 5 columns</p>\n",
       "</div>"
      ],
      "text/plain": [
       "    Dairy ID  MT_Results Individual_CowID SampleID2  F_AMR_CowID  CowID\n",
       "0      CA005                         4672       NaN          NaN   4672\n",
       "1      CA005                         1099       NaN          NaN   1099\n",
       "2      CA005                         3786       NaN          NaN   3786\n",
       "3      CA005                         3596       NaN          NaN   3596\n",
       "4      CA005                         4880       NaN          NaN   4880\n",
       "..       ...                          ...       ...          ...    ...\n",
       "238    CA004                         5821       NaN          NaN   5821\n",
       "239    CA004                         8454       NaN          NaN   8454\n",
       "240    CA004                         9460       NaN          NaN   9460\n",
       "241    CA004                         2775       NaN          NaN   2775\n",
       "242    CA004                         6651      F240       6651.0   6651\n",
       "\n",
       "[243 rows x 5 columns]"
      ]
     },
     "execution_count": 24,
     "metadata": {},
     "output_type": "execute_result"
    }
   ],
   "source": [
    "data.filter(like ='ID')"
   ]
  },
  {
   "cell_type": "code",
   "execution_count": 25,
   "metadata": {},
   "outputs": [
    {
     "data": {
      "text/html": [
       "<div>\n",
       "<style scoped>\n",
       "    .dataframe tbody tr th:only-of-type {\n",
       "        vertical-align: middle;\n",
       "    }\n",
       "\n",
       "    .dataframe tbody tr th {\n",
       "        vertical-align: top;\n",
       "    }\n",
       "\n",
       "    .dataframe thead th {\n",
       "        text-align: right;\n",
       "    }\n",
       "</style>\n",
       "<table border=\"1\" class=\"dataframe\">\n",
       "  <thead>\n",
       "    <tr style=\"text-align: right;\">\n",
       "      <th></th>\n",
       "      <th>Dairy ID</th>\n",
       "      <th>MT_Results Individual_CowID</th>\n",
       "      <th>Date</th>\n",
       "      <th>Accession</th>\n",
       "      <th>Org1</th>\n",
       "      <th>Org2</th>\n",
       "      <th>F_Salmonella PCR_Result</th>\n",
       "      <th>SampleID2</th>\n",
       "      <th>CollectionDate</th>\n",
       "      <th>F_AMR_CowID</th>\n",
       "      <th>...</th>\n",
       "      <th>Ecoli_AbR_n</th>\n",
       "      <th>R_factor</th>\n",
       "      <th>Sal_R</th>\n",
       "      <th>Ecoli_R</th>\n",
       "      <th>Entero_R</th>\n",
       "      <th>Commensal_R</th>\n",
       "      <th>Antibiotics</th>\n",
       "      <th>Penicillin</th>\n",
       "      <th>Ceftiofur</th>\n",
       "      <th>Tetracycline</th>\n",
       "    </tr>\n",
       "  </thead>\n",
       "  <tbody>\n",
       "    <tr>\n",
       "      <th>161</th>\n",
       "      <td>CA005</td>\n",
       "      <td>4500</td>\n",
       "      <td>2016-02-23</td>\n",
       "      <td>T1600396</td>\n",
       "      <td>Citrobacter spp.</td>\n",
       "      <td>NaN</td>\n",
       "      <td>Positive</td>\n",
       "      <td>NaN</td>\n",
       "      <td>NaN</td>\n",
       "      <td>NaN</td>\n",
       "      <td>...</td>\n",
       "      <td>0</td>\n",
       "      <td>1</td>\n",
       "      <td>0</td>\n",
       "      <td>0</td>\n",
       "      <td>1</td>\n",
       "      <td>1</td>\n",
       "      <td>Ceftiofur, Penicillin, Tetracycline</td>\n",
       "      <td>1</td>\n",
       "      <td>1</td>\n",
       "      <td>1</td>\n",
       "    </tr>\n",
       "  </tbody>\n",
       "</table>\n",
       "<p>1 rows × 210 columns</p>\n",
       "</div>"
      ],
      "text/plain": [
       "    Dairy ID  MT_Results Individual_CowID       Date Accession  \\\n",
       "161    CA005                         4500 2016-02-23  T1600396   \n",
       "\n",
       "                 Org1 Org2 F_Salmonella PCR_Result SampleID2 CollectionDate  \\\n",
       "161  Citrobacter spp.  NaN                Positive       NaN            NaN   \n",
       "\n",
       "     F_AMR_CowID  ... Ecoli_AbR_n R_factor Sal_R Ecoli_R Entero_R Commensal_R  \\\n",
       "161          NaN  ...           0        1     0       0        1           1   \n",
       "\n",
       "                             Antibiotics Penicillin Ceftiofur Tetracycline  \n",
       "161  Ceftiofur, Penicillin, Tetracycline          1         1            1  \n",
       "\n",
       "[1 rows x 210 columns]"
      ]
     },
     "execution_count": 25,
     "metadata": {},
     "output_type": "execute_result"
    }
   ],
   "source": [
    "data[data.CowID == 4500]#['F_Salmonella PCR_Result']"
   ]
  },
  {
   "cell_type": "markdown",
   "metadata": {},
   "source": [
    "cows in our database missing in Richard's\n",
    "4500, 31328"
   ]
  },
  {
   "cell_type": "markdown",
   "metadata": {},
   "source": [
    "cows in Richard's missing with ours\n",
    "7245, 8242, 8630"
   ]
  },
  {
   "cell_type": "markdown",
   "metadata": {},
   "source": [
    "1117 are two serotypes and two colonies"
   ]
  },
  {
   "cell_type": "code",
   "execution_count": 26,
   "metadata": {},
   "outputs": [
    {
     "data": {
      "text/plain": [
       "Dairy ID  CowID  F_Salmonella PCR_Result\n",
       "CA001     39987  Negative                   2\n",
       "CA007     204    Positive                   2\n",
       "          1117   Positive                   2\n",
       "          9769   Positive                   2\n",
       "Name: CowID, dtype: int64"
      ]
     },
     "execution_count": 26,
     "metadata": {},
     "output_type": "execute_result"
    }
   ],
   "source": [
    "qqq = data.groupby(['Dairy ID', 'CowID', 'F_Salmonella PCR_Result'])['CowID'].count()\n",
    "qqq[qqq>1]"
   ]
  },
  {
   "cell_type": "code",
   "execution_count": 27,
   "metadata": {},
   "outputs": [],
   "source": [
    "from statsmodels import stats as stats"
   ]
  },
  {
   "cell_type": "code",
   "execution_count": 28,
   "metadata": {},
   "outputs": [
    {
     "data": {
      "text/plain": [
       "(0.5579871174553372, 0.8420128825446627)"
      ]
     },
     "execution_count": 28,
     "metadata": {},
     "output_type": "execute_result"
    }
   ],
   "source": [
    "stats.proportion.proportion_confint(28, 40)"
   ]
  },
  {
   "cell_type": "code",
   "execution_count": 29,
   "metadata": {},
   "outputs": [
    {
     "data": {
      "text/plain": [
       "0.07245688373094719"
      ]
     },
     "execution_count": 29,
     "metadata": {},
     "output_type": "execute_result"
    }
   ],
   "source": [
    "stats.proportion.std_prop(28/40, 40)"
   ]
  },
  {
   "cell_type": "code",
   "execution_count": 30,
   "metadata": {},
   "outputs": [
    {
     "data": {
      "text/plain": [
       "(0.19693524850305308, 0.3072664321692158)"
      ]
     },
     "execution_count": 30,
     "metadata": {},
     "output_type": "execute_result"
    }
   ],
   "source": [
    "stats.proportion.proportion_confint(60, 238)"
   ]
  },
  {
   "cell_type": "code",
   "execution_count": 31,
   "metadata": {},
   "outputs": [
    {
     "data": {
      "text/plain": [
       "0.028146227312450894"
      ]
     },
     "execution_count": 31,
     "metadata": {},
     "output_type": "execute_result"
    }
   ],
   "source": [
    "stats.proportion.std_prop(60/238, 238)"
   ]
  },
  {
   "cell_type": "code",
   "execution_count": 32,
   "metadata": {},
   "outputs": [
    {
     "data": {
      "text/plain": [
       "0.25210084033613445"
      ]
     },
     "execution_count": 32,
     "metadata": {},
     "output_type": "execute_result"
    }
   ],
   "source": [
    "60/238"
   ]
  },
  {
   "cell_type": "code",
   "execution_count": 33,
   "metadata": {},
   "outputs": [
    {
     "data": {
      "text/plain": [
       "(0.08388320206337471, 0.16821763827275973)"
      ]
     },
     "execution_count": 33,
     "metadata": {},
     "output_type": "execute_result"
    }
   ],
   "source": [
    "stats.proportion.proportion_confint(30, 238)"
   ]
  },
  {
   "cell_type": "code",
   "execution_count": 34,
   "metadata": {},
   "outputs": [
    {
     "data": {
      "text/plain": [
       "0.021514282118091012"
      ]
     },
     "execution_count": 34,
     "metadata": {},
     "output_type": "execute_result"
    }
   ],
   "source": [
    "stats.proportion.std_prop(30/238, 238)"
   ]
  },
  {
   "cell_type": "code",
   "execution_count": 35,
   "metadata": {},
   "outputs": [
    {
     "data": {
      "text/plain": [
       "0.12605042016806722"
      ]
     },
     "execution_count": 35,
     "metadata": {},
     "output_type": "execute_result"
    }
   ],
   "source": [
    "30/238"
   ]
  },
  {
   "cell_type": "code",
   "execution_count": 36,
   "metadata": {},
   "outputs": [
    {
     "data": {
      "text/plain": [
       "(0.022511030043055352, 0.22748896995694465)"
      ]
     },
     "execution_count": 36,
     "metadata": {},
     "output_type": "execute_result"
    }
   ],
   "source": [
    "stats.proportion.proportion_confint(5, 40)"
   ]
  },
  {
   "cell_type": "code",
   "execution_count": 37,
   "metadata": {},
   "outputs": [
    {
     "data": {
      "text/plain": [
       "0.125"
      ]
     },
     "execution_count": 37,
     "metadata": {},
     "output_type": "execute_result"
    }
   ],
   "source": [
    "5/40"
   ]
  },
  {
   "cell_type": "code",
   "execution_count": 38,
   "metadata": {},
   "outputs": [
    {
     "data": {
      "text/plain": [
       "0.05229125165837972"
      ]
     },
     "execution_count": 38,
     "metadata": {},
     "output_type": "execute_result"
    }
   ],
   "source": [
    "stats.proportion.std_prop(5/40, 40)"
   ]
  },
  {
   "cell_type": "code",
   "execution_count": 39,
   "metadata": {},
   "outputs": [
    {
     "data": {
      "text/plain": [
       "0.07245688373094719"
      ]
     },
     "execution_count": 39,
     "metadata": {},
     "output_type": "execute_result"
    }
   ],
   "source": [
    "stats.proportion.std_prop(28/40, 40)"
   ]
  },
  {
   "cell_type": "code",
   "execution_count": 40,
   "metadata": {},
   "outputs": [
    {
     "data": {
      "text/plain": [
       "0.7"
      ]
     },
     "execution_count": 40,
     "metadata": {},
     "output_type": "execute_result"
    }
   ],
   "source": [
    "28/40"
   ]
  },
  {
   "cell_type": "code",
   "execution_count": 41,
   "metadata": {},
   "outputs": [
    {
     "data": {
      "text/plain": [
       "14    28\n",
       "Name: Cows, dtype: int64"
      ]
     },
     "execution_count": 41,
     "metadata": {},
     "output_type": "execute_result"
    }
   ],
   "source": [
    "df[(df.Herd =='CA007') & (df['PCR result'] =='Positive')]['Cows']"
   ]
  },
  {
   "cell_type": "code",
   "execution_count": 42,
   "metadata": {},
   "outputs": [
    {
     "data": {
      "text/plain": [
       "Dairy ID\n",
       "CA003     5\n",
       "CA004    21\n",
       "CA005     4\n",
       "CA007    28\n",
       "Name: CowID, dtype: int64"
      ]
     },
     "execution_count": 42,
     "metadata": {},
     "output_type": "execute_result"
    }
   ],
   "source": [
    "data.groupby([\"Dairy ID\", \"F_Salmonella PCR_Result\" ])['CowID'].nunique().xs('Positive', level = 1)"
   ]
  },
  {
   "cell_type": "code",
   "execution_count": 43,
   "metadata": {},
   "outputs": [
    {
     "data": {
      "text/plain": [
       "Dairy ID\n",
       "CA001    40\n",
       "CA002    40\n",
       "CA003    40\n",
       "CA004    40\n",
       "CA005    39\n",
       "CA007    40\n",
       "Name: CowID, dtype: int64"
      ]
     },
     "execution_count": 43,
     "metadata": {},
     "output_type": "execute_result"
    }
   ],
   "source": [
    "data.groupby([\"Dairy ID\"])['CowID'].nunique()"
   ]
  },
  {
   "cell_type": "code",
   "execution_count": null,
   "metadata": {},
   "outputs": [],
   "source": []
  },
  {
   "cell_type": "code",
   "execution_count": 44,
   "metadata": {},
   "outputs": [
    {
     "data": {
      "text/plain": [
       "(61, 210)"
      ]
     },
     "execution_count": 44,
     "metadata": {},
     "output_type": "execute_result"
    }
   ],
   "source": [
    "data[data['F_Salmonella PCR_Result'] =='Positive'].shape"
   ]
  },
  {
   "cell_type": "code",
   "execution_count": 45,
   "metadata": {},
   "outputs": [
    {
     "data": {
      "text/plain": [
       "(30, 210)"
      ]
     },
     "execution_count": 45,
     "metadata": {},
     "output_type": "execute_result"
    }
   ],
   "source": [
    "data[data['F_Salmonella PCR_Result'] =='Inconclusive'].shape"
   ]
  },
  {
   "cell_type": "code",
   "execution_count": 46,
   "metadata": {},
   "outputs": [
    {
     "data": {
      "text/html": [
       "<div>\n",
       "<style scoped>\n",
       "    .dataframe tbody tr th:only-of-type {\n",
       "        vertical-align: middle;\n",
       "    }\n",
       "\n",
       "    .dataframe tbody tr th {\n",
       "        vertical-align: top;\n",
       "    }\n",
       "\n",
       "    .dataframe thead th {\n",
       "        text-align: right;\n",
       "    }\n",
       "</style>\n",
       "<table border=\"1\" class=\"dataframe\">\n",
       "  <thead>\n",
       "    <tr style=\"text-align: right;\">\n",
       "      <th></th>\n",
       "      <th>Dairy ID</th>\n",
       "      <th>MT_Results Individual_CowID</th>\n",
       "      <th>Date</th>\n",
       "      <th>Accession</th>\n",
       "      <th>Org1</th>\n",
       "      <th>Org2</th>\n",
       "      <th>F_Salmonella PCR_Result</th>\n",
       "      <th>SampleID2</th>\n",
       "      <th>CollectionDate</th>\n",
       "      <th>F_AMR_CowID</th>\n",
       "      <th>...</th>\n",
       "      <th>Ecoli_AbR_n</th>\n",
       "      <th>R_factor</th>\n",
       "      <th>Sal_R</th>\n",
       "      <th>Ecoli_R</th>\n",
       "      <th>Entero_R</th>\n",
       "      <th>Commensal_R</th>\n",
       "      <th>Antibiotics</th>\n",
       "      <th>Penicillin</th>\n",
       "      <th>Ceftiofur</th>\n",
       "      <th>Tetracycline</th>\n",
       "    </tr>\n",
       "  </thead>\n",
       "  <tbody>\n",
       "    <tr>\n",
       "      <th>0</th>\n",
       "      <td>CA005</td>\n",
       "      <td>4672</td>\n",
       "      <td>2015-08-25</td>\n",
       "      <td>T1502049</td>\n",
       "      <td>NaN</td>\n",
       "      <td>NaN</td>\n",
       "      <td>Negative</td>\n",
       "      <td>NaN</td>\n",
       "      <td>NaN</td>\n",
       "      <td>NaN</td>\n",
       "      <td>...</td>\n",
       "      <td>0</td>\n",
       "      <td>1</td>\n",
       "      <td>0</td>\n",
       "      <td>0</td>\n",
       "      <td>1</td>\n",
       "      <td>1</td>\n",
       "      <td>Ceftiofur, Penicillin, Tetracycline</td>\n",
       "      <td>1</td>\n",
       "      <td>1</td>\n",
       "      <td>1</td>\n",
       "    </tr>\n",
       "    <tr>\n",
       "      <th>1</th>\n",
       "      <td>CA005</td>\n",
       "      <td>1099</td>\n",
       "      <td>2015-08-25</td>\n",
       "      <td>T1502049</td>\n",
       "      <td>NaN</td>\n",
       "      <td>NaN</td>\n",
       "      <td>Negative</td>\n",
       "      <td>NaN</td>\n",
       "      <td>NaN</td>\n",
       "      <td>NaN</td>\n",
       "      <td>...</td>\n",
       "      <td>0</td>\n",
       "      <td>2</td>\n",
       "      <td>0</td>\n",
       "      <td>0</td>\n",
       "      <td>2</td>\n",
       "      <td>2</td>\n",
       "      <td>Ceftiofur, Penicillin, Tetracycline</td>\n",
       "      <td>1</td>\n",
       "      <td>1</td>\n",
       "      <td>1</td>\n",
       "    </tr>\n",
       "    <tr>\n",
       "      <th>2</th>\n",
       "      <td>CA005</td>\n",
       "      <td>3786</td>\n",
       "      <td>2015-08-25</td>\n",
       "      <td>T1502049</td>\n",
       "      <td>NaN</td>\n",
       "      <td>NaN</td>\n",
       "      <td>Negative</td>\n",
       "      <td>NaN</td>\n",
       "      <td>NaN</td>\n",
       "      <td>NaN</td>\n",
       "      <td>...</td>\n",
       "      <td>0</td>\n",
       "      <td>2</td>\n",
       "      <td>0</td>\n",
       "      <td>0</td>\n",
       "      <td>2</td>\n",
       "      <td>2</td>\n",
       "      <td>Ceftiofur, Penicillin, Tetracycline</td>\n",
       "      <td>1</td>\n",
       "      <td>1</td>\n",
       "      <td>1</td>\n",
       "    </tr>\n",
       "    <tr>\n",
       "      <th>3</th>\n",
       "      <td>CA005</td>\n",
       "      <td>3596</td>\n",
       "      <td>2015-08-25</td>\n",
       "      <td>T1502049</td>\n",
       "      <td>NaN</td>\n",
       "      <td>NaN</td>\n",
       "      <td>Negative</td>\n",
       "      <td>NaN</td>\n",
       "      <td>NaN</td>\n",
       "      <td>NaN</td>\n",
       "      <td>...</td>\n",
       "      <td>0</td>\n",
       "      <td>2</td>\n",
       "      <td>0</td>\n",
       "      <td>0</td>\n",
       "      <td>2</td>\n",
       "      <td>2</td>\n",
       "      <td>Ceftiofur, Penicillin, Tetracycline</td>\n",
       "      <td>1</td>\n",
       "      <td>1</td>\n",
       "      <td>1</td>\n",
       "    </tr>\n",
       "    <tr>\n",
       "      <th>4</th>\n",
       "      <td>CA005</td>\n",
       "      <td>4880</td>\n",
       "      <td>2015-08-25</td>\n",
       "      <td>T1502049</td>\n",
       "      <td>NaN</td>\n",
       "      <td>NaN</td>\n",
       "      <td>Negative</td>\n",
       "      <td>NaN</td>\n",
       "      <td>NaN</td>\n",
       "      <td>NaN</td>\n",
       "      <td>...</td>\n",
       "      <td>0</td>\n",
       "      <td>2</td>\n",
       "      <td>0</td>\n",
       "      <td>0</td>\n",
       "      <td>2</td>\n",
       "      <td>2</td>\n",
       "      <td>Ceftiofur, Penicillin, Tetracycline</td>\n",
       "      <td>1</td>\n",
       "      <td>1</td>\n",
       "      <td>1</td>\n",
       "    </tr>\n",
       "  </tbody>\n",
       "</table>\n",
       "<p>5 rows × 210 columns</p>\n",
       "</div>"
      ],
      "text/plain": [
       "  Dairy ID  MT_Results Individual_CowID       Date Accession Org1 Org2  \\\n",
       "0    CA005                         4672 2015-08-25  T1502049  NaN  NaN   \n",
       "1    CA005                         1099 2015-08-25  T1502049  NaN  NaN   \n",
       "2    CA005                         3786 2015-08-25  T1502049  NaN  NaN   \n",
       "3    CA005                         3596 2015-08-25  T1502049  NaN  NaN   \n",
       "4    CA005                         4880 2015-08-25  T1502049  NaN  NaN   \n",
       "\n",
       "  F_Salmonella PCR_Result SampleID2 CollectionDate  F_AMR_CowID  ...  \\\n",
       "0                Negative       NaN            NaN          NaN  ...   \n",
       "1                Negative       NaN            NaN          NaN  ...   \n",
       "2                Negative       NaN            NaN          NaN  ...   \n",
       "3                Negative       NaN            NaN          NaN  ...   \n",
       "4                Negative       NaN            NaN          NaN  ...   \n",
       "\n",
       "  Ecoli_AbR_n R_factor Sal_R Ecoli_R Entero_R Commensal_R  \\\n",
       "0           0        1     0       0        1           1   \n",
       "1           0        2     0       0        2           2   \n",
       "2           0        2     0       0        2           2   \n",
       "3           0        2     0       0        2           2   \n",
       "4           0        2     0       0        2           2   \n",
       "\n",
       "                           Antibiotics Penicillin Ceftiofur Tetracycline  \n",
       "0  Ceftiofur, Penicillin, Tetracycline          1         1            1  \n",
       "1  Ceftiofur, Penicillin, Tetracycline          1         1            1  \n",
       "2  Ceftiofur, Penicillin, Tetracycline          1         1            1  \n",
       "3  Ceftiofur, Penicillin, Tetracycline          1         1            1  \n",
       "4  Ceftiofur, Penicillin, Tetracycline          1         1            1  \n",
       "\n",
       "[5 rows x 210 columns]"
      ]
     },
     "execution_count": 46,
     "metadata": {},
     "output_type": "execute_result"
    }
   ],
   "source": [
    "data.head()"
   ]
  },
  {
   "cell_type": "code",
   "execution_count": 47,
   "metadata": {},
   "outputs": [
    {
     "data": {
      "text/html": [
       "<div>\n",
       "<style scoped>\n",
       "    .dataframe tbody tr th:only-of-type {\n",
       "        vertical-align: middle;\n",
       "    }\n",
       "\n",
       "    .dataframe tbody tr th {\n",
       "        vertical-align: top;\n",
       "    }\n",
       "\n",
       "    .dataframe thead th {\n",
       "        text-align: right;\n",
       "    }\n",
       "</style>\n",
       "<table border=\"1\" class=\"dataframe\">\n",
       "  <thead>\n",
       "    <tr style=\"text-align: right;\">\n",
       "      <th></th>\n",
       "      <th>Dairy ID</th>\n",
       "      <th>R_factor</th>\n",
       "      <th>counts</th>\n",
       "      <th>Total</th>\n",
       "      <th>Prop</th>\n",
       "      <th>lci</th>\n",
       "      <th>uci</th>\n",
       "      <th>std_err</th>\n",
       "    </tr>\n",
       "  </thead>\n",
       "  <tbody>\n",
       "    <tr>\n",
       "      <th>0</th>\n",
       "      <td>CA001</td>\n",
       "      <td>0</td>\n",
       "      <td>19</td>\n",
       "      <td>40</td>\n",
       "      <td>0.475000</td>\n",
       "      <td>0.320245</td>\n",
       "      <td>0.629755</td>\n",
       "      <td>0.078958</td>\n",
       "    </tr>\n",
       "    <tr>\n",
       "      <th>1</th>\n",
       "      <td>CA001</td>\n",
       "      <td>1</td>\n",
       "      <td>15</td>\n",
       "      <td>40</td>\n",
       "      <td>0.375000</td>\n",
       "      <td>0.224972</td>\n",
       "      <td>0.525028</td>\n",
       "      <td>0.076547</td>\n",
       "    </tr>\n",
       "    <tr>\n",
       "      <th>2</th>\n",
       "      <td>CA001</td>\n",
       "      <td>2</td>\n",
       "      <td>6</td>\n",
       "      <td>40</td>\n",
       "      <td>0.150000</td>\n",
       "      <td>0.039344</td>\n",
       "      <td>0.260656</td>\n",
       "      <td>0.056458</td>\n",
       "    </tr>\n",
       "    <tr>\n",
       "      <th>3</th>\n",
       "      <td>CA002</td>\n",
       "      <td>0</td>\n",
       "      <td>4</td>\n",
       "      <td>40</td>\n",
       "      <td>0.100000</td>\n",
       "      <td>0.007031</td>\n",
       "      <td>0.192969</td>\n",
       "      <td>0.047434</td>\n",
       "    </tr>\n",
       "    <tr>\n",
       "      <th>4</th>\n",
       "      <td>CA002</td>\n",
       "      <td>1</td>\n",
       "      <td>15</td>\n",
       "      <td>40</td>\n",
       "      <td>0.375000</td>\n",
       "      <td>0.224972</td>\n",
       "      <td>0.525028</td>\n",
       "      <td>0.076547</td>\n",
       "    </tr>\n",
       "    <tr>\n",
       "      <th>5</th>\n",
       "      <td>CA002</td>\n",
       "      <td>2</td>\n",
       "      <td>21</td>\n",
       "      <td>40</td>\n",
       "      <td>0.525000</td>\n",
       "      <td>0.370245</td>\n",
       "      <td>0.679755</td>\n",
       "      <td>0.078958</td>\n",
       "    </tr>\n",
       "    <tr>\n",
       "      <th>6</th>\n",
       "      <td>CA003</td>\n",
       "      <td>0</td>\n",
       "      <td>19</td>\n",
       "      <td>40</td>\n",
       "      <td>0.475000</td>\n",
       "      <td>0.320245</td>\n",
       "      <td>0.629755</td>\n",
       "      <td>0.078958</td>\n",
       "    </tr>\n",
       "    <tr>\n",
       "      <th>7</th>\n",
       "      <td>CA003</td>\n",
       "      <td>1</td>\n",
       "      <td>17</td>\n",
       "      <td>40</td>\n",
       "      <td>0.425000</td>\n",
       "      <td>0.271804</td>\n",
       "      <td>0.578196</td>\n",
       "      <td>0.078162</td>\n",
       "    </tr>\n",
       "    <tr>\n",
       "      <th>8</th>\n",
       "      <td>CA003</td>\n",
       "      <td>2</td>\n",
       "      <td>4</td>\n",
       "      <td>40</td>\n",
       "      <td>0.100000</td>\n",
       "      <td>0.007031</td>\n",
       "      <td>0.192969</td>\n",
       "      <td>0.047434</td>\n",
       "    </tr>\n",
       "    <tr>\n",
       "      <th>9</th>\n",
       "      <td>CA004</td>\n",
       "      <td>0</td>\n",
       "      <td>3</td>\n",
       "      <td>40</td>\n",
       "      <td>0.075000</td>\n",
       "      <td>0.000000</td>\n",
       "      <td>0.156624</td>\n",
       "      <td>0.041646</td>\n",
       "    </tr>\n",
       "    <tr>\n",
       "      <th>10</th>\n",
       "      <td>CA004</td>\n",
       "      <td>1</td>\n",
       "      <td>20</td>\n",
       "      <td>40</td>\n",
       "      <td>0.500000</td>\n",
       "      <td>0.345051</td>\n",
       "      <td>0.654949</td>\n",
       "      <td>0.079057</td>\n",
       "    </tr>\n",
       "    <tr>\n",
       "      <th>11</th>\n",
       "      <td>CA004</td>\n",
       "      <td>2</td>\n",
       "      <td>17</td>\n",
       "      <td>40</td>\n",
       "      <td>0.425000</td>\n",
       "      <td>0.271804</td>\n",
       "      <td>0.578196</td>\n",
       "      <td>0.078162</td>\n",
       "    </tr>\n",
       "    <tr>\n",
       "      <th>12</th>\n",
       "      <td>CA005</td>\n",
       "      <td>0</td>\n",
       "      <td>6</td>\n",
       "      <td>39</td>\n",
       "      <td>0.153846</td>\n",
       "      <td>0.040610</td>\n",
       "      <td>0.267082</td>\n",
       "      <td>0.057774</td>\n",
       "    </tr>\n",
       "    <tr>\n",
       "      <th>13</th>\n",
       "      <td>CA005</td>\n",
       "      <td>1</td>\n",
       "      <td>18</td>\n",
       "      <td>39</td>\n",
       "      <td>0.461538</td>\n",
       "      <td>0.305081</td>\n",
       "      <td>0.617996</td>\n",
       "      <td>0.079827</td>\n",
       "    </tr>\n",
       "    <tr>\n",
       "      <th>14</th>\n",
       "      <td>CA005</td>\n",
       "      <td>2</td>\n",
       "      <td>15</td>\n",
       "      <td>39</td>\n",
       "      <td>0.384615</td>\n",
       "      <td>0.231928</td>\n",
       "      <td>0.537303</td>\n",
       "      <td>0.077903</td>\n",
       "    </tr>\n",
       "    <tr>\n",
       "      <th>15</th>\n",
       "      <td>CA007</td>\n",
       "      <td>0</td>\n",
       "      <td>10</td>\n",
       "      <td>40</td>\n",
       "      <td>0.250000</td>\n",
       "      <td>0.115810</td>\n",
       "      <td>0.384190</td>\n",
       "      <td>0.068465</td>\n",
       "    </tr>\n",
       "    <tr>\n",
       "      <th>16</th>\n",
       "      <td>CA007</td>\n",
       "      <td>1</td>\n",
       "      <td>20</td>\n",
       "      <td>40</td>\n",
       "      <td>0.500000</td>\n",
       "      <td>0.345051</td>\n",
       "      <td>0.654949</td>\n",
       "      <td>0.079057</td>\n",
       "    </tr>\n",
       "    <tr>\n",
       "      <th>17</th>\n",
       "      <td>CA007</td>\n",
       "      <td>2</td>\n",
       "      <td>10</td>\n",
       "      <td>40</td>\n",
       "      <td>0.250000</td>\n",
       "      <td>0.115810</td>\n",
       "      <td>0.384190</td>\n",
       "      <td>0.068465</td>\n",
       "    </tr>\n",
       "  </tbody>\n",
       "</table>\n",
       "</div>"
      ],
      "text/plain": [
       "   Dairy ID R_factor  counts  Total      Prop       lci       uci   std_err\n",
       "0     CA001        0      19     40  0.475000  0.320245  0.629755  0.078958\n",
       "1     CA001        1      15     40  0.375000  0.224972  0.525028  0.076547\n",
       "2     CA001        2       6     40  0.150000  0.039344  0.260656  0.056458\n",
       "3     CA002        0       4     40  0.100000  0.007031  0.192969  0.047434\n",
       "4     CA002        1      15     40  0.375000  0.224972  0.525028  0.076547\n",
       "5     CA002        2      21     40  0.525000  0.370245  0.679755  0.078958\n",
       "6     CA003        0      19     40  0.475000  0.320245  0.629755  0.078958\n",
       "7     CA003        1      17     40  0.425000  0.271804  0.578196  0.078162\n",
       "8     CA003        2       4     40  0.100000  0.007031  0.192969  0.047434\n",
       "9     CA004        0       3     40  0.075000  0.000000  0.156624  0.041646\n",
       "10    CA004        1      20     40  0.500000  0.345051  0.654949  0.079057\n",
       "11    CA004        2      17     40  0.425000  0.271804  0.578196  0.078162\n",
       "12    CA005        0       6     39  0.153846  0.040610  0.267082  0.057774\n",
       "13    CA005        1      18     39  0.461538  0.305081  0.617996  0.079827\n",
       "14    CA005        2      15     39  0.384615  0.231928  0.537303  0.077903\n",
       "15    CA007        0      10     40  0.250000  0.115810  0.384190  0.068465\n",
       "16    CA007        1      20     40  0.500000  0.345051  0.654949  0.079057\n",
       "17    CA007        2      10     40  0.250000  0.115810  0.384190  0.068465"
      ]
     },
     "execution_count": 47,
     "metadata": {},
     "output_type": "execute_result"
    }
   ],
   "source": [
    "herd_df = data.groupby(['Dairy ID', 'R_factor'])['MT_Results Individual_CowID'].nunique().reset_index()\n",
    "herd_df_total = herd_df.groupby('Dairy ID')['MT_Results Individual_CowID'].sum()\n",
    "herd_df = pd.merge(herd_df, herd_df_total, on='Dairy ID', how='left')\n",
    "herd_df.columns = ['Dairy ID', 'R_factor', 'counts', 'Total']\n",
    "herd_df['Prop'] = herd_df.counts/herd_df.Total\n",
    "def return_CI(c):\n",
    "    lci, uci = stats.proportion.proportion_confint(c.counts, c.Total)\n",
    "    std_err = stats.proportion.std_prop(c.counts/c.Total, c.Total)\n",
    "    return lci, uci, std_err\n",
    "herd_df[['lci', 'uci', 'std_err']] = herd_df.apply(return_CI, axis=1, result_type=\"expand\")\n",
    "herd_df"
   ]
  },
  {
   "cell_type": "code",
   "execution_count": 48,
   "metadata": {},
   "outputs": [
    {
     "data": {
      "text/html": [
       "<div>\n",
       "<style scoped>\n",
       "    .dataframe tbody tr th:only-of-type {\n",
       "        vertical-align: middle;\n",
       "    }\n",
       "\n",
       "    .dataframe tbody tr th {\n",
       "        vertical-align: top;\n",
       "    }\n",
       "\n",
       "    .dataframe thead th {\n",
       "        text-align: right;\n",
       "    }\n",
       "</style>\n",
       "<table border=\"1\" class=\"dataframe\">\n",
       "  <thead>\n",
       "    <tr style=\"text-align: right;\">\n",
       "      <th></th>\n",
       "      <th>Dairy ID</th>\n",
       "      <th>R_factor</th>\n",
       "      <th>counts</th>\n",
       "      <th>Total</th>\n",
       "      <th>Prop</th>\n",
       "      <th>lci</th>\n",
       "      <th>uci</th>\n",
       "      <th>std_err</th>\n",
       "    </tr>\n",
       "  </thead>\n",
       "  <tbody>\n",
       "    <tr>\n",
       "      <th>2</th>\n",
       "      <td>CA001</td>\n",
       "      <td>2</td>\n",
       "      <td>6</td>\n",
       "      <td>40</td>\n",
       "      <td>0.150000</td>\n",
       "      <td>0.039344</td>\n",
       "      <td>0.260656</td>\n",
       "      <td>0.056458</td>\n",
       "    </tr>\n",
       "    <tr>\n",
       "      <th>5</th>\n",
       "      <td>CA002</td>\n",
       "      <td>2</td>\n",
       "      <td>21</td>\n",
       "      <td>40</td>\n",
       "      <td>0.525000</td>\n",
       "      <td>0.370245</td>\n",
       "      <td>0.679755</td>\n",
       "      <td>0.078958</td>\n",
       "    </tr>\n",
       "    <tr>\n",
       "      <th>8</th>\n",
       "      <td>CA003</td>\n",
       "      <td>2</td>\n",
       "      <td>4</td>\n",
       "      <td>40</td>\n",
       "      <td>0.100000</td>\n",
       "      <td>0.007031</td>\n",
       "      <td>0.192969</td>\n",
       "      <td>0.047434</td>\n",
       "    </tr>\n",
       "    <tr>\n",
       "      <th>11</th>\n",
       "      <td>CA004</td>\n",
       "      <td>2</td>\n",
       "      <td>17</td>\n",
       "      <td>40</td>\n",
       "      <td>0.425000</td>\n",
       "      <td>0.271804</td>\n",
       "      <td>0.578196</td>\n",
       "      <td>0.078162</td>\n",
       "    </tr>\n",
       "    <tr>\n",
       "      <th>14</th>\n",
       "      <td>CA005</td>\n",
       "      <td>2</td>\n",
       "      <td>15</td>\n",
       "      <td>39</td>\n",
       "      <td>0.384615</td>\n",
       "      <td>0.231928</td>\n",
       "      <td>0.537303</td>\n",
       "      <td>0.077903</td>\n",
       "    </tr>\n",
       "    <tr>\n",
       "      <th>17</th>\n",
       "      <td>CA007</td>\n",
       "      <td>2</td>\n",
       "      <td>10</td>\n",
       "      <td>40</td>\n",
       "      <td>0.250000</td>\n",
       "      <td>0.115810</td>\n",
       "      <td>0.384190</td>\n",
       "      <td>0.068465</td>\n",
       "    </tr>\n",
       "  </tbody>\n",
       "</table>\n",
       "</div>"
      ],
      "text/plain": [
       "   Dairy ID R_factor  counts  Total      Prop       lci       uci   std_err\n",
       "2     CA001        2       6     40  0.150000  0.039344  0.260656  0.056458\n",
       "5     CA002        2      21     40  0.525000  0.370245  0.679755  0.078958\n",
       "8     CA003        2       4     40  0.100000  0.007031  0.192969  0.047434\n",
       "11    CA004        2      17     40  0.425000  0.271804  0.578196  0.078162\n",
       "14    CA005        2      15     39  0.384615  0.231928  0.537303  0.077903\n",
       "17    CA007        2      10     40  0.250000  0.115810  0.384190  0.068465"
      ]
     },
     "execution_count": 48,
     "metadata": {},
     "output_type": "execute_result"
    }
   ],
   "source": [
    "herd_df[herd_df.R_factor == 2]"
   ]
  },
  {
   "cell_type": "code",
   "execution_count": 49,
   "metadata": {},
   "outputs": [
    {
     "data": {
      "text/html": [
       "<div>\n",
       "<style scoped>\n",
       "    .dataframe tbody tr th:only-of-type {\n",
       "        vertical-align: middle;\n",
       "    }\n",
       "\n",
       "    .dataframe tbody tr th {\n",
       "        vertical-align: top;\n",
       "    }\n",
       "\n",
       "    .dataframe thead th {\n",
       "        text-align: right;\n",
       "    }\n",
       "</style>\n",
       "<table border=\"1\" class=\"dataframe\">\n",
       "  <thead>\n",
       "    <tr style=\"text-align: right;\">\n",
       "      <th></th>\n",
       "      <th>Dairy ID</th>\n",
       "      <th>R_factor</th>\n",
       "      <th>counts</th>\n",
       "      <th>Total</th>\n",
       "      <th>Prop</th>\n",
       "      <th>lci</th>\n",
       "      <th>uci</th>\n",
       "      <th>std_err</th>\n",
       "    </tr>\n",
       "  </thead>\n",
       "  <tbody>\n",
       "    <tr>\n",
       "      <th>1</th>\n",
       "      <td>CA001</td>\n",
       "      <td>1</td>\n",
       "      <td>15</td>\n",
       "      <td>40</td>\n",
       "      <td>0.375000</td>\n",
       "      <td>0.224972</td>\n",
       "      <td>0.525028</td>\n",
       "      <td>0.076547</td>\n",
       "    </tr>\n",
       "    <tr>\n",
       "      <th>4</th>\n",
       "      <td>CA002</td>\n",
       "      <td>1</td>\n",
       "      <td>15</td>\n",
       "      <td>40</td>\n",
       "      <td>0.375000</td>\n",
       "      <td>0.224972</td>\n",
       "      <td>0.525028</td>\n",
       "      <td>0.076547</td>\n",
       "    </tr>\n",
       "    <tr>\n",
       "      <th>7</th>\n",
       "      <td>CA003</td>\n",
       "      <td>1</td>\n",
       "      <td>17</td>\n",
       "      <td>40</td>\n",
       "      <td>0.425000</td>\n",
       "      <td>0.271804</td>\n",
       "      <td>0.578196</td>\n",
       "      <td>0.078162</td>\n",
       "    </tr>\n",
       "    <tr>\n",
       "      <th>10</th>\n",
       "      <td>CA004</td>\n",
       "      <td>1</td>\n",
       "      <td>20</td>\n",
       "      <td>40</td>\n",
       "      <td>0.500000</td>\n",
       "      <td>0.345051</td>\n",
       "      <td>0.654949</td>\n",
       "      <td>0.079057</td>\n",
       "    </tr>\n",
       "    <tr>\n",
       "      <th>13</th>\n",
       "      <td>CA005</td>\n",
       "      <td>1</td>\n",
       "      <td>18</td>\n",
       "      <td>39</td>\n",
       "      <td>0.461538</td>\n",
       "      <td>0.305081</td>\n",
       "      <td>0.617996</td>\n",
       "      <td>0.079827</td>\n",
       "    </tr>\n",
       "    <tr>\n",
       "      <th>16</th>\n",
       "      <td>CA007</td>\n",
       "      <td>1</td>\n",
       "      <td>20</td>\n",
       "      <td>40</td>\n",
       "      <td>0.500000</td>\n",
       "      <td>0.345051</td>\n",
       "      <td>0.654949</td>\n",
       "      <td>0.079057</td>\n",
       "    </tr>\n",
       "  </tbody>\n",
       "</table>\n",
       "</div>"
      ],
      "text/plain": [
       "   Dairy ID R_factor  counts  Total      Prop       lci       uci   std_err\n",
       "1     CA001        1      15     40  0.375000  0.224972  0.525028  0.076547\n",
       "4     CA002        1      15     40  0.375000  0.224972  0.525028  0.076547\n",
       "7     CA003        1      17     40  0.425000  0.271804  0.578196  0.078162\n",
       "10    CA004        1      20     40  0.500000  0.345051  0.654949  0.079057\n",
       "13    CA005        1      18     39  0.461538  0.305081  0.617996  0.079827\n",
       "16    CA007        1      20     40  0.500000  0.345051  0.654949  0.079057"
      ]
     },
     "execution_count": 49,
     "metadata": {},
     "output_type": "execute_result"
    }
   ],
   "source": [
    "herd_df[herd_df.R_factor == 1]"
   ]
  },
  {
   "cell_type": "code",
   "execution_count": 50,
   "metadata": {},
   "outputs": [
    {
     "data": {
      "text/html": [
       "<div>\n",
       "<style scoped>\n",
       "    .dataframe tbody tr th:only-of-type {\n",
       "        vertical-align: middle;\n",
       "    }\n",
       "\n",
       "    .dataframe tbody tr th {\n",
       "        vertical-align: top;\n",
       "    }\n",
       "\n",
       "    .dataframe thead th {\n",
       "        text-align: right;\n",
       "    }\n",
       "</style>\n",
       "<table border=\"1\" class=\"dataframe\">\n",
       "  <thead>\n",
       "    <tr style=\"text-align: right;\">\n",
       "      <th></th>\n",
       "      <th>Sal_PCR</th>\n",
       "      <th>R_factor</th>\n",
       "      <th>counts</th>\n",
       "      <th>Total</th>\n",
       "      <th>Prop</th>\n",
       "      <th>lci</th>\n",
       "      <th>uci</th>\n",
       "      <th>std_err</th>\n",
       "    </tr>\n",
       "  </thead>\n",
       "  <tbody>\n",
       "    <tr>\n",
       "      <th>0</th>\n",
       "      <td>Inconclusive</td>\n",
       "      <td>0</td>\n",
       "      <td>10</td>\n",
       "      <td>30</td>\n",
       "      <td>0.333333</td>\n",
       "      <td>0.164646</td>\n",
       "      <td>0.502020</td>\n",
       "      <td>0.086066</td>\n",
       "    </tr>\n",
       "    <tr>\n",
       "      <th>1</th>\n",
       "      <td>Inconclusive</td>\n",
       "      <td>1</td>\n",
       "      <td>13</td>\n",
       "      <td>30</td>\n",
       "      <td>0.433333</td>\n",
       "      <td>0.256011</td>\n",
       "      <td>0.610655</td>\n",
       "      <td>0.090472</td>\n",
       "    </tr>\n",
       "    <tr>\n",
       "      <th>2</th>\n",
       "      <td>Inconclusive</td>\n",
       "      <td>2</td>\n",
       "      <td>7</td>\n",
       "      <td>30</td>\n",
       "      <td>0.233333</td>\n",
       "      <td>0.081984</td>\n",
       "      <td>0.384682</td>\n",
       "      <td>0.077220</td>\n",
       "    </tr>\n",
       "    <tr>\n",
       "      <th>3</th>\n",
       "      <td>Negative</td>\n",
       "      <td>0</td>\n",
       "      <td>45</td>\n",
       "      <td>151</td>\n",
       "      <td>0.298013</td>\n",
       "      <td>0.225060</td>\n",
       "      <td>0.370966</td>\n",
       "      <td>0.037221</td>\n",
       "    </tr>\n",
       "    <tr>\n",
       "      <th>4</th>\n",
       "      <td>Negative</td>\n",
       "      <td>1</td>\n",
       "      <td>60</td>\n",
       "      <td>151</td>\n",
       "      <td>0.397351</td>\n",
       "      <td>0.319300</td>\n",
       "      <td>0.475402</td>\n",
       "      <td>0.039823</td>\n",
       "    </tr>\n",
       "    <tr>\n",
       "      <th>5</th>\n",
       "      <td>Negative</td>\n",
       "      <td>2</td>\n",
       "      <td>46</td>\n",
       "      <td>151</td>\n",
       "      <td>0.304636</td>\n",
       "      <td>0.231226</td>\n",
       "      <td>0.378046</td>\n",
       "      <td>0.037455</td>\n",
       "    </tr>\n",
       "    <tr>\n",
       "      <th>6</th>\n",
       "      <td>Positive</td>\n",
       "      <td>0</td>\n",
       "      <td>6</td>\n",
       "      <td>58</td>\n",
       "      <td>0.103448</td>\n",
       "      <td>0.025072</td>\n",
       "      <td>0.181824</td>\n",
       "      <td>0.039989</td>\n",
       "    </tr>\n",
       "    <tr>\n",
       "      <th>7</th>\n",
       "      <td>Positive</td>\n",
       "      <td>1</td>\n",
       "      <td>32</td>\n",
       "      <td>58</td>\n",
       "      <td>0.551724</td>\n",
       "      <td>0.423737</td>\n",
       "      <td>0.679712</td>\n",
       "      <td>0.065301</td>\n",
       "    </tr>\n",
       "    <tr>\n",
       "      <th>8</th>\n",
       "      <td>Positive</td>\n",
       "      <td>2</td>\n",
       "      <td>20</td>\n",
       "      <td>58</td>\n",
       "      <td>0.344828</td>\n",
       "      <td>0.222503</td>\n",
       "      <td>0.467152</td>\n",
       "      <td>0.062412</td>\n",
       "    </tr>\n",
       "  </tbody>\n",
       "</table>\n",
       "</div>"
      ],
      "text/plain": [
       "        Sal_PCR R_factor  counts  Total      Prop       lci       uci  \\\n",
       "0  Inconclusive        0      10     30  0.333333  0.164646  0.502020   \n",
       "1  Inconclusive        1      13     30  0.433333  0.256011  0.610655   \n",
       "2  Inconclusive        2       7     30  0.233333  0.081984  0.384682   \n",
       "3      Negative        0      45    151  0.298013  0.225060  0.370966   \n",
       "4      Negative        1      60    151  0.397351  0.319300  0.475402   \n",
       "5      Negative        2      46    151  0.304636  0.231226  0.378046   \n",
       "6      Positive        0       6     58  0.103448  0.025072  0.181824   \n",
       "7      Positive        1      32     58  0.551724  0.423737  0.679712   \n",
       "8      Positive        2      20     58  0.344828  0.222503  0.467152   \n",
       "\n",
       "    std_err  \n",
       "0  0.086066  \n",
       "1  0.090472  \n",
       "2  0.077220  \n",
       "3  0.037221  \n",
       "4  0.039823  \n",
       "5  0.037455  \n",
       "6  0.039989  \n",
       "7  0.065301  \n",
       "8  0.062412  "
      ]
     },
     "execution_count": 50,
     "metadata": {},
     "output_type": "execute_result"
    }
   ],
   "source": [
    "sal_df = data.groupby(['F_Salmonella PCR_Result', 'R_factor'])['MT_Results Individual_CowID'].nunique().reset_index()\n",
    "sal_df_total = data.groupby('F_Salmonella PCR_Result')['MT_Results Individual_CowID'].nunique()\n",
    "sal_df = pd.merge(sal_df, sal_df_total, on='F_Salmonella PCR_Result', how='left')\n",
    "sal_df.columns = ['Sal_PCR', 'R_factor', 'counts', 'Total']\n",
    "sal_df['Prop'] = sal_df.counts/sal_df.Total\n",
    "def return_CI(c):\n",
    "    lci, uci = stats.proportion.proportion_confint(c.counts, c.Total)\n",
    "    std_err = stats.proportion.std_prop(c.counts/c.Total, c.Total)\n",
    "    return lci, uci, std_err\n",
    "sal_df[['lci', 'uci', 'std_err']] = sal_df.apply(return_CI, axis=1, result_type=\"expand\")\n",
    "sal_df"
   ]
  },
  {
   "cell_type": "code",
   "execution_count": 51,
   "metadata": {},
   "outputs": [],
   "source": [
    "#import altair as alt\n",
    "#from vega_datasets import data as datasets\n",
    "\n",
    "#alt.renderers.enable('notebook')"
   ]
  },
  {
   "cell_type": "code",
   "execution_count": 52,
   "metadata": {},
   "outputs": [],
   "source": [
    "data['Resitance'] = data['R_factor']\n",
    "data['Resitance'].replace(0, 'not resistant', inplace = True)\n",
    "data['Resitance'].replace(1, 'single drug resistance', inplace = True)\n",
    "data['Resitance'].replace(2, 'multi drug resistance', inplace = True)"
   ]
  },
  {
   "cell_type": "raw",
   "metadata": {
    "scrolled": false
   },
   "source": [
    "chart1 = alt.Chart(df).mark_bar().encode(\n",
    "    x='sum(Cows):Q',\n",
    "    y='PCR result:O',\n",
    "    color='PCR result:N',\n",
    "    row='Herd:N'\n",
    ")\n",
    "\n",
    "chart2 = alt.Chart(data).mark_bar(font = \"Times New Roman\").encode(\n",
    "    x='count(MT_Results Individual_CowID):Q',\n",
    "    y='Resitance:O',\n",
    "    color='Resitance:N',\n",
    "    row='Dairy ID:N'\n",
    ")\n",
    "#.configure_axis(\n",
    "#    labelFontSize=14,\n",
    "#    titleFontSize=14, \n",
    "#    labelFont = 'Times New Roman'\n",
    "#)\n",
    "\n",
    "chart1 | chart2"
   ]
  },
  {
   "cell_type": "markdown",
   "metadata": {},
   "source": [
    "alt.Chart(data).mark_bar(font = \"Times New Roman\").encode(\n",
    "    x='count(MT_Results Individual_CowID):Q',\n",
    "    y='R:O',\n",
    "    color='R:N',\n",
    "    row='Dairy ID:N'\n",
    ").configure_axis(\n",
    "    labelFontSize=14,\n",
    "    titleFontSize=14, \n",
    "    labelFont = 'Times New Roman'\n",
    ")"
   ]
  },
  {
   "cell_type": "raw",
   "metadata": {},
   "source": [
    "def format_sequence(s, fmt='{}'):\n",
    "    \"\"\"\n",
    "    Format items sequence\n",
    "\n",
    "    Useful for creating labels from numeric data\n",
    "\n",
    "    Parameters\n",
    "    ----------\n",
    "    s : sequence\n",
    "        List of values\n",
    "\n",
    "    Returns\n",
    "    -------\n",
    "    out : list\n",
    "        List of string values\n",
    "    \"\"\"\n",
    "    return [fmt.format(x) for x in s]"
   ]
  },
  {
   "cell_type": "code",
   "execution_count": 53,
   "metadata": {},
   "outputs": [],
   "source": [
    "data.replace('CA001', '1', inplace=True)\n",
    "data.replace('CA002', '2', inplace=True)\n",
    "data.replace('CA003', '3', inplace=True)\n",
    "data.replace('CA004', '4', inplace=True)\n",
    "data.replace('CA005', '5', inplace=True)\n",
    "data.replace('CA007', '6', inplace=True)"
   ]
  },
  {
   "cell_type": "code",
   "execution_count": 54,
   "metadata": {},
   "outputs": [
    {
     "data": {
      "text/plain": [
       "1    107\n",
       "2     75\n",
       "0     61\n",
       "Name: R_factor, dtype: int64"
      ]
     },
     "execution_count": 54,
     "metadata": {},
     "output_type": "execute_result"
    }
   ],
   "source": [
    "data.R_factor.value_counts()"
   ]
  },
  {
   "cell_type": "code",
   "execution_count": 55,
   "metadata": {},
   "outputs": [
    {
     "data": {
      "text/html": [
       "<div>\n",
       "<style scoped>\n",
       "    .dataframe tbody tr th:only-of-type {\n",
       "        vertical-align: middle;\n",
       "    }\n",
       "\n",
       "    .dataframe tbody tr th {\n",
       "        vertical-align: top;\n",
       "    }\n",
       "\n",
       "    .dataframe thead th {\n",
       "        text-align: right;\n",
       "    }\n",
       "</style>\n",
       "<table border=\"1\" class=\"dataframe\">\n",
       "  <thead>\n",
       "    <tr style=\"text-align: right;\">\n",
       "      <th></th>\n",
       "      <th>counts</th>\n",
       "      <th>prop</th>\n",
       "      <th>Total</th>\n",
       "      <th>lci</th>\n",
       "      <th>uci</th>\n",
       "      <th>std_err</th>\n",
       "    </tr>\n",
       "  </thead>\n",
       "  <tbody>\n",
       "    <tr>\n",
       "      <th>1</th>\n",
       "      <td>107</td>\n",
       "      <td>0.440329</td>\n",
       "      <td>243</td>\n",
       "      <td>0.377913</td>\n",
       "      <td>0.502746</td>\n",
       "      <td>0.031846</td>\n",
       "    </tr>\n",
       "    <tr>\n",
       "      <th>2</th>\n",
       "      <td>75</td>\n",
       "      <td>0.308642</td>\n",
       "      <td>243</td>\n",
       "      <td>0.250562</td>\n",
       "      <td>0.366722</td>\n",
       "      <td>0.029633</td>\n",
       "    </tr>\n",
       "    <tr>\n",
       "      <th>0</th>\n",
       "      <td>61</td>\n",
       "      <td>0.251029</td>\n",
       "      <td>243</td>\n",
       "      <td>0.196511</td>\n",
       "      <td>0.305547</td>\n",
       "      <td>0.027816</td>\n",
       "    </tr>\n",
       "  </tbody>\n",
       "</table>\n",
       "</div>"
      ],
      "text/plain": [
       "   counts      prop  Total       lci       uci   std_err\n",
       "1     107  0.440329    243  0.377913  0.502746  0.031846\n",
       "2      75  0.308642    243  0.250562  0.366722  0.029633\n",
       "0      61  0.251029    243  0.196511  0.305547  0.027816"
      ]
     },
     "execution_count": 55,
     "metadata": {},
     "output_type": "execute_result"
    }
   ],
   "source": [
    "value_R = pd.concat([data.R_factor.value_counts(), data.R_factor.value_counts(normalize = True)], axis=1)\n",
    "value_R.columns = ['counts', 'prop']\n",
    "value_R['Total'] = value_R.counts.sum()\n",
    "def return_CI(c):\n",
    "    lci, uci = stats.proportion.proportion_confint(c.counts, c.Total)\n",
    "    std_err = stats.proportion.std_prop(c.counts/c.Total, c.Total)\n",
    "    return lci, uci, std_err\n",
    "value_R[['lci', 'uci', 'std_err']] = value_R.apply(return_CI, axis=1, result_type=\"expand\")\n",
    "value_R"
   ]
  },
  {
   "cell_type": "code",
   "execution_count": 56,
   "metadata": {},
   "outputs": [
    {
     "data": {
      "text/plain": [
       "(0.2962680170093775, 0.4180176972763368)"
      ]
     },
     "execution_count": 56,
     "metadata": {},
     "output_type": "execute_result"
    }
   ],
   "source": [
    "stats.proportion.proportion_confint(85, 238)"
   ]
  },
  {
   "cell_type": "code",
   "execution_count": 57,
   "metadata": {},
   "outputs": [
    {
     "data": {
      "text/plain": [
       "0.031059162624238305"
      ]
     },
     "execution_count": 57,
     "metadata": {},
     "output_type": "execute_result"
    }
   ],
   "source": [
    "stats.proportion.std_prop(85/238, 238)"
   ]
  },
  {
   "cell_type": "code",
   "execution_count": 58,
   "metadata": {},
   "outputs": [
    {
     "data": {
      "text/html": [
       "<div>\n",
       "<style scoped>\n",
       "    .dataframe tbody tr th:only-of-type {\n",
       "        vertical-align: middle;\n",
       "    }\n",
       "\n",
       "    .dataframe tbody tr th {\n",
       "        vertical-align: top;\n",
       "    }\n",
       "\n",
       "    .dataframe thead th {\n",
       "        text-align: right;\n",
       "    }\n",
       "</style>\n",
       "<table border=\"1\" class=\"dataframe\">\n",
       "  <thead>\n",
       "    <tr style=\"text-align: right;\">\n",
       "      <th></th>\n",
       "      <th>Dairy ID</th>\n",
       "      <th>AMR</th>\n",
       "      <th>MDR</th>\n",
       "      <th>total</th>\n",
       "      <th>AMR_pc</th>\n",
       "      <th>MDR_pc</th>\n",
       "      <th>AMR_SE</th>\n",
       "      <th>MDR_SE</th>\n",
       "      <th>max</th>\n",
       "      <th>min</th>\n",
       "    </tr>\n",
       "  </thead>\n",
       "  <tbody>\n",
       "    <tr>\n",
       "      <th>0</th>\n",
       "      <td>1</td>\n",
       "      <td>15</td>\n",
       "      <td>6</td>\n",
       "      <td>40</td>\n",
       "      <td>37.500000</td>\n",
       "      <td>15.000000</td>\n",
       "      <td>7.654655</td>\n",
       "      <td>5.645795</td>\n",
       "      <td>37.500000</td>\n",
       "      <td>15.000000</td>\n",
       "    </tr>\n",
       "    <tr>\n",
       "      <th>1</th>\n",
       "      <td>2</td>\n",
       "      <td>15</td>\n",
       "      <td>21</td>\n",
       "      <td>40</td>\n",
       "      <td>37.500000</td>\n",
       "      <td>52.500000</td>\n",
       "      <td>7.654655</td>\n",
       "      <td>7.895806</td>\n",
       "      <td>52.500000</td>\n",
       "      <td>37.500000</td>\n",
       "    </tr>\n",
       "    <tr>\n",
       "      <th>2</th>\n",
       "      <td>3</td>\n",
       "      <td>17</td>\n",
       "      <td>4</td>\n",
       "      <td>40</td>\n",
       "      <td>42.500000</td>\n",
       "      <td>10.000000</td>\n",
       "      <td>7.816249</td>\n",
       "      <td>4.743416</td>\n",
       "      <td>42.500000</td>\n",
       "      <td>10.000000</td>\n",
       "    </tr>\n",
       "    <tr>\n",
       "      <th>3</th>\n",
       "      <td>4</td>\n",
       "      <td>20</td>\n",
       "      <td>17</td>\n",
       "      <td>40</td>\n",
       "      <td>50.000000</td>\n",
       "      <td>42.500000</td>\n",
       "      <td>7.905694</td>\n",
       "      <td>7.816249</td>\n",
       "      <td>50.000000</td>\n",
       "      <td>42.500000</td>\n",
       "    </tr>\n",
       "    <tr>\n",
       "      <th>4</th>\n",
       "      <td>5</td>\n",
       "      <td>18</td>\n",
       "      <td>15</td>\n",
       "      <td>39</td>\n",
       "      <td>46.153846</td>\n",
       "      <td>38.461538</td>\n",
       "      <td>7.982685</td>\n",
       "      <td>7.790303</td>\n",
       "      <td>46.153846</td>\n",
       "      <td>38.461538</td>\n",
       "    </tr>\n",
       "  </tbody>\n",
       "</table>\n",
       "</div>"
      ],
      "text/plain": [
       "  Dairy ID  AMR  MDR  total     AMR_pc     MDR_pc    AMR_SE    MDR_SE  \\\n",
       "0        1   15    6     40  37.500000  15.000000  7.654655  5.645795   \n",
       "1        2   15   21     40  37.500000  52.500000  7.654655  7.895806   \n",
       "2        3   17    4     40  42.500000  10.000000  7.816249  4.743416   \n",
       "3        4   20   17     40  50.000000  42.500000  7.905694  7.816249   \n",
       "4        5   18   15     39  46.153846  38.461538  7.982685  7.790303   \n",
       "\n",
       "         max        min  \n",
       "0  37.500000  15.000000  \n",
       "1  52.500000  37.500000  \n",
       "2  42.500000  10.000000  \n",
       "3  50.000000  42.500000  \n",
       "4  46.153846  38.461538  "
      ]
     },
     "execution_count": 58,
     "metadata": {},
     "output_type": "execute_result"
    }
   ],
   "source": [
    "q = data.groupby(['Dairy ID', 'R_factor'])['MT_Results Individual_CowID'].nunique().reset_index()\n",
    "q.columns= ['Dairy ID', 'Resistance', 'Cows']\n",
    "q.Resistance.replace(1, 'AMR', inplace = True)\n",
    "q.Resistance.replace(2, 'MDR', inplace = True)\n",
    "q.Resistance.replace(0, 'No_resistance', inplace = True)\n",
    "q['Cows_str'] = q.Cows.apply(str)\n",
    "seg = q.pivot(index='Dairy ID', columns= 'Resistance', values='Cows')\n",
    "seg.columns = ['No_resistance', 'AMR', 'MDR']\n",
    "seg['total'] = seg.AMR+ seg.MDR+ seg.No_resistance\n",
    "seg = seg.drop('No_resistance', axis=1)\n",
    "seg['AMR_pc'] = (seg.AMR*100)/(seg['total'])\n",
    "seg['MDR_pc'] = (seg.MDR*100)/(seg['total'])\n",
    "seg['AMR_SE'] = stats.proportion.std_prop(seg.AMR/seg.total, seg.total)*100\n",
    "seg['MDR_SE'] = stats.proportion.std_prop(seg.MDR/seg.total, seg.total)*100\n",
    "seg['max'] = seg[['AMR_pc', 'MDR_pc']].max(axis=1)\n",
    "seg['min'] =  seg[['AMR_pc', 'MDR_pc']].min(axis=1)\n",
    "seg = seg.reset_index()\n",
    "seg.head()"
   ]
  },
  {
   "cell_type": "code",
   "execution_count": null,
   "metadata": {},
   "outputs": [],
   "source": [
    "\n"
   ]
  },
  {
   "cell_type": "code",
   "execution_count": 59,
   "metadata": {},
   "outputs": [
    {
     "data": {
      "text/plain": [
       "(0    0.039344\n",
       " 1    0.370245\n",
       " 2    0.007031\n",
       " 3    0.271804\n",
       " 4    0.231928\n",
       " 5    0.115810\n",
       " dtype: float64,\n",
       " 0    0.260656\n",
       " 1    0.679755\n",
       " 2    0.192969\n",
       " 3    0.578196\n",
       " 4    0.537303\n",
       " 5    0.384190\n",
       " dtype: float64)"
      ]
     },
     "execution_count": 59,
     "metadata": {},
     "output_type": "execute_result"
    }
   ],
   "source": [
    "stats.proportion.proportion_confint(seg.MDR, seg.total)"
   ]
  },
  {
   "cell_type": "code",
   "execution_count": 60,
   "metadata": {},
   "outputs": [
    {
     "data": {
      "text/plain": [
       "0    0.056458\n",
       "1    0.078958\n",
       "2    0.047434\n",
       "3    0.078162\n",
       "4    0.077903\n",
       "5    0.068465\n",
       "dtype: float64"
      ]
     },
     "execution_count": 60,
     "metadata": {},
     "output_type": "execute_result"
    }
   ],
   "source": [
    "stats.proportion.std_prop(seg.MDR/seg.total, seg.total)"
   ]
  },
  {
   "cell_type": "code",
   "execution_count": 61,
   "metadata": {},
   "outputs": [
    {
     "data": {
      "text/plain": [
       "(0    0.224972\n",
       " 1    0.224972\n",
       " 2    0.271804\n",
       " 3    0.345051\n",
       " 4    0.305081\n",
       " 5    0.345051\n",
       " dtype: float64,\n",
       " 0    0.525028\n",
       " 1    0.525028\n",
       " 2    0.578196\n",
       " 3    0.654949\n",
       " 4    0.617996\n",
       " 5    0.654949\n",
       " dtype: float64)"
      ]
     },
     "execution_count": 61,
     "metadata": {},
     "output_type": "execute_result"
    }
   ],
   "source": [
    "stats.proportion.proportion_confint(seg.AMR, seg.total)"
   ]
  },
  {
   "cell_type": "code",
   "execution_count": 62,
   "metadata": {},
   "outputs": [
    {
     "data": {
      "text/plain": [
       "0    0.076547\n",
       "1    0.076547\n",
       "2    0.078162\n",
       "3    0.079057\n",
       "4    0.079827\n",
       "5    0.079057\n",
       "dtype: float64"
      ]
     },
     "execution_count": 62,
     "metadata": {},
     "output_type": "execute_result"
    }
   ],
   "source": [
    "stats.proportion.std_prop(seg.AMR/seg.total, seg.total)"
   ]
  },
  {
   "cell_type": "markdown",
   "metadata": {},
   "source": [
    "# Plotting season for all bacteria resistance"
   ]
  },
  {
   "cell_type": "code",
   "execution_count": 63,
   "metadata": {
    "cell_style": "center"
   },
   "outputs": [
    {
     "data": {
      "text/html": [
       "<div>\n",
       "<style scoped>\n",
       "    .dataframe tbody tr th:only-of-type {\n",
       "        vertical-align: middle;\n",
       "    }\n",
       "\n",
       "    .dataframe tbody tr th {\n",
       "        vertical-align: top;\n",
       "    }\n",
       "\n",
       "    .dataframe thead th {\n",
       "        text-align: right;\n",
       "    }\n",
       "</style>\n",
       "<table border=\"1\" class=\"dataframe\">\n",
       "  <thead>\n",
       "    <tr style=\"text-align: right;\">\n",
       "      <th></th>\n",
       "      <th>Season</th>\n",
       "      <th>Resistance</th>\n",
       "      <th>Cows</th>\n",
       "      <th>Cows_str</th>\n",
       "    </tr>\n",
       "  </thead>\n",
       "  <tbody>\n",
       "    <tr>\n",
       "      <th>0</th>\n",
       "      <td>Autumn</td>\n",
       "      <td>No_resistance</td>\n",
       "      <td>23</td>\n",
       "      <td>23</td>\n",
       "    </tr>\n",
       "    <tr>\n",
       "      <th>1</th>\n",
       "      <td>Autumn</td>\n",
       "      <td>AMR</td>\n",
       "      <td>43</td>\n",
       "      <td>43</td>\n",
       "    </tr>\n",
       "    <tr>\n",
       "      <th>2</th>\n",
       "      <td>Autumn</td>\n",
       "      <td>MDR</td>\n",
       "      <td>34</td>\n",
       "      <td>34</td>\n",
       "    </tr>\n",
       "    <tr>\n",
       "      <th>3</th>\n",
       "      <td>Spring</td>\n",
       "      <td>No_resistance</td>\n",
       "      <td>19</td>\n",
       "      <td>19</td>\n",
       "    </tr>\n",
       "    <tr>\n",
       "      <th>4</th>\n",
       "      <td>Spring</td>\n",
       "      <td>AMR</td>\n",
       "      <td>32</td>\n",
       "      <td>32</td>\n",
       "    </tr>\n",
       "  </tbody>\n",
       "</table>\n",
       "</div>"
      ],
      "text/plain": [
       "   Season     Resistance  Cows Cows_str\n",
       "0  Autumn  No_resistance    23       23\n",
       "1  Autumn            AMR    43       43\n",
       "2  Autumn            MDR    34       34\n",
       "3  Spring  No_resistance    19       19\n",
       "4  Spring            AMR    32       32"
      ]
     },
     "execution_count": 63,
     "metadata": {},
     "output_type": "execute_result"
    }
   ],
   "source": [
    "q = data.groupby(['Season', 'R_factor'])['MT_Results Individual_CowID'].nunique().reset_index()\n",
    "q.columns= ['Season', 'Resistance', 'Cows']\n",
    "q.Resistance.replace(1, 'AMR', inplace = True)\n",
    "q.Resistance.replace(2, 'MDR', inplace = True)\n",
    "q.Resistance.replace(0, 'No_resistance', inplace = True)\n",
    "q['Cows_str'] = q.Cows.apply(str)\n",
    "q.head()"
   ]
  },
  {
   "cell_type": "code",
   "execution_count": 64,
   "metadata": {},
   "outputs": [
    {
     "data": {
      "text/plain": [
       "243"
      ]
     },
     "execution_count": 64,
     "metadata": {},
     "output_type": "execute_result"
    }
   ],
   "source": [
    "data.shape[0]"
   ]
  },
  {
   "cell_type": "code",
   "execution_count": 65,
   "metadata": {},
   "outputs": [
    {
     "data": {
      "text/plain": [
       "Resistance\n",
       "No_resistance    0.251029\n",
       "AMR              0.432099\n",
       "MDR              0.300412\n",
       "Name: Cows, dtype: float64"
      ]
     },
     "execution_count": 65,
     "metadata": {},
     "output_type": "execute_result"
    }
   ],
   "source": [
    "q.groupby('Resistance')['Cows'].sum()/data.shape[0]"
   ]
  },
  {
   "cell_type": "code",
   "execution_count": 66,
   "metadata": {},
   "outputs": [
    {
     "data": {
      "text/plain": [
       "Resistance\n",
       "No_resistance     61\n",
       "AMR              105\n",
       "MDR               73\n",
       "Name: Cows, dtype: int64"
      ]
     },
     "execution_count": 66,
     "metadata": {},
     "output_type": "execute_result"
    }
   ],
   "source": [
    "q.groupby('Resistance')['Cows'].sum()"
   ]
  },
  {
   "cell_type": "code",
   "execution_count": 67,
   "metadata": {},
   "outputs": [
    {
     "data": {
      "text/plain": [
       "(Resistance\n",
       " No_resistance    0.196511\n",
       " AMR              0.369815\n",
       " MDR              0.242771\n",
       " dtype: float64,\n",
       " Resistance\n",
       " No_resistance    0.305547\n",
       " AMR              0.494382\n",
       " MDR              0.358052\n",
       " dtype: float64)"
      ]
     },
     "execution_count": 67,
     "metadata": {},
     "output_type": "execute_result"
    }
   ],
   "source": [
    "stats.proportion.proportion_confint(q.groupby('Resistance')['Cows'].sum(), data.shape[0])"
   ]
  },
  {
   "cell_type": "code",
   "execution_count": 68,
   "metadata": {},
   "outputs": [
    {
     "data": {
      "text/html": [
       "<div>\n",
       "<style scoped>\n",
       "    .dataframe tbody tr th:only-of-type {\n",
       "        vertical-align: middle;\n",
       "    }\n",
       "\n",
       "    .dataframe tbody tr th {\n",
       "        vertical-align: top;\n",
       "    }\n",
       "\n",
       "    .dataframe thead th {\n",
       "        text-align: right;\n",
       "    }\n",
       "</style>\n",
       "<table border=\"1\" class=\"dataframe\">\n",
       "  <thead>\n",
       "    <tr style=\"text-align: right;\">\n",
       "      <th></th>\n",
       "      <th>Season</th>\n",
       "      <th>AMR</th>\n",
       "      <th>MDR</th>\n",
       "      <th>total</th>\n",
       "      <th>AMR_pc</th>\n",
       "      <th>MDR_pc</th>\n",
       "      <th>AMR_SE</th>\n",
       "      <th>MDR_SE</th>\n",
       "      <th>max</th>\n",
       "      <th>min</th>\n",
       "    </tr>\n",
       "  </thead>\n",
       "  <tbody>\n",
       "    <tr>\n",
       "      <th>0</th>\n",
       "      <td>Spring</td>\n",
       "      <td>32</td>\n",
       "      <td>19</td>\n",
       "      <td>70</td>\n",
       "      <td>45.714286</td>\n",
       "      <td>27.142857</td>\n",
       "      <td>5.954149</td>\n",
       "      <td>5.315141</td>\n",
       "      <td>45.714286</td>\n",
       "      <td>27.142857</td>\n",
       "    </tr>\n",
       "    <tr>\n",
       "      <th>1</th>\n",
       "      <td>Summer</td>\n",
       "      <td>5</td>\n",
       "      <td>10</td>\n",
       "      <td>20</td>\n",
       "      <td>25.000000</td>\n",
       "      <td>50.000000</td>\n",
       "      <td>9.682458</td>\n",
       "      <td>11.180340</td>\n",
       "      <td>50.000000</td>\n",
       "      <td>25.000000</td>\n",
       "    </tr>\n",
       "    <tr>\n",
       "      <th>2</th>\n",
       "      <td>Fall</td>\n",
       "      <td>43</td>\n",
       "      <td>34</td>\n",
       "      <td>100</td>\n",
       "      <td>43.000000</td>\n",
       "      <td>34.000000</td>\n",
       "      <td>4.950758</td>\n",
       "      <td>4.737088</td>\n",
       "      <td>43.000000</td>\n",
       "      <td>34.000000</td>\n",
       "    </tr>\n",
       "    <tr>\n",
       "      <th>3</th>\n",
       "      <td>Winter</td>\n",
       "      <td>25</td>\n",
       "      <td>10</td>\n",
       "      <td>49</td>\n",
       "      <td>51.020408</td>\n",
       "      <td>20.408163</td>\n",
       "      <td>7.141370</td>\n",
       "      <td>5.757556</td>\n",
       "      <td>51.020408</td>\n",
       "      <td>20.408163</td>\n",
       "    </tr>\n",
       "  </tbody>\n",
       "</table>\n",
       "</div>"
      ],
      "text/plain": [
       "   Season  AMR  MDR  total     AMR_pc     MDR_pc    AMR_SE     MDR_SE  \\\n",
       "0  Spring   32   19     70  45.714286  27.142857  5.954149   5.315141   \n",
       "1  Summer    5   10     20  25.000000  50.000000  9.682458  11.180340   \n",
       "2    Fall   43   34    100  43.000000  34.000000  4.950758   4.737088   \n",
       "3  Winter   25   10     49  51.020408  20.408163  7.141370   5.757556   \n",
       "\n",
       "         max        min  \n",
       "0  45.714286  27.142857  \n",
       "1  50.000000  25.000000  \n",
       "2  43.000000  34.000000  \n",
       "3  51.020408  20.408163  "
      ]
     },
     "execution_count": 68,
     "metadata": {},
     "output_type": "execute_result"
    }
   ],
   "source": [
    "seg = q.pivot(index='Season', columns= 'Resistance', values='Cows')\n",
    "seg.columns = ['No_resistance', 'AMR', 'MDR']\n",
    "seg['total'] = seg.AMR+ seg.MDR+ seg.No_resistance\n",
    "seg = seg.drop('No_resistance', axis=1)\n",
    "seg['AMR_pc'] = (seg.AMR*100)/(seg['total'])\n",
    "seg['MDR_pc'] = (seg.MDR*100)/(seg['total'])\n",
    "seg['AMR_SE'] = stats.proportion.std_prop(seg.AMR/seg.total, seg.total)*100\n",
    "seg['MDR_SE'] = stats.proportion.std_prop(seg.MDR/seg.total, seg.total)*100\n",
    "seg['max'] = seg[['AMR_pc', 'MDR_pc']].max(axis=1)\n",
    "seg['min'] =  seg[['AMR_pc', 'MDR_pc']].min(axis=1)\n",
    "seg = seg.reset_index()\n",
    "seg.replace('Autumn', 'Fall', inplace = True)\n",
    "seg = seg.set_index('Season')\n",
    "seg = seg.reindex([\"Spring\", \"Summer\", \"Fall\", \"Winter\"])\n",
    "seg = seg.reset_index()\n",
    "seg.head()"
   ]
  },
  {
   "cell_type": "code",
   "execution_count": 69,
   "metadata": {},
   "outputs": [
    {
     "data": {
      "text/plain": [
       "30.543933054393307"
      ]
     },
     "execution_count": 69,
     "metadata": {},
     "output_type": "execute_result"
    }
   ],
   "source": [
    "seg.MDR.sum()*100/seg.total.sum()"
   ]
  },
  {
   "cell_type": "code",
   "execution_count": 70,
   "metadata": {},
   "outputs": [
    {
     "data": {
      "text/plain": [
       "2.9793300888415244"
      ]
     },
     "execution_count": 70,
     "metadata": {},
     "output_type": "execute_result"
    }
   ],
   "source": [
    "stats.proportion.std_prop(seg.MDR.sum()/seg.total.sum(), seg.total.sum())*100"
   ]
  },
  {
   "cell_type": "code",
   "execution_count": 71,
   "metadata": {},
   "outputs": [
    {
     "data": {
      "text/plain": [
       "30.543933054393307"
      ]
     },
     "execution_count": 71,
     "metadata": {},
     "output_type": "execute_result"
    }
   ],
   "source": [
    "(seg.MDR.sum()/seg.total.sum())*100"
   ]
  },
  {
   "cell_type": "code",
   "execution_count": 72,
   "metadata": {},
   "outputs": [
    {
     "data": {
      "text/plain": [
       "3.2103338445289573"
      ]
     },
     "execution_count": 72,
     "metadata": {},
     "output_type": "execute_result"
    }
   ],
   "source": [
    "stats.proportion.std_prop(seg.AMR.sum()/seg.total.sum(), seg.total.sum())*100"
   ]
  },
  {
   "cell_type": "code",
   "execution_count": 73,
   "metadata": {},
   "outputs": [
    {
     "data": {
      "text/plain": [
       "43.93305439330544"
      ]
     },
     "execution_count": 73,
     "metadata": {},
     "output_type": "execute_result"
    }
   ],
   "source": [
    "(seg.AMR.sum()/seg.total.sum())*100"
   ]
  },
  {
   "cell_type": "code",
   "execution_count": 74,
   "metadata": {},
   "outputs": [
    {
     "data": {
      "image/png": "[encoded data removed]",
      "text/plain": [
       "<Figure size 432x288 with 1 Axes>"
      ]
     },
     "metadata": {},
     "output_type": "display_data"
    }
   ],
   "source": [
    "fig, ax = plt.subplots(figsize = [6, 4])\n",
    "\n",
    "ax.errorbar(data=seg, x='AMR_pc', y='Season', \n",
    "            xerr=seg['AMR_SE'].values,yerr = None, ls='none', \n",
    "           ecolor='#66c2a5', elinewidth=3.5, capsize=8, barsabove=True,)\n",
    "sns.pointplot(data=seg, x='AMR_pc', y='Season', join=False, ax = ax, scale=2.5,color ='#66c2a5')\n",
    "ax.errorbar(data=seg, x='MDR_pc', y='Season', \n",
    "            xerr=seg['MDR_SE'].values,yerr = None, ls='none', \n",
    "           ecolor = '#fc8d62', elinewidth=3.5, capsize=8, barsabove=True,)\n",
    "sns.pointplot(data=seg, x='MDR_pc', y='Season', join=False, ax = ax, scale=2.5,color = '#fc8d62')\n",
    "ax.set_title('Seasonal distribution of AMR and MDR across $Salmonella, Enterococcus spp.$ and $E. coli$', fontsize = 12)\n",
    "ax.axvline(x = seg.MDR.sum()*100/seg.total.sum(), color = '#fc8d62', linestyle='--', linewidth = 2)\n",
    "ax.axvline(x = seg.AMR.sum()*100/seg.total.sum(), color = '#66c2a5', linestyle='--', linewidth = 2)\n",
    "ax.set_xlabel('Prevalence (%)')\n",
    "\n",
    "plt.tight_layout()\n",
    "plt.savefig(output_path+'Summplementary_season_Figure.png', dpi=600)\n",
    "plt.savefig(output_path+'Summplementary_season_Figure.svg')\n",
    "plt.show()"
   ]
  },
  {
   "cell_type": "code",
   "execution_count": 75,
   "metadata": {},
   "outputs": [
    {
     "data": {
      "text/plain": [
       "(0    0.167254\n",
       " 1    0.280869\n",
       " 2    0.247155\n",
       " 3    0.091236\n",
       " dtype: float64,\n",
       " 0    0.375603\n",
       " 1    0.719131\n",
       " 2    0.432845\n",
       " 3    0.316928\n",
       " dtype: float64)"
      ]
     },
     "execution_count": 75,
     "metadata": {},
     "output_type": "execute_result"
    }
   ],
   "source": [
    "stats.proportion.proportion_confint(seg.MDR, seg.total)"
   ]
  },
  {
   "cell_type": "code",
   "execution_count": 76,
   "metadata": {},
   "outputs": [
    {
     "data": {
      "text/plain": [
       "0    0.053151\n",
       "1    0.111803\n",
       "2    0.047371\n",
       "3    0.057576\n",
       "dtype: float64"
      ]
     },
     "execution_count": 76,
     "metadata": {},
     "output_type": "execute_result"
    }
   ],
   "source": [
    "stats.proportion.std_prop(seg.MDR/seg.total, seg.total)"
   ]
  },
  {
   "cell_type": "code",
   "execution_count": 77,
   "metadata": {
    "scrolled": true
   },
   "outputs": [
    {
     "data": {
      "text/html": [
       "<div>\n",
       "<style scoped>\n",
       "    .dataframe tbody tr th:only-of-type {\n",
       "        vertical-align: middle;\n",
       "    }\n",
       "\n",
       "    .dataframe tbody tr th {\n",
       "        vertical-align: top;\n",
       "    }\n",
       "\n",
       "    .dataframe thead th {\n",
       "        text-align: right;\n",
       "    }\n",
       "</style>\n",
       "<table border=\"1\" class=\"dataframe\">\n",
       "  <thead>\n",
       "    <tr style=\"text-align: right;\">\n",
       "      <th></th>\n",
       "      <th>Season</th>\n",
       "      <th>Resistance</th>\n",
       "      <th>Prevalence</th>\n",
       "      <th>Cows_str</th>\n",
       "      <th>text_pos</th>\n",
       "    </tr>\n",
       "  </thead>\n",
       "  <tbody>\n",
       "    <tr>\n",
       "      <th>0</th>\n",
       "      <td>Spring</td>\n",
       "      <td>AMR</td>\n",
       "      <td>45.714286</td>\n",
       "      <td>45.7%</td>\n",
       "      <td>52.0</td>\n",
       "    </tr>\n",
       "    <tr>\n",
       "      <th>1</th>\n",
       "      <td>Summer</td>\n",
       "      <td>AMR</td>\n",
       "      <td>25.000000</td>\n",
       "      <td>25.0%</td>\n",
       "      <td>54.7</td>\n",
       "    </tr>\n",
       "    <tr>\n",
       "      <th>2</th>\n",
       "      <td>Fall</td>\n",
       "      <td>AMR</td>\n",
       "      <td>43.000000</td>\n",
       "      <td>43.0%</td>\n",
       "      <td>23.0</td>\n",
       "    </tr>\n",
       "    <tr>\n",
       "      <th>3</th>\n",
       "      <td>Winter</td>\n",
       "      <td>AMR</td>\n",
       "      <td>51.020408</td>\n",
       "      <td>51.0%</td>\n",
       "      <td>60.0</td>\n",
       "    </tr>\n",
       "    <tr>\n",
       "      <th>4</th>\n",
       "      <td>Spring</td>\n",
       "      <td>MDR</td>\n",
       "      <td>27.142857</td>\n",
       "      <td>27.1%</td>\n",
       "      <td>24.0</td>\n",
       "    </tr>\n",
       "    <tr>\n",
       "      <th>5</th>\n",
       "      <td>Summer</td>\n",
       "      <td>MDR</td>\n",
       "      <td>50.000000</td>\n",
       "      <td>50.0%</td>\n",
       "      <td>17.1</td>\n",
       "    </tr>\n",
       "    <tr>\n",
       "      <th>6</th>\n",
       "      <td>Fall</td>\n",
       "      <td>MDR</td>\n",
       "      <td>34.000000</td>\n",
       "      <td>34.0%</td>\n",
       "      <td>53.0</td>\n",
       "    </tr>\n",
       "    <tr>\n",
       "      <th>7</th>\n",
       "      <td>Winter</td>\n",
       "      <td>MDR</td>\n",
       "      <td>20.408163</td>\n",
       "      <td>20.4%</td>\n",
       "      <td>10.4</td>\n",
       "    </tr>\n",
       "  </tbody>\n",
       "</table>\n",
       "</div>"
      ],
      "text/plain": [
       "   Season Resistance  Prevalence Cows_str  text_pos\n",
       "0  Spring        AMR   45.714286    45.7%      52.0\n",
       "1  Summer        AMR   25.000000    25.0%      54.7\n",
       "2    Fall        AMR   43.000000    43.0%      23.0\n",
       "3  Winter        AMR   51.020408    51.0%      60.0\n",
       "4  Spring        MDR   27.142857    27.1%      24.0\n",
       "5  Summer        MDR   50.000000    50.0%      17.1\n",
       "6    Fall        MDR   34.000000    34.0%      53.0\n",
       "7  Winter        MDR   20.408163    20.4%      10.4"
      ]
     },
     "execution_count": 77,
     "metadata": {},
     "output_type": "execute_result"
    }
   ],
   "source": [
    "#q = seg[['AMR_pc', 'MDR_pc', 'No_resistance_pc']].melt()\n",
    "q = pd.melt(seg, id_vars='Season',value_vars=['AMR_pc', 'MDR_pc'])\n",
    "q.columns = ['Season', 'Resistance', 'Prevalence']\n",
    "q.replace('AMR_pc', 'AMR', inplace= True)\n",
    "q.replace('MDR_pc', 'MDR', inplace= True)\n",
    "q.replace('No_resistance_pc', 'No_resistance', inplace= True)\n",
    "q['Cows_str'] = q['Prevalence'].apply('{:.1f}'.format)\n",
    "q['Cows_str'] = q['Cows_str']+'%'\n",
    "q['text_pos'] = [52.00, 54.70, 23.00, 60.0, 24.00, 17.1, 53.00, 10.4]\n",
    "q"
   ]
  },
  {
   "cell_type": "code",
   "execution_count": null,
   "metadata": {},
   "outputs": [],
   "source": []
  },
  {
   "cell_type": "code",
   "execution_count": null,
   "metadata": {},
   "outputs": [],
   "source": []
  },
  {
   "cell_type": "raw",
   "metadata": {
    "scrolled": false
   },
   "source": [
    "p = (ggplot()\n",
    " # Range strip\n",
    " + geom_segment(\n",
    "     seg,\n",
    "     aes(x='min', xend='max', y='Season', yend='Season'),\n",
    "     size=6,\n",
    "     color='#042659'\n",
    " )\n",
    " # Age group markers\n",
    " + geom_point(\n",
    "     q,\n",
    "     aes('Prevalence', 'Season', color='Resistance', fill='Resistance'),\n",
    "     size=5,\n",
    "     stroke=0.7, \n",
    "\n",
    " )\n",
    " # Age group percentages\n",
    " + geom_text(\n",
    "     q >> query('Resistance==\"AMR\"'),\n",
    "     aes(x='text_pos', y='Season', label='Cows_str', color='Resistance'),\n",
    "     size=12,\n",
    "     ha='right',\n",
    " )\n",
    " + geom_text(\n",
    "     q >> query('Resistance==\"MDR\"'),\n",
    "     aes(x='text_pos', y='Season', label='Cows_str', color='Resistance'),\n",
    "     size=12,\n",
    "     ha='left',\n",
    " )\n",
    " + xlab('Prevalence (%)')+ ylab('Seasons')\n",
    " + xlim(-3, 65) \n",
    " + geom_vline(xintercept=seg.MDR.sum()*100/seg.total.sum(), color = '#fc8d62', linetype = 'dashed')\n",
    " + geom_vline(xintercept=seg.AMR.sum()*100/seg.total.sum(), color = '#66c2a5', linetype = 'dashed')\n",
    " + theme_538()\n",
    " + scale_y_discrete(limits=['Autumn', 'Summer', 'Spring', 'Winter'])\n",
    " + scale_x_continuous(breaks=[-5, 0, 10, 20, 30, 40, 50, 60, 70, 80])\n",
    " + scale_fill_manual(values=(\"#66c2a5\", \"#fc8d62\"))\n",
    " + scale_color_manual(values=(\"#66c2a5\", \"#fc8d62\"))\n",
    "     + labs(title=\"All bacteria (n = 238)\", style = \"italic\")\n",
    " + theme(figure_size=(6, 3))\n",
    ")\n",
    "ggsave(plot=p, filename=output_path+'Figure1.png', dpi=600)\n",
    "ggsave(plot=p, filename=output_path+'Figure1.svg')\n",
    "p"
   ]
  },
  {
   "cell_type": "code",
   "execution_count": 78,
   "metadata": {
    "scrolled": true
   },
   "outputs": [
    {
     "data": {
      "text/plain": [
       "30.543933054393307"
      ]
     },
     "execution_count": 78,
     "metadata": {},
     "output_type": "execute_result"
    }
   ],
   "source": [
    "seg.MDR.sum()*100/seg.total.sum()"
   ]
  },
  {
   "cell_type": "code",
   "execution_count": 79,
   "metadata": {},
   "outputs": [
    {
     "data": {
      "text/plain": [
       "(0.247045533822074, 0.36383312726579214)"
      ]
     },
     "execution_count": 79,
     "metadata": {},
     "output_type": "execute_result"
    }
   ],
   "source": [
    "stats.proportion.proportion_confint(seg.MDR.sum(), seg.total.sum())"
   ]
  },
  {
   "cell_type": "code",
   "execution_count": 80,
   "metadata": {},
   "outputs": [
    {
     "data": {
      "text/plain": [
       "0.029793300888415242"
      ]
     },
     "execution_count": 80,
     "metadata": {},
     "output_type": "execute_result"
    }
   ],
   "source": [
    "stats.proportion.std_prop(seg.MDR.sum()/seg.total.sum(), seg.total.sum())"
   ]
  },
  {
   "cell_type": "code",
   "execution_count": 81,
   "metadata": {},
   "outputs": [
    {
     "data": {
      "text/plain": [
       "43.93305439330544"
      ]
     },
     "execution_count": 81,
     "metadata": {},
     "output_type": "execute_result"
    }
   ],
   "source": [
    "seg.AMR.sum()*100/seg.total.sum()"
   ]
  },
  {
   "cell_type": "code",
   "execution_count": 82,
   "metadata": {},
   "outputs": [
    {
     "data": {
      "text/plain": [
       "(0.3764091567967867, 0.5022519310693221)"
      ]
     },
     "execution_count": 82,
     "metadata": {},
     "output_type": "execute_result"
    }
   ],
   "source": [
    "stats.proportion.proportion_confint(seg.AMR.sum(), seg.total.sum())"
   ]
  },
  {
   "cell_type": "code",
   "execution_count": 83,
   "metadata": {},
   "outputs": [
    {
     "data": {
      "text/plain": [
       "0.03210333844528957"
      ]
     },
     "execution_count": 83,
     "metadata": {},
     "output_type": "execute_result"
    }
   ],
   "source": [
    "stats.proportion.std_prop(seg.AMR.sum()/seg.total.sum(), seg.total.sum())"
   ]
  },
  {
   "cell_type": "code",
   "execution_count": 84,
   "metadata": {},
   "outputs": [
    {
     "data": {
      "text/html": [
       "<div>\n",
       "<style scoped>\n",
       "    .dataframe tbody tr th:only-of-type {\n",
       "        vertical-align: middle;\n",
       "    }\n",
       "\n",
       "    .dataframe tbody tr th {\n",
       "        vertical-align: top;\n",
       "    }\n",
       "\n",
       "    .dataframe thead th {\n",
       "        text-align: right;\n",
       "    }\n",
       "</style>\n",
       "<table border=\"1\" class=\"dataframe\">\n",
       "  <thead>\n",
       "    <tr style=\"text-align: right;\">\n",
       "      <th></th>\n",
       "      <th>Season</th>\n",
       "      <th>AMR</th>\n",
       "      <th>MDR</th>\n",
       "      <th>total</th>\n",
       "      <th>AMR_pc</th>\n",
       "      <th>MDR_pc</th>\n",
       "      <th>AMR_SE</th>\n",
       "      <th>MDR_SE</th>\n",
       "      <th>max</th>\n",
       "      <th>min</th>\n",
       "    </tr>\n",
       "  </thead>\n",
       "  <tbody>\n",
       "    <tr>\n",
       "      <th>0</th>\n",
       "      <td>Spring</td>\n",
       "      <td>32</td>\n",
       "      <td>19</td>\n",
       "      <td>70</td>\n",
       "      <td>45.714286</td>\n",
       "      <td>27.142857</td>\n",
       "      <td>5.954149</td>\n",
       "      <td>5.315141</td>\n",
       "      <td>45.714286</td>\n",
       "      <td>27.142857</td>\n",
       "    </tr>\n",
       "    <tr>\n",
       "      <th>1</th>\n",
       "      <td>Summer</td>\n",
       "      <td>5</td>\n",
       "      <td>10</td>\n",
       "      <td>20</td>\n",
       "      <td>25.000000</td>\n",
       "      <td>50.000000</td>\n",
       "      <td>9.682458</td>\n",
       "      <td>11.180340</td>\n",
       "      <td>50.000000</td>\n",
       "      <td>25.000000</td>\n",
       "    </tr>\n",
       "    <tr>\n",
       "      <th>2</th>\n",
       "      <td>Fall</td>\n",
       "      <td>43</td>\n",
       "      <td>34</td>\n",
       "      <td>100</td>\n",
       "      <td>43.000000</td>\n",
       "      <td>34.000000</td>\n",
       "      <td>4.950758</td>\n",
       "      <td>4.737088</td>\n",
       "      <td>43.000000</td>\n",
       "      <td>34.000000</td>\n",
       "    </tr>\n",
       "    <tr>\n",
       "      <th>3</th>\n",
       "      <td>Winter</td>\n",
       "      <td>25</td>\n",
       "      <td>10</td>\n",
       "      <td>49</td>\n",
       "      <td>51.020408</td>\n",
       "      <td>20.408163</td>\n",
       "      <td>7.141370</td>\n",
       "      <td>5.757556</td>\n",
       "      <td>51.020408</td>\n",
       "      <td>20.408163</td>\n",
       "    </tr>\n",
       "  </tbody>\n",
       "</table>\n",
       "</div>"
      ],
      "text/plain": [
       "   Season  AMR  MDR  total     AMR_pc     MDR_pc    AMR_SE     MDR_SE  \\\n",
       "0  Spring   32   19     70  45.714286  27.142857  5.954149   5.315141   \n",
       "1  Summer    5   10     20  25.000000  50.000000  9.682458  11.180340   \n",
       "2    Fall   43   34    100  43.000000  34.000000  4.950758   4.737088   \n",
       "3  Winter   25   10     49  51.020408  20.408163  7.141370   5.757556   \n",
       "\n",
       "         max        min  \n",
       "0  45.714286  27.142857  \n",
       "1  50.000000  25.000000  \n",
       "2  43.000000  34.000000  \n",
       "3  51.020408  20.408163  "
      ]
     },
     "execution_count": 84,
     "metadata": {},
     "output_type": "execute_result"
    }
   ],
   "source": [
    "seg"
   ]
  },
  {
   "cell_type": "code",
   "execution_count": 85,
   "metadata": {},
   "outputs": [
    {
     "data": {
      "text/plain": [
       "(0    0.167254\n",
       " 1    0.280869\n",
       " 2    0.247155\n",
       " 3    0.091236\n",
       " dtype: float64,\n",
       " 0    0.375603\n",
       " 1    0.719131\n",
       " 2    0.432845\n",
       " 3    0.316928\n",
       " dtype: float64)"
      ]
     },
     "execution_count": 85,
     "metadata": {},
     "output_type": "execute_result"
    }
   ],
   "source": [
    "stats.proportion.proportion_confint(seg.MDR, seg.total)"
   ]
  },
  {
   "cell_type": "code",
   "execution_count": 86,
   "metadata": {},
   "outputs": [
    {
     "data": {
      "text/plain": [
       "0    0.053151\n",
       "1    0.111803\n",
       "2    0.047371\n",
       "3    0.057576\n",
       "dtype: float64"
      ]
     },
     "execution_count": 86,
     "metadata": {},
     "output_type": "execute_result"
    }
   ],
   "source": [
    "stats.proportion.std_prop(seg.MDR/seg.total, seg.total)"
   ]
  },
  {
   "cell_type": "code",
   "execution_count": 87,
   "metadata": {},
   "outputs": [
    {
     "data": {
      "text/plain": [
       "(0    0.340444\n",
       " 1    0.060227\n",
       " 2    0.332967\n",
       " 3    0.370236\n",
       " dtype: float64,\n",
       " 0    0.573842\n",
       " 1    0.439773\n",
       " 2    0.527033\n",
       " 3    0.650172\n",
       " dtype: float64)"
      ]
     },
     "execution_count": 87,
     "metadata": {},
     "output_type": "execute_result"
    }
   ],
   "source": [
    "stats.proportion.proportion_confint(seg.AMR, seg.total)"
   ]
  },
  {
   "cell_type": "code",
   "execution_count": 88,
   "metadata": {},
   "outputs": [
    {
     "data": {
      "text/plain": [
       "0    0.059541\n",
       "1    0.096825\n",
       "2    0.049508\n",
       "3    0.071414\n",
       "dtype: float64"
      ]
     },
     "execution_count": 88,
     "metadata": {},
     "output_type": "execute_result"
    }
   ],
   "source": [
    "stats.proportion.std_prop(seg.AMR/seg.total, seg.total)"
   ]
  },
  {
   "cell_type": "markdown",
   "metadata": {},
   "source": [
    "## Distribution of culling reasons"
   ]
  },
  {
   "cell_type": "code",
   "execution_count": 74,
   "metadata": {},
   "outputs": [
    {
     "data": {
      "text/plain": [
       "0.6512605042016807"
      ]
     },
     "execution_count": 74,
     "metadata": {},
     "output_type": "execute_result"
    }
   ],
   "source": [
    "data.groupby('MT_Results Individual_CowID').LowMilkCull.max().sum()/data['MT_Results Individual_CowID'].nunique()"
   ]
  },
  {
   "cell_type": "code",
   "execution_count": 75,
   "metadata": {},
   "outputs": [
    {
     "data": {
      "text/plain": [
       "0.030891532920378235"
      ]
     },
     "execution_count": 75,
     "metadata": {},
     "output_type": "execute_result"
    }
   ],
   "source": [
    "stats.proportion.std_prop(data.groupby('MT_Results Individual_CowID').LowMilkCull.max().sum()/data['MT_Results Individual_CowID'].nunique(), data['MT_Results Individual_CowID'].nunique())"
   ]
  },
  {
   "cell_type": "code",
   "execution_count": 76,
   "metadata": {},
   "outputs": [],
   "source": [
    "def get_mean_sem(column):\n",
    "    mean = data.groupby('MT_Results Individual_CowID')[column].max().sum()/data['MT_Results Individual_CowID'].nunique()\n",
    "    sem = stats.proportion.std_prop(data.groupby('MT_Results Individual_CowID')[column].max().sum()/data['MT_Results Individual_CowID'].nunique(), data['MT_Results Individual_CowID'].nunique())\n",
    "    print('mean= %s, SEM = %s'%(mean, sem))"
   ]
  },
  {
   "cell_type": "code",
   "execution_count": 77,
   "metadata": {},
   "outputs": [
    {
     "name": "stdout",
     "output_type": "stream",
     "text": [
      "mean= 0.6512605042016807, SEM = 0.030891532920378235\n"
     ]
    }
   ],
   "source": [
    "get_mean_sem(column = 'LowMilkCull')"
   ]
  },
  {
   "cell_type": "code",
   "execution_count": 79,
   "metadata": {},
   "outputs": [
    {
     "name": "stdout",
     "output_type": "stream",
     "text": [
      "mean= 0.31092436974789917, SEM = 0.030003529627430157\n"
     ]
    }
   ],
   "source": [
    "get_mean_sem(column = 'ReproCull')"
   ]
  },
  {
   "cell_type": "code",
   "execution_count": 80,
   "metadata": {},
   "outputs": [
    {
     "name": "stdout",
     "output_type": "stream",
     "text": [
      "mean= 0.10504201680672269, SEM = 0.01987441574765154\n"
     ]
    }
   ],
   "source": [
    "get_mean_sem(column = 'LameCull')"
   ]
  },
  {
   "cell_type": "code",
   "execution_count": 81,
   "metadata": {},
   "outputs": [
    {
     "name": "stdout",
     "output_type": "stream",
     "text": [
      "mean= 0.10084033613445378, SEM = 0.019518528446084395\n"
     ]
    }
   ],
   "source": [
    "get_mean_sem(column = 'MastitisCull')"
   ]
  },
  {
   "cell_type": "code",
   "execution_count": 91,
   "metadata": {},
   "outputs": [
    {
     "name": "stdout",
     "output_type": "stream",
     "text": [
      "LowMilkCull\n",
      "mean= 0.6512605042016807, SEM = 0.030891532920378235\n",
      "ReproCull\n",
      "mean= 0.31092436974789917, SEM = 0.030003529627430157\n",
      "LameCull\n",
      "mean= 0.10504201680672269, SEM = 0.01987441574765154\n",
      "MastitisCull\n",
      "mean= 0.10084033613445378, SEM = 0.019518528446084395\n",
      "OtherCull\n",
      "mean= 0.2647058823529412, SEM = 0.028597223097889608\n",
      "AMD\n",
      "mean= 0.15546218487394958, SEM = 0.02348731947781195\n",
      "Ani-Inf\n",
      "mean= 0.058823529411764705, SEM = 0.015251852318874456\n",
      "No-Treatment\n",
      "mean= 0.8445378151260504, SEM = 0.02348731947781195\n",
      "Other\n",
      "mean= 0.008403361344537815, SEM = 0.005917054422290579\n",
      "Tetracycline\n",
      "mean= 0.1638655462184874, SEM = 0.023993489048633763\n",
      "Penicillin\n",
      "mean= 0.8739495798319328, SEM = 0.021514282118091012\n",
      "Ceftiofur\n",
      "mean= 0.8739495798319328, SEM = 0.021514282118091012\n"
     ]
    }
   ],
   "source": [
    "cow_parameters = ['LowMilkCull',\n",
    "                  'ReproCull',\n",
    "                  'LameCull',\n",
    "                  'MastitisCull',\n",
    "                  'OtherCull',\n",
    "                  'AMD',\n",
    "                  'Ani-Inf',\n",
    "                  'No-Treatment',\n",
    "                  'Other',\n",
    "                  'Tetracycline',\n",
    "                  'Penicillin',\n",
    "                  'Ceftiofur',\n",
    "]\n",
    "for c in cow_parameters:\n",
    "    print(c)\n",
    "    get_mean_sem(c)"
   ]
  },
  {
   "cell_type": "markdown",
   "metadata": {},
   "source": [
    "# plotting season for E. coli season"
   ]
  },
  {
   "cell_type": "code",
   "execution_count": 92,
   "metadata": {},
   "outputs": [],
   "source": [
    "def plot_bacteria_season(ax, seg_df, title):\n",
    "    ax.errorbar(data=seg_df, x='AMR_pc', y='Season', \n",
    "                xerr=seg_df['AMR_SE'].values,yerr = None, ls='none', \n",
    "               ecolor='#66c2a5', elinewidth=3.5, capsize=8, barsabove=True,)\n",
    "    sns.pointplot(data=seg_df, x='AMR_pc', y='Season', join=False, ax = ax, scale=2.5,color ='#66c2a5')\n",
    "    ax.errorbar(data=seg_df, x='MDR_pc', y='Season', \n",
    "                xerr=seg_df['MDR_SE'].values,yerr = None, ls='none', \n",
    "               ecolor = '#fc8d62', elinewidth=3.5, capsize=8, barsabove=True,)\n",
    "    sns.pointplot(data=seg_df, x='MDR_pc', y='Season', join=False, ax = ax, scale=2.5,color = '#fc8d62')\n",
    "    ax.set_title(title, fontsize = 12)\n",
    "    ax.axvline(x = seg_df.MDR.sum()*100/seg_df.total.sum(), color = '#fc8d62', linestyle='--', linewidth = 2)\n",
    "    ax.axvline(x = seg_df.AMR.sum()*100/seg_df.total.sum(), color = '#66c2a5', linestyle='--', linewidth = 2)\n",
    "    ax.set_xlabel('Prevalence (%)')\n",
    "    return ax"
   ]
  },
  {
   "cell_type": "code",
   "execution_count": 93,
   "metadata": {},
   "outputs": [
    {
     "data": {
      "text/html": [
       "<div>\n",
       "<style scoped>\n",
       "    .dataframe tbody tr th:only-of-type {\n",
       "        vertical-align: middle;\n",
       "    }\n",
       "\n",
       "    .dataframe tbody tr th {\n",
       "        vertical-align: top;\n",
       "    }\n",
       "\n",
       "    .dataframe thead th {\n",
       "        text-align: right;\n",
       "    }\n",
       "</style>\n",
       "<table border=\"1\" class=\"dataframe\">\n",
       "  <thead>\n",
       "    <tr style=\"text-align: right;\">\n",
       "      <th></th>\n",
       "      <th>Season</th>\n",
       "      <th>Resistance</th>\n",
       "      <th>Cows</th>\n",
       "      <th>Cows_str</th>\n",
       "    </tr>\n",
       "  </thead>\n",
       "  <tbody>\n",
       "    <tr>\n",
       "      <th>0</th>\n",
       "      <td>Autumn</td>\n",
       "      <td>No_resistance</td>\n",
       "      <td>65</td>\n",
       "      <td>65</td>\n",
       "    </tr>\n",
       "    <tr>\n",
       "      <th>1</th>\n",
       "      <td>Autumn</td>\n",
       "      <td>AMR</td>\n",
       "      <td>31</td>\n",
       "      <td>31</td>\n",
       "    </tr>\n",
       "    <tr>\n",
       "      <th>2</th>\n",
       "      <td>Autumn</td>\n",
       "      <td>MDR</td>\n",
       "      <td>4</td>\n",
       "      <td>4</td>\n",
       "    </tr>\n",
       "    <tr>\n",
       "      <th>3</th>\n",
       "      <td>Spring</td>\n",
       "      <td>No_resistance</td>\n",
       "      <td>45</td>\n",
       "      <td>45</td>\n",
       "    </tr>\n",
       "    <tr>\n",
       "      <th>4</th>\n",
       "      <td>Spring</td>\n",
       "      <td>AMR</td>\n",
       "      <td>24</td>\n",
       "      <td>24</td>\n",
       "    </tr>\n",
       "    <tr>\n",
       "      <th>5</th>\n",
       "      <td>Spring</td>\n",
       "      <td>MDR</td>\n",
       "      <td>1</td>\n",
       "      <td>1</td>\n",
       "    </tr>\n",
       "    <tr>\n",
       "      <th>6</th>\n",
       "      <td>Summer</td>\n",
       "      <td>No_resistance</td>\n",
       "      <td>16</td>\n",
       "      <td>16</td>\n",
       "    </tr>\n",
       "    <tr>\n",
       "      <th>7</th>\n",
       "      <td>Summer</td>\n",
       "      <td>AMR</td>\n",
       "      <td>4</td>\n",
       "      <td>4</td>\n",
       "    </tr>\n",
       "    <tr>\n",
       "      <th>8</th>\n",
       "      <td>Summer</td>\n",
       "      <td>MDR</td>\n",
       "      <td>0</td>\n",
       "      <td>0</td>\n",
       "    </tr>\n",
       "    <tr>\n",
       "      <th>9</th>\n",
       "      <td>Winter</td>\n",
       "      <td>No_resistance</td>\n",
       "      <td>33</td>\n",
       "      <td>33</td>\n",
       "    </tr>\n",
       "    <tr>\n",
       "      <th>10</th>\n",
       "      <td>Winter</td>\n",
       "      <td>AMR</td>\n",
       "      <td>14</td>\n",
       "      <td>14</td>\n",
       "    </tr>\n",
       "    <tr>\n",
       "      <th>11</th>\n",
       "      <td>Winter</td>\n",
       "      <td>MDR</td>\n",
       "      <td>2</td>\n",
       "      <td>2</td>\n",
       "    </tr>\n",
       "  </tbody>\n",
       "</table>\n",
       "</div>"
      ],
      "text/plain": [
       "    Season     Resistance  Cows Cows_str\n",
       "0   Autumn  No_resistance    65       65\n",
       "1   Autumn            AMR    31       31\n",
       "2   Autumn            MDR     4        4\n",
       "3   Spring  No_resistance    45       45\n",
       "4   Spring            AMR    24       24\n",
       "5   Spring            MDR     1        1\n",
       "6   Summer  No_resistance    16       16\n",
       "7   Summer            AMR     4        4\n",
       "8   Summer            MDR     0        0\n",
       "9   Winter  No_resistance    33       33\n",
       "10  Winter            AMR    14       14\n",
       "11  Winter            MDR     2        2"
      ]
     },
     "execution_count": 93,
     "metadata": {},
     "output_type": "execute_result"
    }
   ],
   "source": [
    "q = data.groupby(['Season', 'Ecoli_R'])['MT_Results Individual_CowID'].nunique().reset_index()\n",
    "q.columns= ['Season', 'Resistance', 'Cows']\n",
    "q.Resistance.replace(1, 'AMR', inplace = True)\n",
    "q.Resistance.replace(2, 'MDR', inplace = True)\n",
    "q.Resistance.replace(0, 'No_resistance', inplace = True)\n",
    "q['Cows_str'] = q.Cows.apply(str)\n",
    "q"
   ]
  },
  {
   "cell_type": "code",
   "execution_count": 94,
   "metadata": {},
   "outputs": [
    {
     "data": {
      "text/html": [
       "<div>\n",
       "<style scoped>\n",
       "    .dataframe tbody tr th:only-of-type {\n",
       "        vertical-align: middle;\n",
       "    }\n",
       "\n",
       "    .dataframe tbody tr th {\n",
       "        vertical-align: top;\n",
       "    }\n",
       "\n",
       "    .dataframe thead th {\n",
       "        text-align: right;\n",
       "    }\n",
       "</style>\n",
       "<table border=\"1\" class=\"dataframe\">\n",
       "  <thead>\n",
       "    <tr style=\"text-align: right;\">\n",
       "      <th></th>\n",
       "      <th>Season</th>\n",
       "      <th>AMR</th>\n",
       "      <th>MDR</th>\n",
       "      <th>total</th>\n",
       "      <th>AMR_pc</th>\n",
       "      <th>MDR_pc</th>\n",
       "      <th>AMR_SE</th>\n",
       "      <th>MDR_SE</th>\n",
       "      <th>max</th>\n",
       "      <th>min</th>\n",
       "    </tr>\n",
       "  </thead>\n",
       "  <tbody>\n",
       "    <tr>\n",
       "      <th>0</th>\n",
       "      <td>Spring</td>\n",
       "      <td>24</td>\n",
       "      <td>1</td>\n",
       "      <td>70</td>\n",
       "      <td>34.285714</td>\n",
       "      <td>1.428571</td>\n",
       "      <td>5.673323</td>\n",
       "      <td>1.418331</td>\n",
       "      <td>34.285714</td>\n",
       "      <td>1.428571</td>\n",
       "    </tr>\n",
       "    <tr>\n",
       "      <th>1</th>\n",
       "      <td>Summer</td>\n",
       "      <td>4</td>\n",
       "      <td>0</td>\n",
       "      <td>20</td>\n",
       "      <td>20.000000</td>\n",
       "      <td>0.000000</td>\n",
       "      <td>8.944272</td>\n",
       "      <td>0.000000</td>\n",
       "      <td>20.000000</td>\n",
       "      <td>0.000000</td>\n",
       "    </tr>\n",
       "    <tr>\n",
       "      <th>2</th>\n",
       "      <td>Fall</td>\n",
       "      <td>31</td>\n",
       "      <td>4</td>\n",
       "      <td>100</td>\n",
       "      <td>31.000000</td>\n",
       "      <td>4.000000</td>\n",
       "      <td>4.624932</td>\n",
       "      <td>1.959592</td>\n",
       "      <td>31.000000</td>\n",
       "      <td>4.000000</td>\n",
       "    </tr>\n",
       "    <tr>\n",
       "      <th>3</th>\n",
       "      <td>Winter</td>\n",
       "      <td>14</td>\n",
       "      <td>2</td>\n",
       "      <td>49</td>\n",
       "      <td>28.571429</td>\n",
       "      <td>4.081633</td>\n",
       "      <td>6.453628</td>\n",
       "      <td>2.826635</td>\n",
       "      <td>28.571429</td>\n",
       "      <td>4.081633</td>\n",
       "    </tr>\n",
       "  </tbody>\n",
       "</table>\n",
       "</div>"
      ],
      "text/plain": [
       "   Season  AMR  MDR  total     AMR_pc    MDR_pc    AMR_SE    MDR_SE  \\\n",
       "0  Spring   24    1     70  34.285714  1.428571  5.673323  1.418331   \n",
       "1  Summer    4    0     20  20.000000  0.000000  8.944272  0.000000   \n",
       "2    Fall   31    4    100  31.000000  4.000000  4.624932  1.959592   \n",
       "3  Winter   14    2     49  28.571429  4.081633  6.453628  2.826635   \n",
       "\n",
       "         max       min  \n",
       "0  34.285714  1.428571  \n",
       "1  20.000000  0.000000  \n",
       "2  31.000000  4.000000  \n",
       "3  28.571429  4.081633  "
      ]
     },
     "execution_count": 94,
     "metadata": {},
     "output_type": "execute_result"
    }
   ],
   "source": [
    "seg = q.pivot(index='Season', columns= 'Resistance', values='Cows')\n",
    "seg.columns = ['No_resistance', 'AMR', 'MDR']\n",
    "seg['total'] = seg.AMR+ seg.MDR+ seg.No_resistance\n",
    "seg = seg.drop('No_resistance', axis=1)\n",
    "seg['AMR_pc'] = (seg.AMR*100)/(seg['total'])\n",
    "seg['MDR_pc'] = (seg.MDR*100)/(seg['total'])\n",
    "seg['AMR_SE'] = stats.proportion.std_prop(seg.AMR/seg.total, seg.total)*100\n",
    "seg['MDR_SE'] = stats.proportion.std_prop(seg.MDR/seg.total, seg.total)*100\n",
    "seg['max'] = seg[['AMR_pc', 'MDR_pc']].max(axis=1)\n",
    "seg['min'] =  seg[['AMR_pc', 'MDR_pc']].min(axis=1)\n",
    "seg = seg.reset_index()\n",
    "seg.replace('Autumn', 'Fall', inplace = True)\n",
    "seg = seg.set_index('Season')\n",
    "seg = seg.reindex([\"Spring\", \"Summer\", \"Fall\", \"Winter\"])\n",
    "seg = seg.reset_index()\n",
    "seg.head()"
   ]
  },
  {
   "cell_type": "code",
   "execution_count": 95,
   "metadata": {},
   "outputs": [
    {
     "ename": "NameError",
     "evalue": "name 'seg_sal' is not defined",
     "output_type": "error",
     "traceback": [
      "\u001b[1;31m---------------------------------------------------------------------------\u001b[0m",
      "\u001b[1;31mNameError\u001b[0m                                 Traceback (most recent call last)",
      "\u001b[1;32m<ipython-input-95-6cbe07a54425>\u001b[0m in \u001b[0;36m<module>\u001b[1;34m\u001b[0m\n\u001b[0;32m      8\u001b[0m \u001b[0mfig\u001b[0m\u001b[1;33m,\u001b[0m \u001b[0max1\u001b[0m \u001b[1;33m=\u001b[0m \u001b[0mplt\u001b[0m\u001b[1;33m.\u001b[0m\u001b[0msubplots\u001b[0m\u001b[1;33m(\u001b[0m\u001b[1;36m1\u001b[0m\u001b[1;33m,\u001b[0m \u001b[1;36m1\u001b[0m\u001b[1;33m,\u001b[0m \u001b[0mfigsize\u001b[0m \u001b[1;33m=\u001b[0m \u001b[1;33m[\u001b[0m\u001b[1;36m3\u001b[0m\u001b[1;33m,\u001b[0m \u001b[1;36m9\u001b[0m\u001b[1;33m]\u001b[0m\u001b[1;33m,\u001b[0m \u001b[0msharex\u001b[0m \u001b[1;33m=\u001b[0m \u001b[1;32mTrue\u001b[0m\u001b[1;33m)\u001b[0m\u001b[1;33m\u001b[0m\u001b[1;33m\u001b[0m\u001b[0m\n\u001b[0;32m      9\u001b[0m plot_bacteria_season(ax = ax1,\n\u001b[1;32m---> 10\u001b[1;33m                      seg_df = seg_sal.fillna(0), title = \"All bacteria combined (n = 238)\") \n\u001b[0m\u001b[0;32m     11\u001b[0m \u001b[0mfig\u001b[0m\u001b[1;33m.\u001b[0m\u001b[0mlegend\u001b[0m\u001b[1;33m(\u001b[0m\u001b[0mhandles\u001b[0m\u001b[1;33m=\u001b[0m\u001b[1;33m[\u001b[0m\u001b[0mAMR_patch\u001b[0m\u001b[1;33m,\u001b[0m \u001b[0mMDR_patch\u001b[0m\u001b[1;33m]\u001b[0m\u001b[1;33m)\u001b[0m\u001b[1;33m\u001b[0m\u001b[1;33m\u001b[0m\u001b[0m\n\u001b[0;32m     12\u001b[0m \u001b[0mplt\u001b[0m\u001b[1;33m.\u001b[0m\u001b[0mtight_layout\u001b[0m\u001b[1;33m(\u001b[0m\u001b[1;33m)\u001b[0m\u001b[1;33m\u001b[0m\u001b[1;33m\u001b[0m\u001b[0m\n",
      "\u001b[1;31mNameError\u001b[0m: name 'seg_sal' is not defined"
     ]
    },
    {
     "data": {
      "image/png": "[encoded data removed]",
      "text/plain": [
       "<Figure size 216x648 with 1 Axes>"
      ]
     },
     "metadata": {},
     "output_type": "display_data"
    }
   ],
   "source": [
    "import matplotlib.patches as mpatches\n",
    "import matplotlib.pyplot as plt\n",
    "\n",
    "AMR_patch = mpatches.Patch(color='#66c2a5', label='AMR')\n",
    "MDR_patch = mpatches.Patch(color='#fc8d62', label='MDR')\n",
    "\n",
    "\n",
    "fig, ax1 = plt.subplots(1, 1, figsize = [9, 3], sharex = True)\n",
    "plot_bacteria_season(ax = ax1,\n",
    "                     seg_df = seg.fillna(0), title = \"All bacteria combined (n = 238)\") \n",
    "fig.legend(handles=[AMR_patch, MDR_patch])\n",
    "plt.tight_layout()\n",
    "#plt.savefig(output_path+\"Figure1.png\", dpi = 600)\n",
    "#plt.savefig(output_path+\"Figure1.svg\")\n",
    "plt.show()"
   ]
  },
  {
   "cell_type": "code",
   "execution_count": 91,
   "metadata": {
    "scrolled": false
   },
   "outputs": [
    {
     "data": {
      "text/plain": [
       "'\\np = (ggplot()\\n # Range strip\\n + geom_segment(\\n     seg,\\n     aes(x=\\'min\\', xend=\\'max\\', y=\\'Season\\', yend=\\'Season\\'),\\n     size=6,\\n     color=\\'#042659\\'\\n )\\n # Age group markers\\n + geom_point(\\n     q,\\n     aes(\\'Prevalence\\', \\'Season\\', color=\\'Resistance\\', fill=\\'Resistance\\'),\\n     size=5,\\n     stroke=0.7, \\n\\n )\\n # Age group percentages\\n + geom_text(\\n     q >> query(\\'Resistance==\"AMR\"\\'),\\n     aes(x=\\'text_pos\\', y=\\'Season\\', label=\\'Cows_str\\', color=\\'Resistance\\'),\\n     size=12,\\n     ha=\\'right\\',\\n )\\n + geom_text(\\n     q >> query(\\'Resistance==\"MDR\"\\'),\\n     aes(x=\\'text_pos\\', y=\\'Season\\', label=\\'Cows_str\\', color=\\'Resistance\\'),\\n     size=12,\\n     ha=\\'left\\',\\n )\\n + xlab(\\'Prevalence (%)\\')+ ylab(\\'Seasons\\')\\n + xlim(0, 65) \\n + geom_vline(xintercept=seg.MDR.sum()*100/seg.total.sum(), color = \\'#fc8d62\\', linetype = \\'dashed\\')\\n + geom_vline(xintercept=seg.AMR.sum()*100/seg.total.sum(), color = \\'#66c2a5\\', linetype = \\'dashed\\')\\n + theme_538()\\n + scale_y_discrete(limits=[\\'Autumn\\', \\'Summer\\', \\'Spring\\', \\'Winter\\'])\\n #+ scale_x_continuous(breaks=[-5, 0, 10, 20, 30, 40, 50, 60, 70, 80])\\n + scale_fill_manual(values=(\"#66c2a5\", \"#fc8d62\"))\\n + scale_color_manual(values=(\"#66c2a5\", \"#fc8d62\"))\\n + labs(title=\"(b) E. coli (n = 238)\", style = \"italic\")\\n + theme(figure_size=(6, 3))\\n)\\nggsave(plot=p, filename=output_path+\\'Figure1_e.coli.png\\', dpi=600)\\nggsave(plot=p, filename=output_path+\\'Figure1_e.coli.svg\\')\\np\\n'"
      ]
     },
     "execution_count": 91,
     "metadata": {},
     "output_type": "execute_result"
    }
   ],
   "source": [
    "q = data.groupby(['Season', 'Ecoli_R'])['MT_Results Individual_CowID'].nunique().reset_index()\n",
    "q.columns= ['Season', 'Resistance', 'Cows']\n",
    "q.Resistance.replace(1, 'AMR', inplace = True)\n",
    "q.Resistance.replace(2, 'MDR', inplace = True)\n",
    "q.Resistance.replace(0, 'No_resistance', inplace = True)\n",
    "q['Cows_str'] = q.Cows.apply(str)\n",
    "seg = q.pivot(index='Season', columns= 'Resistance', values='Cows')\n",
    "seg.columns = ['No_resistance', 'AMR', 'MDR']\n",
    "seg.fillna(0, inplace = True)\n",
    "seg['total'] = seg.AMR+ seg.MDR+ seg.No_resistance\n",
    "seg = seg.drop('No_resistance', axis=1)\n",
    "seg['AMR_pc'] = (seg.AMR*100)/(seg['total'])\n",
    "seg['MDR_pc'] = (seg.MDR*100)/(seg['total'])\n",
    "seg['AMR_SE'] = stats.proportion.std_prop(seg.AMR/seg.total, seg.total)*100\n",
    "seg['MDR_SE'] = stats.proportion.std_prop(seg.MDR/seg.total, seg.total)*100\n",
    "seg['max'] = seg[['AMR_pc', 'MDR_pc']].max(axis=1)\n",
    "seg['min'] =  seg[['AMR_pc', 'MDR_pc']].min(axis=1)\n",
    "seg = seg.reset_index()\n",
    "seg.replace('Autumn', 'Fall', inplace = True)\n",
    "seg = seg.set_index('Season')\n",
    "seg = seg.reindex([\"Spring\", \"Summer\", \"Fall\", \"Winter\"])\n",
    "seg_ecoli = seg.reset_index()\n",
    "seg_ecoli.head()\n",
    "\n",
    "\"\"\"\n",
    "p = (ggplot()\n",
    " # Range strip\n",
    " + geom_segment(\n",
    "     seg,\n",
    "     aes(x='min', xend='max', y='Season', yend='Season'),\n",
    "     size=6,\n",
    "     color='#042659'\n",
    " )\n",
    " # Age group markers\n",
    " + geom_point(\n",
    "     q,\n",
    "     aes('Prevalence', 'Season', color='Resistance', fill='Resistance'),\n",
    "     size=5,\n",
    "     stroke=0.7, \n",
    "\n",
    " )\n",
    " # Age group percentages\n",
    " + geom_text(\n",
    "     q >> query('Resistance==\"AMR\"'),\n",
    "     aes(x='text_pos', y='Season', label='Cows_str', color='Resistance'),\n",
    "     size=12,\n",
    "     ha='right',\n",
    " )\n",
    " + geom_text(\n",
    "     q >> query('Resistance==\"MDR\"'),\n",
    "     aes(x='text_pos', y='Season', label='Cows_str', color='Resistance'),\n",
    "     size=12,\n",
    "     ha='left',\n",
    " )\n",
    " + xlab('Prevalence (%)')+ ylab('Seasons')\n",
    " + xlim(0, 65) \n",
    " + geom_vline(xintercept=seg.MDR.sum()*100/seg.total.sum(), color = '#fc8d62', linetype = 'dashed')\n",
    " + geom_vline(xintercept=seg.AMR.sum()*100/seg.total.sum(), color = '#66c2a5', linetype = 'dashed')\n",
    " + theme_538()\n",
    " + scale_y_discrete(limits=['Autumn', 'Summer', 'Spring', 'Winter'])\n",
    " #+ scale_x_continuous(breaks=[-5, 0, 10, 20, 30, 40, 50, 60, 70, 80])\n",
    " + scale_fill_manual(values=(\"#66c2a5\", \"#fc8d62\"))\n",
    " + scale_color_manual(values=(\"#66c2a5\", \"#fc8d62\"))\n",
    " + labs(title=\"(b) E. coli (n = 238)\", style = \"italic\")\n",
    " + theme(figure_size=(6, 3))\n",
    ")\n",
    "ggsave(plot=p, filename=output_path+'Figure1_e.coli.png', dpi=600)\n",
    "ggsave(plot=p, filename=output_path+'Figure1_e.coli.svg')\n",
    "p\n",
    "\"\"\""
   ]
  },
  {
   "cell_type": "code",
   "execution_count": 92,
   "metadata": {},
   "outputs": [
    {
     "data": {
      "text/plain": [
       "2.928870292887029"
      ]
     },
     "execution_count": 92,
     "metadata": {},
     "output_type": "execute_result"
    }
   ],
   "source": [
    "seg_ecoli.MDR.sum()*100/seg_ecoli.total.sum()"
   ]
  },
  {
   "cell_type": "code",
   "execution_count": 93,
   "metadata": {},
   "outputs": [
    {
     "data": {
      "text/plain": [
       "(0.007911826239869246, 0.05066557961787134)"
      ]
     },
     "execution_count": 93,
     "metadata": {},
     "output_type": "execute_result"
    }
   ],
   "source": [
    "stats.proportion.proportion_confint(seg_ecoli.MDR.sum(), seg_ecoli.total.sum())"
   ]
  },
  {
   "cell_type": "code",
   "execution_count": 94,
   "metadata": {},
   "outputs": [
    {
     "data": {
      "text/plain": [
       "1.0906770153747272"
      ]
     },
     "execution_count": 94,
     "metadata": {},
     "output_type": "execute_result"
    }
   ],
   "source": [
    "stats.proportion.std_prop(seg_ecoli.MDR.sum()/seg_ecoli.total.sum(), seg_ecoli.total.sum())*100"
   ]
  },
  {
   "cell_type": "code",
   "execution_count": 95,
   "metadata": {},
   "outputs": [
    {
     "data": {
      "text/html": [
       "<div>\n",
       "<style scoped>\n",
       "    .dataframe tbody tr th:only-of-type {\n",
       "        vertical-align: middle;\n",
       "    }\n",
       "\n",
       "    .dataframe tbody tr th {\n",
       "        vertical-align: top;\n",
       "    }\n",
       "\n",
       "    .dataframe thead th {\n",
       "        text-align: right;\n",
       "    }\n",
       "</style>\n",
       "<table border=\"1\" class=\"dataframe\">\n",
       "  <thead>\n",
       "    <tr style=\"text-align: right;\">\n",
       "      <th></th>\n",
       "      <th>Season</th>\n",
       "      <th>AMR</th>\n",
       "      <th>MDR</th>\n",
       "      <th>total</th>\n",
       "      <th>AMR_pc</th>\n",
       "      <th>MDR_pc</th>\n",
       "      <th>AMR_SE</th>\n",
       "      <th>MDR_SE</th>\n",
       "      <th>max</th>\n",
       "      <th>min</th>\n",
       "    </tr>\n",
       "  </thead>\n",
       "  <tbody>\n",
       "    <tr>\n",
       "      <th>0</th>\n",
       "      <td>Spring</td>\n",
       "      <td>24</td>\n",
       "      <td>1</td>\n",
       "      <td>70</td>\n",
       "      <td>34.285714</td>\n",
       "      <td>1.428571</td>\n",
       "      <td>5.673323</td>\n",
       "      <td>1.418331</td>\n",
       "      <td>34.285714</td>\n",
       "      <td>1.428571</td>\n",
       "    </tr>\n",
       "    <tr>\n",
       "      <th>1</th>\n",
       "      <td>Summer</td>\n",
       "      <td>4</td>\n",
       "      <td>0</td>\n",
       "      <td>20</td>\n",
       "      <td>20.000000</td>\n",
       "      <td>0.000000</td>\n",
       "      <td>8.944272</td>\n",
       "      <td>0.000000</td>\n",
       "      <td>20.000000</td>\n",
       "      <td>0.000000</td>\n",
       "    </tr>\n",
       "    <tr>\n",
       "      <th>2</th>\n",
       "      <td>Fall</td>\n",
       "      <td>31</td>\n",
       "      <td>4</td>\n",
       "      <td>100</td>\n",
       "      <td>31.000000</td>\n",
       "      <td>4.000000</td>\n",
       "      <td>4.624932</td>\n",
       "      <td>1.959592</td>\n",
       "      <td>31.000000</td>\n",
       "      <td>4.000000</td>\n",
       "    </tr>\n",
       "    <tr>\n",
       "      <th>3</th>\n",
       "      <td>Winter</td>\n",
       "      <td>14</td>\n",
       "      <td>2</td>\n",
       "      <td>49</td>\n",
       "      <td>28.571429</td>\n",
       "      <td>4.081633</td>\n",
       "      <td>6.453628</td>\n",
       "      <td>2.826635</td>\n",
       "      <td>28.571429</td>\n",
       "      <td>4.081633</td>\n",
       "    </tr>\n",
       "  </tbody>\n",
       "</table>\n",
       "</div>"
      ],
      "text/plain": [
       "   Season  AMR  MDR  total     AMR_pc    MDR_pc    AMR_SE    MDR_SE  \\\n",
       "0  Spring   24    1     70  34.285714  1.428571  5.673323  1.418331   \n",
       "1  Summer    4    0     20  20.000000  0.000000  8.944272  0.000000   \n",
       "2    Fall   31    4    100  31.000000  4.000000  4.624932  1.959592   \n",
       "3  Winter   14    2     49  28.571429  4.081633  6.453628  2.826635   \n",
       "\n",
       "         max       min  \n",
       "0  34.285714  1.428571  \n",
       "1  20.000000  0.000000  \n",
       "2  31.000000  4.000000  \n",
       "3  28.571429  4.081633  "
      ]
     },
     "execution_count": 95,
     "metadata": {},
     "output_type": "execute_result"
    }
   ],
   "source": [
    "seg_ecoli"
   ]
  },
  {
   "cell_type": "code",
   "execution_count": 96,
   "metadata": {},
   "outputs": [
    {
     "data": {
      "text/plain": [
       "(0    0.000000\n",
       " 1    0.000000\n",
       " 2    0.001593\n",
       " 3    0.000000\n",
       " dtype: float64,\n",
       " 0    0.042084\n",
       " 1    0.000000\n",
       " 2    0.078407\n",
       " 3    0.096217\n",
       " dtype: float64)"
      ]
     },
     "execution_count": 96,
     "metadata": {},
     "output_type": "execute_result"
    }
   ],
   "source": [
    "stats.proportion.proportion_confint(seg_ecoli.MDR, seg_ecoli.total)"
   ]
  },
  {
   "cell_type": "code",
   "execution_count": 97,
   "metadata": {},
   "outputs": [
    {
     "data": {
      "text/plain": [
       "0    0.014183\n",
       "1    0.000000\n",
       "2    0.019596\n",
       "3    0.028266\n",
       "dtype: float64"
      ]
     },
     "execution_count": 97,
     "metadata": {},
     "output_type": "execute_result"
    }
   ],
   "source": [
    "stats.proportion.std_prop(seg_ecoli.MDR/seg_ecoli.total, seg_ecoli.total)"
   ]
  },
  {
   "cell_type": "code",
   "execution_count": 98,
   "metadata": {},
   "outputs": [
    {
     "data": {
      "text/plain": [
       "(0    0.231662\n",
       " 1    0.024695\n",
       " 2    0.219353\n",
       " 3    0.159226\n",
       " dtype: float64,\n",
       " 0    0.454052\n",
       " 1    0.375305\n",
       " 2    0.400647\n",
       " 3    0.412203\n",
       " dtype: float64)"
      ]
     },
     "execution_count": 98,
     "metadata": {},
     "output_type": "execute_result"
    }
   ],
   "source": [
    "stats.proportion.proportion_confint(seg_ecoli.AMR, seg_ecoli.total)"
   ]
  },
  {
   "cell_type": "code",
   "execution_count": 99,
   "metadata": {},
   "outputs": [
    {
     "data": {
      "text/plain": [
       "0    0.056733\n",
       "1    0.089443\n",
       "2    0.046249\n",
       "3    0.064536\n",
       "dtype: float64"
      ]
     },
     "execution_count": 99,
     "metadata": {},
     "output_type": "execute_result"
    }
   ],
   "source": [
    "stats.proportion.std_prop(seg_ecoli.AMR/seg_ecoli.total, seg_ecoli.total)"
   ]
  },
  {
   "cell_type": "code",
   "execution_count": 100,
   "metadata": {},
   "outputs": [
    {
     "data": {
      "text/plain": [
       "(0.20106427201732024, 0.3789357279826797)"
      ]
     },
     "execution_count": 100,
     "metadata": {},
     "output_type": "execute_result"
    }
   ],
   "source": [
    "stats.proportion.proportion_confint(29, 100)"
   ]
  },
  {
   "cell_type": "code",
   "execution_count": 101,
   "metadata": {
    "scrolled": false
   },
   "outputs": [
    {
     "data": {
      "text/plain": [
       "'\\nq = pd.melt(seg, id_vars=\\'Season\\',value_vars=[\\'AMR_pc\\', \\'MDR_pc\\'])\\nq.columns = [\\'Season\\', \\'Resistance\\', \\'Prevalence\\']\\nq.replace(\\'AMR_pc\\', \\'AMR\\', inplace= True)\\nq.replace(\\'MDR_pc\\', \\'MDR\\', inplace= True)\\nq.replace(\\'No_resistance_pc\\', \\'No_resistance\\', inplace= True)\\nq[\\'Cows_str\\'] = q[\\'Prevalence\\'].apply(\\'{:.1f}\\'.format)\\nq[\\'Cows_str\\'] = q[\\'Cows_str\\']+\\'%\\'\\nq[\\'text_pos\\'] = [52.00, 42.4, 12.0, 60.0, 18.2, 14.7, 53.0, 1.5]\\nprint(q.head(15))\\n\\np = (ggplot()\\n # Range strip\\n + geom_segment(\\n     seg,\\n     aes(x=\\'min\\', xend=\\'max\\', y=\\'Season\\', yend=\\'Season\\'),\\n     size=6,\\n     color=\\'#042659\\'\\n )\\n # Age group markers\\n + geom_point(\\n     q,\\n     aes(\\'Prevalence\\', \\'Season\\', color=\\'Resistance\\', fill=\\'Resistance\\'),\\n     size=5,\\n     stroke=0.7, \\n\\n )\\n # Age group percentages\\n + geom_text(\\n     q >> query(\\'Resistance==\"AMR\"\\'),\\n     aes(x=\\'text_pos\\', y=\\'Season\\', label=\\'Cows_str\\', color=\\'Resistance\\'),\\n     size=12,\\n     ha=\\'right\\',\\n )\\n + geom_text(\\n     q >> query(\\'Resistance==\"MDR\"\\'),\\n     aes(x=\\'text_pos\\', y=\\'Season\\', label=\\'Cows_str\\', color=\\'Resistance\\'),\\n     size=12,\\n     ha=\\'left\\',\\n )\\n + xlab(\\'Prevalence (%)\\')+ ylab(\\'Seasons\\')\\n + xlim(0, 65) \\n + geom_vline(xintercept=seg.MDR.sum()*100/seg.total.sum(), color = \\'#fc8d62\\', linetype = \\'dashed\\')\\n + geom_vline(xintercept=seg.AMR.sum()*100/seg.total.sum(), color = \\'#66c2a5\\', linetype = \\'dashed\\')\\n + theme_538()\\n + scale_y_discrete(limits=[\\'Autumn\\', \\'Summer\\', \\'Spring\\', \\'Winter\\'])\\n #+ scale_x_continuous(breaks=[-5, 0, 10, 20, 30, 40, 50, 60, 70, 80])\\n + scale_fill_manual(values=(\"#66c2a5\", \"#fc8d62\"))\\n + scale_color_manual(values=(\"#66c2a5\", \"#fc8d62\"))\\n     + labs(title=\"(c) Enterococcus sp. (n = 238)\", style = \"italic\")\\n + theme(figure_size=(6, 3))\\n)\\nggsave(plot=p, filename=output_path+\\'Figure1_entero.png\\', dpi=600)\\nggsave(plot=p, filename=output_path+\\'Figure1_entero.svg\\')\\np\\n'"
      ]
     },
     "execution_count": 101,
     "metadata": {},
     "output_type": "execute_result"
    }
   ],
   "source": [
    "q = data.groupby(['Season', 'Entero_R'])['MT_Results Individual_CowID'].nunique().reset_index()\n",
    "q.columns= ['Season', 'Resistance', 'Cows']\n",
    "q.Resistance.replace(1, 'AMR', inplace = True)\n",
    "q.Resistance.replace(2, 'MDR', inplace = True)\n",
    "q.Resistance.replace(0, 'No_resistance', inplace = True)\n",
    "q['Cows_str'] = q.Cows.apply(str)\n",
    "seg = q.pivot(index='Season', columns= 'Resistance', values='Cows')\n",
    "seg.columns = ['No_resistance', 'AMR', 'MDR']\n",
    "seg.fillna(0, inplace = True)\n",
    "seg['total'] = seg.AMR+ seg.MDR+ seg.No_resistance\n",
    "seg = seg.drop('No_resistance', axis=1)\n",
    "seg['AMR_pc'] = (seg.AMR*100)/(seg['total'])\n",
    "seg['MDR_pc'] = (seg.MDR*100)/(seg['total'])\n",
    "seg['AMR_SE'] = stats.proportion.std_prop(seg.AMR/seg.total, seg.total)*100\n",
    "seg['MDR_SE'] = stats.proportion.std_prop(seg.MDR/seg.total, seg.total)*100\n",
    "seg['max'] = seg[['AMR_pc', 'MDR_pc']].max(axis=1)\n",
    "seg['min'] =  seg[['AMR_pc', 'MDR_pc']].min(axis=1)\n",
    "seg = seg.reset_index()\n",
    "seg.replace('Autumn', 'Fall', inplace = True)\n",
    "seg = seg.set_index('Season')\n",
    "seg = seg.reindex([\"Spring\", \"Summer\", \"Fall\", \"Winter\"])\n",
    "seg_entero = seg.reset_index()\n",
    "seg_entero.head()\n",
    "\n",
    "\"\"\"\n",
    "q = pd.melt(seg, id_vars='Season',value_vars=['AMR_pc', 'MDR_pc'])\n",
    "q.columns = ['Season', 'Resistance', 'Prevalence']\n",
    "q.replace('AMR_pc', 'AMR', inplace= True)\n",
    "q.replace('MDR_pc', 'MDR', inplace= True)\n",
    "q.replace('No_resistance_pc', 'No_resistance', inplace= True)\n",
    "q['Cows_str'] = q['Prevalence'].apply('{:.1f}'.format)\n",
    "q['Cows_str'] = q['Cows_str']+'%'\n",
    "q['text_pos'] = [52.00, 42.4, 12.0, 60.0, 18.2, 14.7, 53.0, 1.5]\n",
    "print(q.head(15))\n",
    "\n",
    "p = (ggplot()\n",
    " # Range strip\n",
    " + geom_segment(\n",
    "     seg,\n",
    "     aes(x='min', xend='max', y='Season', yend='Season'),\n",
    "     size=6,\n",
    "     color='#042659'\n",
    " )\n",
    " # Age group markers\n",
    " + geom_point(\n",
    "     q,\n",
    "     aes('Prevalence', 'Season', color='Resistance', fill='Resistance'),\n",
    "     size=5,\n",
    "     stroke=0.7, \n",
    "\n",
    " )\n",
    " # Age group percentages\n",
    " + geom_text(\n",
    "     q >> query('Resistance==\"AMR\"'),\n",
    "     aes(x='text_pos', y='Season', label='Cows_str', color='Resistance'),\n",
    "     size=12,\n",
    "     ha='right',\n",
    " )\n",
    " + geom_text(\n",
    "     q >> query('Resistance==\"MDR\"'),\n",
    "     aes(x='text_pos', y='Season', label='Cows_str', color='Resistance'),\n",
    "     size=12,\n",
    "     ha='left',\n",
    " )\n",
    " + xlab('Prevalence (%)')+ ylab('Seasons')\n",
    " + xlim(0, 65) \n",
    " + geom_vline(xintercept=seg.MDR.sum()*100/seg.total.sum(), color = '#fc8d62', linetype = 'dashed')\n",
    " + geom_vline(xintercept=seg.AMR.sum()*100/seg.total.sum(), color = '#66c2a5', linetype = 'dashed')\n",
    " + theme_538()\n",
    " + scale_y_discrete(limits=['Autumn', 'Summer', 'Spring', 'Winter'])\n",
    " #+ scale_x_continuous(breaks=[-5, 0, 10, 20, 30, 40, 50, 60, 70, 80])\n",
    " + scale_fill_manual(values=(\"#66c2a5\", \"#fc8d62\"))\n",
    " + scale_color_manual(values=(\"#66c2a5\", \"#fc8d62\"))\n",
    "     + labs(title=\"(c) Enterococcus sp. (n = 238)\", style = \"italic\")\n",
    " + theme(figure_size=(6, 3))\n",
    ")\n",
    "ggsave(plot=p, filename=output_path+'Figure1_entero.png', dpi=600)\n",
    "ggsave(plot=p, filename=output_path+'Figure1_entero.svg')\n",
    "p\n",
    "\"\"\""
   ]
  },
  {
   "cell_type": "code",
   "execution_count": 102,
   "metadata": {},
   "outputs": [
    {
     "data": {
      "text/plain": [
       "Negative        152\n",
       "Positive         61\n",
       "Inconclusive     30\n",
       "Name: F_Salmonella PCR_Result, dtype: int64"
      ]
     },
     "execution_count": 102,
     "metadata": {},
     "output_type": "execute_result"
    }
   ],
   "source": [
    "data['F_Salmonella PCR_Result'].value_counts()"
   ]
  },
  {
   "cell_type": "code",
   "execution_count": null,
   "metadata": {},
   "outputs": [],
   "source": []
  },
  {
   "cell_type": "code",
   "execution_count": 103,
   "metadata": {},
   "outputs": [
    {
     "data": {
      "text/html": [
       "<div>\n",
       "<style scoped>\n",
       "    .dataframe tbody tr th:only-of-type {\n",
       "        vertical-align: middle;\n",
       "    }\n",
       "\n",
       "    .dataframe tbody tr th {\n",
       "        vertical-align: top;\n",
       "    }\n",
       "\n",
       "    .dataframe thead th {\n",
       "        text-align: right;\n",
       "    }\n",
       "</style>\n",
       "<table border=\"1\" class=\"dataframe\">\n",
       "  <thead>\n",
       "    <tr style=\"text-align: right;\">\n",
       "      <th></th>\n",
       "      <th>Season</th>\n",
       "      <th>AMR</th>\n",
       "      <th>MDR</th>\n",
       "      <th>total</th>\n",
       "      <th>AMR_pc</th>\n",
       "      <th>MDR_pc</th>\n",
       "      <th>AMR_SE</th>\n",
       "      <th>MDR_SE</th>\n",
       "      <th>max</th>\n",
       "      <th>min</th>\n",
       "    </tr>\n",
       "  </thead>\n",
       "  <tbody>\n",
       "    <tr>\n",
       "      <th>0</th>\n",
       "      <td>Spring</td>\n",
       "      <td>22</td>\n",
       "      <td>18</td>\n",
       "      <td>70</td>\n",
       "      <td>31.428571</td>\n",
       "      <td>25.714286</td>\n",
       "      <td>5.548619</td>\n",
       "      <td>5.223852</td>\n",
       "      <td>31.428571</td>\n",
       "      <td>25.714286</td>\n",
       "    </tr>\n",
       "    <tr>\n",
       "      <th>1</th>\n",
       "      <td>Summer</td>\n",
       "      <td>3</td>\n",
       "      <td>10</td>\n",
       "      <td>20</td>\n",
       "      <td>15.000000</td>\n",
       "      <td>50.000000</td>\n",
       "      <td>7.984360</td>\n",
       "      <td>11.180340</td>\n",
       "      <td>50.000000</td>\n",
       "      <td>15.000000</td>\n",
       "    </tr>\n",
       "    <tr>\n",
       "      <th>2</th>\n",
       "      <td>Fall</td>\n",
       "      <td>41</td>\n",
       "      <td>29</td>\n",
       "      <td>100</td>\n",
       "      <td>41.000000</td>\n",
       "      <td>29.000000</td>\n",
       "      <td>4.918333</td>\n",
       "      <td>4.537621</td>\n",
       "      <td>41.000000</td>\n",
       "      <td>29.000000</td>\n",
       "    </tr>\n",
       "    <tr>\n",
       "      <th>3</th>\n",
       "      <td>Winter</td>\n",
       "      <td>24</td>\n",
       "      <td>6</td>\n",
       "      <td>49</td>\n",
       "      <td>48.979592</td>\n",
       "      <td>12.244898</td>\n",
       "      <td>7.141370</td>\n",
       "      <td>4.682909</td>\n",
       "      <td>48.979592</td>\n",
       "      <td>12.244898</td>\n",
       "    </tr>\n",
       "  </tbody>\n",
       "</table>\n",
       "</div>"
      ],
      "text/plain": [
       "   Season  AMR  MDR  total     AMR_pc     MDR_pc    AMR_SE     MDR_SE  \\\n",
       "0  Spring   22   18     70  31.428571  25.714286  5.548619   5.223852   \n",
       "1  Summer    3   10     20  15.000000  50.000000  7.984360  11.180340   \n",
       "2    Fall   41   29    100  41.000000  29.000000  4.918333   4.537621   \n",
       "3  Winter   24    6     49  48.979592  12.244898  7.141370   4.682909   \n",
       "\n",
       "         max        min  \n",
       "0  31.428571  25.714286  \n",
       "1  50.000000  15.000000  \n",
       "2  41.000000  29.000000  \n",
       "3  48.979592  12.244898  "
      ]
     },
     "execution_count": 103,
     "metadata": {},
     "output_type": "execute_result"
    }
   ],
   "source": [
    "seg_entero"
   ]
  },
  {
   "cell_type": "code",
   "execution_count": 104,
   "metadata": {},
   "outputs": [
    {
     "data": {
      "text/plain": [
       "26.359832635983263"
      ]
     },
     "execution_count": 104,
     "metadata": {},
     "output_type": "execute_result"
    }
   ],
   "source": [
    "seg_entero.MDR.sum()*100/seg_entero.total.sum()"
   ]
  },
  {
   "cell_type": "code",
   "execution_count": 105,
   "metadata": {},
   "outputs": [
    {
     "data": {
      "text/plain": [
       "(0.20774129528899793, 0.3194553574306674)"
      ]
     },
     "execution_count": 105,
     "metadata": {},
     "output_type": "execute_result"
    }
   ],
   "source": [
    "stats.proportion.proportion_confint(seg_entero.MDR.sum(), seg_entero.total.sum())"
   ]
  },
  {
   "cell_type": "code",
   "execution_count": 106,
   "metadata": {},
   "outputs": [
    {
     "data": {
      "text/plain": [
       "0.028499008916198394"
      ]
     },
     "execution_count": 106,
     "metadata": {},
     "output_type": "execute_result"
    }
   ],
   "source": [
    "stats.proportion.std_prop(seg_entero.MDR.sum()/seg_entero.total.sum(), seg_entero.total.sum())"
   ]
  },
  {
   "cell_type": "code",
   "execution_count": 107,
   "metadata": {},
   "outputs": [
    {
     "data": {
      "text/plain": [
       "(0    0.154757\n",
       " 1    0.280869\n",
       " 2    0.201064\n",
       " 3    0.030666\n",
       " dtype: float64,\n",
       " 0    0.359528\n",
       " 1    0.719131\n",
       " 2    0.378936\n",
       " 3    0.214232\n",
       " dtype: float64)"
      ]
     },
     "execution_count": 107,
     "metadata": {},
     "output_type": "execute_result"
    }
   ],
   "source": [
    "stats.proportion.proportion_confint(seg_entero.MDR, seg_entero.total)"
   ]
  },
  {
   "cell_type": "code",
   "execution_count": 108,
   "metadata": {},
   "outputs": [
    {
     "data": {
      "text/plain": [
       "0    0.052239\n",
       "1    0.111803\n",
       "2    0.045376\n",
       "3    0.046829\n",
       "dtype: float64"
      ]
     },
     "execution_count": 108,
     "metadata": {},
     "output_type": "execute_result"
    }
   ],
   "source": [
    "stats.proportion.std_prop(seg_entero.MDR/seg_entero.total, seg_entero.total)"
   ]
  },
  {
   "cell_type": "code",
   "execution_count": 109,
   "metadata": {},
   "outputs": [
    {
     "data": {
      "text/plain": [
       "(0    0.205535\n",
       " 1    0.000000\n",
       " 2    0.313602\n",
       " 3    0.349828\n",
       " dtype: float64,\n",
       " 0    0.423037\n",
       " 1    0.306491\n",
       " 2    0.506398\n",
       " 3    0.629764\n",
       " dtype: float64)"
      ]
     },
     "execution_count": 109,
     "metadata": {},
     "output_type": "execute_result"
    }
   ],
   "source": [
    "stats.proportion.proportion_confint(seg_entero.AMR, seg_entero.total)"
   ]
  },
  {
   "cell_type": "code",
   "execution_count": 110,
   "metadata": {},
   "outputs": [
    {
     "data": {
      "text/plain": [
       "0    0.055486\n",
       "1    0.079844\n",
       "2    0.049183\n",
       "3    0.071414\n",
       "dtype: float64"
      ]
     },
     "execution_count": 110,
     "metadata": {},
     "output_type": "execute_result"
    }
   ],
   "source": [
    "stats.proportion.std_prop(seg_entero.AMR/seg_entero.total, seg_entero.total)"
   ]
  },
  {
   "cell_type": "code",
   "execution_count": 111,
   "metadata": {},
   "outputs": [
    {
     "data": {
      "text/plain": [
       "(0.28086936485585456, 0.7191306351441454)"
      ]
     },
     "execution_count": 111,
     "metadata": {},
     "output_type": "execute_result"
    }
   ],
   "source": [
    "stats.proportion.proportion_confint(10, 20)"
   ]
  },
  {
   "cell_type": "code",
   "execution_count": 112,
   "metadata": {},
   "outputs": [
    {
     "data": {
      "text/plain": [
       "0.11180339887498948"
      ]
     },
     "execution_count": 112,
     "metadata": {},
     "output_type": "execute_result"
    }
   ],
   "source": [
    "stats.proportion.std_prop(10/20, 20)"
   ]
  },
  {
   "cell_type": "code",
   "execution_count": 113,
   "metadata": {},
   "outputs": [
    {
     "data": {
      "text/plain": [
       "(0.34982764791967025, 0.6297641888150236)"
      ]
     },
     "execution_count": 113,
     "metadata": {},
     "output_type": "execute_result"
    }
   ],
   "source": [
    "stats.proportion.proportion_confint(24, 49)"
   ]
  },
  {
   "cell_type": "code",
   "execution_count": 114,
   "metadata": {},
   "outputs": [
    {
     "data": {
      "text/plain": [
       "0.071413695124874"
      ]
     },
     "execution_count": 114,
     "metadata": {},
     "output_type": "execute_result"
    }
   ],
   "source": [
    "stats.proportion.std_prop(24/49, 49)"
   ]
  },
  {
   "cell_type": "code",
   "execution_count": 115,
   "metadata": {},
   "outputs": [
    {
     "data": {
      "text/plain": [
       "(0.044879353543769165, 0.24083493217051655)"
      ]
     },
     "execution_count": 115,
     "metadata": {},
     "output_type": "execute_result"
    }
   ],
   "source": [
    "stats.proportion.proportion_confint(7, 49)"
   ]
  },
  {
   "cell_type": "code",
   "execution_count": 116,
   "metadata": {},
   "outputs": [
    {
     "data": {
      "text/plain": [
       "0.049989586587411795"
      ]
     },
     "execution_count": 116,
     "metadata": {},
     "output_type": "execute_result"
    }
   ],
   "source": [
    "stats.proportion.std_prop(7/49, 49)"
   ]
  },
  {
   "cell_type": "code",
   "execution_count": null,
   "metadata": {},
   "outputs": [],
   "source": [
    "\n",
    "\n",
    "    "
   ]
  },
  {
   "cell_type": "code",
   "execution_count": null,
   "metadata": {},
   "outputs": [],
   "source": []
  },
  {
   "cell_type": "code",
   "execution_count": null,
   "metadata": {},
   "outputs": [],
   "source": []
  },
  {
   "cell_type": "code",
   "execution_count": 117,
   "metadata": {},
   "outputs": [
    {
     "data": {
      "text/html": [
       "<div>\n",
       "<style scoped>\n",
       "    .dataframe tbody tr th:only-of-type {\n",
       "        vertical-align: middle;\n",
       "    }\n",
       "\n",
       "    .dataframe tbody tr th {\n",
       "        vertical-align: top;\n",
       "    }\n",
       "\n",
       "    .dataframe thead th {\n",
       "        text-align: right;\n",
       "    }\n",
       "</style>\n",
       "<table border=\"1\" class=\"dataframe\">\n",
       "  <thead>\n",
       "    <tr style=\"text-align: right;\">\n",
       "      <th>Resistance</th>\n",
       "      <th>No_resistance</th>\n",
       "      <th>AMR</th>\n",
       "      <th>MDR</th>\n",
       "    </tr>\n",
       "    <tr>\n",
       "      <th>Season</th>\n",
       "      <th></th>\n",
       "      <th></th>\n",
       "      <th></th>\n",
       "    </tr>\n",
       "  </thead>\n",
       "  <tbody>\n",
       "    <tr>\n",
       "      <th>Autumn</th>\n",
       "      <td>13</td>\n",
       "      <td>11</td>\n",
       "      <td>2</td>\n",
       "    </tr>\n",
       "    <tr>\n",
       "      <th>Spring</th>\n",
       "      <td>8</td>\n",
       "      <td>4</td>\n",
       "      <td>1</td>\n",
       "    </tr>\n",
       "    <tr>\n",
       "      <th>Winter</th>\n",
       "      <td>13</td>\n",
       "      <td>4</td>\n",
       "      <td>2</td>\n",
       "    </tr>\n",
       "  </tbody>\n",
       "</table>\n",
       "</div>"
      ],
      "text/plain": [
       "Resistance  No_resistance  AMR  MDR\n",
       "Season                             \n",
       "Autumn                 13   11    2\n",
       "Spring                  8    4    1\n",
       "Winter                 13    4    2"
      ]
     },
     "execution_count": 117,
     "metadata": {},
     "output_type": "execute_result"
    }
   ],
   "source": [
    "q = sal_d.groupby(['Season', 'Sal_R'])['MT_Results Individual_CowID'].nunique().reset_index()\n",
    "q.columns= ['Season', 'Resistance', 'Cows']\n",
    "q.Resistance.replace(1, 'AMR', inplace = True)\n",
    "q.Resistance.replace(2, 'MDR', inplace = True)\n",
    "q.Resistance.replace(0, 'No_resistance', inplace = True)\n",
    "q['Cows_str'] = q.Cows.apply(str)\n",
    "seg = q.pivot(index='Season', columns= 'Resistance', values='Cows')\n",
    "seg"
   ]
  },
  {
   "cell_type": "markdown",
   "metadata": {},
   "source": [
    "#sal_d = data[data['F_Salmonella PCR_Result'] == 'Positive']\n",
    "q = sal_d.groupby(['Season', 'Sal_R'])['MT_Results Individual_CowID'].nunique().reset_index()\n",
    "q.columns= ['Season', 'Resistance', 'Cows']\n",
    "q.Resistance.replace(1, 'AMR', inplace = True)\n",
    "q.Resistance.replace(2, 'MDR', inplace = True)\n",
    "q.Resistance.replace(0, 'No_resistance', inplace = True)\n",
    "q['Cows_str'] = q.Cows.apply(str)\n",
    "seg = q.pivot(index='Season', columns= 'Resistance', values='Cows')\n",
    "seg.fillna(0, inplace = True)\n",
    "seg['total'] = seg.AMR+ seg.MDR+ seg.No_resistance\n",
    "seg = seg.drop('No_resistance', axis=1)\n",
    "seg['AMR_pc'] = (seg.AMR*100)/(seg['total'])\n",
    "seg['MDR_pc'] = (seg.MDR*100)/(seg['total'])\n",
    "seg['max'] = seg[['AMR_pc', 'MDR_pc']].max(axis=1)\n",
    "seg['min'] =  seg[['AMR_pc', 'MDR_pc']].min(axis=1)\n",
    "seg = seg.reset_index()\n",
    "print(seg.head())\n",
    "\n",
    "q = pd.melt(seg, id_vars='Season',value_vars=['AMR_pc', 'MDR_pc'])\n",
    "q.columns = ['Season', 'Resistance', 'Prevalence']\n",
    "q.replace('AMR_pc', 'AMR', inplace= True)\n",
    "q.replace('MDR_pc', 'MDR', inplace= True)\n",
    "q.replace('No_resistance_pc', 'No_resistance', inplace= True)\n",
    "q['Cows_str'] = q['Prevalence'].apply('{:.1f}'.format)\n",
    "q['Cows_str'] = q['Cows_str']+'%'\n",
    "q"
   ]
  },
  {
   "cell_type": "markdown",
   "metadata": {},
   "source": [
    "#sal_d = data[data['F_Salmonella PCR_Result'] == 'Positive']\n",
    "q = sal_d.groupby(['Season', 'Sal_R'])['MT_Results Individual_CowID'].nunique().reset_index()\n",
    "q.columns= ['Season', 'Resistance', 'Cows']\n",
    "q.Resistance.replace(1, 'AMR', inplace = True)\n",
    "q.Resistance.replace(2, 'MDR', inplace = True)\n",
    "q.Resistance.replace(0, 'No_resistance', inplace = True)\n",
    "q['Cows_str'] = q.Cows.apply(str)\n",
    "seg = q.pivot(index='Season', columns= 'Resistance', values='Cows')\n",
    "seg.fillna(0, inplace = True)\n",
    "seg['total'] = seg.AMR+ seg.MDR+ seg.No_resistance\n",
    "seg = seg.drop('No_resistance', axis=1)\n",
    "seg['AMR_pc'] = (seg.AMR*100)/(seg['total'])\n",
    "seg['MDR_pc'] = (seg.MDR*100)/(seg['total'])\n",
    "seg['max'] = seg[['AMR_pc', 'MDR_pc']].max(axis=1)\n",
    "seg['min'] =  seg[['AMR_pc', 'MDR_pc']].min(axis=1)\n",
    "seg = seg.reset_index()\n",
    "print(seg.head())"
   ]
  },
  {
   "cell_type": "markdown",
   "metadata": {},
   "source": [
    "seg = q.pivot(index='Season', columns= 'Resistance', values='Cows')\n",
    "seg = q.pivot(index='Season', columns= 'Resistance', values='Cows')\n",
    "seg.fillna(0, inplace = True)\n",
    "seg['total'] = seg.AMR+ seg.MDR+ seg.No_resistance\n",
    "seg"
   ]
  },
  {
   "cell_type": "code",
   "execution_count": 118,
   "metadata": {},
   "outputs": [],
   "source": [
    "#seg.MDR.sum()*100/seg.total.sum()"
   ]
  },
  {
   "cell_type": "code",
   "execution_count": 119,
   "metadata": {},
   "outputs": [],
   "source": [
    "#seg.AMR.sum()*100/seg.total.sum()"
   ]
  },
  {
   "cell_type": "code",
   "execution_count": 120,
   "metadata": {},
   "outputs": [
    {
     "data": {
      "text/plain": [
       "'\\nq = pd.melt(seg, id_vars=\\'Season\\',value_vars=[\\'AMR_pc\\', \\'MDR_pc\\'])\\nq.columns = [\\'Season\\', \\'Resistance\\', \\'Prevalence\\']\\nq.replace(\\'AMR_pc\\', \\'AMR\\', inplace= True)\\nq.replace(\\'MDR_pc\\', \\'MDR\\', inplace= True)\\nq.replace(\\'No_resistance_pc\\', \\'No_resistance\\', inplace= True)\\nq[\\'Cows_str\\'] = q[\\'Prevalence\\'].apply(\\'{:.1f}\\'.format)\\nq[\\'Cows_str\\'] = q[\\'Cows_str\\']+\\'%\\'\\nq[\\'text_pos\\'] = [53.3, 42.8, 32.1, 10.7, 10.7, 0.0]\\nprint(q.head(15))\\n\\np = (ggplot()\\n # Range strip\\n + geom_segment(\\n     seg,\\n     aes(x=\\'min\\', xend=\\'max\\', y=\\'Season\\', yend=\\'Season\\'),\\n     size=6,\\n     color=\\'#042659\\'\\n )\\n # Age group markers\\n + geom_point(\\n     q,\\n     aes(\\'Prevalence\\', \\'Season\\', color=\\'Resistance\\', fill=\\'Resistance\\'),\\n     size=5,\\n     stroke=0.7, \\n\\n )\\n # Age group percentages\\n + geom_text(\\n     q >> query(\\'Resistance==\"AMR\"\\'),\\n     aes(x=\\'text_pos\\', y=\\'Season\\', label=\\'Cows_str\\', color=\\'Resistance\\'),\\n     size=12,\\n     ha=\\'right\\',\\n )\\n + geom_text(\\n     q >> query(\\'Resistance==\"MDR\"\\'),\\n     aes(x=\\'text_pos\\', y=\\'Season\\', label=\\'Cows_str\\', color=\\'Resistance\\'),\\n     size=12,\\n     ha=\\'left\\',\\n )\\n + xlab(\\'Prevalence (%)\\')+ ylab(\\'Seasons\\')\\n + xlim(0, 65) \\n + geom_vline(xintercept=seg.MDR.sum()*100/seg.total.sum(), color = \\'#fc8d62\\', linetype = \\'dashed\\')\\n + geom_vline(xintercept=seg.AMR.sum()*100/seg.total.sum(), color = \\'#66c2a5\\', linetype = \\'dashed\\')\\n + theme_538()\\n + scale_y_discrete(limits=[\\'Autumn\\', \\'Summer\\', \\'Spring\\', \\'Winter\\'])\\n #+ scale_x_continuous(breaks=[-5, 0, 10, 20, 30, 40, 50, 60, 70, 80])\\n + scale_fill_manual(values=(\"#66c2a5\", \"#fc8d62\"))\\n + scale_color_manual(values=(\"#66c2a5\", \"#fc8d62\"))\\n     + labs(title=\"(a) Salmonella (n = 58)\", style = \"italic\")\\n + theme(figure_size=(6, 3))\\n)\\nggsave(plot=p, filename=output_path+\\'Figure1_sal.png\\', dpi=600)\\nggsave(plot=p, filename=output_path+\\'Figure1_sal.svg\\')\\np\\n'"
      ]
     },
     "execution_count": 120,
     "metadata": {},
     "output_type": "execute_result"
    }
   ],
   "source": [
    "#sal_d = data[data['F_Salmonella PCR_Result'] == 'Positive']\n",
    "q = sal_d.groupby(['Season', 'Sal_R'])['MT_Results Individual_CowID'].nunique().reset_index()\n",
    "q.columns= ['Season', 'Resistance', 'Cows']\n",
    "q.Resistance.replace(1, 'AMR', inplace = True)\n",
    "q.Resistance.replace(2, 'MDR', inplace = True)\n",
    "q.Resistance.replace(0, 'No_resistance', inplace = True)\n",
    "q['Cows_str'] = q.Cows.apply(str)\n",
    "seg = q.pivot(index='Season', columns= 'Resistance', values='Cows')\n",
    "seg.columns = ['No_resistance', 'AMR', 'MDR']\n",
    "seg.fillna(0, inplace = True)\n",
    "seg['total'] = seg.AMR+ seg.MDR+ seg.No_resistance\n",
    "seg = seg.drop('No_resistance', axis=1)\n",
    "seg['AMR_pc'] = (seg.AMR*100)/(seg['total'])\n",
    "seg['MDR_pc'] = (seg.MDR*100)/(seg['total'])\n",
    "seg['AMR_SE'] = stats.proportion.std_prop(seg.AMR/seg.total, seg.total)*100\n",
    "seg['MDR_SE'] = stats.proportion.std_prop(seg.MDR/seg.total, seg.total)*100\n",
    "seg['max'] = seg[['AMR_pc', 'MDR_pc']].max(axis=1)\n",
    "seg['min'] =  seg[['AMR_pc', 'MDR_pc']].min(axis=1)\n",
    "seg = seg.reset_index()\n",
    "seg.replace('Autumn', 'Fall', inplace = True)\n",
    "seg = seg.set_index('Season')\n",
    "seg = seg.reindex([\"Spring\", \"Summer\", \"Fall\", \"Winter\"])\n",
    "seg_sal = seg.reset_index()\n",
    "seg_sal.head()\n",
    "\"\"\"\n",
    "q = pd.melt(seg, id_vars='Season',value_vars=['AMR_pc', 'MDR_pc'])\n",
    "q.columns = ['Season', 'Resistance', 'Prevalence']\n",
    "q.replace('AMR_pc', 'AMR', inplace= True)\n",
    "q.replace('MDR_pc', 'MDR', inplace= True)\n",
    "q.replace('No_resistance_pc', 'No_resistance', inplace= True)\n",
    "q['Cows_str'] = q['Prevalence'].apply('{:.1f}'.format)\n",
    "q['Cows_str'] = q['Cows_str']+'%'\n",
    "q['text_pos'] = [53.3, 42.8, 32.1, 10.7, 10.7, 0.0]\n",
    "print(q.head(15))\n",
    "\n",
    "p = (ggplot()\n",
    " # Range strip\n",
    " + geom_segment(\n",
    "     seg,\n",
    "     aes(x='min', xend='max', y='Season', yend='Season'),\n",
    "     size=6,\n",
    "     color='#042659'\n",
    " )\n",
    " # Age group markers\n",
    " + geom_point(\n",
    "     q,\n",
    "     aes('Prevalence', 'Season', color='Resistance', fill='Resistance'),\n",
    "     size=5,\n",
    "     stroke=0.7, \n",
    "\n",
    " )\n",
    " # Age group percentages\n",
    " + geom_text(\n",
    "     q >> query('Resistance==\"AMR\"'),\n",
    "     aes(x='text_pos', y='Season', label='Cows_str', color='Resistance'),\n",
    "     size=12,\n",
    "     ha='right',\n",
    " )\n",
    " + geom_text(\n",
    "     q >> query('Resistance==\"MDR\"'),\n",
    "     aes(x='text_pos', y='Season', label='Cows_str', color='Resistance'),\n",
    "     size=12,\n",
    "     ha='left',\n",
    " )\n",
    " + xlab('Prevalence (%)')+ ylab('Seasons')\n",
    " + xlim(0, 65) \n",
    " + geom_vline(xintercept=seg.MDR.sum()*100/seg.total.sum(), color = '#fc8d62', linetype = 'dashed')\n",
    " + geom_vline(xintercept=seg.AMR.sum()*100/seg.total.sum(), color = '#66c2a5', linetype = 'dashed')\n",
    " + theme_538()\n",
    " + scale_y_discrete(limits=['Autumn', 'Summer', 'Spring', 'Winter'])\n",
    " #+ scale_x_continuous(breaks=[-5, 0, 10, 20, 30, 40, 50, 60, 70, 80])\n",
    " + scale_fill_manual(values=(\"#66c2a5\", \"#fc8d62\"))\n",
    " + scale_color_manual(values=(\"#66c2a5\", \"#fc8d62\"))\n",
    "     + labs(title=\"(a) Salmonella (n = 58)\", style = \"italic\")\n",
    " + theme(figure_size=(6, 3))\n",
    ")\n",
    "ggsave(plot=p, filename=output_path+'Figure1_sal.png', dpi=600)\n",
    "ggsave(plot=p, filename=output_path+'Figure1_sal.svg')\n",
    "p\n",
    "\"\"\""
   ]
  },
  {
   "cell_type": "code",
   "execution_count": 121,
   "metadata": {},
   "outputs": [
    {
     "data": {
      "text/plain": [
       "(0.01397499673820618, 0.1584387963652421)"
      ]
     },
     "execution_count": 121,
     "metadata": {},
     "output_type": "execute_result"
    }
   ],
   "source": [
    "stats.proportion.proportion_confint(seg_sal.MDR.sum(), seg_sal.total.sum())"
   ]
  },
  {
   "cell_type": "code",
   "execution_count": 122,
   "metadata": {},
   "outputs": [
    {
     "data": {
      "text/plain": [
       "0.036853687304090256"
      ]
     },
     "execution_count": 122,
     "metadata": {},
     "output_type": "execute_result"
    }
   ],
   "source": [
    "stats.proportion.std_prop(seg_sal.MDR.sum()/seg_sal.total.sum(), seg_sal.total.sum())"
   ]
  },
  {
   "cell_type": "code",
   "execution_count": 123,
   "metadata": {},
   "outputs": [
    {
     "data": {
      "text/plain": [
       "8.620689655172415"
      ]
     },
     "execution_count": 123,
     "metadata": {},
     "output_type": "execute_result"
    }
   ],
   "source": [
    "seg_sal.MDR.sum()*100/seg_sal.total.sum()"
   ]
  },
  {
   "cell_type": "code",
   "execution_count": 124,
   "metadata": {},
   "outputs": [
    {
     "data": {
      "text/html": [
       "<div>\n",
       "<style scoped>\n",
       "    .dataframe tbody tr th:only-of-type {\n",
       "        vertical-align: middle;\n",
       "    }\n",
       "\n",
       "    .dataframe tbody tr th {\n",
       "        vertical-align: top;\n",
       "    }\n",
       "\n",
       "    .dataframe thead th {\n",
       "        text-align: right;\n",
       "    }\n",
       "</style>\n",
       "<table border=\"1\" class=\"dataframe\">\n",
       "  <thead>\n",
       "    <tr style=\"text-align: right;\">\n",
       "      <th></th>\n",
       "      <th>Season</th>\n",
       "      <th>AMR</th>\n",
       "      <th>MDR</th>\n",
       "      <th>total</th>\n",
       "      <th>AMR_pc</th>\n",
       "      <th>MDR_pc</th>\n",
       "      <th>AMR_SE</th>\n",
       "      <th>MDR_SE</th>\n",
       "      <th>max</th>\n",
       "      <th>min</th>\n",
       "    </tr>\n",
       "  </thead>\n",
       "  <tbody>\n",
       "    <tr>\n",
       "      <th>0</th>\n",
       "      <td>Spring</td>\n",
       "      <td>4.0</td>\n",
       "      <td>1.0</td>\n",
       "      <td>13.0</td>\n",
       "      <td>30.769231</td>\n",
       "      <td>7.692308</td>\n",
       "      <td>12.800774</td>\n",
       "      <td>7.390530</td>\n",
       "      <td>30.769231</td>\n",
       "      <td>7.692308</td>\n",
       "    </tr>\n",
       "    <tr>\n",
       "      <th>1</th>\n",
       "      <td>Summer</td>\n",
       "      <td>NaN</td>\n",
       "      <td>NaN</td>\n",
       "      <td>NaN</td>\n",
       "      <td>NaN</td>\n",
       "      <td>NaN</td>\n",
       "      <td>NaN</td>\n",
       "      <td>NaN</td>\n",
       "      <td>NaN</td>\n",
       "      <td>NaN</td>\n",
       "    </tr>\n",
       "    <tr>\n",
       "      <th>2</th>\n",
       "      <td>Fall</td>\n",
       "      <td>11.0</td>\n",
       "      <td>2.0</td>\n",
       "      <td>26.0</td>\n",
       "      <td>42.307692</td>\n",
       "      <td>7.692308</td>\n",
       "      <td>9.689067</td>\n",
       "      <td>5.225894</td>\n",
       "      <td>42.307692</td>\n",
       "      <td>7.692308</td>\n",
       "    </tr>\n",
       "    <tr>\n",
       "      <th>3</th>\n",
       "      <td>Winter</td>\n",
       "      <td>4.0</td>\n",
       "      <td>2.0</td>\n",
       "      <td>19.0</td>\n",
       "      <td>21.052632</td>\n",
       "      <td>10.526316</td>\n",
       "      <td>9.352877</td>\n",
       "      <td>7.040590</td>\n",
       "      <td>21.052632</td>\n",
       "      <td>10.526316</td>\n",
       "    </tr>\n",
       "  </tbody>\n",
       "</table>\n",
       "</div>"
      ],
      "text/plain": [
       "   Season   AMR  MDR  total     AMR_pc     MDR_pc     AMR_SE    MDR_SE  \\\n",
       "0  Spring   4.0  1.0   13.0  30.769231   7.692308  12.800774  7.390530   \n",
       "1  Summer   NaN  NaN    NaN        NaN        NaN        NaN       NaN   \n",
       "2    Fall  11.0  2.0   26.0  42.307692   7.692308   9.689067  5.225894   \n",
       "3  Winter   4.0  2.0   19.0  21.052632  10.526316   9.352877  7.040590   \n",
       "\n",
       "         max        min  \n",
       "0  30.769231   7.692308  \n",
       "1        NaN        NaN  \n",
       "2  42.307692   7.692308  \n",
       "3  21.052632  10.526316  "
      ]
     },
     "execution_count": 124,
     "metadata": {},
     "output_type": "execute_result"
    }
   ],
   "source": [
    "seg_sal"
   ]
  },
  {
   "cell_type": "code",
   "execution_count": 125,
   "metadata": {},
   "outputs": [
    {
     "data": {
      "text/plain": [
       "(0    0.0\n",
       " 1    NaN\n",
       " 2    0.0\n",
       " 3    0.0\n",
       " dtype: float64,\n",
       " 0    0.221775\n",
       " 1         NaN\n",
       " 2    0.179349\n",
       " 3    0.243256\n",
       " dtype: float64)"
      ]
     },
     "execution_count": 125,
     "metadata": {},
     "output_type": "execute_result"
    }
   ],
   "source": [
    "stats.proportion.proportion_confint(seg_sal.MDR, seg_sal.total)"
   ]
  },
  {
   "cell_type": "code",
   "execution_count": null,
   "metadata": {},
   "outputs": [],
   "source": []
  },
  {
   "cell_type": "code",
   "execution_count": 126,
   "metadata": {},
   "outputs": [
    {
     "data": {
      "text/plain": [
       "0    0.073905\n",
       "1         NaN\n",
       "2    0.052259\n",
       "3    0.070406\n",
       "dtype: float64"
      ]
     },
     "execution_count": 126,
     "metadata": {},
     "output_type": "execute_result"
    }
   ],
   "source": [
    "stats.proportion.std_prop(seg_sal.MDR/seg_sal.total, seg_sal.total)"
   ]
  },
  {
   "cell_type": "code",
   "execution_count": 127,
   "metadata": {},
   "outputs": [
    {
     "data": {
      "text/plain": [
       "(0    0.056802\n",
       " 1         NaN\n",
       " 2    0.233175\n",
       " 3    0.027213\n",
       " dtype: float64,\n",
       " 0    0.558583\n",
       " 1         NaN\n",
       " 2    0.612979\n",
       " 3    0.393839\n",
       " dtype: float64)"
      ]
     },
     "execution_count": 127,
     "metadata": {},
     "output_type": "execute_result"
    }
   ],
   "source": [
    "stats.proportion.proportion_confint(seg_sal.AMR, seg_sal.total)"
   ]
  },
  {
   "cell_type": "code",
   "execution_count": 128,
   "metadata": {},
   "outputs": [
    {
     "data": {
      "text/plain": [
       "0    0.128008\n",
       "1         NaN\n",
       "2    0.096891\n",
       "3    0.093529\n",
       "dtype: float64"
      ]
     },
     "execution_count": 128,
     "metadata": {},
     "output_type": "execute_result"
    }
   ],
   "source": [
    "stats.proportion.std_prop(seg_sal.AMR/seg_sal.total, seg_sal.total)"
   ]
  },
  {
   "cell_type": "code",
   "execution_count": 129,
   "metadata": {},
   "outputs": [
    {
     "data": {
      "text/plain": [
       "(0.4709798089057342, 0.8367124987865735)"
      ]
     },
     "execution_count": 129,
     "metadata": {},
     "output_type": "execute_result"
    }
   ],
   "source": [
    "stats.proportion.proportion_confint(17, 26)"
   ]
  },
  {
   "cell_type": "code",
   "execution_count": 130,
   "metadata": {},
   "outputs": [
    {
     "data": {
      "text/plain": [
       "0.09330087000722768"
      ]
     },
     "execution_count": 130,
     "metadata": {},
     "output_type": "execute_result"
    }
   ],
   "source": [
    "stats.proportion.std_prop(17/26, 26)"
   ]
  },
  {
   "cell_type": "code",
   "execution_count": 131,
   "metadata": {},
   "outputs": [
    {
     "data": {
      "text/plain": [
       "58"
      ]
     },
     "execution_count": 131,
     "metadata": {},
     "output_type": "execute_result"
    }
   ],
   "source": [
    "len(sal_d['MT_Results Individual_CowID'].unique())"
   ]
  },
  {
   "cell_type": "code",
   "execution_count": 132,
   "metadata": {},
   "outputs": [
    {
     "data": {
      "image/png": "[encoded data removed]",
      "text/plain": [
       "<Figure size 648x648 with 3 Axes>"
      ]
     },
     "metadata": {},
     "output_type": "display_data"
    }
   ],
   "source": [
    "def plot_bacteria_season(ax, seg_df, title):\n",
    "    ax.errorbar(data=seg_df, x='AMR_pc', y='Season', \n",
    "                xerr=seg_df['AMR_SE'].values,yerr = None, ls='none', \n",
    "               ecolor='#66c2a5', elinewidth=3.5, capsize=8, barsabove=True,)\n",
    "    sns.pointplot(data=seg_df, x='AMR_pc', y='Season', join=False, ax = ax, scale=2.5,color ='#66c2a5')\n",
    "    ax.errorbar(data=seg_df, x='MDR_pc', y='Season', \n",
    "                xerr=seg_df['MDR_SE'].values,yerr = None, ls='none', \n",
    "               ecolor = '#fc8d62', elinewidth=3.5, capsize=8, barsabove=True,)\n",
    "    sns.pointplot(data=seg_df, x='MDR_pc', y='Season', join=False, ax = ax, scale=2.5,color = '#fc8d62')\n",
    "    ax.set_title(title, fontsize = 12)\n",
    "    ax.axvline(x = seg_df.MDR.sum()*100/seg_df.total.sum(), color = '#fc8d62', linestyle='--', linewidth = 2)\n",
    "    ax.axvline(x = seg_df.AMR.sum()*100/seg_df.total.sum(), color = '#66c2a5', linestyle='--', linewidth = 2)\n",
    "    ax.set_xlabel('Prevalence (%)')\n",
    "    return ax\n",
    "\n",
    "import matplotlib.patches as mpatches\n",
    "import matplotlib.pyplot as plt\n",
    "\n",
    "AMR_patch = mpatches.Patch(color='#66c2a5', label='AMR')\n",
    "MDR_patch = mpatches.Patch(color='#fc8d62', label='MDR')\n",
    "\n",
    "\n",
    "fig, (ax1, ax2, ax3) = plt.subplots(3, 1, figsize = [9, 9], sharex = True)\n",
    "plot_bacteria_season(ax = ax1,\n",
    "                     seg_df = seg_sal.fillna(0), title = \"(a) Salmonella (n = 58)\")\n",
    "plot_bacteria_season(ax = ax2,\n",
    "                     seg_df = seg_ecoli, title = \"(b) E. coli (n = 238)\")\n",
    "plot_bacteria_season(ax = ax3,\n",
    "                     seg_df = seg_entero, title = \"(c) Enterococcus spp. (n = 238)\")\n",
    "fig.legend(handles=[AMR_patch, MDR_patch])\n",
    "plt.tight_layout()\n",
    "plt.savefig(output_path+\"Figure1.png\", dpi = 600)\n",
    "plt.savefig(output_path+\"Figure1.svg\")\n",
    "plt.show()"
   ]
  },
  {
   "cell_type": "code",
   "execution_count": 133,
   "metadata": {},
   "outputs": [
    {
     "data": {
      "text/plain": [
       "(243,)"
      ]
     },
     "execution_count": 133,
     "metadata": {},
     "output_type": "execute_result"
    }
   ],
   "source": [
    "data['MT_Results Individual_CowID'].shape"
   ]
  },
  {
   "cell_type": "code",
   "execution_count": 134,
   "metadata": {},
   "outputs": [
    {
     "data": {
      "text/plain": [
       "238"
      ]
     },
     "execution_count": 134,
     "metadata": {},
     "output_type": "execute_result"
    }
   ],
   "source": [
    "len(data['MT_Results Individual_CowID'].unique())"
   ]
  },
  {
   "cell_type": "code",
   "execution_count": 135,
   "metadata": {},
   "outputs": [
    {
     "data": {
      "text/plain": [
       "Ecoli_R\n",
       "0    66.386555\n",
       "1    30.672269\n",
       "2     2.941176\n",
       "Name: MT_Results Individual_CowID, dtype: float64"
      ]
     },
     "execution_count": 135,
     "metadata": {},
     "output_type": "execute_result"
    }
   ],
   "source": [
    "data.groupby(['Ecoli_R'])['MT_Results Individual_CowID'].nunique()*100/len(data['MT_Results Individual_CowID'].unique())"
   ]
  },
  {
   "cell_type": "code",
   "execution_count": 136,
   "metadata": {},
   "outputs": [
    {
     "data": {
      "text/plain": [
       "Entero_R\n",
       "0    36.134454\n",
       "1    37.815126\n",
       "2    26.470588\n",
       "Name: MT_Results Individual_CowID, dtype: float64"
      ]
     },
     "execution_count": 136,
     "metadata": {},
     "output_type": "execute_result"
    }
   ],
   "source": [
    "data.groupby(['Entero_R'])['MT_Results Individual_CowID'].nunique()*100/len(data['MT_Results Individual_CowID'].unique())"
   ]
  },
  {
   "cell_type": "code",
   "execution_count": 137,
   "metadata": {},
   "outputs": [
    {
     "data": {
      "text/plain": [
       "array(['Autumn', 'Winter', 'Spring'], dtype=object)"
      ]
     },
     "execution_count": 137,
     "metadata": {},
     "output_type": "execute_result"
    }
   ],
   "source": [
    "sal_d.Season.unique()"
   ]
  },
  {
   "cell_type": "code",
   "execution_count": 138,
   "metadata": {},
   "outputs": [
    {
     "data": {
      "text/plain": [
       "Sal_R\n",
       "0    58.620690\n",
       "1    32.758621\n",
       "2     8.620690\n",
       "Name: MT_Results Individual_CowID, dtype: float64"
      ]
     },
     "execution_count": 138,
     "metadata": {},
     "output_type": "execute_result"
    }
   ],
   "source": [
    "sal_d.groupby(['Sal_R'])['MT_Results Individual_CowID'].nunique()*100/len(sal_d['MT_Results Individual_CowID'].unique())"
   ]
  },
  {
   "cell_type": "code",
   "execution_count": 139,
   "metadata": {},
   "outputs": [
    {
     "data": {
      "text/plain": [
       "Season  Ecoli_R\n",
       "Autumn  0          65\n",
       "        1          31\n",
       "        2           4\n",
       "Spring  0          45\n",
       "        1          24\n",
       "        2           1\n",
       "Summer  0          16\n",
       "        1           4\n",
       "        2           0\n",
       "Winter  0          33\n",
       "        1          14\n",
       "        2           2\n",
       "Name: MT_Results Individual_CowID, dtype: int64"
      ]
     },
     "execution_count": 139,
     "metadata": {},
     "output_type": "execute_result"
    }
   ],
   "source": [
    "data.groupby(['Season', 'Ecoli_R'])['MT_Results Individual_CowID'].nunique()"
   ]
  },
  {
   "cell_type": "code",
   "execution_count": 140,
   "metadata": {},
   "outputs": [
    {
     "data": {
      "text/plain": [
       "['F_Salmonella PCR_Result',\n",
       " 'F_AMR_CowID',\n",
       " 'SR_FOX',\n",
       " 'SR_AZI',\n",
       " 'SR_CHL',\n",
       " 'SR_TET',\n",
       " 'SR_AXO',\n",
       " 'SR_AUG2',\n",
       " 'SR_CIP',\n",
       " 'SR_GEN',\n",
       " 'SR_Nal',\n",
       " 'SR_XNL',\n",
       " 'SR_FIS',\n",
       " 'SR_SXT',\n",
       " 'SR_AMP',\n",
       " 'SR_STR',\n",
       " 'MT_Results Individual F_AMR_Number of drugs Resistant',\n",
       " 'MT_Results Individual F_AMR_Number of drugs Susceptable',\n",
       " 'Entero_DrugsR_t',\n",
       " 'Ecoli_DrugsR_t',\n",
       " 'Sal_DrugsR_t',\n",
       " 'R_n',\n",
       " 'R_commensal',\n",
       " 'R_commensal_n',\n",
       " 'Sal_AbR_n',\n",
       " 'Entero_AbR_n',\n",
       " 'Ecoli_AbR_n',\n",
       " 'R_factor']"
      ]
     },
     "execution_count": 140,
     "metadata": {},
     "output_type": "execute_result"
    }
   ],
   "source": [
    "data.filter(like='R_').columns.tolist()"
   ]
  },
  {
   "cell_type": "code",
   "execution_count": 141,
   "metadata": {},
   "outputs": [
    {
     "data": {
      "text/html": [
       "<div>\n",
       "<style scoped>\n",
       "    .dataframe tbody tr th:only-of-type {\n",
       "        vertical-align: middle;\n",
       "    }\n",
       "\n",
       "    .dataframe tbody tr th {\n",
       "        vertical-align: top;\n",
       "    }\n",
       "\n",
       "    .dataframe thead th {\n",
       "        text-align: right;\n",
       "    }\n",
       "</style>\n",
       "<table border=\"1\" class=\"dataframe\">\n",
       "  <thead>\n",
       "    <tr style=\"text-align: right;\">\n",
       "      <th></th>\n",
       "      <th>Season</th>\n",
       "      <th>Resistance</th>\n",
       "      <th>Cows</th>\n",
       "      <th>Cows_str</th>\n",
       "    </tr>\n",
       "  </thead>\n",
       "  <tbody>\n",
       "    <tr>\n",
       "      <th>0</th>\n",
       "      <td>Autumn</td>\n",
       "      <td>No_resistance</td>\n",
       "      <td>23</td>\n",
       "      <td>23</td>\n",
       "    </tr>\n",
       "    <tr>\n",
       "      <th>1</th>\n",
       "      <td>Autumn</td>\n",
       "      <td>AMR</td>\n",
       "      <td>43</td>\n",
       "      <td>43</td>\n",
       "    </tr>\n",
       "    <tr>\n",
       "      <th>2</th>\n",
       "      <td>Autumn</td>\n",
       "      <td>MDR</td>\n",
       "      <td>34</td>\n",
       "      <td>34</td>\n",
       "    </tr>\n",
       "    <tr>\n",
       "      <th>3</th>\n",
       "      <td>Spring</td>\n",
       "      <td>No_resistance</td>\n",
       "      <td>19</td>\n",
       "      <td>19</td>\n",
       "    </tr>\n",
       "    <tr>\n",
       "      <th>4</th>\n",
       "      <td>Spring</td>\n",
       "      <td>AMR</td>\n",
       "      <td>32</td>\n",
       "      <td>32</td>\n",
       "    </tr>\n",
       "  </tbody>\n",
       "</table>\n",
       "</div>"
      ],
      "text/plain": [
       "   Season     Resistance  Cows Cows_str\n",
       "0  Autumn  No_resistance    23       23\n",
       "1  Autumn            AMR    43       43\n",
       "2  Autumn            MDR    34       34\n",
       "3  Spring  No_resistance    19       19\n",
       "4  Spring            AMR    32       32"
      ]
     },
     "execution_count": 141,
     "metadata": {},
     "output_type": "execute_result"
    }
   ],
   "source": [
    "q = data.groupby(['Season', 'R_factor'])['MT_Results Individual_CowID'].nunique().reset_index()\n",
    "q.columns= ['Season', 'Resistance', 'Cows']\n",
    "q.Resistance.replace(1, 'AMR', inplace = True)\n",
    "q.Resistance.replace(2, 'MDR', inplace = True)\n",
    "q.Resistance.replace(0, 'No_resistance', inplace = True)\n",
    "q['Cows_str'] = q.Cows.apply(str)\n",
    "q.head()"
   ]
  },
  {
   "cell_type": "code",
   "execution_count": 142,
   "metadata": {},
   "outputs": [
    {
     "data": {
      "text/html": [
       "<div>\n",
       "<style scoped>\n",
       "    .dataframe tbody tr th:only-of-type {\n",
       "        vertical-align: middle;\n",
       "    }\n",
       "\n",
       "    .dataframe tbody tr th {\n",
       "        vertical-align: top;\n",
       "    }\n",
       "\n",
       "    .dataframe thead th {\n",
       "        text-align: right;\n",
       "    }\n",
       "</style>\n",
       "<table border=\"1\" class=\"dataframe\">\n",
       "  <thead>\n",
       "    <tr style=\"text-align: right;\">\n",
       "      <th></th>\n",
       "      <th>CowID</th>\n",
       "      <th>Ecoli_AbR</th>\n",
       "      <th>Entero_AbR</th>\n",
       "      <th>Sal_AbR</th>\n",
       "      <th>R_commensal</th>\n",
       "      <th>R</th>\n",
       "      <th>R_factor</th>\n",
       "      <th>Entero_DrugsR</th>\n",
       "      <th>Sal_DrugsR</th>\n",
       "      <th>Ecoli_DrugsR</th>\n",
       "      <th>Dairy ID</th>\n",
       "    </tr>\n",
       "  </thead>\n",
       "  <tbody>\n",
       "    <tr>\n",
       "      <th>0</th>\n",
       "      <td>4672</td>\n",
       "      <td>[]</td>\n",
       "      <td>[Nitrofuran antibacterial, Macrolides]</td>\n",
       "      <td>[]</td>\n",
       "      <td>[Nitrofuran antibacterial, Macrolides]</td>\n",
       "      <td>[Nitrofuran antibacterial, Macrolides]</td>\n",
       "      <td>1</td>\n",
       "      <td>[NIT, ERY, CIP]</td>\n",
       "      <td>[]</td>\n",
       "      <td>[]</td>\n",
       "      <td>5</td>\n",
       "    </tr>\n",
       "    <tr>\n",
       "      <th>1</th>\n",
       "      <td>1099</td>\n",
       "      <td>[]</td>\n",
       "      <td>[Tetracyclines, Amphenicols, Macrolides, Oxazo...</td>\n",
       "      <td>[]</td>\n",
       "      <td>[Amphenicols, Macrolides, Tetracyclines, Oxazo...</td>\n",
       "      <td>[Amphenicols, Macrolides, Tetracyclines, Oxazo...</td>\n",
       "      <td>2</td>\n",
       "      <td>[TET, CHL, LZD, ERY, CIP, LIN]</td>\n",
       "      <td>[]</td>\n",
       "      <td>[]</td>\n",
       "      <td>5</td>\n",
       "    </tr>\n",
       "    <tr>\n",
       "      <th>2</th>\n",
       "      <td>3786</td>\n",
       "      <td>[]</td>\n",
       "      <td>[Amphenicols, Nitrofuran antibacterial, Tetrac...</td>\n",
       "      <td>[]</td>\n",
       "      <td>[Nitrofuran antibacterial, Amphenicols, Tetrac...</td>\n",
       "      <td>[Nitrofuran antibacterial, Amphenicols, Tetrac...</td>\n",
       "      <td>2</td>\n",
       "      <td>[TET, CHL, NIT]</td>\n",
       "      <td>[]</td>\n",
       "      <td>[]</td>\n",
       "      <td>5</td>\n",
       "    </tr>\n",
       "    <tr>\n",
       "      <th>3</th>\n",
       "      <td>3596</td>\n",
       "      <td>[]</td>\n",
       "      <td>[Streptogramin, Nitrofuran antibacterial, Macr...</td>\n",
       "      <td>[]</td>\n",
       "      <td>[Streptogramin, Nitrofuran antibacterial, Macr...</td>\n",
       "      <td>[Streptogramin, Nitrofuran antibacterial, Macr...</td>\n",
       "      <td>2</td>\n",
       "      <td>[SYN, LZD, NIT, KAN, ERY, CIP, LIN, GEN]</td>\n",
       "      <td>[]</td>\n",
       "      <td>[]</td>\n",
       "      <td>5</td>\n",
       "    </tr>\n",
       "    <tr>\n",
       "      <th>4</th>\n",
       "      <td>4880</td>\n",
       "      <td>[]</td>\n",
       "      <td>[Macrolides, Tetracyclines, Streptogramin, Nit...</td>\n",
       "      <td>[]</td>\n",
       "      <td>[Macrolides, Oxazolidinones, Streptogramin, Ni...</td>\n",
       "      <td>[Macrolides, Oxazolidinones, Streptogramin, Ni...</td>\n",
       "      <td>2</td>\n",
       "      <td>[TET, CHL, STR, TYLT, SYN, LZD, NIT, KAN, ERY,...</td>\n",
       "      <td>[]</td>\n",
       "      <td>[]</td>\n",
       "      <td>5</td>\n",
       "    </tr>\n",
       "  </tbody>\n",
       "</table>\n",
       "</div>"
      ],
      "text/plain": [
       "   CowID Ecoli_AbR                                         Entero_AbR Sal_AbR  \\\n",
       "0   4672        []             [Nitrofuran antibacterial, Macrolides]      []   \n",
       "1   1099        []  [Tetracyclines, Amphenicols, Macrolides, Oxazo...      []   \n",
       "2   3786        []  [Amphenicols, Nitrofuran antibacterial, Tetrac...      []   \n",
       "3   3596        []  [Streptogramin, Nitrofuran antibacterial, Macr...      []   \n",
       "4   4880        []  [Macrolides, Tetracyclines, Streptogramin, Nit...      []   \n",
       "\n",
       "                                         R_commensal  \\\n",
       "0             [Nitrofuran antibacterial, Macrolides]   \n",
       "1  [Amphenicols, Macrolides, Tetracyclines, Oxazo...   \n",
       "2  [Nitrofuran antibacterial, Amphenicols, Tetrac...   \n",
       "3  [Streptogramin, Nitrofuran antibacterial, Macr...   \n",
       "4  [Macrolides, Oxazolidinones, Streptogramin, Ni...   \n",
       "\n",
       "                                                   R R_factor  \\\n",
       "0             [Nitrofuran antibacterial, Macrolides]        1   \n",
       "1  [Amphenicols, Macrolides, Tetracyclines, Oxazo...        2   \n",
       "2  [Nitrofuran antibacterial, Amphenicols, Tetrac...        2   \n",
       "3  [Streptogramin, Nitrofuran antibacterial, Macr...        2   \n",
       "4  [Macrolides, Oxazolidinones, Streptogramin, Ni...        2   \n",
       "\n",
       "                                       Entero_DrugsR Sal_DrugsR Ecoli_DrugsR  \\\n",
       "0                                    [NIT, ERY, CIP]         []           []   \n",
       "1                     [TET, CHL, LZD, ERY, CIP, LIN]         []           []   \n",
       "2                                    [TET, CHL, NIT]         []           []   \n",
       "3           [SYN, LZD, NIT, KAN, ERY, CIP, LIN, GEN]         []           []   \n",
       "4  [TET, CHL, STR, TYLT, SYN, LZD, NIT, KAN, ERY,...         []           []   \n",
       "\n",
       "  Dairy ID  \n",
       "0        5  \n",
       "1        5  \n",
       "2        5  \n",
       "3        5  \n",
       "4        5  "
      ]
     },
     "execution_count": 142,
     "metadata": {},
     "output_type": "execute_result"
    }
   ],
   "source": [
    "df   = data[['CowID','Ecoli_AbR','Entero_AbR', 'Sal_AbR', 'R_commensal', 'R', 'R_factor', 'Entero_DrugsR', 'Sal_DrugsR', 'Ecoli_DrugsR', 'Dairy ID']]\n",
    "df.head()"
   ]
  },
  {
   "cell_type": "code",
   "execution_count": 143,
   "metadata": {},
   "outputs": [],
   "source": [
    "df['DrugsR_commensal'] = (df['Entero_DrugsR']+ df['Ecoli_DrugsR']).apply(set)"
   ]
  },
  {
   "cell_type": "code",
   "execution_count": 144,
   "metadata": {},
   "outputs": [
    {
     "data": {
      "text/html": [
       "<div>\n",
       "<style scoped>\n",
       "    .dataframe tbody tr th:only-of-type {\n",
       "        vertical-align: middle;\n",
       "    }\n",
       "\n",
       "    .dataframe tbody tr th {\n",
       "        vertical-align: top;\n",
       "    }\n",
       "\n",
       "    .dataframe thead th {\n",
       "        text-align: right;\n",
       "    }\n",
       "</style>\n",
       "<table border=\"1\" class=\"dataframe\">\n",
       "  <thead>\n",
       "    <tr style=\"text-align: right;\">\n",
       "      <th></th>\n",
       "      <th>CowID</th>\n",
       "      <th>Ecoli_AbR</th>\n",
       "      <th>Entero_AbR</th>\n",
       "      <th>Sal_AbR</th>\n",
       "      <th>R_commensal</th>\n",
       "      <th>R</th>\n",
       "      <th>R_factor</th>\n",
       "      <th>Entero_DrugsR</th>\n",
       "      <th>Sal_DrugsR</th>\n",
       "      <th>Ecoli_DrugsR</th>\n",
       "      <th>Dairy ID</th>\n",
       "      <th>DrugsR_commensal</th>\n",
       "      <th>sharing</th>\n",
       "    </tr>\n",
       "  </thead>\n",
       "  <tbody>\n",
       "    <tr>\n",
       "      <th>0</th>\n",
       "      <td>4672</td>\n",
       "      <td>[]</td>\n",
       "      <td>[Nitrofuran antibacterial, Macrolides]</td>\n",
       "      <td>[]</td>\n",
       "      <td>[Nitrofuran antibacterial, Macrolides]</td>\n",
       "      <td>[Nitrofuran antibacterial, Macrolides]</td>\n",
       "      <td>1</td>\n",
       "      <td>[NIT, ERY, CIP]</td>\n",
       "      <td>[]</td>\n",
       "      <td>[]</td>\n",
       "      <td>5</td>\n",
       "      <td>{ERY, NIT, CIP}</td>\n",
       "      <td>{}</td>\n",
       "    </tr>\n",
       "    <tr>\n",
       "      <th>1</th>\n",
       "      <td>1099</td>\n",
       "      <td>[]</td>\n",
       "      <td>[Tetracyclines, Amphenicols, Macrolides, Oxazo...</td>\n",
       "      <td>[]</td>\n",
       "      <td>[Amphenicols, Macrolides, Tetracyclines, Oxazo...</td>\n",
       "      <td>[Amphenicols, Macrolides, Tetracyclines, Oxazo...</td>\n",
       "      <td>2</td>\n",
       "      <td>[TET, CHL, LZD, ERY, CIP, LIN]</td>\n",
       "      <td>[]</td>\n",
       "      <td>[]</td>\n",
       "      <td>5</td>\n",
       "      <td>{LIN, CIP, ERY, TET, CHL, LZD}</td>\n",
       "      <td>{}</td>\n",
       "    </tr>\n",
       "    <tr>\n",
       "      <th>2</th>\n",
       "      <td>3786</td>\n",
       "      <td>[]</td>\n",
       "      <td>[Amphenicols, Nitrofuran antibacterial, Tetrac...</td>\n",
       "      <td>[]</td>\n",
       "      <td>[Nitrofuran antibacterial, Amphenicols, Tetrac...</td>\n",
       "      <td>[Nitrofuran antibacterial, Amphenicols, Tetrac...</td>\n",
       "      <td>2</td>\n",
       "      <td>[TET, CHL, NIT]</td>\n",
       "      <td>[]</td>\n",
       "      <td>[]</td>\n",
       "      <td>5</td>\n",
       "      <td>{NIT, CHL, TET}</td>\n",
       "      <td>{}</td>\n",
       "    </tr>\n",
       "    <tr>\n",
       "      <th>3</th>\n",
       "      <td>3596</td>\n",
       "      <td>[]</td>\n",
       "      <td>[Streptogramin, Nitrofuran antibacterial, Macr...</td>\n",
       "      <td>[]</td>\n",
       "      <td>[Streptogramin, Nitrofuran antibacterial, Macr...</td>\n",
       "      <td>[Streptogramin, Nitrofuran antibacterial, Macr...</td>\n",
       "      <td>2</td>\n",
       "      <td>[SYN, LZD, NIT, KAN, ERY, CIP, LIN, GEN]</td>\n",
       "      <td>[]</td>\n",
       "      <td>[]</td>\n",
       "      <td>5</td>\n",
       "      <td>{LIN, NIT, CIP, ERY, KAN, GEN, LZD, SYN}</td>\n",
       "      <td>{}</td>\n",
       "    </tr>\n",
       "    <tr>\n",
       "      <th>4</th>\n",
       "      <td>4880</td>\n",
       "      <td>[]</td>\n",
       "      <td>[Macrolides, Tetracyclines, Streptogramin, Nit...</td>\n",
       "      <td>[]</td>\n",
       "      <td>[Macrolides, Oxazolidinones, Streptogramin, Ni...</td>\n",
       "      <td>[Macrolides, Oxazolidinones, Streptogramin, Ni...</td>\n",
       "      <td>2</td>\n",
       "      <td>[TET, CHL, STR, TYLT, SYN, LZD, NIT, KAN, ERY,...</td>\n",
       "      <td>[]</td>\n",
       "      <td>[]</td>\n",
       "      <td>5</td>\n",
       "      <td>{LIN, NIT, STR, CIP, ERY, KAN, TET, TYLT, GEN,...</td>\n",
       "      <td>{}</td>\n",
       "    </tr>\n",
       "  </tbody>\n",
       "</table>\n",
       "</div>"
      ],
      "text/plain": [
       "   CowID Ecoli_AbR                                         Entero_AbR Sal_AbR  \\\n",
       "0   4672        []             [Nitrofuran antibacterial, Macrolides]      []   \n",
       "1   1099        []  [Tetracyclines, Amphenicols, Macrolides, Oxazo...      []   \n",
       "2   3786        []  [Amphenicols, Nitrofuran antibacterial, Tetrac...      []   \n",
       "3   3596        []  [Streptogramin, Nitrofuran antibacterial, Macr...      []   \n",
       "4   4880        []  [Macrolides, Tetracyclines, Streptogramin, Nit...      []   \n",
       "\n",
       "                                         R_commensal  \\\n",
       "0             [Nitrofuran antibacterial, Macrolides]   \n",
       "1  [Amphenicols, Macrolides, Tetracyclines, Oxazo...   \n",
       "2  [Nitrofuran antibacterial, Amphenicols, Tetrac...   \n",
       "3  [Streptogramin, Nitrofuran antibacterial, Macr...   \n",
       "4  [Macrolides, Oxazolidinones, Streptogramin, Ni...   \n",
       "\n",
       "                                                   R R_factor  \\\n",
       "0             [Nitrofuran antibacterial, Macrolides]        1   \n",
       "1  [Amphenicols, Macrolides, Tetracyclines, Oxazo...        2   \n",
       "2  [Nitrofuran antibacterial, Amphenicols, Tetrac...        2   \n",
       "3  [Streptogramin, Nitrofuran antibacterial, Macr...        2   \n",
       "4  [Macrolides, Oxazolidinones, Streptogramin, Ni...        2   \n",
       "\n",
       "                                       Entero_DrugsR Sal_DrugsR Ecoli_DrugsR  \\\n",
       "0                                    [NIT, ERY, CIP]         []           []   \n",
       "1                     [TET, CHL, LZD, ERY, CIP, LIN]         []           []   \n",
       "2                                    [TET, CHL, NIT]         []           []   \n",
       "3           [SYN, LZD, NIT, KAN, ERY, CIP, LIN, GEN]         []           []   \n",
       "4  [TET, CHL, STR, TYLT, SYN, LZD, NIT, KAN, ERY,...         []           []   \n",
       "\n",
       "  Dairy ID                                   DrugsR_commensal sharing  \n",
       "0        5                                    {ERY, NIT, CIP}      {}  \n",
       "1        5                     {LIN, CIP, ERY, TET, CHL, LZD}      {}  \n",
       "2        5                                    {NIT, CHL, TET}      {}  \n",
       "3        5           {LIN, NIT, CIP, ERY, KAN, GEN, LZD, SYN}      {}  \n",
       "4        5  {LIN, NIT, STR, CIP, ERY, KAN, TET, TYLT, GEN,...      {}  "
      ]
     },
     "execution_count": 144,
     "metadata": {},
     "output_type": "execute_result"
    }
   ],
   "source": [
    "sharing = []\n",
    "for index, row in df.iterrows():\n",
    "    c = row['DrugsR_commensal']\n",
    "    d = row['Sal_DrugsR']\n",
    "    share = set(d).intersection(set(c))\n",
    "    sharing.append(share)\n",
    "df['sharing'] = sharing\n",
    "df.head()"
   ]
  },
  {
   "cell_type": "code",
   "execution_count": 145,
   "metadata": {},
   "outputs": [
    {
     "data": {
      "text/html": [
       "<div>\n",
       "<style scoped>\n",
       "    .dataframe tbody tr th:only-of-type {\n",
       "        vertical-align: middle;\n",
       "    }\n",
       "\n",
       "    .dataframe tbody tr th {\n",
       "        vertical-align: top;\n",
       "    }\n",
       "\n",
       "    .dataframe thead th {\n",
       "        text-align: right;\n",
       "    }\n",
       "</style>\n",
       "<table border=\"1\" class=\"dataframe\">\n",
       "  <thead>\n",
       "    <tr style=\"text-align: right;\">\n",
       "      <th></th>\n",
       "      <th>CowID</th>\n",
       "      <th>Ecoli_AbR</th>\n",
       "      <th>Entero_AbR</th>\n",
       "      <th>Sal_AbR</th>\n",
       "      <th>R_commensal</th>\n",
       "      <th>R</th>\n",
       "      <th>R_factor</th>\n",
       "      <th>Entero_DrugsR</th>\n",
       "      <th>Sal_DrugsR</th>\n",
       "      <th>Ecoli_DrugsR</th>\n",
       "      <th>Dairy ID</th>\n",
       "      <th>DrugsR_commensal</th>\n",
       "      <th>sharing</th>\n",
       "      <th>sharing_2</th>\n",
       "    </tr>\n",
       "  </thead>\n",
       "  <tbody>\n",
       "    <tr>\n",
       "      <th>0</th>\n",
       "      <td>4672</td>\n",
       "      <td>[]</td>\n",
       "      <td>[Nitrofuran antibacterial, Macrolides]</td>\n",
       "      <td>[]</td>\n",
       "      <td>[Nitrofuran antibacterial, Macrolides]</td>\n",
       "      <td>[Nitrofuran antibacterial, Macrolides]</td>\n",
       "      <td>1</td>\n",
       "      <td>[NIT, ERY, CIP]</td>\n",
       "      <td>[]</td>\n",
       "      <td>[]</td>\n",
       "      <td>5</td>\n",
       "      <td>{ERY, NIT, CIP}</td>\n",
       "      <td>{}</td>\n",
       "      <td>{}</td>\n",
       "    </tr>\n",
       "    <tr>\n",
       "      <th>1</th>\n",
       "      <td>1099</td>\n",
       "      <td>[]</td>\n",
       "      <td>[Tetracyclines, Amphenicols, Macrolides, Oxazo...</td>\n",
       "      <td>[]</td>\n",
       "      <td>[Amphenicols, Macrolides, Tetracyclines, Oxazo...</td>\n",
       "      <td>[Amphenicols, Macrolides, Tetracyclines, Oxazo...</td>\n",
       "      <td>2</td>\n",
       "      <td>[TET, CHL, LZD, ERY, CIP, LIN]</td>\n",
       "      <td>[]</td>\n",
       "      <td>[]</td>\n",
       "      <td>5</td>\n",
       "      <td>{LIN, CIP, ERY, TET, CHL, LZD}</td>\n",
       "      <td>{}</td>\n",
       "      <td>{}</td>\n",
       "    </tr>\n",
       "    <tr>\n",
       "      <th>2</th>\n",
       "      <td>3786</td>\n",
       "      <td>[]</td>\n",
       "      <td>[Amphenicols, Nitrofuran antibacterial, Tetrac...</td>\n",
       "      <td>[]</td>\n",
       "      <td>[Nitrofuran antibacterial, Amphenicols, Tetrac...</td>\n",
       "      <td>[Nitrofuran antibacterial, Amphenicols, Tetrac...</td>\n",
       "      <td>2</td>\n",
       "      <td>[TET, CHL, NIT]</td>\n",
       "      <td>[]</td>\n",
       "      <td>[]</td>\n",
       "      <td>5</td>\n",
       "      <td>{NIT, CHL, TET}</td>\n",
       "      <td>{}</td>\n",
       "      <td>{}</td>\n",
       "    </tr>\n",
       "    <tr>\n",
       "      <th>3</th>\n",
       "      <td>3596</td>\n",
       "      <td>[]</td>\n",
       "      <td>[Streptogramin, Nitrofuran antibacterial, Macr...</td>\n",
       "      <td>[]</td>\n",
       "      <td>[Streptogramin, Nitrofuran antibacterial, Macr...</td>\n",
       "      <td>[Streptogramin, Nitrofuran antibacterial, Macr...</td>\n",
       "      <td>2</td>\n",
       "      <td>[SYN, LZD, NIT, KAN, ERY, CIP, LIN, GEN]</td>\n",
       "      <td>[]</td>\n",
       "      <td>[]</td>\n",
       "      <td>5</td>\n",
       "      <td>{LIN, NIT, CIP, ERY, KAN, GEN, LZD, SYN}</td>\n",
       "      <td>{}</td>\n",
       "      <td>{}</td>\n",
       "    </tr>\n",
       "    <tr>\n",
       "      <th>4</th>\n",
       "      <td>4880</td>\n",
       "      <td>[]</td>\n",
       "      <td>[Macrolides, Tetracyclines, Streptogramin, Nit...</td>\n",
       "      <td>[]</td>\n",
       "      <td>[Macrolides, Oxazolidinones, Streptogramin, Ni...</td>\n",
       "      <td>[Macrolides, Oxazolidinones, Streptogramin, Ni...</td>\n",
       "      <td>2</td>\n",
       "      <td>[TET, CHL, STR, TYLT, SYN, LZD, NIT, KAN, ERY,...</td>\n",
       "      <td>[]</td>\n",
       "      <td>[]</td>\n",
       "      <td>5</td>\n",
       "      <td>{LIN, NIT, STR, CIP, ERY, KAN, TET, TYLT, GEN,...</td>\n",
       "      <td>{}</td>\n",
       "      <td>{}</td>\n",
       "    </tr>\n",
       "  </tbody>\n",
       "</table>\n",
       "</div>"
      ],
      "text/plain": [
       "   CowID Ecoli_AbR                                         Entero_AbR Sal_AbR  \\\n",
       "0   4672        []             [Nitrofuran antibacterial, Macrolides]      []   \n",
       "1   1099        []  [Tetracyclines, Amphenicols, Macrolides, Oxazo...      []   \n",
       "2   3786        []  [Amphenicols, Nitrofuran antibacterial, Tetrac...      []   \n",
       "3   3596        []  [Streptogramin, Nitrofuran antibacterial, Macr...      []   \n",
       "4   4880        []  [Macrolides, Tetracyclines, Streptogramin, Nit...      []   \n",
       "\n",
       "                                         R_commensal  \\\n",
       "0             [Nitrofuran antibacterial, Macrolides]   \n",
       "1  [Amphenicols, Macrolides, Tetracyclines, Oxazo...   \n",
       "2  [Nitrofuran antibacterial, Amphenicols, Tetrac...   \n",
       "3  [Streptogramin, Nitrofuran antibacterial, Macr...   \n",
       "4  [Macrolides, Oxazolidinones, Streptogramin, Ni...   \n",
       "\n",
       "                                                   R R_factor  \\\n",
       "0             [Nitrofuran antibacterial, Macrolides]        1   \n",
       "1  [Amphenicols, Macrolides, Tetracyclines, Oxazo...        2   \n",
       "2  [Nitrofuran antibacterial, Amphenicols, Tetrac...        2   \n",
       "3  [Streptogramin, Nitrofuran antibacterial, Macr...        2   \n",
       "4  [Macrolides, Oxazolidinones, Streptogramin, Ni...        2   \n",
       "\n",
       "                                       Entero_DrugsR Sal_DrugsR Ecoli_DrugsR  \\\n",
       "0                                    [NIT, ERY, CIP]         []           []   \n",
       "1                     [TET, CHL, LZD, ERY, CIP, LIN]         []           []   \n",
       "2                                    [TET, CHL, NIT]         []           []   \n",
       "3           [SYN, LZD, NIT, KAN, ERY, CIP, LIN, GEN]         []           []   \n",
       "4  [TET, CHL, STR, TYLT, SYN, LZD, NIT, KAN, ERY,...         []           []   \n",
       "\n",
       "  Dairy ID                                   DrugsR_commensal sharing  \\\n",
       "0        5                                    {ERY, NIT, CIP}      {}   \n",
       "1        5                     {LIN, CIP, ERY, TET, CHL, LZD}      {}   \n",
       "2        5                                    {NIT, CHL, TET}      {}   \n",
       "3        5           {LIN, NIT, CIP, ERY, KAN, GEN, LZD, SYN}      {}   \n",
       "4        5  {LIN, NIT, STR, CIP, ERY, KAN, TET, TYLT, GEN,...      {}   \n",
       "\n",
       "  sharing_2  \n",
       "0        {}  \n",
       "1        {}  \n",
       "2        {}  \n",
       "3        {}  \n",
       "4        {}  "
      ]
     },
     "execution_count": 145,
     "metadata": {},
     "output_type": "execute_result"
    }
   ],
   "source": [
    "sharing_2 = []\n",
    "for index, row in df.iterrows():\n",
    "    c = row['Ecoli_DrugsR']\n",
    "    d = row['Entero_DrugsR']\n",
    "    share = set(d).intersection(set(c))\n",
    "    sharing_2.append(share)\n",
    "df['sharing_2'] = sharing_2\n",
    "df.head()"
   ]
  },
  {
   "cell_type": "code",
   "execution_count": 146,
   "metadata": {},
   "outputs": [
    {
     "data": {
      "text/plain": [
       "[]                                                               218\n",
       "['Tetracyclines']                                                 10\n",
       "['Amphenicols', 'Penicillins', 'Tetracyclines']                    4\n",
       "['Penicillins']                                                    3\n",
       "['Folate pathway antagonist']                                      2\n",
       "['Penicillins', 'Tetracyclines']                                   2\n",
       "['Penicillins', 'Tetracyclines', 'Folate pathway antagonist']      1\n",
       "['Amphenicols', 'Penicillins']                                     1\n",
       "['Tetracyclines', 'Folate pathway antagonist']                     1\n",
       "['Amphenicols']                                                    1\n",
       "Name: Sal_AbR, dtype: int64"
      ]
     },
     "execution_count": 146,
     "metadata": {},
     "output_type": "execute_result"
    }
   ],
   "source": [
    "df.Sal_AbR.astype(str).value_counts()"
   ]
  },
  {
   "cell_type": "code",
   "execution_count": 147,
   "metadata": {},
   "outputs": [
    {
     "data": {
      "text/html": [
       "<div>\n",
       "<style scoped>\n",
       "    .dataframe tbody tr th:only-of-type {\n",
       "        vertical-align: middle;\n",
       "    }\n",
       "\n",
       "    .dataframe tbody tr th {\n",
       "        vertical-align: top;\n",
       "    }\n",
       "\n",
       "    .dataframe thead th {\n",
       "        text-align: right;\n",
       "    }\n",
       "</style>\n",
       "<table border=\"1\" class=\"dataframe\">\n",
       "  <thead>\n",
       "    <tr style=\"text-align: right;\">\n",
       "      <th></th>\n",
       "      <th>CowID</th>\n",
       "      <th>Ecoli_AbR</th>\n",
       "      <th>Entero_AbR</th>\n",
       "      <th>Sal_AbR</th>\n",
       "      <th>R_commensal</th>\n",
       "      <th>R</th>\n",
       "      <th>R_factor</th>\n",
       "      <th>Entero_DrugsR</th>\n",
       "      <th>Sal_DrugsR</th>\n",
       "      <th>Ecoli_DrugsR</th>\n",
       "      <th>Dairy ID</th>\n",
       "      <th>DrugsR_commensal</th>\n",
       "      <th>sharing</th>\n",
       "      <th>sharing_2</th>\n",
       "    </tr>\n",
       "  </thead>\n",
       "  <tbody>\n",
       "    <tr>\n",
       "      <th>0</th>\n",
       "      <td>4672</td>\n",
       "      <td>[]</td>\n",
       "      <td>[Nitrofuran antibacterial, Macrolides]</td>\n",
       "      <td>[]</td>\n",
       "      <td>[Nitrofuran antibacterial, Macrolides]</td>\n",
       "      <td>[Nitrofuran antibacterial, Macrolides]</td>\n",
       "      <td>1</td>\n",
       "      <td>[NIT, ERY, CIP]</td>\n",
       "      <td>[]</td>\n",
       "      <td>[]</td>\n",
       "      <td>5</td>\n",
       "      <td>{ERY, NIT, CIP}</td>\n",
       "      <td>{}</td>\n",
       "      <td>{}</td>\n",
       "    </tr>\n",
       "    <tr>\n",
       "      <th>1</th>\n",
       "      <td>1099</td>\n",
       "      <td>[]</td>\n",
       "      <td>[Tetracyclines, Amphenicols, Macrolides, Oxazo...</td>\n",
       "      <td>[]</td>\n",
       "      <td>[Amphenicols, Macrolides, Tetracyclines, Oxazo...</td>\n",
       "      <td>[Amphenicols, Macrolides, Tetracyclines, Oxazo...</td>\n",
       "      <td>2</td>\n",
       "      <td>[TET, CHL, LZD, ERY, CIP, LIN]</td>\n",
       "      <td>[]</td>\n",
       "      <td>[]</td>\n",
       "      <td>5</td>\n",
       "      <td>{LIN, CIP, ERY, TET, CHL, LZD}</td>\n",
       "      <td>{}</td>\n",
       "      <td>{}</td>\n",
       "    </tr>\n",
       "    <tr>\n",
       "      <th>2</th>\n",
       "      <td>3786</td>\n",
       "      <td>[]</td>\n",
       "      <td>[Amphenicols, Nitrofuran antibacterial, Tetrac...</td>\n",
       "      <td>[]</td>\n",
       "      <td>[Nitrofuran antibacterial, Amphenicols, Tetrac...</td>\n",
       "      <td>[Nitrofuran antibacterial, Amphenicols, Tetrac...</td>\n",
       "      <td>2</td>\n",
       "      <td>[TET, CHL, NIT]</td>\n",
       "      <td>[]</td>\n",
       "      <td>[]</td>\n",
       "      <td>5</td>\n",
       "      <td>{NIT, CHL, TET}</td>\n",
       "      <td>{}</td>\n",
       "      <td>{}</td>\n",
       "    </tr>\n",
       "    <tr>\n",
       "      <th>3</th>\n",
       "      <td>3596</td>\n",
       "      <td>[]</td>\n",
       "      <td>[Streptogramin, Nitrofuran antibacterial, Macr...</td>\n",
       "      <td>[]</td>\n",
       "      <td>[Streptogramin, Nitrofuran antibacterial, Macr...</td>\n",
       "      <td>[Streptogramin, Nitrofuran antibacterial, Macr...</td>\n",
       "      <td>2</td>\n",
       "      <td>[SYN, LZD, NIT, KAN, ERY, CIP, LIN, GEN]</td>\n",
       "      <td>[]</td>\n",
       "      <td>[]</td>\n",
       "      <td>5</td>\n",
       "      <td>{LIN, NIT, CIP, ERY, KAN, GEN, LZD, SYN}</td>\n",
       "      <td>{}</td>\n",
       "      <td>{}</td>\n",
       "    </tr>\n",
       "    <tr>\n",
       "      <th>4</th>\n",
       "      <td>4880</td>\n",
       "      <td>[]</td>\n",
       "      <td>[Macrolides, Tetracyclines, Streptogramin, Nit...</td>\n",
       "      <td>[]</td>\n",
       "      <td>[Macrolides, Oxazolidinones, Streptogramin, Ni...</td>\n",
       "      <td>[Macrolides, Oxazolidinones, Streptogramin, Ni...</td>\n",
       "      <td>2</td>\n",
       "      <td>[TET, CHL, STR, TYLT, SYN, LZD, NIT, KAN, ERY,...</td>\n",
       "      <td>[]</td>\n",
       "      <td>[]</td>\n",
       "      <td>5</td>\n",
       "      <td>{LIN, NIT, STR, CIP, ERY, KAN, TET, TYLT, GEN,...</td>\n",
       "      <td>{}</td>\n",
       "      <td>{}</td>\n",
       "    </tr>\n",
       "  </tbody>\n",
       "</table>\n",
       "</div>"
      ],
      "text/plain": [
       "   CowID Ecoli_AbR                                         Entero_AbR Sal_AbR  \\\n",
       "0   4672        []             [Nitrofuran antibacterial, Macrolides]      []   \n",
       "1   1099        []  [Tetracyclines, Amphenicols, Macrolides, Oxazo...      []   \n",
       "2   3786        []  [Amphenicols, Nitrofuran antibacterial, Tetrac...      []   \n",
       "3   3596        []  [Streptogramin, Nitrofuran antibacterial, Macr...      []   \n",
       "4   4880        []  [Macrolides, Tetracyclines, Streptogramin, Nit...      []   \n",
       "\n",
       "                                         R_commensal  \\\n",
       "0             [Nitrofuran antibacterial, Macrolides]   \n",
       "1  [Amphenicols, Macrolides, Tetracyclines, Oxazo...   \n",
       "2  [Nitrofuran antibacterial, Amphenicols, Tetrac...   \n",
       "3  [Streptogramin, Nitrofuran antibacterial, Macr...   \n",
       "4  [Macrolides, Oxazolidinones, Streptogramin, Ni...   \n",
       "\n",
       "                                                   R R_factor  \\\n",
       "0             [Nitrofuran antibacterial, Macrolides]        1   \n",
       "1  [Amphenicols, Macrolides, Tetracyclines, Oxazo...        2   \n",
       "2  [Nitrofuran antibacterial, Amphenicols, Tetrac...        2   \n",
       "3  [Streptogramin, Nitrofuran antibacterial, Macr...        2   \n",
       "4  [Macrolides, Oxazolidinones, Streptogramin, Ni...        2   \n",
       "\n",
       "                                       Entero_DrugsR Sal_DrugsR Ecoli_DrugsR  \\\n",
       "0                                    [NIT, ERY, CIP]         []           []   \n",
       "1                     [TET, CHL, LZD, ERY, CIP, LIN]         []           []   \n",
       "2                                    [TET, CHL, NIT]         []           []   \n",
       "3           [SYN, LZD, NIT, KAN, ERY, CIP, LIN, GEN]         []           []   \n",
       "4  [TET, CHL, STR, TYLT, SYN, LZD, NIT, KAN, ERY,...         []           []   \n",
       "\n",
       "  Dairy ID                                   DrugsR_commensal sharing  \\\n",
       "0        5                                    {ERY, NIT, CIP}      {}   \n",
       "1        5                     {LIN, CIP, ERY, TET, CHL, LZD}      {}   \n",
       "2        5                                    {NIT, CHL, TET}      {}   \n",
       "3        5           {LIN, NIT, CIP, ERY, KAN, GEN, LZD, SYN}      {}   \n",
       "4        5  {LIN, NIT, STR, CIP, ERY, KAN, TET, TYLT, GEN,...      {}   \n",
       "\n",
       "  sharing_2  \n",
       "0        {}  \n",
       "1        {}  \n",
       "2        {}  \n",
       "3        {}  \n",
       "4        {}  "
      ]
     },
     "execution_count": 147,
     "metadata": {},
     "output_type": "execute_result"
    }
   ],
   "source": [
    "df.head()"
   ]
  },
  {
   "cell_type": "code",
   "execution_count": 148,
   "metadata": {},
   "outputs": [
    {
     "data": {
      "text/html": [
       "<div>\n",
       "<style scoped>\n",
       "    .dataframe tbody tr th:only-of-type {\n",
       "        vertical-align: middle;\n",
       "    }\n",
       "\n",
       "    .dataframe tbody tr th {\n",
       "        vertical-align: top;\n",
       "    }\n",
       "\n",
       "    .dataframe thead th {\n",
       "        text-align: right;\n",
       "    }\n",
       "</style>\n",
       "<table border=\"1\" class=\"dataframe\">\n",
       "  <thead>\n",
       "    <tr style=\"text-align: right;\">\n",
       "      <th></th>\n",
       "      <th>Antibiotic</th>\n",
       "      <th>Sal_DrugsR</th>\n",
       "      <th>SM_DRUGS_pc</th>\n",
       "      <th>lower</th>\n",
       "      <th>upper</th>\n",
       "      <th>SE</th>\n",
       "    </tr>\n",
       "  </thead>\n",
       "  <tbody>\n",
       "    <tr>\n",
       "      <th>1</th>\n",
       "      <td>['TET']</td>\n",
       "      <td>9</td>\n",
       "      <td>31.034483</td>\n",
       "      <td>0.141966</td>\n",
       "      <td>0.478724</td>\n",
       "      <td>8.590912</td>\n",
       "    </tr>\n",
       "    <tr>\n",
       "      <th>2</th>\n",
       "      <td>['FOX', 'CHL', 'TET', 'AXO', 'AUG2', 'XNL', 'A...</td>\n",
       "      <td>4</td>\n",
       "      <td>13.793103</td>\n",
       "      <td>0.012429</td>\n",
       "      <td>0.263433</td>\n",
       "      <td>6.403288</td>\n",
       "    </tr>\n",
       "    <tr>\n",
       "      <th>3</th>\n",
       "      <td>['TET', 'AMP']</td>\n",
       "      <td>2</td>\n",
       "      <td>6.896552</td>\n",
       "      <td>0.000000</td>\n",
       "      <td>0.161190</td>\n",
       "      <td>4.705436</td>\n",
       "    </tr>\n",
       "    <tr>\n",
       "      <th>4</th>\n",
       "      <td>['XNL']</td>\n",
       "      <td>2</td>\n",
       "      <td>6.896552</td>\n",
       "      <td>0.000000</td>\n",
       "      <td>0.161190</td>\n",
       "      <td>4.705436</td>\n",
       "    </tr>\n",
       "    <tr>\n",
       "      <th>5</th>\n",
       "      <td>['SXT']</td>\n",
       "      <td>2</td>\n",
       "      <td>6.896552</td>\n",
       "      <td>0.000000</td>\n",
       "      <td>0.161190</td>\n",
       "      <td>4.705436</td>\n",
       "    </tr>\n",
       "    <tr>\n",
       "      <th>6</th>\n",
       "      <td>['AMP']</td>\n",
       "      <td>2</td>\n",
       "      <td>6.896552</td>\n",
       "      <td>0.000000</td>\n",
       "      <td>0.161190</td>\n",
       "      <td>4.705436</td>\n",
       "    </tr>\n",
       "    <tr>\n",
       "      <th>7</th>\n",
       "      <td>['XNL', 'AMP']</td>\n",
       "      <td>1</td>\n",
       "      <td>3.448276</td>\n",
       "      <td>0.000000</td>\n",
       "      <td>0.100892</td>\n",
       "      <td>3.388301</td>\n",
       "    </tr>\n",
       "    <tr>\n",
       "      <th>8</th>\n",
       "      <td>['TET', 'SXT', 'AMP']</td>\n",
       "      <td>1</td>\n",
       "      <td>3.448276</td>\n",
       "      <td>0.000000</td>\n",
       "      <td>0.100892</td>\n",
       "      <td>3.388301</td>\n",
       "    </tr>\n",
       "    <tr>\n",
       "      <th>9</th>\n",
       "      <td>['TET', 'SXT']</td>\n",
       "      <td>1</td>\n",
       "      <td>3.448276</td>\n",
       "      <td>0.000000</td>\n",
       "      <td>0.100892</td>\n",
       "      <td>3.388301</td>\n",
       "    </tr>\n",
       "    <tr>\n",
       "      <th>10</th>\n",
       "      <td>['CHL', 'AXO', 'AUG2', 'GEN']</td>\n",
       "      <td>1</td>\n",
       "      <td>3.448276</td>\n",
       "      <td>0.000000</td>\n",
       "      <td>0.100892</td>\n",
       "      <td>3.388301</td>\n",
       "    </tr>\n",
       "    <tr>\n",
       "      <th>11</th>\n",
       "      <td>['TET', 'AXO', 'GEN']</td>\n",
       "      <td>1</td>\n",
       "      <td>3.448276</td>\n",
       "      <td>0.000000</td>\n",
       "      <td>0.100892</td>\n",
       "      <td>3.388301</td>\n",
       "    </tr>\n",
       "    <tr>\n",
       "      <th>12</th>\n",
       "      <td>['CHL']</td>\n",
       "      <td>1</td>\n",
       "      <td>3.448276</td>\n",
       "      <td>0.000000</td>\n",
       "      <td>0.100892</td>\n",
       "      <td>3.388301</td>\n",
       "    </tr>\n",
       "    <tr>\n",
       "      <th>13</th>\n",
       "      <td>['GEN']</td>\n",
       "      <td>1</td>\n",
       "      <td>3.448276</td>\n",
       "      <td>0.000000</td>\n",
       "      <td>0.100892</td>\n",
       "      <td>3.388301</td>\n",
       "    </tr>\n",
       "    <tr>\n",
       "      <th>14</th>\n",
       "      <td>['FOX']</td>\n",
       "      <td>1</td>\n",
       "      <td>3.448276</td>\n",
       "      <td>0.000000</td>\n",
       "      <td>0.100892</td>\n",
       "      <td>3.388301</td>\n",
       "    </tr>\n",
       "  </tbody>\n",
       "</table>\n",
       "</div>"
      ],
      "text/plain": [
       "                                           Antibiotic  Sal_DrugsR  \\\n",
       "1                                             ['TET']           9   \n",
       "2   ['FOX', 'CHL', 'TET', 'AXO', 'AUG2', 'XNL', 'A...           4   \n",
       "3                                      ['TET', 'AMP']           2   \n",
       "4                                             ['XNL']           2   \n",
       "5                                             ['SXT']           2   \n",
       "6                                             ['AMP']           2   \n",
       "7                                      ['XNL', 'AMP']           1   \n",
       "8                               ['TET', 'SXT', 'AMP']           1   \n",
       "9                                      ['TET', 'SXT']           1   \n",
       "10                      ['CHL', 'AXO', 'AUG2', 'GEN']           1   \n",
       "11                              ['TET', 'AXO', 'GEN']           1   \n",
       "12                                            ['CHL']           1   \n",
       "13                                            ['GEN']           1   \n",
       "14                                            ['FOX']           1   \n",
       "\n",
       "    SM_DRUGS_pc     lower     upper        SE  \n",
       "1     31.034483  0.141966  0.478724  8.590912  \n",
       "2     13.793103  0.012429  0.263433  6.403288  \n",
       "3      6.896552  0.000000  0.161190  4.705436  \n",
       "4      6.896552  0.000000  0.161190  4.705436  \n",
       "5      6.896552  0.000000  0.161190  4.705436  \n",
       "6      6.896552  0.000000  0.161190  4.705436  \n",
       "7      3.448276  0.000000  0.100892  3.388301  \n",
       "8      3.448276  0.000000  0.100892  3.388301  \n",
       "9      3.448276  0.000000  0.100892  3.388301  \n",
       "10     3.448276  0.000000  0.100892  3.388301  \n",
       "11     3.448276  0.000000  0.100892  3.388301  \n",
       "12     3.448276  0.000000  0.100892  3.388301  \n",
       "13     3.448276  0.000000  0.100892  3.388301  \n",
       "14     3.448276  0.000000  0.100892  3.388301  "
      ]
     },
     "execution_count": 148,
     "metadata": {},
     "output_type": "execute_result"
    }
   ],
   "source": [
    "a = df.Sal_DrugsR.astype(str).value_counts().reset_index()\n",
    "a.columns = ['Antibiotic', 'Sal_DrugsR']\n",
    "a = a[a.Antibiotic != '[]']\n",
    "a['SM_DRUGS_pc'] = a.Sal_DrugsR*100/a.Sal_DrugsR.sum()\n",
    "lower, upper =stats.proportion.proportion_confint(a.Sal_DrugsR, a.Sal_DrugsR.sum())\n",
    "a['lower'] =lower\n",
    "a['upper'] =upper\n",
    "a['SE'] = stats.proportion.std_prop(a.Sal_DrugsR/a.Sal_DrugsR.sum(), a.Sal_DrugsR.sum())*100\n",
    "a"
   ]
  },
  {
   "cell_type": "code",
   "execution_count": 149,
   "metadata": {},
   "outputs": [
    {
     "data": {
      "text/html": [
       "<div>\n",
       "<style scoped>\n",
       "    .dataframe tbody tr th:only-of-type {\n",
       "        vertical-align: middle;\n",
       "    }\n",
       "\n",
       "    .dataframe tbody tr th {\n",
       "        vertical-align: top;\n",
       "    }\n",
       "\n",
       "    .dataframe thead th {\n",
       "        text-align: right;\n",
       "    }\n",
       "</style>\n",
       "<table border=\"1\" class=\"dataframe\">\n",
       "  <thead>\n",
       "    <tr style=\"text-align: right;\">\n",
       "      <th></th>\n",
       "      <th>Dairy ID</th>\n",
       "      <th>MT_Results Individual_CowID</th>\n",
       "      <th>Date</th>\n",
       "      <th>Accession</th>\n",
       "      <th>Org1</th>\n",
       "      <th>Org2</th>\n",
       "      <th>F_Salmonella PCR_Result</th>\n",
       "      <th>SampleID2</th>\n",
       "      <th>CollectionDate</th>\n",
       "      <th>F_AMR_CowID</th>\n",
       "      <th>...</th>\n",
       "      <th>R_factor</th>\n",
       "      <th>Sal_R</th>\n",
       "      <th>Ecoli_R</th>\n",
       "      <th>Entero_R</th>\n",
       "      <th>Commensal_R</th>\n",
       "      <th>Antibiotics</th>\n",
       "      <th>Tetracycline</th>\n",
       "      <th>Ceftiofur</th>\n",
       "      <th>Penicillin</th>\n",
       "      <th>Resitance</th>\n",
       "    </tr>\n",
       "  </thead>\n",
       "  <tbody>\n",
       "    <tr>\n",
       "      <th>50</th>\n",
       "      <td>4</td>\n",
       "      <td>8680</td>\n",
       "      <td>2015-09-17</td>\n",
       "      <td>T1502211</td>\n",
       "      <td>Salmonella sp.</td>\n",
       "      <td>NaN</td>\n",
       "      <td>Positive</td>\n",
       "      <td>F51</td>\n",
       "      <td>17-Sep-15</td>\n",
       "      <td>8680.0</td>\n",
       "      <td>...</td>\n",
       "      <td>2</td>\n",
       "      <td>2</td>\n",
       "      <td>0</td>\n",
       "      <td>1</td>\n",
       "      <td>1</td>\n",
       "      <td>Penicillin, Ceftiofur, Ceftiofur</td>\n",
       "      <td>0</td>\n",
       "      <td>1</td>\n",
       "      <td>1</td>\n",
       "      <td>multi drug resistance</td>\n",
       "    </tr>\n",
       "    <tr>\n",
       "      <th>52</th>\n",
       "      <td>4</td>\n",
       "      <td>9718</td>\n",
       "      <td>2015-09-17</td>\n",
       "      <td>T1502211</td>\n",
       "      <td>Salmonella sp.</td>\n",
       "      <td>NaN</td>\n",
       "      <td>Positive</td>\n",
       "      <td>F53</td>\n",
       "      <td>17-Sep-15</td>\n",
       "      <td>9718.0</td>\n",
       "      <td>...</td>\n",
       "      <td>2</td>\n",
       "      <td>2</td>\n",
       "      <td>0</td>\n",
       "      <td>2</td>\n",
       "      <td>2</td>\n",
       "      <td>Penicillin, Ceftiofur, Ceftiofur</td>\n",
       "      <td>0</td>\n",
       "      <td>1</td>\n",
       "      <td>1</td>\n",
       "      <td>multi drug resistance</td>\n",
       "    </tr>\n",
       "    <tr>\n",
       "      <th>139</th>\n",
       "      <td>3</td>\n",
       "      <td>38617</td>\n",
       "      <td>2016-02-04</td>\n",
       "      <td>T1600270</td>\n",
       "      <td>NaN</td>\n",
       "      <td>NaN</td>\n",
       "      <td>Positive</td>\n",
       "      <td>F137</td>\n",
       "      <td>04-Feb-16</td>\n",
       "      <td>38617.0</td>\n",
       "      <td>...</td>\n",
       "      <td>2</td>\n",
       "      <td>2</td>\n",
       "      <td>0</td>\n",
       "      <td>1</td>\n",
       "      <td>1</td>\n",
       "      <td>Ceftiofur, Penicillin, Ceftiofur</td>\n",
       "      <td>0</td>\n",
       "      <td>1</td>\n",
       "      <td>1</td>\n",
       "      <td>multi drug resistance</td>\n",
       "    </tr>\n",
       "    <tr>\n",
       "      <th>152</th>\n",
       "      <td>6</td>\n",
       "      <td>2393</td>\n",
       "      <td>2016-02-04</td>\n",
       "      <td>T1600270</td>\n",
       "      <td>NaN</td>\n",
       "      <td>NaN</td>\n",
       "      <td>Positive</td>\n",
       "      <td>F150</td>\n",
       "      <td>04-Feb-16</td>\n",
       "      <td>2393.0</td>\n",
       "      <td>...</td>\n",
       "      <td>2</td>\n",
       "      <td>2</td>\n",
       "      <td>1</td>\n",
       "      <td>0</td>\n",
       "      <td>1</td>\n",
       "      <td>Penicillin, Penicillin, Ceftiofur</td>\n",
       "      <td>0</td>\n",
       "      <td>1</td>\n",
       "      <td>1</td>\n",
       "      <td>multi drug resistance</td>\n",
       "    </tr>\n",
       "  </tbody>\n",
       "</table>\n",
       "<p>4 rows × 211 columns</p>\n",
       "</div>"
      ],
      "text/plain": [
       "    Dairy ID  MT_Results Individual_CowID       Date Accession  \\\n",
       "50         4                         8680 2015-09-17  T1502211   \n",
       "52         4                         9718 2015-09-17  T1502211   \n",
       "139        3                        38617 2016-02-04  T1600270   \n",
       "152        6                         2393 2016-02-04  T1600270   \n",
       "\n",
       "               Org1 Org2 F_Salmonella PCR_Result SampleID2 CollectionDate  \\\n",
       "50   Salmonella sp.  NaN                Positive       F51      17-Sep-15   \n",
       "52   Salmonella sp.  NaN                Positive       F53      17-Sep-15   \n",
       "139             NaN  NaN                Positive      F137      04-Feb-16   \n",
       "152             NaN  NaN                Positive      F150      04-Feb-16   \n",
       "\n",
       "     F_AMR_CowID  ... R_factor Sal_R Ecoli_R Entero_R Commensal_R  \\\n",
       "50        8680.0  ...        2     2       0        1           1   \n",
       "52        9718.0  ...        2     2       0        2           2   \n",
       "139      38617.0  ...        2     2       0        1           1   \n",
       "152       2393.0  ...        2     2       1        0           1   \n",
       "\n",
       "                           Antibiotics Tetracycline Ceftiofur Penicillin  \\\n",
       "50    Penicillin, Ceftiofur, Ceftiofur            0         1          1   \n",
       "52    Penicillin, Ceftiofur, Ceftiofur            0         1          1   \n",
       "139   Ceftiofur, Penicillin, Ceftiofur            0         1          1   \n",
       "152  Penicillin, Penicillin, Ceftiofur            0         1          1   \n",
       "\n",
       "                 Resitance  \n",
       "50   multi drug resistance  \n",
       "52   multi drug resistance  \n",
       "139  multi drug resistance  \n",
       "152  multi drug resistance  \n",
       "\n",
       "[4 rows x 211 columns]"
      ]
     },
     "execution_count": 149,
     "metadata": {},
     "output_type": "execute_result"
    }
   ],
   "source": [
    "data[data.Sal_DrugsR.astype(str) == \"['FOX', 'CHL', 'TET', 'AXO', 'AUG2', 'XNL', 'AMP', 'STR']\"]"
   ]
  },
  {
   "cell_type": "code",
   "execution_count": 150,
   "metadata": {},
   "outputs": [
    {
     "name": "stdout",
     "output_type": "stream",
     "text": [
      "1.0.5\n"
     ]
    }
   ],
   "source": [
    "print(pd.__version__)"
   ]
  },
  {
   "cell_type": "code",
   "execution_count": 151,
   "metadata": {},
   "outputs": [
    {
     "data": {
      "text/plain": [
       "['Amphenicols', 'Penicillins', 'Tetracyclines']"
      ]
     },
     "execution_count": 151,
     "metadata": {},
     "output_type": "execute_result"
    }
   ],
   "source": [
    "data[data.Sal_DrugsR.astype(str) == \"['FOX', 'CHL', 'TET', 'AXO', 'AUG2', 'XNL', 'AMP', 'STR']\"].Sal_AbR.iloc[0]"
   ]
  },
  {
   "cell_type": "code",
   "execution_count": 152,
   "metadata": {},
   "outputs": [],
   "source": [
    "a = pd.DataFrame(data[data['F_Salmonella PCR_Result'] == 'Positive'].groupby('R_factor')['MT_Results Individual_CowID'].count()/data[data['F_Salmonella PCR_Result'] == 'Positive'].shape[0])\n",
    "a.colums = ['Sal_prev']"
   ]
  },
  {
   "cell_type": "code",
   "execution_count": 153,
   "metadata": {},
   "outputs": [
    {
     "data": {
      "text/html": [
       "<div>\n",
       "<style scoped>\n",
       "    .dataframe tbody tr th:only-of-type {\n",
       "        vertical-align: middle;\n",
       "    }\n",
       "\n",
       "    .dataframe tbody tr th {\n",
       "        vertical-align: top;\n",
       "    }\n",
       "\n",
       "    .dataframe thead th {\n",
       "        text-align: right;\n",
       "    }\n",
       "</style>\n",
       "<table border=\"1\" class=\"dataframe\">\n",
       "  <thead>\n",
       "    <tr style=\"text-align: right;\">\n",
       "      <th></th>\n",
       "      <th>MT_Results Individual_CowID</th>\n",
       "    </tr>\n",
       "    <tr>\n",
       "      <th>R_factor</th>\n",
       "      <th></th>\n",
       "    </tr>\n",
       "  </thead>\n",
       "  <tbody>\n",
       "    <tr>\n",
       "      <th>0</th>\n",
       "      <td>0.098361</td>\n",
       "    </tr>\n",
       "    <tr>\n",
       "      <th>1</th>\n",
       "      <td>0.557377</td>\n",
       "    </tr>\n",
       "    <tr>\n",
       "      <th>2</th>\n",
       "      <td>0.344262</td>\n",
       "    </tr>\n",
       "  </tbody>\n",
       "</table>\n",
       "</div>"
      ],
      "text/plain": [
       "          MT_Results Individual_CowID\n",
       "R_factor                             \n",
       "0                            0.098361\n",
       "1                            0.557377\n",
       "2                            0.344262"
      ]
     },
     "execution_count": 153,
     "metadata": {},
     "output_type": "execute_result"
    }
   ],
   "source": [
    "a = pd.DataFrame(data[data['F_Salmonella PCR_Result'] == 'Positive'].groupby('R_factor')['MT_Results Individual_CowID'].count()/data[data['F_Salmonella PCR_Result'] == 'Positive'].shape[0])\n",
    "a"
   ]
  },
  {
   "cell_type": "code",
   "execution_count": 154,
   "metadata": {},
   "outputs": [
    {
     "data": {
      "text/plain": [
       "R_factor\n",
       "0     6\n",
       "1    34\n",
       "2    21\n",
       "Name: MT_Results Individual_CowID, dtype: int64"
      ]
     },
     "execution_count": 154,
     "metadata": {},
     "output_type": "execute_result"
    }
   ],
   "source": [
    "data[data['F_Salmonella PCR_Result'] == 'Positive'].groupby('R_factor')['MT_Results Individual_CowID'].count()"
   ]
  },
  {
   "cell_type": "code",
   "execution_count": 155,
   "metadata": {
    "scrolled": true
   },
   "outputs": [
    {
     "data": {
      "text/plain": [
       "(R_factor\n",
       " 0    0.023628\n",
       " 1    0.432732\n",
       " 2    0.225030\n",
       " dtype: float64,\n",
       " R_factor\n",
       " 0    0.173093\n",
       " 1    0.682022\n",
       " 2    0.463494\n",
       " dtype: float64)"
      ]
     },
     "execution_count": 155,
     "metadata": {},
     "output_type": "execute_result"
    }
   ],
   "source": [
    "stats.proportion.proportion_confint(\n",
    "    data[data['F_Salmonella PCR_Result'] == 'Positive'].groupby(\n",
    "        'R_factor')['MT_Results Individual_CowID'].count(),\n",
    "    data[data['F_Salmonella PCR_Result'] == 'Positive'].shape[0])"
   ]
  },
  {
   "cell_type": "code",
   "execution_count": 156,
   "metadata": {},
   "outputs": [
    {
     "name": "stdout",
     "output_type": "stream",
     "text": [
      "                                 Antimicorbial Class  Number of Cows  \\\n",
      "1                           Nitrofuran antibacterial              17   \n",
      "2                                         Macrolides              15   \n",
      "3                Nitrofuran antibacterial,Macrolides              15   \n",
      "4  Nitrofuran antibacterial,Macrolides,Oxazolidin...               9   \n",
      "5            Nitrofuran antibacterial,Oxazolidinones               8   \n",
      "\n",
      "   Prevalence (%)         95%CI  std_error  \n",
      "1           10.83  5.967-15.689   2.479928  \n",
      "2            9.55  4.956-14.152   2.346067  \n",
      "3            9.55  4.956-14.152   2.346067  \n",
      "4            5.73   2.096-9.369   1.855251  \n",
      "5            5.10   1.656-8.535   1.755047  \n"
     ]
    },
    {
     "data": {
      "text/html": [
       "<div>\n",
       "<style scoped>\n",
       "    .dataframe tbody tr th:only-of-type {\n",
       "        vertical-align: middle;\n",
       "    }\n",
       "\n",
       "    .dataframe tbody tr th {\n",
       "        vertical-align: top;\n",
       "    }\n",
       "\n",
       "    .dataframe thead th {\n",
       "        text-align: right;\n",
       "    }\n",
       "</style>\n",
       "<table border=\"1\" class=\"dataframe\">\n",
       "  <thead>\n",
       "    <tr style=\"text-align: right;\">\n",
       "      <th></th>\n",
       "      <th>Antimicorbial Class</th>\n",
       "      <th>Number of Cows</th>\n",
       "      <th>Prevalence (%)</th>\n",
       "      <th>95%CI</th>\n",
       "      <th>std_error</th>\n",
       "    </tr>\n",
       "  </thead>\n",
       "  <tbody>\n",
       "    <tr>\n",
       "      <th>1</th>\n",
       "      <td>Nitrofuran antibacterial</td>\n",
       "      <td>17</td>\n",
       "      <td>10.83</td>\n",
       "      <td>5.967-15.689</td>\n",
       "      <td>2.479928</td>\n",
       "    </tr>\n",
       "    <tr>\n",
       "      <th>2</th>\n",
       "      <td>Macrolides</td>\n",
       "      <td>15</td>\n",
       "      <td>9.55</td>\n",
       "      <td>4.956-14.152</td>\n",
       "      <td>2.346067</td>\n",
       "    </tr>\n",
       "    <tr>\n",
       "      <th>3</th>\n",
       "      <td>Nitrofuran antibacterial,Macrolides</td>\n",
       "      <td>15</td>\n",
       "      <td>9.55</td>\n",
       "      <td>4.956-14.152</td>\n",
       "      <td>2.346067</td>\n",
       "    </tr>\n",
       "    <tr>\n",
       "      <th>4</th>\n",
       "      <td>Nitrofuran antibacterial,Macrolides,Oxazolidin...</td>\n",
       "      <td>9</td>\n",
       "      <td>5.73</td>\n",
       "      <td>2.096-9.369</td>\n",
       "      <td>1.855251</td>\n",
       "    </tr>\n",
       "    <tr>\n",
       "      <th>5</th>\n",
       "      <td>Nitrofuran antibacterial,Oxazolidinones</td>\n",
       "      <td>8</td>\n",
       "      <td>5.10</td>\n",
       "      <td>1.656-8.535</td>\n",
       "      <td>1.755047</td>\n",
       "    </tr>\n",
       "    <tr>\n",
       "      <th>6</th>\n",
       "      <td>Tetracyclines</td>\n",
       "      <td>7</td>\n",
       "      <td>4.46</td>\n",
       "      <td>1.23-7.687</td>\n",
       "      <td>1.647196</td>\n",
       "    </tr>\n",
       "    <tr>\n",
       "      <th>7</th>\n",
       "      <td>Nitrofuran antibacterial,Tetracyclines</td>\n",
       "      <td>6</td>\n",
       "      <td>3.82</td>\n",
       "      <td>0.823-6.821</td>\n",
       "      <td>1.530082</td>\n",
       "    </tr>\n",
       "    <tr>\n",
       "      <th>8</th>\n",
       "      <td>Oxazolidinones</td>\n",
       "      <td>6</td>\n",
       "      <td>3.82</td>\n",
       "      <td>0.823-6.821</td>\n",
       "      <td>1.530082</td>\n",
       "    </tr>\n",
       "    <tr>\n",
       "      <th>9</th>\n",
       "      <td>Streptogramin,Nitrofuran antibacterial,Macroli...</td>\n",
       "      <td>5</td>\n",
       "      <td>3.18</td>\n",
       "      <td>0.438-5.931</td>\n",
       "      <td>1.401385</td>\n",
       "    </tr>\n",
       "    <tr>\n",
       "      <th>10</th>\n",
       "      <td>Nitrofuran antibacterial,Macrolides,Tetracyclines</td>\n",
       "      <td>5</td>\n",
       "      <td>3.18</td>\n",
       "      <td>0.438-5.931</td>\n",
       "      <td>1.401385</td>\n",
       "    </tr>\n",
       "    <tr>\n",
       "      <th>11</th>\n",
       "      <td>Macrolides,Streptogramin,Nitrofuran antibacter...</td>\n",
       "      <td>4</td>\n",
       "      <td>2.55</td>\n",
       "      <td>0.083-5.013</td>\n",
       "      <td>1.257553</td>\n",
       "    </tr>\n",
       "    <tr>\n",
       "      <th>12</th>\n",
       "      <td>Tetracyclines,Amphenicols,Nitrofuran antibacte...</td>\n",
       "      <td>4</td>\n",
       "      <td>2.55</td>\n",
       "      <td>0.083-5.013</td>\n",
       "      <td>1.257553</td>\n",
       "    </tr>\n",
       "    <tr>\n",
       "      <th>13</th>\n",
       "      <td>Tetracyclines,Nitrofuran antibacterial,Macroli...</td>\n",
       "      <td>4</td>\n",
       "      <td>2.55</td>\n",
       "      <td>0.083-5.013</td>\n",
       "      <td>1.257553</td>\n",
       "    </tr>\n",
       "    <tr>\n",
       "      <th>14</th>\n",
       "      <td>Macrolides,Oxazolidinones</td>\n",
       "      <td>4</td>\n",
       "      <td>2.55</td>\n",
       "      <td>0.083-5.013</td>\n",
       "      <td>1.257553</td>\n",
       "    </tr>\n",
       "    <tr>\n",
       "      <th>15</th>\n",
       "      <td>Streptogramin,Nitrofuran antibacterial</td>\n",
       "      <td>4</td>\n",
       "      <td>2.55</td>\n",
       "      <td>0.083-5.013</td>\n",
       "      <td>1.257553</td>\n",
       "    </tr>\n",
       "    <tr>\n",
       "      <th>16</th>\n",
       "      <td>Amphenicols,Nitrofuran antibacterial,Oxazolidi...</td>\n",
       "      <td>3</td>\n",
       "      <td>1.91</td>\n",
       "      <td>0.0-4.052</td>\n",
       "      <td>1.092626</td>\n",
       "    </tr>\n",
       "    <tr>\n",
       "      <th>17</th>\n",
       "      <td>Amphenicols,Nitrofuran antibacterial,Macrolide...</td>\n",
       "      <td>3</td>\n",
       "      <td>1.91</td>\n",
       "      <td>0.0-4.052</td>\n",
       "      <td>1.092626</td>\n",
       "    </tr>\n",
       "    <tr>\n",
       "      <th>18</th>\n",
       "      <td>Amphenicols,Nitrofuran antibacterial,Macrolide...</td>\n",
       "      <td>3</td>\n",
       "      <td>1.91</td>\n",
       "      <td>0.0-4.052</td>\n",
       "      <td>1.092626</td>\n",
       "    </tr>\n",
       "    <tr>\n",
       "      <th>19</th>\n",
       "      <td>Amphenicols,Nitrofuran antibacterial,Tetracycl...</td>\n",
       "      <td>2</td>\n",
       "      <td>1.27</td>\n",
       "      <td>0.0-3.028</td>\n",
       "      <td>0.895017</td>\n",
       "    </tr>\n",
       "    <tr>\n",
       "      <th>20</th>\n",
       "      <td>Macrolides,Oxazolidinones,Nitrofuran antibacte...</td>\n",
       "      <td>2</td>\n",
       "      <td>1.27</td>\n",
       "      <td>0.0-3.028</td>\n",
       "      <td>0.895017</td>\n",
       "    </tr>\n",
       "    <tr>\n",
       "      <th>21</th>\n",
       "      <td>Tetracyclines,Oxazolidinones</td>\n",
       "      <td>2</td>\n",
       "      <td>1.27</td>\n",
       "      <td>0.0-3.028</td>\n",
       "      <td>0.895017</td>\n",
       "    </tr>\n",
       "    <tr>\n",
       "      <th>22</th>\n",
       "      <td>Amphenicols,Nitrofuran antibacterial,Macrolides</td>\n",
       "      <td>2</td>\n",
       "      <td>1.27</td>\n",
       "      <td>0.0-3.028</td>\n",
       "      <td>0.895017</td>\n",
       "    </tr>\n",
       "    <tr>\n",
       "      <th>23</th>\n",
       "      <td>Macrolides,Tetracyclines</td>\n",
       "      <td>2</td>\n",
       "      <td>1.27</td>\n",
       "      <td>0.0-3.028</td>\n",
       "      <td>0.895017</td>\n",
       "    </tr>\n",
       "    <tr>\n",
       "      <th>24</th>\n",
       "      <td>Streptogramin</td>\n",
       "      <td>2</td>\n",
       "      <td>1.27</td>\n",
       "      <td>0.0-3.028</td>\n",
       "      <td>0.895017</td>\n",
       "    </tr>\n",
       "    <tr>\n",
       "      <th>25</th>\n",
       "      <td>Streptogramin,Amphenicols,Nitrofuran antibacte...</td>\n",
       "      <td>2</td>\n",
       "      <td>1.27</td>\n",
       "      <td>0.0-3.028</td>\n",
       "      <td>0.895017</td>\n",
       "    </tr>\n",
       "    <tr>\n",
       "      <th>26</th>\n",
       "      <td>Macrolides,Tetracyclines,Streptogramin,Nitrofu...</td>\n",
       "      <td>2</td>\n",
       "      <td>1.27</td>\n",
       "      <td>0.0-3.028</td>\n",
       "      <td>0.895017</td>\n",
       "    </tr>\n",
       "    <tr>\n",
       "      <th>27</th>\n",
       "      <td>Tetracyclines,Amphenicols,Macrolides,Oxazolidi...</td>\n",
       "      <td>1</td>\n",
       "      <td>0.64</td>\n",
       "      <td>0.0-1.881</td>\n",
       "      <td>0.634911</td>\n",
       "    </tr>\n",
       "    <tr>\n",
       "      <th>28</th>\n",
       "      <td>Tetracyclines,Nitrofuran antibacterial,Macrolides</td>\n",
       "      <td>1</td>\n",
       "      <td>0.64</td>\n",
       "      <td>0.0-1.881</td>\n",
       "      <td>0.634911</td>\n",
       "    </tr>\n",
       "    <tr>\n",
       "      <th>29</th>\n",
       "      <td>Amphenicols,Nitrofuran antibacterial</td>\n",
       "      <td>1</td>\n",
       "      <td>0.64</td>\n",
       "      <td>0.0-1.881</td>\n",
       "      <td>0.634911</td>\n",
       "    </tr>\n",
       "    <tr>\n",
       "      <th>30</th>\n",
       "      <td>Amphenicols,Macrolides</td>\n",
       "      <td>1</td>\n",
       "      <td>0.64</td>\n",
       "      <td>0.0-1.881</td>\n",
       "      <td>0.634911</td>\n",
       "    </tr>\n",
       "    <tr>\n",
       "      <th>31</th>\n",
       "      <td>Streptogramin,Nitrofuran antibacterial,Macrolides</td>\n",
       "      <td>1</td>\n",
       "      <td>0.64</td>\n",
       "      <td>0.0-1.881</td>\n",
       "      <td>0.634911</td>\n",
       "    </tr>\n",
       "    <tr>\n",
       "      <th>32</th>\n",
       "      <td>Streptogramin,Nitrofuran antibacterial,Macroli...</td>\n",
       "      <td>1</td>\n",
       "      <td>0.64</td>\n",
       "      <td>0.0-1.881</td>\n",
       "      <td>0.634911</td>\n",
       "    </tr>\n",
       "    <tr>\n",
       "      <th>33</th>\n",
       "      <td>Tetracyclines,Nitrofuran antibacterial,Oxazoli...</td>\n",
       "      <td>1</td>\n",
       "      <td>0.64</td>\n",
       "      <td>0.0-1.881</td>\n",
       "      <td>0.634911</td>\n",
       "    </tr>\n",
       "    <tr>\n",
       "      <th>34</th>\n",
       "      <td>Tetracyclines,Macrolides</td>\n",
       "      <td>1</td>\n",
       "      <td>0.64</td>\n",
       "      <td>0.0-1.881</td>\n",
       "      <td>0.634911</td>\n",
       "    </tr>\n",
       "    <tr>\n",
       "      <th>35</th>\n",
       "      <td>Macrolides,Oxazolidinones,Streptogramin,Nitrof...</td>\n",
       "      <td>1</td>\n",
       "      <td>0.64</td>\n",
       "      <td>0.0-1.881</td>\n",
       "      <td>0.634911</td>\n",
       "    </tr>\n",
       "    <tr>\n",
       "      <th>36</th>\n",
       "      <td>Tetracyclines,Amphenicols,Nitrofuran antibacte...</td>\n",
       "      <td>1</td>\n",
       "      <td>0.64</td>\n",
       "      <td>0.0-1.881</td>\n",
       "      <td>0.634911</td>\n",
       "    </tr>\n",
       "    <tr>\n",
       "      <th>37</th>\n",
       "      <td>Amphenicols,Macrolides,Oxazolidinones</td>\n",
       "      <td>1</td>\n",
       "      <td>0.64</td>\n",
       "      <td>0.0-1.881</td>\n",
       "      <td>0.634911</td>\n",
       "    </tr>\n",
       "    <tr>\n",
       "      <th>38</th>\n",
       "      <td>Glycopeptides,Nitrofuran antibacterial,Oxazoli...</td>\n",
       "      <td>1</td>\n",
       "      <td>0.64</td>\n",
       "      <td>0.0-1.881</td>\n",
       "      <td>0.634911</td>\n",
       "    </tr>\n",
       "    <tr>\n",
       "      <th>39</th>\n",
       "      <td>Macrolides,Oxazolidinones,Streptogramin,Amphen...</td>\n",
       "      <td>1</td>\n",
       "      <td>0.64</td>\n",
       "      <td>0.0-1.881</td>\n",
       "      <td>0.634911</td>\n",
       "    </tr>\n",
       "    <tr>\n",
       "      <th>40</th>\n",
       "      <td>Tetracyclines,Streptogramin,Oxazolidinones</td>\n",
       "      <td>1</td>\n",
       "      <td>0.64</td>\n",
       "      <td>0.0-1.881</td>\n",
       "      <td>0.634911</td>\n",
       "    </tr>\n",
       "    <tr>\n",
       "      <th>41</th>\n",
       "      <td>Glycopeptides,Nitrofuran antibacterial,Macroli...</td>\n",
       "      <td>1</td>\n",
       "      <td>0.64</td>\n",
       "      <td>0.0-1.881</td>\n",
       "      <td>0.634911</td>\n",
       "    </tr>\n",
       "    <tr>\n",
       "      <th>42</th>\n",
       "      <td>Streptogramin,Amphenicols,Macrolides</td>\n",
       "      <td>1</td>\n",
       "      <td>0.64</td>\n",
       "      <td>0.0-1.881</td>\n",
       "      <td>0.634911</td>\n",
       "    </tr>\n",
       "    <tr>\n",
       "      <th>43</th>\n",
       "      <td>Streptogramin,Nitrofuran antibacterial,Tetracy...</td>\n",
       "      <td>1</td>\n",
       "      <td>0.64</td>\n",
       "      <td>0.0-1.881</td>\n",
       "      <td>0.634911</td>\n",
       "    </tr>\n",
       "    <tr>\n",
       "      <th>44</th>\n",
       "      <td>Streptogramin,Oxazolidinones</td>\n",
       "      <td>1</td>\n",
       "      <td>0.64</td>\n",
       "      <td>0.0-1.881</td>\n",
       "      <td>0.634911</td>\n",
       "    </tr>\n",
       "    <tr>\n",
       "      <th>45</th>\n",
       "      <td>Streptogramin,Nitrofuran antibacterial,Oxazoli...</td>\n",
       "      <td>1</td>\n",
       "      <td>0.64</td>\n",
       "      <td>0.0-1.881</td>\n",
       "      <td>0.634911</td>\n",
       "    </tr>\n",
       "  </tbody>\n",
       "</table>\n",
       "</div>"
      ],
      "text/plain": [
       "                                  Antimicorbial Class  Number of Cows  \\\n",
       "1                            Nitrofuran antibacterial              17   \n",
       "2                                          Macrolides              15   \n",
       "3                 Nitrofuran antibacterial,Macrolides              15   \n",
       "4   Nitrofuran antibacterial,Macrolides,Oxazolidin...               9   \n",
       "5             Nitrofuran antibacterial,Oxazolidinones               8   \n",
       "6                                       Tetracyclines               7   \n",
       "7              Nitrofuran antibacterial,Tetracyclines               6   \n",
       "8                                      Oxazolidinones               6   \n",
       "9   Streptogramin,Nitrofuran antibacterial,Macroli...               5   \n",
       "10  Nitrofuran antibacterial,Macrolides,Tetracyclines               5   \n",
       "11  Macrolides,Streptogramin,Nitrofuran antibacter...               4   \n",
       "12  Tetracyclines,Amphenicols,Nitrofuran antibacte...               4   \n",
       "13  Tetracyclines,Nitrofuran antibacterial,Macroli...               4   \n",
       "14                          Macrolides,Oxazolidinones               4   \n",
       "15             Streptogramin,Nitrofuran antibacterial               4   \n",
       "16  Amphenicols,Nitrofuran antibacterial,Oxazolidi...               3   \n",
       "17  Amphenicols,Nitrofuran antibacterial,Macrolide...               3   \n",
       "18  Amphenicols,Nitrofuran antibacterial,Macrolide...               3   \n",
       "19  Amphenicols,Nitrofuran antibacterial,Tetracycl...               2   \n",
       "20  Macrolides,Oxazolidinones,Nitrofuran antibacte...               2   \n",
       "21                       Tetracyclines,Oxazolidinones               2   \n",
       "22    Amphenicols,Nitrofuran antibacterial,Macrolides               2   \n",
       "23                           Macrolides,Tetracyclines               2   \n",
       "24                                      Streptogramin               2   \n",
       "25  Streptogramin,Amphenicols,Nitrofuran antibacte...               2   \n",
       "26  Macrolides,Tetracyclines,Streptogramin,Nitrofu...               2   \n",
       "27  Tetracyclines,Amphenicols,Macrolides,Oxazolidi...               1   \n",
       "28  Tetracyclines,Nitrofuran antibacterial,Macrolides               1   \n",
       "29               Amphenicols,Nitrofuran antibacterial               1   \n",
       "30                             Amphenicols,Macrolides               1   \n",
       "31  Streptogramin,Nitrofuran antibacterial,Macrolides               1   \n",
       "32  Streptogramin,Nitrofuran antibacterial,Macroli...               1   \n",
       "33  Tetracyclines,Nitrofuran antibacterial,Oxazoli...               1   \n",
       "34                           Tetracyclines,Macrolides               1   \n",
       "35  Macrolides,Oxazolidinones,Streptogramin,Nitrof...               1   \n",
       "36  Tetracyclines,Amphenicols,Nitrofuran antibacte...               1   \n",
       "37              Amphenicols,Macrolides,Oxazolidinones               1   \n",
       "38  Glycopeptides,Nitrofuran antibacterial,Oxazoli...               1   \n",
       "39  Macrolides,Oxazolidinones,Streptogramin,Amphen...               1   \n",
       "40         Tetracyclines,Streptogramin,Oxazolidinones               1   \n",
       "41  Glycopeptides,Nitrofuran antibacterial,Macroli...               1   \n",
       "42               Streptogramin,Amphenicols,Macrolides               1   \n",
       "43  Streptogramin,Nitrofuran antibacterial,Tetracy...               1   \n",
       "44                       Streptogramin,Oxazolidinones               1   \n",
       "45  Streptogramin,Nitrofuran antibacterial,Oxazoli...               1   \n",
       "\n",
       "    Prevalence (%)         95%CI  std_error  \n",
       "1            10.83  5.967-15.689   2.479928  \n",
       "2             9.55  4.956-14.152   2.346067  \n",
       "3             9.55  4.956-14.152   2.346067  \n",
       "4             5.73   2.096-9.369   1.855251  \n",
       "5             5.10   1.656-8.535   1.755047  \n",
       "6             4.46    1.23-7.687   1.647196  \n",
       "7             3.82   0.823-6.821   1.530082  \n",
       "8             3.82   0.823-6.821   1.530082  \n",
       "9             3.18   0.438-5.931   1.401385  \n",
       "10            3.18   0.438-5.931   1.401385  \n",
       "11            2.55   0.083-5.013   1.257553  \n",
       "12            2.55   0.083-5.013   1.257553  \n",
       "13            2.55   0.083-5.013   1.257553  \n",
       "14            2.55   0.083-5.013   1.257553  \n",
       "15            2.55   0.083-5.013   1.257553  \n",
       "16            1.91     0.0-4.052   1.092626  \n",
       "17            1.91     0.0-4.052   1.092626  \n",
       "18            1.91     0.0-4.052   1.092626  \n",
       "19            1.27     0.0-3.028   0.895017  \n",
       "20            1.27     0.0-3.028   0.895017  \n",
       "21            1.27     0.0-3.028   0.895017  \n",
       "22            1.27     0.0-3.028   0.895017  \n",
       "23            1.27     0.0-3.028   0.895017  \n",
       "24            1.27     0.0-3.028   0.895017  \n",
       "25            1.27     0.0-3.028   0.895017  \n",
       "26            1.27     0.0-3.028   0.895017  \n",
       "27            0.64     0.0-1.881   0.634911  \n",
       "28            0.64     0.0-1.881   0.634911  \n",
       "29            0.64     0.0-1.881   0.634911  \n",
       "30            0.64     0.0-1.881   0.634911  \n",
       "31            0.64     0.0-1.881   0.634911  \n",
       "32            0.64     0.0-1.881   0.634911  \n",
       "33            0.64     0.0-1.881   0.634911  \n",
       "34            0.64     0.0-1.881   0.634911  \n",
       "35            0.64     0.0-1.881   0.634911  \n",
       "36            0.64     0.0-1.881   0.634911  \n",
       "37            0.64     0.0-1.881   0.634911  \n",
       "38            0.64     0.0-1.881   0.634911  \n",
       "39            0.64     0.0-1.881   0.634911  \n",
       "40            0.64     0.0-1.881   0.634911  \n",
       "41            0.64     0.0-1.881   0.634911  \n",
       "42            0.64     0.0-1.881   0.634911  \n",
       "43            0.64     0.0-1.881   0.634911  \n",
       "44            0.64     0.0-1.881   0.634911  \n",
       "45            0.64     0.0-1.881   0.634911  "
      ]
     },
     "execution_count": 156,
     "metadata": {},
     "output_type": "execute_result"
    }
   ],
   "source": [
    "a = df.Entero_AbR.value_counts().reset_index()\n",
    "a = a.iloc[1:]\n",
    "a.columns = ['Antibiotic', 'Entero_DRUGS']\n",
    "a = a[a.Antibiotic != '[]']\n",
    "a['SM_DRUGS_pc'] = a.Entero_DRUGS*100/a.Entero_DRUGS.sum()\n",
    "lower, upper =stats.proportion.proportion_confint(a.Entero_DRUGS, a.Entero_DRUGS.sum())\n",
    "std_error = stats.proportion.std_prop(a.Entero_DRUGS/a.Entero_DRUGS.sum(), a.Entero_DRUGS.sum())\n",
    "a['lower'] =lower\n",
    "a['upper'] =upper\n",
    "a['std_error'] = std_error*100\n",
    "a['Antimicorbial Class'] = [','.join(map(str, l)) for l in a.Antibiotic]\n",
    "a['lower'] = a.lower*100\n",
    "a['upper'] = a.upper*100\n",
    "a['95%CI']  = a.lower.round(3).astype(str) +'-'+ a.upper.round(3).astype(str)\n",
    "a['Prevalence (%)'] = a.SM_DRUGS_pc.round(2)\n",
    "a['Number of Cows'] = a.Entero_DRUGS\n",
    "#a['SE'] = stats.proportion.std_prop(a.Entero_DRUGS/a.Entero_DRUGS.sum(), a.Sal_DrugsR.sum())*100\n",
    "aa = a[['Antimicorbial Class', 'Number of Cows', 'Prevalence (%)', '95%CI', 'std_error']]\n",
    "print(aa.head())\n",
    "aa.to_excel(output_path+'/Entero_resistance_phenotype.xlsx')\n",
    "aa"
   ]
  },
  {
   "cell_type": "code",
   "execution_count": 157,
   "metadata": {},
   "outputs": [
    {
     "data": {
      "text/plain": [
       "157"
      ]
     },
     "execution_count": 157,
     "metadata": {},
     "output_type": "execute_result"
    }
   ],
   "source": [
    "a.Entero_DRUGS.sum()"
   ]
  },
  {
   "cell_type": "code",
   "execution_count": 158,
   "metadata": {},
   "outputs": [
    {
     "data": {
      "text/plain": [
       "(0.09118537982238738, 0.201808250750861)"
      ]
     },
     "execution_count": 158,
     "metadata": {},
     "output_type": "execute_result"
    }
   ],
   "source": [
    "stats.proportion.proportion_confint(23, 157)"
   ]
  },
  {
   "cell_type": "code",
   "execution_count": 159,
   "metadata": {
    "scrolled": false
   },
   "outputs": [
    {
     "data": {
      "text/html": [
       "<div>\n",
       "<style scoped>\n",
       "    .dataframe tbody tr th:only-of-type {\n",
       "        vertical-align: middle;\n",
       "    }\n",
       "\n",
       "    .dataframe tbody tr th {\n",
       "        vertical-align: top;\n",
       "    }\n",
       "\n",
       "    .dataframe thead th {\n",
       "        text-align: right;\n",
       "    }\n",
       "</style>\n",
       "<table border=\"1\" class=\"dataframe\">\n",
       "  <thead>\n",
       "    <tr style=\"text-align: right;\">\n",
       "      <th></th>\n",
       "      <th>Antibiotic</th>\n",
       "      <th>Entero_DRUGS</th>\n",
       "      <th>SM_DRUGS_pc</th>\n",
       "      <th>lower</th>\n",
       "      <th>upper</th>\n",
       "      <th>std_error</th>\n",
       "    </tr>\n",
       "  </thead>\n",
       "  <tbody>\n",
       "    <tr>\n",
       "      <th>1</th>\n",
       "      <td>['Nitrofuran antibacterial']</td>\n",
       "      <td>17</td>\n",
       "      <td>10.828025</td>\n",
       "      <td>0.059675</td>\n",
       "      <td>0.156886</td>\n",
       "      <td>2.479928</td>\n",
       "    </tr>\n",
       "    <tr>\n",
       "      <th>2</th>\n",
       "      <td>['Macrolides']</td>\n",
       "      <td>15</td>\n",
       "      <td>9.554140</td>\n",
       "      <td>0.049559</td>\n",
       "      <td>0.141523</td>\n",
       "      <td>2.346067</td>\n",
       "    </tr>\n",
       "    <tr>\n",
       "      <th>3</th>\n",
       "      <td>['Nitrofuran antibacterial', 'Macrolides']</td>\n",
       "      <td>15</td>\n",
       "      <td>9.554140</td>\n",
       "      <td>0.049559</td>\n",
       "      <td>0.141523</td>\n",
       "      <td>2.346067</td>\n",
       "    </tr>\n",
       "    <tr>\n",
       "      <th>4</th>\n",
       "      <td>['Nitrofuran antibacterial', 'Macrolides', 'Ox...</td>\n",
       "      <td>9</td>\n",
       "      <td>5.732484</td>\n",
       "      <td>0.020963</td>\n",
       "      <td>0.093687</td>\n",
       "      <td>1.855251</td>\n",
       "    </tr>\n",
       "    <tr>\n",
       "      <th>5</th>\n",
       "      <td>['Nitrofuran antibacterial', 'Oxazolidinones']</td>\n",
       "      <td>8</td>\n",
       "      <td>5.095541</td>\n",
       "      <td>0.016557</td>\n",
       "      <td>0.085354</td>\n",
       "      <td>1.755047</td>\n",
       "    </tr>\n",
       "    <tr>\n",
       "      <th>6</th>\n",
       "      <td>['Tetracyclines']</td>\n",
       "      <td>7</td>\n",
       "      <td>4.458599</td>\n",
       "      <td>0.012302</td>\n",
       "      <td>0.076870</td>\n",
       "      <td>1.647196</td>\n",
       "    </tr>\n",
       "    <tr>\n",
       "      <th>7</th>\n",
       "      <td>['Oxazolidinones']</td>\n",
       "      <td>6</td>\n",
       "      <td>3.821656</td>\n",
       "      <td>0.008228</td>\n",
       "      <td>0.068206</td>\n",
       "      <td>1.530082</td>\n",
       "    </tr>\n",
       "    <tr>\n",
       "      <th>8</th>\n",
       "      <td>['Nitrofuran antibacterial', 'Tetracyclines']</td>\n",
       "      <td>6</td>\n",
       "      <td>3.821656</td>\n",
       "      <td>0.008228</td>\n",
       "      <td>0.068206</td>\n",
       "      <td>1.530082</td>\n",
       "    </tr>\n",
       "    <tr>\n",
       "      <th>9</th>\n",
       "      <td>['Nitrofuran antibacterial', 'Macrolides', 'Te...</td>\n",
       "      <td>5</td>\n",
       "      <td>3.184713</td>\n",
       "      <td>0.004381</td>\n",
       "      <td>0.059314</td>\n",
       "      <td>1.401385</td>\n",
       "    </tr>\n",
       "    <tr>\n",
       "      <th>10</th>\n",
       "      <td>['Streptogramin', 'Nitrofuran antibacterial', ...</td>\n",
       "      <td>5</td>\n",
       "      <td>3.184713</td>\n",
       "      <td>0.004381</td>\n",
       "      <td>0.059314</td>\n",
       "      <td>1.401385</td>\n",
       "    </tr>\n",
       "    <tr>\n",
       "      <th>11</th>\n",
       "      <td>['Tetracyclines', 'Amphenicols', 'Nitrofuran a...</td>\n",
       "      <td>4</td>\n",
       "      <td>2.547771</td>\n",
       "      <td>0.000830</td>\n",
       "      <td>0.050125</td>\n",
       "      <td>1.257553</td>\n",
       "    </tr>\n",
       "    <tr>\n",
       "      <th>12</th>\n",
       "      <td>['Macrolides', 'Oxazolidinones']</td>\n",
       "      <td>4</td>\n",
       "      <td>2.547771</td>\n",
       "      <td>0.000830</td>\n",
       "      <td>0.050125</td>\n",
       "      <td>1.257553</td>\n",
       "    </tr>\n",
       "    <tr>\n",
       "      <th>13</th>\n",
       "      <td>['Macrolides', 'Streptogramin', 'Nitrofuran an...</td>\n",
       "      <td>4</td>\n",
       "      <td>2.547771</td>\n",
       "      <td>0.000830</td>\n",
       "      <td>0.050125</td>\n",
       "      <td>1.257553</td>\n",
       "    </tr>\n",
       "    <tr>\n",
       "      <th>14</th>\n",
       "      <td>['Tetracyclines', 'Nitrofuran antibacterial', ...</td>\n",
       "      <td>4</td>\n",
       "      <td>2.547771</td>\n",
       "      <td>0.000830</td>\n",
       "      <td>0.050125</td>\n",
       "      <td>1.257553</td>\n",
       "    </tr>\n",
       "    <tr>\n",
       "      <th>15</th>\n",
       "      <td>['Streptogramin', 'Nitrofuran antibacterial']</td>\n",
       "      <td>4</td>\n",
       "      <td>2.547771</td>\n",
       "      <td>0.000830</td>\n",
       "      <td>0.050125</td>\n",
       "      <td>1.257553</td>\n",
       "    </tr>\n",
       "    <tr>\n",
       "      <th>16</th>\n",
       "      <td>['Amphenicols', 'Nitrofuran antibacterial', 'M...</td>\n",
       "      <td>3</td>\n",
       "      <td>1.910828</td>\n",
       "      <td>0.000000</td>\n",
       "      <td>0.040523</td>\n",
       "      <td>1.092626</td>\n",
       "    </tr>\n",
       "    <tr>\n",
       "      <th>17</th>\n",
       "      <td>['Amphenicols', 'Nitrofuran antibacterial', 'O...</td>\n",
       "      <td>3</td>\n",
       "      <td>1.910828</td>\n",
       "      <td>0.000000</td>\n",
       "      <td>0.040523</td>\n",
       "      <td>1.092626</td>\n",
       "    </tr>\n",
       "    <tr>\n",
       "      <th>18</th>\n",
       "      <td>['Amphenicols', 'Nitrofuran antibacterial', 'M...</td>\n",
       "      <td>3</td>\n",
       "      <td>1.910828</td>\n",
       "      <td>0.000000</td>\n",
       "      <td>0.040523</td>\n",
       "      <td>1.092626</td>\n",
       "    </tr>\n",
       "    <tr>\n",
       "      <th>19</th>\n",
       "      <td>['Tetracyclines', 'Oxazolidinones']</td>\n",
       "      <td>2</td>\n",
       "      <td>1.273885</td>\n",
       "      <td>0.000000</td>\n",
       "      <td>0.030281</td>\n",
       "      <td>0.895017</td>\n",
       "    </tr>\n",
       "    <tr>\n",
       "      <th>20</th>\n",
       "      <td>['Macrolides', 'Tetracyclines']</td>\n",
       "      <td>2</td>\n",
       "      <td>1.273885</td>\n",
       "      <td>0.000000</td>\n",
       "      <td>0.030281</td>\n",
       "      <td>0.895017</td>\n",
       "    </tr>\n",
       "    <tr>\n",
       "      <th>21</th>\n",
       "      <td>['Streptogramin']</td>\n",
       "      <td>2</td>\n",
       "      <td>1.273885</td>\n",
       "      <td>0.000000</td>\n",
       "      <td>0.030281</td>\n",
       "      <td>0.895017</td>\n",
       "    </tr>\n",
       "    <tr>\n",
       "      <th>22</th>\n",
       "      <td>['Macrolides', 'Tetracyclines', 'Streptogramin...</td>\n",
       "      <td>2</td>\n",
       "      <td>1.273885</td>\n",
       "      <td>0.000000</td>\n",
       "      <td>0.030281</td>\n",
       "      <td>0.895017</td>\n",
       "    </tr>\n",
       "    <tr>\n",
       "      <th>23</th>\n",
       "      <td>['Amphenicols', 'Nitrofuran antibacterial', 'T...</td>\n",
       "      <td>2</td>\n",
       "      <td>1.273885</td>\n",
       "      <td>0.000000</td>\n",
       "      <td>0.030281</td>\n",
       "      <td>0.895017</td>\n",
       "    </tr>\n",
       "    <tr>\n",
       "      <th>24</th>\n",
       "      <td>['Macrolides', 'Oxazolidinones', 'Nitrofuran a...</td>\n",
       "      <td>2</td>\n",
       "      <td>1.273885</td>\n",
       "      <td>0.000000</td>\n",
       "      <td>0.030281</td>\n",
       "      <td>0.895017</td>\n",
       "    </tr>\n",
       "    <tr>\n",
       "      <th>25</th>\n",
       "      <td>['Amphenicols', 'Nitrofuran antibacterial', 'M...</td>\n",
       "      <td>2</td>\n",
       "      <td>1.273885</td>\n",
       "      <td>0.000000</td>\n",
       "      <td>0.030281</td>\n",
       "      <td>0.895017</td>\n",
       "    </tr>\n",
       "    <tr>\n",
       "      <th>26</th>\n",
       "      <td>['Streptogramin', 'Amphenicols', 'Nitrofuran a...</td>\n",
       "      <td>2</td>\n",
       "      <td>1.273885</td>\n",
       "      <td>0.000000</td>\n",
       "      <td>0.030281</td>\n",
       "      <td>0.895017</td>\n",
       "    </tr>\n",
       "    <tr>\n",
       "      <th>27</th>\n",
       "      <td>['Streptogramin', 'Nitrofuran antibacterial', ...</td>\n",
       "      <td>1</td>\n",
       "      <td>0.636943</td>\n",
       "      <td>0.000000</td>\n",
       "      <td>0.018813</td>\n",
       "      <td>0.634911</td>\n",
       "    </tr>\n",
       "    <tr>\n",
       "      <th>28</th>\n",
       "      <td>['Streptogramin', 'Nitrofuran antibacterial', ...</td>\n",
       "      <td>1</td>\n",
       "      <td>0.636943</td>\n",
       "      <td>0.000000</td>\n",
       "      <td>0.018813</td>\n",
       "      <td>0.634911</td>\n",
       "    </tr>\n",
       "    <tr>\n",
       "      <th>29</th>\n",
       "      <td>['Tetracyclines', 'Amphenicols', 'Macrolides',...</td>\n",
       "      <td>1</td>\n",
       "      <td>0.636943</td>\n",
       "      <td>0.000000</td>\n",
       "      <td>0.018813</td>\n",
       "      <td>0.634911</td>\n",
       "    </tr>\n",
       "    <tr>\n",
       "      <th>30</th>\n",
       "      <td>['Streptogramin', 'Oxazolidinones']</td>\n",
       "      <td>1</td>\n",
       "      <td>0.636943</td>\n",
       "      <td>0.000000</td>\n",
       "      <td>0.018813</td>\n",
       "      <td>0.634911</td>\n",
       "    </tr>\n",
       "    <tr>\n",
       "      <th>31</th>\n",
       "      <td>['Tetracyclines', 'Nitrofuran antibacterial', ...</td>\n",
       "      <td>1</td>\n",
       "      <td>0.636943</td>\n",
       "      <td>0.000000</td>\n",
       "      <td>0.018813</td>\n",
       "      <td>0.634911</td>\n",
       "    </tr>\n",
       "    <tr>\n",
       "      <th>32</th>\n",
       "      <td>['Tetracyclines', 'Streptogramin', 'Oxazolidin...</td>\n",
       "      <td>1</td>\n",
       "      <td>0.636943</td>\n",
       "      <td>0.000000</td>\n",
       "      <td>0.018813</td>\n",
       "      <td>0.634911</td>\n",
       "    </tr>\n",
       "    <tr>\n",
       "      <th>33</th>\n",
       "      <td>['Glycopeptides', 'Nitrofuran antibacterial', ...</td>\n",
       "      <td>1</td>\n",
       "      <td>0.636943</td>\n",
       "      <td>0.000000</td>\n",
       "      <td>0.018813</td>\n",
       "      <td>0.634911</td>\n",
       "    </tr>\n",
       "    <tr>\n",
       "      <th>34</th>\n",
       "      <td>['Amphenicols', 'Nitrofuran antibacterial']</td>\n",
       "      <td>1</td>\n",
       "      <td>0.636943</td>\n",
       "      <td>0.000000</td>\n",
       "      <td>0.018813</td>\n",
       "      <td>0.634911</td>\n",
       "    </tr>\n",
       "    <tr>\n",
       "      <th>35</th>\n",
       "      <td>['Macrolides', 'Oxazolidinones', 'Streptogrami...</td>\n",
       "      <td>1</td>\n",
       "      <td>0.636943</td>\n",
       "      <td>0.000000</td>\n",
       "      <td>0.018813</td>\n",
       "      <td>0.634911</td>\n",
       "    </tr>\n",
       "    <tr>\n",
       "      <th>36</th>\n",
       "      <td>['Streptogramin', 'Amphenicols', 'Macrolides']</td>\n",
       "      <td>1</td>\n",
       "      <td>0.636943</td>\n",
       "      <td>0.000000</td>\n",
       "      <td>0.018813</td>\n",
       "      <td>0.634911</td>\n",
       "    </tr>\n",
       "    <tr>\n",
       "      <th>37</th>\n",
       "      <td>['Amphenicols', 'Macrolides', 'Oxazolidinones']</td>\n",
       "      <td>1</td>\n",
       "      <td>0.636943</td>\n",
       "      <td>0.000000</td>\n",
       "      <td>0.018813</td>\n",
       "      <td>0.634911</td>\n",
       "    </tr>\n",
       "    <tr>\n",
       "      <th>38</th>\n",
       "      <td>['Macrolides', 'Oxazolidinones', 'Streptogrami...</td>\n",
       "      <td>1</td>\n",
       "      <td>0.636943</td>\n",
       "      <td>0.000000</td>\n",
       "      <td>0.018813</td>\n",
       "      <td>0.634911</td>\n",
       "    </tr>\n",
       "    <tr>\n",
       "      <th>39</th>\n",
       "      <td>['Glycopeptides', 'Nitrofuran antibacterial', ...</td>\n",
       "      <td>1</td>\n",
       "      <td>0.636943</td>\n",
       "      <td>0.000000</td>\n",
       "      <td>0.018813</td>\n",
       "      <td>0.634911</td>\n",
       "    </tr>\n",
       "    <tr>\n",
       "      <th>40</th>\n",
       "      <td>['Tetracyclines', 'Amphenicols', 'Nitrofuran a...</td>\n",
       "      <td>1</td>\n",
       "      <td>0.636943</td>\n",
       "      <td>0.000000</td>\n",
       "      <td>0.018813</td>\n",
       "      <td>0.634911</td>\n",
       "    </tr>\n",
       "    <tr>\n",
       "      <th>41</th>\n",
       "      <td>['Amphenicols', 'Macrolides']</td>\n",
       "      <td>1</td>\n",
       "      <td>0.636943</td>\n",
       "      <td>0.000000</td>\n",
       "      <td>0.018813</td>\n",
       "      <td>0.634911</td>\n",
       "    </tr>\n",
       "    <tr>\n",
       "      <th>42</th>\n",
       "      <td>['Tetracyclines', 'Macrolides']</td>\n",
       "      <td>1</td>\n",
       "      <td>0.636943</td>\n",
       "      <td>0.000000</td>\n",
       "      <td>0.018813</td>\n",
       "      <td>0.634911</td>\n",
       "    </tr>\n",
       "    <tr>\n",
       "      <th>43</th>\n",
       "      <td>['Streptogramin', 'Nitrofuran antibacterial', ...</td>\n",
       "      <td>1</td>\n",
       "      <td>0.636943</td>\n",
       "      <td>0.000000</td>\n",
       "      <td>0.018813</td>\n",
       "      <td>0.634911</td>\n",
       "    </tr>\n",
       "    <tr>\n",
       "      <th>44</th>\n",
       "      <td>['Streptogramin', 'Nitrofuran antibacterial', ...</td>\n",
       "      <td>1</td>\n",
       "      <td>0.636943</td>\n",
       "      <td>0.000000</td>\n",
       "      <td>0.018813</td>\n",
       "      <td>0.634911</td>\n",
       "    </tr>\n",
       "    <tr>\n",
       "      <th>45</th>\n",
       "      <td>['Tetracyclines', 'Nitrofuran antibacterial', ...</td>\n",
       "      <td>1</td>\n",
       "      <td>0.636943</td>\n",
       "      <td>0.000000</td>\n",
       "      <td>0.018813</td>\n",
       "      <td>0.634911</td>\n",
       "    </tr>\n",
       "  </tbody>\n",
       "</table>\n",
       "</div>"
      ],
      "text/plain": [
       "                                           Antibiotic  Entero_DRUGS  \\\n",
       "1                        ['Nitrofuran antibacterial']            17   \n",
       "2                                      ['Macrolides']            15   \n",
       "3          ['Nitrofuran antibacterial', 'Macrolides']            15   \n",
       "4   ['Nitrofuran antibacterial', 'Macrolides', 'Ox...             9   \n",
       "5      ['Nitrofuran antibacterial', 'Oxazolidinones']             8   \n",
       "6                                   ['Tetracyclines']             7   \n",
       "7                                  ['Oxazolidinones']             6   \n",
       "8       ['Nitrofuran antibacterial', 'Tetracyclines']             6   \n",
       "9   ['Nitrofuran antibacterial', 'Macrolides', 'Te...             5   \n",
       "10  ['Streptogramin', 'Nitrofuran antibacterial', ...             5   \n",
       "11  ['Tetracyclines', 'Amphenicols', 'Nitrofuran a...             4   \n",
       "12                   ['Macrolides', 'Oxazolidinones']             4   \n",
       "13  ['Macrolides', 'Streptogramin', 'Nitrofuran an...             4   \n",
       "14  ['Tetracyclines', 'Nitrofuran antibacterial', ...             4   \n",
       "15      ['Streptogramin', 'Nitrofuran antibacterial']             4   \n",
       "16  ['Amphenicols', 'Nitrofuran antibacterial', 'M...             3   \n",
       "17  ['Amphenicols', 'Nitrofuran antibacterial', 'O...             3   \n",
       "18  ['Amphenicols', 'Nitrofuran antibacterial', 'M...             3   \n",
       "19                ['Tetracyclines', 'Oxazolidinones']             2   \n",
       "20                    ['Macrolides', 'Tetracyclines']             2   \n",
       "21                                  ['Streptogramin']             2   \n",
       "22  ['Macrolides', 'Tetracyclines', 'Streptogramin...             2   \n",
       "23  ['Amphenicols', 'Nitrofuran antibacterial', 'T...             2   \n",
       "24  ['Macrolides', 'Oxazolidinones', 'Nitrofuran a...             2   \n",
       "25  ['Amphenicols', 'Nitrofuran antibacterial', 'M...             2   \n",
       "26  ['Streptogramin', 'Amphenicols', 'Nitrofuran a...             2   \n",
       "27  ['Streptogramin', 'Nitrofuran antibacterial', ...             1   \n",
       "28  ['Streptogramin', 'Nitrofuran antibacterial', ...             1   \n",
       "29  ['Tetracyclines', 'Amphenicols', 'Macrolides',...             1   \n",
       "30                ['Streptogramin', 'Oxazolidinones']             1   \n",
       "31  ['Tetracyclines', 'Nitrofuran antibacterial', ...             1   \n",
       "32  ['Tetracyclines', 'Streptogramin', 'Oxazolidin...             1   \n",
       "33  ['Glycopeptides', 'Nitrofuran antibacterial', ...             1   \n",
       "34        ['Amphenicols', 'Nitrofuran antibacterial']             1   \n",
       "35  ['Macrolides', 'Oxazolidinones', 'Streptogrami...             1   \n",
       "36     ['Streptogramin', 'Amphenicols', 'Macrolides']             1   \n",
       "37    ['Amphenicols', 'Macrolides', 'Oxazolidinones']             1   \n",
       "38  ['Macrolides', 'Oxazolidinones', 'Streptogrami...             1   \n",
       "39  ['Glycopeptides', 'Nitrofuran antibacterial', ...             1   \n",
       "40  ['Tetracyclines', 'Amphenicols', 'Nitrofuran a...             1   \n",
       "41                      ['Amphenicols', 'Macrolides']             1   \n",
       "42                    ['Tetracyclines', 'Macrolides']             1   \n",
       "43  ['Streptogramin', 'Nitrofuran antibacterial', ...             1   \n",
       "44  ['Streptogramin', 'Nitrofuran antibacterial', ...             1   \n",
       "45  ['Tetracyclines', 'Nitrofuran antibacterial', ...             1   \n",
       "\n",
       "    SM_DRUGS_pc     lower     upper  std_error  \n",
       "1     10.828025  0.059675  0.156886   2.479928  \n",
       "2      9.554140  0.049559  0.141523   2.346067  \n",
       "3      9.554140  0.049559  0.141523   2.346067  \n",
       "4      5.732484  0.020963  0.093687   1.855251  \n",
       "5      5.095541  0.016557  0.085354   1.755047  \n",
       "6      4.458599  0.012302  0.076870   1.647196  \n",
       "7      3.821656  0.008228  0.068206   1.530082  \n",
       "8      3.821656  0.008228  0.068206   1.530082  \n",
       "9      3.184713  0.004381  0.059314   1.401385  \n",
       "10     3.184713  0.004381  0.059314   1.401385  \n",
       "11     2.547771  0.000830  0.050125   1.257553  \n",
       "12     2.547771  0.000830  0.050125   1.257553  \n",
       "13     2.547771  0.000830  0.050125   1.257553  \n",
       "14     2.547771  0.000830  0.050125   1.257553  \n",
       "15     2.547771  0.000830  0.050125   1.257553  \n",
       "16     1.910828  0.000000  0.040523   1.092626  \n",
       "17     1.910828  0.000000  0.040523   1.092626  \n",
       "18     1.910828  0.000000  0.040523   1.092626  \n",
       "19     1.273885  0.000000  0.030281   0.895017  \n",
       "20     1.273885  0.000000  0.030281   0.895017  \n",
       "21     1.273885  0.000000  0.030281   0.895017  \n",
       "22     1.273885  0.000000  0.030281   0.895017  \n",
       "23     1.273885  0.000000  0.030281   0.895017  \n",
       "24     1.273885  0.000000  0.030281   0.895017  \n",
       "25     1.273885  0.000000  0.030281   0.895017  \n",
       "26     1.273885  0.000000  0.030281   0.895017  \n",
       "27     0.636943  0.000000  0.018813   0.634911  \n",
       "28     0.636943  0.000000  0.018813   0.634911  \n",
       "29     0.636943  0.000000  0.018813   0.634911  \n",
       "30     0.636943  0.000000  0.018813   0.634911  \n",
       "31     0.636943  0.000000  0.018813   0.634911  \n",
       "32     0.636943  0.000000  0.018813   0.634911  \n",
       "33     0.636943  0.000000  0.018813   0.634911  \n",
       "34     0.636943  0.000000  0.018813   0.634911  \n",
       "35     0.636943  0.000000  0.018813   0.634911  \n",
       "36     0.636943  0.000000  0.018813   0.634911  \n",
       "37     0.636943  0.000000  0.018813   0.634911  \n",
       "38     0.636943  0.000000  0.018813   0.634911  \n",
       "39     0.636943  0.000000  0.018813   0.634911  \n",
       "40     0.636943  0.000000  0.018813   0.634911  \n",
       "41     0.636943  0.000000  0.018813   0.634911  \n",
       "42     0.636943  0.000000  0.018813   0.634911  \n",
       "43     0.636943  0.000000  0.018813   0.634911  \n",
       "44     0.636943  0.000000  0.018813   0.634911  \n",
       "45     0.636943  0.000000  0.018813   0.634911  "
      ]
     },
     "execution_count": 159,
     "metadata": {},
     "output_type": "execute_result"
    }
   ],
   "source": [
    "a = df.Entero_AbR.astype(str).value_counts().reset_index()\n",
    "a.columns = ['Antibiotic', 'Entero_DRUGS']\n",
    "a = a[a.Antibiotic != '[]']\n",
    "a['SM_DRUGS_pc'] = a.Entero_DRUGS*100/a.Entero_DRUGS.sum()\n",
    "lower, upper =stats.proportion.proportion_confint(a.Entero_DRUGS, a.Entero_DRUGS.sum())\n",
    "std_error = stats.proportion.std_prop(a.Entero_DRUGS/a.Entero_DRUGS.sum(), a.Entero_DRUGS.sum())\n",
    "a['lower'] =lower\n",
    "a['upper'] =upper\n",
    "a['std_error'] = std_error*100\n",
    "a"
   ]
  },
  {
   "cell_type": "code",
   "execution_count": null,
   "metadata": {},
   "outputs": [],
   "source": []
  },
  {
   "cell_type": "code",
   "execution_count": 160,
   "metadata": {},
   "outputs": [
    {
     "data": {
      "text/plain": [
       "\"['Nitrofuran antibacterial', 'Macrolides', 'Oxazolidinones']\""
      ]
     },
     "execution_count": 160,
     "metadata": {},
     "output_type": "execute_result"
    }
   ],
   "source": [
    "a.iloc[3].Antibiotic"
   ]
  },
  {
   "cell_type": "code",
   "execution_count": 161,
   "metadata": {
    "scrolled": true
   },
   "outputs": [
    {
     "data": {
      "text/html": [
       "<div>\n",
       "<style scoped>\n",
       "    .dataframe tbody tr th:only-of-type {\n",
       "        vertical-align: middle;\n",
       "    }\n",
       "\n",
       "    .dataframe tbody tr th {\n",
       "        vertical-align: top;\n",
       "    }\n",
       "\n",
       "    .dataframe thead th {\n",
       "        text-align: right;\n",
       "    }\n",
       "</style>\n",
       "<table border=\"1\" class=\"dataframe\">\n",
       "  <thead>\n",
       "    <tr style=\"text-align: right;\">\n",
       "      <th></th>\n",
       "      <th>Antibiotic</th>\n",
       "      <th>Entero_DRUGS</th>\n",
       "      <th>Entero_DrugsR_PC</th>\n",
       "      <th>lower</th>\n",
       "      <th>upper</th>\n",
       "      <th>std_error</th>\n",
       "    </tr>\n",
       "  </thead>\n",
       "  <tbody>\n",
       "    <tr>\n",
       "      <th>1</th>\n",
       "      <td>['LIN']</td>\n",
       "      <td>19</td>\n",
       "      <td>10.160428</td>\n",
       "      <td>0.058301</td>\n",
       "      <td>0.144907</td>\n",
       "      <td>2.209373</td>\n",
       "    </tr>\n",
       "    <tr>\n",
       "      <th>2</th>\n",
       "      <td>['CIP', 'LIN']</td>\n",
       "      <td>11</td>\n",
       "      <td>5.882353</td>\n",
       "      <td>0.025100</td>\n",
       "      <td>0.092547</td>\n",
       "      <td>1.720641</td>\n",
       "    </tr>\n",
       "    <tr>\n",
       "      <th>3</th>\n",
       "      <td>['NIT', 'LIN']</td>\n",
       "      <td>7</td>\n",
       "      <td>3.743316</td>\n",
       "      <td>0.010227</td>\n",
       "      <td>0.064640</td>\n",
       "      <td>1.388107</td>\n",
       "    </tr>\n",
       "    <tr>\n",
       "      <th>4</th>\n",
       "      <td>['ERY', 'CIP', 'LIN']</td>\n",
       "      <td>6</td>\n",
       "      <td>3.208556</td>\n",
       "      <td>0.006827</td>\n",
       "      <td>0.057344</td>\n",
       "      <td>1.288702</td>\n",
       "    </tr>\n",
       "    <tr>\n",
       "      <th>5</th>\n",
       "      <td>['NIT', 'CIP', 'LIN']</td>\n",
       "      <td>6</td>\n",
       "      <td>3.208556</td>\n",
       "      <td>0.006827</td>\n",
       "      <td>0.057344</td>\n",
       "      <td>1.288702</td>\n",
       "    </tr>\n",
       "    <tr>\n",
       "      <th>...</th>\n",
       "      <td>...</td>\n",
       "      <td>...</td>\n",
       "      <td>...</td>\n",
       "      <td>...</td>\n",
       "      <td>...</td>\n",
       "      <td>...</td>\n",
       "    </tr>\n",
       "    <tr>\n",
       "      <th>97</th>\n",
       "      <td>['TET', 'SYN', 'NIT', 'ERY', 'CIP', 'LIN']</td>\n",
       "      <td>1</td>\n",
       "      <td>0.534759</td>\n",
       "      <td>0.000000</td>\n",
       "      <td>0.015801</td>\n",
       "      <td>0.533328</td>\n",
       "    </tr>\n",
       "    <tr>\n",
       "      <th>98</th>\n",
       "      <td>['LZD']</td>\n",
       "      <td>1</td>\n",
       "      <td>0.534759</td>\n",
       "      <td>0.000000</td>\n",
       "      <td>0.015801</td>\n",
       "      <td>0.533328</td>\n",
       "    </tr>\n",
       "    <tr>\n",
       "      <th>99</th>\n",
       "      <td>['TET', 'ERY', 'LIN']</td>\n",
       "      <td>1</td>\n",
       "      <td>0.534759</td>\n",
       "      <td>0.000000</td>\n",
       "      <td>0.015801</td>\n",
       "      <td>0.533328</td>\n",
       "    </tr>\n",
       "    <tr>\n",
       "      <th>100</th>\n",
       "      <td>['STR', 'LZD', 'NIT', 'CIP', 'LIN']</td>\n",
       "      <td>1</td>\n",
       "      <td>0.534759</td>\n",
       "      <td>0.000000</td>\n",
       "      <td>0.015801</td>\n",
       "      <td>0.533328</td>\n",
       "    </tr>\n",
       "    <tr>\n",
       "      <th>101</th>\n",
       "      <td>['CHL', 'SYN', 'LZD', 'NIT', 'ERY', 'CIP', 'LIN']</td>\n",
       "      <td>1</td>\n",
       "      <td>0.534759</td>\n",
       "      <td>0.000000</td>\n",
       "      <td>0.015801</td>\n",
       "      <td>0.533328</td>\n",
       "    </tr>\n",
       "  </tbody>\n",
       "</table>\n",
       "<p>101 rows × 6 columns</p>\n",
       "</div>"
      ],
      "text/plain": [
       "                                            Antibiotic  Entero_DRUGS  \\\n",
       "1                                              ['LIN']            19   \n",
       "2                                       ['CIP', 'LIN']            11   \n",
       "3                                       ['NIT', 'LIN']             7   \n",
       "4                                ['ERY', 'CIP', 'LIN']             6   \n",
       "5                                ['NIT', 'CIP', 'LIN']             6   \n",
       "..                                                 ...           ...   \n",
       "97          ['TET', 'SYN', 'NIT', 'ERY', 'CIP', 'LIN']             1   \n",
       "98                                             ['LZD']             1   \n",
       "99                               ['TET', 'ERY', 'LIN']             1   \n",
       "100                ['STR', 'LZD', 'NIT', 'CIP', 'LIN']             1   \n",
       "101  ['CHL', 'SYN', 'LZD', 'NIT', 'ERY', 'CIP', 'LIN']             1   \n",
       "\n",
       "     Entero_DrugsR_PC     lower     upper  std_error  \n",
       "1           10.160428  0.058301  0.144907   2.209373  \n",
       "2            5.882353  0.025100  0.092547   1.720641  \n",
       "3            3.743316  0.010227  0.064640   1.388107  \n",
       "4            3.208556  0.006827  0.057344   1.288702  \n",
       "5            3.208556  0.006827  0.057344   1.288702  \n",
       "..                ...       ...       ...        ...  \n",
       "97           0.534759  0.000000  0.015801   0.533328  \n",
       "98           0.534759  0.000000  0.015801   0.533328  \n",
       "99           0.534759  0.000000  0.015801   0.533328  \n",
       "100          0.534759  0.000000  0.015801   0.533328  \n",
       "101          0.534759  0.000000  0.015801   0.533328  \n",
       "\n",
       "[101 rows x 6 columns]"
      ]
     },
     "execution_count": 161,
     "metadata": {},
     "output_type": "execute_result"
    }
   ],
   "source": [
    "a = df.Entero_DrugsR.astype(str).value_counts().reset_index()\n",
    "a.columns = ['Antibiotic', 'Entero_DRUGS']\n",
    "a = a[a.Antibiotic != '[]']\n",
    "a['Entero_DrugsR_PC'] = a.Entero_DRUGS*100/a.Entero_DRUGS.sum()\n",
    "lower, upper =stats.proportion.proportion_confint(a.Entero_DRUGS, a.Entero_DRUGS.sum())\n",
    "std_error = stats.proportion.std_prop(a.Entero_DRUGS/a.Entero_DRUGS.sum(), a.Entero_DRUGS.sum())\n",
    "a['lower'] =lower\n",
    "a['upper'] =upper\n",
    "a['std_error'] = std_error*100\n",
    "a"
   ]
  },
  {
   "cell_type": "code",
   "execution_count": 162,
   "metadata": {},
   "outputs": [
    {
     "data": {
      "text/plain": [
       "array([\"['Nitrofuran antibacterial', 'Macrolides']\"], dtype=object)"
      ]
     },
     "execution_count": 162,
     "metadata": {},
     "output_type": "execute_result"
    }
   ],
   "source": [
    "data[data.Entero_DrugsR.astype(str) == \"['NIT', 'ERY', 'CIP']\"].Entero_AbR.astype(str).unique()"
   ]
  },
  {
   "cell_type": "code",
   "execution_count": 163,
   "metadata": {},
   "outputs": [
    {
     "data": {
      "text/html": [
       "<div>\n",
       "<style scoped>\n",
       "    .dataframe tbody tr th:only-of-type {\n",
       "        vertical-align: middle;\n",
       "    }\n",
       "\n",
       "    .dataframe tbody tr th {\n",
       "        vertical-align: top;\n",
       "    }\n",
       "\n",
       "    .dataframe thead th {\n",
       "        text-align: right;\n",
       "    }\n",
       "</style>\n",
       "<table border=\"1\" class=\"dataframe\">\n",
       "  <thead>\n",
       "    <tr style=\"text-align: right;\">\n",
       "      <th></th>\n",
       "      <th>Antibiotic</th>\n",
       "      <th>ECOLI_DRUGS</th>\n",
       "      <th>SM_DRUGS_pc</th>\n",
       "      <th>lower</th>\n",
       "      <th>upper</th>\n",
       "      <th>std_error</th>\n",
       "    </tr>\n",
       "  </thead>\n",
       "  <tbody>\n",
       "    <tr>\n",
       "      <th>1</th>\n",
       "      <td>['Tetracyclines']</td>\n",
       "      <td>25</td>\n",
       "      <td>30.864198</td>\n",
       "      <td>0.208045</td>\n",
       "      <td>0.409239</td>\n",
       "      <td>5.132589</td>\n",
       "    </tr>\n",
       "    <tr>\n",
       "      <th>2</th>\n",
       "      <td>['Aminoglycosides']</td>\n",
       "      <td>11</td>\n",
       "      <td>13.580247</td>\n",
       "      <td>0.061198</td>\n",
       "      <td>0.210407</td>\n",
       "      <td>3.806430</td>\n",
       "    </tr>\n",
       "    <tr>\n",
       "      <th>3</th>\n",
       "      <td>['Cephalosporins']</td>\n",
       "      <td>9</td>\n",
       "      <td>11.111111</td>\n",
       "      <td>0.042671</td>\n",
       "      <td>0.179551</td>\n",
       "      <td>3.491885</td>\n",
       "    </tr>\n",
       "    <tr>\n",
       "      <th>4</th>\n",
       "      <td>['Aminoglycosides', 'Tetracyclines']</td>\n",
       "      <td>7</td>\n",
       "      <td>8.641975</td>\n",
       "      <td>0.025229</td>\n",
       "      <td>0.147610</td>\n",
       "      <td>3.122032</td>\n",
       "    </tr>\n",
       "    <tr>\n",
       "      <th>5</th>\n",
       "      <td>['Cephalosporins', 'Tetracyclines']</td>\n",
       "      <td>5</td>\n",
       "      <td>6.172840</td>\n",
       "      <td>0.009319</td>\n",
       "      <td>0.114138</td>\n",
       "      <td>2.674018</td>\n",
       "    </tr>\n",
       "    <tr>\n",
       "      <th>6</th>\n",
       "      <td>['Folate pathway antagonist']</td>\n",
       "      <td>5</td>\n",
       "      <td>6.172840</td>\n",
       "      <td>0.009319</td>\n",
       "      <td>0.114138</td>\n",
       "      <td>2.674018</td>\n",
       "    </tr>\n",
       "    <tr>\n",
       "      <th>7</th>\n",
       "      <td>['Amphenicols']</td>\n",
       "      <td>5</td>\n",
       "      <td>6.172840</td>\n",
       "      <td>0.009319</td>\n",
       "      <td>0.114138</td>\n",
       "      <td>2.674018</td>\n",
       "    </tr>\n",
       "    <tr>\n",
       "      <th>8</th>\n",
       "      <td>['Amphenicols', 'Aminoglycosides', 'Tetracycli...</td>\n",
       "      <td>2</td>\n",
       "      <td>2.469136</td>\n",
       "      <td>0.000000</td>\n",
       "      <td>0.058486</td>\n",
       "      <td>1.724253</td>\n",
       "    </tr>\n",
       "    <tr>\n",
       "      <th>9</th>\n",
       "      <td>['Amphenicols', 'Cephalosporins']</td>\n",
       "      <td>2</td>\n",
       "      <td>2.469136</td>\n",
       "      <td>0.000000</td>\n",
       "      <td>0.058486</td>\n",
       "      <td>1.724253</td>\n",
       "    </tr>\n",
       "    <tr>\n",
       "      <th>10</th>\n",
       "      <td>['Amphenicols', 'Aminoglycosides', 'Cephalospo...</td>\n",
       "      <td>1</td>\n",
       "      <td>1.234568</td>\n",
       "      <td>0.000000</td>\n",
       "      <td>0.036393</td>\n",
       "      <td>1.226923</td>\n",
       "    </tr>\n",
       "    <tr>\n",
       "      <th>11</th>\n",
       "      <td>['Tetracyclines', 'Folate pathway antagonist']</td>\n",
       "      <td>1</td>\n",
       "      <td>1.234568</td>\n",
       "      <td>0.000000</td>\n",
       "      <td>0.036393</td>\n",
       "      <td>1.226923</td>\n",
       "    </tr>\n",
       "    <tr>\n",
       "      <th>12</th>\n",
       "      <td>['Amphenicols', 'Tetracyclines']</td>\n",
       "      <td>1</td>\n",
       "      <td>1.234568</td>\n",
       "      <td>0.000000</td>\n",
       "      <td>0.036393</td>\n",
       "      <td>1.226923</td>\n",
       "    </tr>\n",
       "    <tr>\n",
       "      <th>13</th>\n",
       "      <td>['Amphenicols', 'Aminoglycosides', 'Tetracycli...</td>\n",
       "      <td>1</td>\n",
       "      <td>1.234568</td>\n",
       "      <td>0.000000</td>\n",
       "      <td>0.036393</td>\n",
       "      <td>1.226923</td>\n",
       "    </tr>\n",
       "    <tr>\n",
       "      <th>14</th>\n",
       "      <td>['Amphenicols', 'Tetracyclines', 'Folate pathw...</td>\n",
       "      <td>1</td>\n",
       "      <td>1.234568</td>\n",
       "      <td>0.000000</td>\n",
       "      <td>0.036393</td>\n",
       "      <td>1.226923</td>\n",
       "    </tr>\n",
       "    <tr>\n",
       "      <th>15</th>\n",
       "      <td>['Amphenicols', 'Aminoglycosides', 'Folate pat...</td>\n",
       "      <td>1</td>\n",
       "      <td>1.234568</td>\n",
       "      <td>0.000000</td>\n",
       "      <td>0.036393</td>\n",
       "      <td>1.226923</td>\n",
       "    </tr>\n",
       "    <tr>\n",
       "      <th>16</th>\n",
       "      <td>['Quinolones', 'Aminoglycosides']</td>\n",
       "      <td>1</td>\n",
       "      <td>1.234568</td>\n",
       "      <td>0.000000</td>\n",
       "      <td>0.036393</td>\n",
       "      <td>1.226923</td>\n",
       "    </tr>\n",
       "    <tr>\n",
       "      <th>17</th>\n",
       "      <td>['Cephalosporins', 'Fluoroquinolones']</td>\n",
       "      <td>1</td>\n",
       "      <td>1.234568</td>\n",
       "      <td>0.000000</td>\n",
       "      <td>0.036393</td>\n",
       "      <td>1.226923</td>\n",
       "    </tr>\n",
       "    <tr>\n",
       "      <th>18</th>\n",
       "      <td>['Amphenicols', 'Folate pathway antagonist']</td>\n",
       "      <td>1</td>\n",
       "      <td>1.234568</td>\n",
       "      <td>0.000000</td>\n",
       "      <td>0.036393</td>\n",
       "      <td>1.226923</td>\n",
       "    </tr>\n",
       "    <tr>\n",
       "      <th>19</th>\n",
       "      <td>['Fluoroquinolones', 'Cephalosporins', 'Quinol...</td>\n",
       "      <td>1</td>\n",
       "      <td>1.234568</td>\n",
       "      <td>0.000000</td>\n",
       "      <td>0.036393</td>\n",
       "      <td>1.226923</td>\n",
       "    </tr>\n",
       "  </tbody>\n",
       "</table>\n",
       "</div>"
      ],
      "text/plain": [
       "                                           Antibiotic  ECOLI_DRUGS  \\\n",
       "1                                   ['Tetracyclines']           25   \n",
       "2                                 ['Aminoglycosides']           11   \n",
       "3                                  ['Cephalosporins']            9   \n",
       "4                ['Aminoglycosides', 'Tetracyclines']            7   \n",
       "5                 ['Cephalosporins', 'Tetracyclines']            5   \n",
       "6                       ['Folate pathway antagonist']            5   \n",
       "7                                     ['Amphenicols']            5   \n",
       "8   ['Amphenicols', 'Aminoglycosides', 'Tetracycli...            2   \n",
       "9                   ['Amphenicols', 'Cephalosporins']            2   \n",
       "10  ['Amphenicols', 'Aminoglycosides', 'Cephalospo...            1   \n",
       "11     ['Tetracyclines', 'Folate pathway antagonist']            1   \n",
       "12                   ['Amphenicols', 'Tetracyclines']            1   \n",
       "13  ['Amphenicols', 'Aminoglycosides', 'Tetracycli...            1   \n",
       "14  ['Amphenicols', 'Tetracyclines', 'Folate pathw...            1   \n",
       "15  ['Amphenicols', 'Aminoglycosides', 'Folate pat...            1   \n",
       "16                  ['Quinolones', 'Aminoglycosides']            1   \n",
       "17             ['Cephalosporins', 'Fluoroquinolones']            1   \n",
       "18       ['Amphenicols', 'Folate pathway antagonist']            1   \n",
       "19  ['Fluoroquinolones', 'Cephalosporins', 'Quinol...            1   \n",
       "\n",
       "    SM_DRUGS_pc     lower     upper  std_error  \n",
       "1     30.864198  0.208045  0.409239   5.132589  \n",
       "2     13.580247  0.061198  0.210407   3.806430  \n",
       "3     11.111111  0.042671  0.179551   3.491885  \n",
       "4      8.641975  0.025229  0.147610   3.122032  \n",
       "5      6.172840  0.009319  0.114138   2.674018  \n",
       "6      6.172840  0.009319  0.114138   2.674018  \n",
       "7      6.172840  0.009319  0.114138   2.674018  \n",
       "8      2.469136  0.000000  0.058486   1.724253  \n",
       "9      2.469136  0.000000  0.058486   1.724253  \n",
       "10     1.234568  0.000000  0.036393   1.226923  \n",
       "11     1.234568  0.000000  0.036393   1.226923  \n",
       "12     1.234568  0.000000  0.036393   1.226923  \n",
       "13     1.234568  0.000000  0.036393   1.226923  \n",
       "14     1.234568  0.000000  0.036393   1.226923  \n",
       "15     1.234568  0.000000  0.036393   1.226923  \n",
       "16     1.234568  0.000000  0.036393   1.226923  \n",
       "17     1.234568  0.000000  0.036393   1.226923  \n",
       "18     1.234568  0.000000  0.036393   1.226923  \n",
       "19     1.234568  0.000000  0.036393   1.226923  "
      ]
     },
     "execution_count": 163,
     "metadata": {},
     "output_type": "execute_result"
    }
   ],
   "source": [
    "a = df.Ecoli_AbR.astype(str).value_counts().reset_index()\n",
    "a.columns = ['Antibiotic', 'ECOLI_DRUGS']\n",
    "a = a[a.Antibiotic != '[]']\n",
    "a['SM_DRUGS_pc'] = a.ECOLI_DRUGS*100/a.ECOLI_DRUGS.sum()\n",
    "lower, upper =stats.proportion.proportion_confint(a.ECOLI_DRUGS, a.ECOLI_DRUGS.sum())\n",
    "std_error = stats.proportion.std_prop(a.ECOLI_DRUGS/a.ECOLI_DRUGS.sum(), a.ECOLI_DRUGS.sum())\n",
    "a['lower'] =lower\n",
    "a['upper'] =upper\n",
    "a['std_error'] = std_error*100\n",
    "a"
   ]
  },
  {
   "cell_type": "code",
   "execution_count": 164,
   "metadata": {},
   "outputs": [
    {
     "name": "stdout",
     "output_type": "stream",
     "text": [
      "             Antimicorbial Class  Number of Cows  Prevalence (%)  \\\n",
      "1                  Tetracyclines              25           30.86   \n",
      "2                Aminoglycosides              11           13.58   \n",
      "3                 Cephalosporins               9           11.11   \n",
      "4  Aminoglycosides,Tetracyclines               7            8.64   \n",
      "5      Folate pathway antagonist               5            6.17   \n",
      "\n",
      "           95%CI  std_error  \n",
      "1  20.805-40.924   5.132589  \n",
      "2    6.12-21.041   3.806430  \n",
      "3   4.267-17.955   3.491885  \n",
      "4   2.523-14.761   3.122032  \n",
      "5   0.932-11.414   2.674018  \n"
     ]
    },
    {
     "data": {
      "text/html": [
       "<div>\n",
       "<style scoped>\n",
       "    .dataframe tbody tr th:only-of-type {\n",
       "        vertical-align: middle;\n",
       "    }\n",
       "\n",
       "    .dataframe tbody tr th {\n",
       "        vertical-align: top;\n",
       "    }\n",
       "\n",
       "    .dataframe thead th {\n",
       "        text-align: right;\n",
       "    }\n",
       "</style>\n",
       "<table border=\"1\" class=\"dataframe\">\n",
       "  <thead>\n",
       "    <tr style=\"text-align: right;\">\n",
       "      <th></th>\n",
       "      <th>Antimicorbial Class</th>\n",
       "      <th>Number of Cows</th>\n",
       "      <th>Prevalence (%)</th>\n",
       "      <th>95%CI</th>\n",
       "      <th>std_error</th>\n",
       "    </tr>\n",
       "  </thead>\n",
       "  <tbody>\n",
       "    <tr>\n",
       "      <th>1</th>\n",
       "      <td>Tetracyclines</td>\n",
       "      <td>25</td>\n",
       "      <td>30.86</td>\n",
       "      <td>20.805-40.924</td>\n",
       "      <td>5.132589</td>\n",
       "    </tr>\n",
       "    <tr>\n",
       "      <th>2</th>\n",
       "      <td>Aminoglycosides</td>\n",
       "      <td>11</td>\n",
       "      <td>13.58</td>\n",
       "      <td>6.12-21.041</td>\n",
       "      <td>3.806430</td>\n",
       "    </tr>\n",
       "    <tr>\n",
       "      <th>3</th>\n",
       "      <td>Cephalosporins</td>\n",
       "      <td>9</td>\n",
       "      <td>11.11</td>\n",
       "      <td>4.267-17.955</td>\n",
       "      <td>3.491885</td>\n",
       "    </tr>\n",
       "    <tr>\n",
       "      <th>4</th>\n",
       "      <td>Aminoglycosides,Tetracyclines</td>\n",
       "      <td>7</td>\n",
       "      <td>8.64</td>\n",
       "      <td>2.523-14.761</td>\n",
       "      <td>3.122032</td>\n",
       "    </tr>\n",
       "    <tr>\n",
       "      <th>5</th>\n",
       "      <td>Folate pathway antagonist</td>\n",
       "      <td>5</td>\n",
       "      <td>6.17</td>\n",
       "      <td>0.932-11.414</td>\n",
       "      <td>2.674018</td>\n",
       "    </tr>\n",
       "    <tr>\n",
       "      <th>6</th>\n",
       "      <td>Amphenicols</td>\n",
       "      <td>5</td>\n",
       "      <td>6.17</td>\n",
       "      <td>0.932-11.414</td>\n",
       "      <td>2.674018</td>\n",
       "    </tr>\n",
       "    <tr>\n",
       "      <th>7</th>\n",
       "      <td>Cephalosporins,Tetracyclines</td>\n",
       "      <td>5</td>\n",
       "      <td>6.17</td>\n",
       "      <td>0.932-11.414</td>\n",
       "      <td>2.674018</td>\n",
       "    </tr>\n",
       "    <tr>\n",
       "      <th>8</th>\n",
       "      <td>Amphenicols,Aminoglycosides,Tetracyclines</td>\n",
       "      <td>2</td>\n",
       "      <td>2.47</td>\n",
       "      <td>0.0-5.849</td>\n",
       "      <td>1.724253</td>\n",
       "    </tr>\n",
       "    <tr>\n",
       "      <th>9</th>\n",
       "      <td>Amphenicols,Cephalosporins</td>\n",
       "      <td>2</td>\n",
       "      <td>2.47</td>\n",
       "      <td>0.0-5.849</td>\n",
       "      <td>1.724253</td>\n",
       "    </tr>\n",
       "    <tr>\n",
       "      <th>10</th>\n",
       "      <td>Quinolones,Aminoglycosides</td>\n",
       "      <td>1</td>\n",
       "      <td>1.23</td>\n",
       "      <td>0.0-3.639</td>\n",
       "      <td>1.226923</td>\n",
       "    </tr>\n",
       "    <tr>\n",
       "      <th>11</th>\n",
       "      <td>Amphenicols,Aminoglycosides,Folate pathway ant...</td>\n",
       "      <td>1</td>\n",
       "      <td>1.23</td>\n",
       "      <td>0.0-3.639</td>\n",
       "      <td>1.226923</td>\n",
       "    </tr>\n",
       "    <tr>\n",
       "      <th>12</th>\n",
       "      <td>Amphenicols,Tetracyclines</td>\n",
       "      <td>1</td>\n",
       "      <td>1.23</td>\n",
       "      <td>0.0-3.639</td>\n",
       "      <td>1.226923</td>\n",
       "    </tr>\n",
       "    <tr>\n",
       "      <th>13</th>\n",
       "      <td>Tetracyclines,Folate pathway antagonist</td>\n",
       "      <td>1</td>\n",
       "      <td>1.23</td>\n",
       "      <td>0.0-3.639</td>\n",
       "      <td>1.226923</td>\n",
       "    </tr>\n",
       "    <tr>\n",
       "      <th>14</th>\n",
       "      <td>Amphenicols,Tetracyclines,Folate pathway antag...</td>\n",
       "      <td>1</td>\n",
       "      <td>1.23</td>\n",
       "      <td>0.0-3.639</td>\n",
       "      <td>1.226923</td>\n",
       "    </tr>\n",
       "    <tr>\n",
       "      <th>15</th>\n",
       "      <td>Amphenicols,Aminoglycosides,Cephalosporins,Tet...</td>\n",
       "      <td>1</td>\n",
       "      <td>1.23</td>\n",
       "      <td>0.0-3.639</td>\n",
       "      <td>1.226923</td>\n",
       "    </tr>\n",
       "    <tr>\n",
       "      <th>16</th>\n",
       "      <td>Cephalosporins,Fluoroquinolones</td>\n",
       "      <td>1</td>\n",
       "      <td>1.23</td>\n",
       "      <td>0.0-3.639</td>\n",
       "      <td>1.226923</td>\n",
       "    </tr>\n",
       "    <tr>\n",
       "      <th>17</th>\n",
       "      <td>Amphenicols,Folate pathway antagonist</td>\n",
       "      <td>1</td>\n",
       "      <td>1.23</td>\n",
       "      <td>0.0-3.639</td>\n",
       "      <td>1.226923</td>\n",
       "    </tr>\n",
       "    <tr>\n",
       "      <th>18</th>\n",
       "      <td>Fluoroquinolones,Cephalosporins,Quinolones,Ami...</td>\n",
       "      <td>1</td>\n",
       "      <td>1.23</td>\n",
       "      <td>0.0-3.639</td>\n",
       "      <td>1.226923</td>\n",
       "    </tr>\n",
       "    <tr>\n",
       "      <th>19</th>\n",
       "      <td>Amphenicols,Aminoglycosides,Tetracyclines,Fola...</td>\n",
       "      <td>1</td>\n",
       "      <td>1.23</td>\n",
       "      <td>0.0-3.639</td>\n",
       "      <td>1.226923</td>\n",
       "    </tr>\n",
       "  </tbody>\n",
       "</table>\n",
       "</div>"
      ],
      "text/plain": [
       "                                  Antimicorbial Class  Number of Cows  \\\n",
       "1                                       Tetracyclines              25   \n",
       "2                                     Aminoglycosides              11   \n",
       "3                                      Cephalosporins               9   \n",
       "4                       Aminoglycosides,Tetracyclines               7   \n",
       "5                           Folate pathway antagonist               5   \n",
       "6                                         Amphenicols               5   \n",
       "7                        Cephalosporins,Tetracyclines               5   \n",
       "8           Amphenicols,Aminoglycosides,Tetracyclines               2   \n",
       "9                          Amphenicols,Cephalosporins               2   \n",
       "10                         Quinolones,Aminoglycosides               1   \n",
       "11  Amphenicols,Aminoglycosides,Folate pathway ant...               1   \n",
       "12                          Amphenicols,Tetracyclines               1   \n",
       "13            Tetracyclines,Folate pathway antagonist               1   \n",
       "14  Amphenicols,Tetracyclines,Folate pathway antag...               1   \n",
       "15  Amphenicols,Aminoglycosides,Cephalosporins,Tet...               1   \n",
       "16                    Cephalosporins,Fluoroquinolones               1   \n",
       "17              Amphenicols,Folate pathway antagonist               1   \n",
       "18  Fluoroquinolones,Cephalosporins,Quinolones,Ami...               1   \n",
       "19  Amphenicols,Aminoglycosides,Tetracyclines,Fola...               1   \n",
       "\n",
       "    Prevalence (%)          95%CI  std_error  \n",
       "1            30.86  20.805-40.924   5.132589  \n",
       "2            13.58    6.12-21.041   3.806430  \n",
       "3            11.11   4.267-17.955   3.491885  \n",
       "4             8.64   2.523-14.761   3.122032  \n",
       "5             6.17   0.932-11.414   2.674018  \n",
       "6             6.17   0.932-11.414   2.674018  \n",
       "7             6.17   0.932-11.414   2.674018  \n",
       "8             2.47      0.0-5.849   1.724253  \n",
       "9             2.47      0.0-5.849   1.724253  \n",
       "10            1.23      0.0-3.639   1.226923  \n",
       "11            1.23      0.0-3.639   1.226923  \n",
       "12            1.23      0.0-3.639   1.226923  \n",
       "13            1.23      0.0-3.639   1.226923  \n",
       "14            1.23      0.0-3.639   1.226923  \n",
       "15            1.23      0.0-3.639   1.226923  \n",
       "16            1.23      0.0-3.639   1.226923  \n",
       "17            1.23      0.0-3.639   1.226923  \n",
       "18            1.23      0.0-3.639   1.226923  \n",
       "19            1.23      0.0-3.639   1.226923  "
      ]
     },
     "execution_count": 164,
     "metadata": {},
     "output_type": "execute_result"
    }
   ],
   "source": [
    "a = df.Ecoli_AbR.value_counts().reset_index()\n",
    "a = a.iloc[1:]\n",
    "a.columns = ['Antibiotic', 'Entero_DRUGS']\n",
    "a = a[a.Antibiotic != '[]']\n",
    "a['SM_DRUGS_pc'] = a.Entero_DRUGS*100/a.Entero_DRUGS.sum()\n",
    "lower, upper =stats.proportion.proportion_confint(a.Entero_DRUGS, a.Entero_DRUGS.sum())\n",
    "std_error = stats.proportion.std_prop(a.Entero_DRUGS/a.Entero_DRUGS.sum(), a.Entero_DRUGS.sum())\n",
    "a['lower'] =lower\n",
    "a['upper'] =upper\n",
    "a['std_error'] = std_error*100\n",
    "a['Antimicorbial Class'] = [','.join(map(str, l)) for l in a.Antibiotic]\n",
    "a['lower'] = a.lower*100\n",
    "a['upper'] = a.upper*100\n",
    "a['95%CI']  = a.lower.round(3).astype(str) +'-'+ a.upper.round(3).astype(str)\n",
    "a['Prevalence (%)'] = a.SM_DRUGS_pc.round(2)\n",
    "a['Number of Cows'] = a.Entero_DRUGS\n",
    "aa = a[['Antimicorbial Class', 'Number of Cows', 'Prevalence (%)', '95%CI', 'std_error']]\n",
    "print(aa.head())\n",
    "aa.to_excel(output_path+'/Ecoli_resistance_phenotype.xlsx')\n",
    "aa"
   ]
  },
  {
   "cell_type": "code",
   "execution_count": 165,
   "metadata": {},
   "outputs": [
    {
     "data": {
      "text/plain": [
       "(0.009318612124707144, 0.11413817799874965)"
      ]
     },
     "execution_count": 165,
     "metadata": {},
     "output_type": "execute_result"
    }
   ],
   "source": [
    "stats.proportion.proportion_confint(5, 81)"
   ]
  },
  {
   "cell_type": "code",
   "execution_count": 166,
   "metadata": {},
   "outputs": [
    {
     "data": {
      "text/plain": [
       "0.02674017652896835"
      ]
     },
     "execution_count": 166,
     "metadata": {},
     "output_type": "execute_result"
    }
   ],
   "source": [
    "stats.proportion.std_prop(5/81, 81)"
   ]
  },
  {
   "cell_type": "code",
   "execution_count": 167,
   "metadata": {},
   "outputs": [
    {
     "data": {
      "text/plain": [
       "81"
      ]
     },
     "execution_count": 167,
     "metadata": {},
     "output_type": "execute_result"
    }
   ],
   "source": [
    "a.Entero_DRUGS.sum()"
   ]
  },
  {
   "cell_type": "code",
   "execution_count": null,
   "metadata": {},
   "outputs": [],
   "source": []
  },
  {
   "cell_type": "code",
   "execution_count": 168,
   "metadata": {
    "cell_style": "center"
   },
   "outputs": [
    {
     "data": {
      "text/html": [
       "<div>\n",
       "<style scoped>\n",
       "    .dataframe tbody tr th:only-of-type {\n",
       "        vertical-align: middle;\n",
       "    }\n",
       "\n",
       "    .dataframe tbody tr th {\n",
       "        vertical-align: top;\n",
       "    }\n",
       "\n",
       "    .dataframe thead th {\n",
       "        text-align: right;\n",
       "    }\n",
       "</style>\n",
       "<table border=\"1\" class=\"dataframe\">\n",
       "  <thead>\n",
       "    <tr style=\"text-align: right;\">\n",
       "      <th></th>\n",
       "      <th>Antibiotic</th>\n",
       "      <th>ECOLI_DRUGS</th>\n",
       "      <th>Ecoli_DRUGS_pc</th>\n",
       "      <th>lower</th>\n",
       "      <th>upper</th>\n",
       "      <th>std_error</th>\n",
       "    </tr>\n",
       "  </thead>\n",
       "  <tbody>\n",
       "    <tr>\n",
       "      <th>1</th>\n",
       "      <td>['TET']</td>\n",
       "      <td>21</td>\n",
       "      <td>23.076923</td>\n",
       "      <td>0.144204</td>\n",
       "      <td>0.317335</td>\n",
       "      <td>0.044167</td>\n",
       "    </tr>\n",
       "    <tr>\n",
       "      <th>2</th>\n",
       "      <td>['TET', 'STR']</td>\n",
       "      <td>6</td>\n",
       "      <td>6.593407</td>\n",
       "      <td>0.014946</td>\n",
       "      <td>0.116922</td>\n",
       "      <td>0.026015</td>\n",
       "    </tr>\n",
       "    <tr>\n",
       "      <th>3</th>\n",
       "      <td>['AXO']</td>\n",
       "      <td>6</td>\n",
       "      <td>6.593407</td>\n",
       "      <td>0.014946</td>\n",
       "      <td>0.116922</td>\n",
       "      <td>0.026015</td>\n",
       "    </tr>\n",
       "    <tr>\n",
       "      <th>4</th>\n",
       "      <td>['SXT']</td>\n",
       "      <td>5</td>\n",
       "      <td>5.494505</td>\n",
       "      <td>0.008126</td>\n",
       "      <td>0.101764</td>\n",
       "      <td>0.023888</td>\n",
       "    </tr>\n",
       "    <tr>\n",
       "      <th>5</th>\n",
       "      <td>['AUG2']</td>\n",
       "      <td>5</td>\n",
       "      <td>5.494505</td>\n",
       "      <td>0.008126</td>\n",
       "      <td>0.101764</td>\n",
       "      <td>0.023888</td>\n",
       "    </tr>\n",
       "    <tr>\n",
       "      <th>6</th>\n",
       "      <td>['TET', 'AMP']</td>\n",
       "      <td>4</td>\n",
       "      <td>4.395604</td>\n",
       "      <td>0.001837</td>\n",
       "      <td>0.086075</td>\n",
       "      <td>0.021490</td>\n",
       "    </tr>\n",
       "    <tr>\n",
       "      <th>7</th>\n",
       "      <td>['TET', 'AXO']</td>\n",
       "      <td>4</td>\n",
       "      <td>4.395604</td>\n",
       "      <td>0.001837</td>\n",
       "      <td>0.086075</td>\n",
       "      <td>0.021490</td>\n",
       "    </tr>\n",
       "    <tr>\n",
       "      <th>8</th>\n",
       "      <td>['CHL']</td>\n",
       "      <td>4</td>\n",
       "      <td>4.395604</td>\n",
       "      <td>0.001837</td>\n",
       "      <td>0.086075</td>\n",
       "      <td>0.021490</td>\n",
       "    </tr>\n",
       "    <tr>\n",
       "      <th>9</th>\n",
       "      <td>['GEN']</td>\n",
       "      <td>3</td>\n",
       "      <td>3.296703</td>\n",
       "      <td>0.000000</td>\n",
       "      <td>0.069652</td>\n",
       "      <td>0.018717</td>\n",
       "    </tr>\n",
       "    <tr>\n",
       "      <th>10</th>\n",
       "      <td>['AUG2', 'AMP']</td>\n",
       "      <td>3</td>\n",
       "      <td>3.296703</td>\n",
       "      <td>0.000000</td>\n",
       "      <td>0.069652</td>\n",
       "      <td>0.018717</td>\n",
       "    </tr>\n",
       "    <tr>\n",
       "      <th>11</th>\n",
       "      <td>['STR']</td>\n",
       "      <td>3</td>\n",
       "      <td>3.296703</td>\n",
       "      <td>0.000000</td>\n",
       "      <td>0.069652</td>\n",
       "      <td>0.018717</td>\n",
       "    </tr>\n",
       "    <tr>\n",
       "      <th>12</th>\n",
       "      <td>['AMP']</td>\n",
       "      <td>2</td>\n",
       "      <td>2.197802</td>\n",
       "      <td>0.000000</td>\n",
       "      <td>0.052101</td>\n",
       "      <td>0.015369</td>\n",
       "    </tr>\n",
       "    <tr>\n",
       "      <th>13</th>\n",
       "      <td>['AUG2', 'STR']</td>\n",
       "      <td>2</td>\n",
       "      <td>2.197802</td>\n",
       "      <td>0.000000</td>\n",
       "      <td>0.052101</td>\n",
       "      <td>0.015369</td>\n",
       "    </tr>\n",
       "    <tr>\n",
       "      <th>14</th>\n",
       "      <td>['CHL', 'TET', 'SXT', 'STR']</td>\n",
       "      <td>1</td>\n",
       "      <td>1.098901</td>\n",
       "      <td>0.000000</td>\n",
       "      <td>0.032408</td>\n",
       "      <td>0.010928</td>\n",
       "    </tr>\n",
       "    <tr>\n",
       "      <th>15</th>\n",
       "      <td>['AXO', 'AUG2']</td>\n",
       "      <td>1</td>\n",
       "      <td>1.098901</td>\n",
       "      <td>0.000000</td>\n",
       "      <td>0.032408</td>\n",
       "      <td>0.010928</td>\n",
       "    </tr>\n",
       "    <tr>\n",
       "      <th>16</th>\n",
       "      <td>['CHL', 'SXT', 'AMP', 'STR']</td>\n",
       "      <td>1</td>\n",
       "      <td>1.098901</td>\n",
       "      <td>0.000000</td>\n",
       "      <td>0.032408</td>\n",
       "      <td>0.010928</td>\n",
       "    </tr>\n",
       "    <tr>\n",
       "      <th>17</th>\n",
       "      <td>['CHL', 'TET', 'AMP', 'KAN']</td>\n",
       "      <td>1</td>\n",
       "      <td>1.098901</td>\n",
       "      <td>0.000000</td>\n",
       "      <td>0.032408</td>\n",
       "      <td>0.010928</td>\n",
       "    </tr>\n",
       "    <tr>\n",
       "      <th>18</th>\n",
       "      <td>['CHL', 'TET', 'SXT']</td>\n",
       "      <td>1</td>\n",
       "      <td>1.098901</td>\n",
       "      <td>0.000000</td>\n",
       "      <td>0.032408</td>\n",
       "      <td>0.010928</td>\n",
       "    </tr>\n",
       "    <tr>\n",
       "      <th>19</th>\n",
       "      <td>['CHL', 'TET', 'AXO', 'STR']</td>\n",
       "      <td>1</td>\n",
       "      <td>1.098901</td>\n",
       "      <td>0.000000</td>\n",
       "      <td>0.032408</td>\n",
       "      <td>0.010928</td>\n",
       "    </tr>\n",
       "    <tr>\n",
       "      <th>20</th>\n",
       "      <td>['Nal', 'KAN']</td>\n",
       "      <td>1</td>\n",
       "      <td>1.098901</td>\n",
       "      <td>0.000000</td>\n",
       "      <td>0.032408</td>\n",
       "      <td>0.010928</td>\n",
       "    </tr>\n",
       "    <tr>\n",
       "      <th>21</th>\n",
       "      <td>['AMP', 'KAN']</td>\n",
       "      <td>1</td>\n",
       "      <td>1.098901</td>\n",
       "      <td>0.000000</td>\n",
       "      <td>0.032408</td>\n",
       "      <td>0.010928</td>\n",
       "    </tr>\n",
       "    <tr>\n",
       "      <th>22</th>\n",
       "      <td>['CHL', 'XNL']</td>\n",
       "      <td>1</td>\n",
       "      <td>1.098901</td>\n",
       "      <td>0.000000</td>\n",
       "      <td>0.032408</td>\n",
       "      <td>0.010928</td>\n",
       "    </tr>\n",
       "    <tr>\n",
       "      <th>23</th>\n",
       "      <td>['CHL', 'AUG2']</td>\n",
       "      <td>1</td>\n",
       "      <td>1.098901</td>\n",
       "      <td>0.000000</td>\n",
       "      <td>0.032408</td>\n",
       "      <td>0.010928</td>\n",
       "    </tr>\n",
       "    <tr>\n",
       "      <th>24</th>\n",
       "      <td>['XNL']</td>\n",
       "      <td>1</td>\n",
       "      <td>1.098901</td>\n",
       "      <td>0.000000</td>\n",
       "      <td>0.032408</td>\n",
       "      <td>0.010928</td>\n",
       "    </tr>\n",
       "    <tr>\n",
       "      <th>25</th>\n",
       "      <td>['KAN']</td>\n",
       "      <td>1</td>\n",
       "      <td>1.098901</td>\n",
       "      <td>0.000000</td>\n",
       "      <td>0.032408</td>\n",
       "      <td>0.010928</td>\n",
       "    </tr>\n",
       "    <tr>\n",
       "      <th>26</th>\n",
       "      <td>['TET', 'AXO', 'AUG2', 'CIP', 'Nal', 'STR']</td>\n",
       "      <td>1</td>\n",
       "      <td>1.098901</td>\n",
       "      <td>0.000000</td>\n",
       "      <td>0.032408</td>\n",
       "      <td>0.010928</td>\n",
       "    </tr>\n",
       "    <tr>\n",
       "      <th>27</th>\n",
       "      <td>['CHL', 'TET', 'GEN', 'STR']</td>\n",
       "      <td>1</td>\n",
       "      <td>1.098901</td>\n",
       "      <td>0.000000</td>\n",
       "      <td>0.032408</td>\n",
       "      <td>0.010928</td>\n",
       "    </tr>\n",
       "    <tr>\n",
       "      <th>28</th>\n",
       "      <td>['CHL', 'AXO', 'AUG2']</td>\n",
       "      <td>1</td>\n",
       "      <td>1.098901</td>\n",
       "      <td>0.000000</td>\n",
       "      <td>0.032408</td>\n",
       "      <td>0.010928</td>\n",
       "    </tr>\n",
       "    <tr>\n",
       "      <th>29</th>\n",
       "      <td>['AMP', 'STR', 'KAN']</td>\n",
       "      <td>1</td>\n",
       "      <td>1.098901</td>\n",
       "      <td>0.000000</td>\n",
       "      <td>0.032408</td>\n",
       "      <td>0.010928</td>\n",
       "    </tr>\n",
       "    <tr>\n",
       "      <th>30</th>\n",
       "      <td>['TET', 'GEN', 'STR']</td>\n",
       "      <td>1</td>\n",
       "      <td>1.098901</td>\n",
       "      <td>0.000000</td>\n",
       "      <td>0.032408</td>\n",
       "      <td>0.010928</td>\n",
       "    </tr>\n",
       "    <tr>\n",
       "      <th>31</th>\n",
       "      <td>['CHL', 'SXT']</td>\n",
       "      <td>1</td>\n",
       "      <td>1.098901</td>\n",
       "      <td>0.000000</td>\n",
       "      <td>0.032408</td>\n",
       "      <td>0.010928</td>\n",
       "    </tr>\n",
       "    <tr>\n",
       "      <th>32</th>\n",
       "      <td>['TET', 'XNL']</td>\n",
       "      <td>1</td>\n",
       "      <td>1.098901</td>\n",
       "      <td>0.000000</td>\n",
       "      <td>0.032408</td>\n",
       "      <td>0.010928</td>\n",
       "    </tr>\n",
       "    <tr>\n",
       "      <th>33</th>\n",
       "      <td>['AXO', 'AUG2', 'CIP']</td>\n",
       "      <td>1</td>\n",
       "      <td>1.098901</td>\n",
       "      <td>0.000000</td>\n",
       "      <td>0.032408</td>\n",
       "      <td>0.010928</td>\n",
       "    </tr>\n",
       "    <tr>\n",
       "      <th>34</th>\n",
       "      <td>['FOX', 'AXO', 'AUG2', 'XNL', 'AMP']</td>\n",
       "      <td>1</td>\n",
       "      <td>1.098901</td>\n",
       "      <td>0.000000</td>\n",
       "      <td>0.032408</td>\n",
       "      <td>0.010928</td>\n",
       "    </tr>\n",
       "    <tr>\n",
       "      <th>35</th>\n",
       "      <td>['CHL', 'TET']</td>\n",
       "      <td>1</td>\n",
       "      <td>1.098901</td>\n",
       "      <td>0.000000</td>\n",
       "      <td>0.032408</td>\n",
       "      <td>0.010928</td>\n",
       "    </tr>\n",
       "    <tr>\n",
       "      <th>36</th>\n",
       "      <td>['TET', 'SXT']</td>\n",
       "      <td>1</td>\n",
       "      <td>1.098901</td>\n",
       "      <td>0.000000</td>\n",
       "      <td>0.032408</td>\n",
       "      <td>0.010928</td>\n",
       "    </tr>\n",
       "  </tbody>\n",
       "</table>\n",
       "</div>"
      ],
      "text/plain": [
       "                                     Antibiotic  ECOLI_DRUGS  Ecoli_DRUGS_pc  \\\n",
       "1                                       ['TET']           21       23.076923   \n",
       "2                                ['TET', 'STR']            6        6.593407   \n",
       "3                                       ['AXO']            6        6.593407   \n",
       "4                                       ['SXT']            5        5.494505   \n",
       "5                                      ['AUG2']            5        5.494505   \n",
       "6                                ['TET', 'AMP']            4        4.395604   \n",
       "7                                ['TET', 'AXO']            4        4.395604   \n",
       "8                                       ['CHL']            4        4.395604   \n",
       "9                                       ['GEN']            3        3.296703   \n",
       "10                              ['AUG2', 'AMP']            3        3.296703   \n",
       "11                                      ['STR']            3        3.296703   \n",
       "12                                      ['AMP']            2        2.197802   \n",
       "13                              ['AUG2', 'STR']            2        2.197802   \n",
       "14                 ['CHL', 'TET', 'SXT', 'STR']            1        1.098901   \n",
       "15                              ['AXO', 'AUG2']            1        1.098901   \n",
       "16                 ['CHL', 'SXT', 'AMP', 'STR']            1        1.098901   \n",
       "17                 ['CHL', 'TET', 'AMP', 'KAN']            1        1.098901   \n",
       "18                        ['CHL', 'TET', 'SXT']            1        1.098901   \n",
       "19                 ['CHL', 'TET', 'AXO', 'STR']            1        1.098901   \n",
       "20                               ['Nal', 'KAN']            1        1.098901   \n",
       "21                               ['AMP', 'KAN']            1        1.098901   \n",
       "22                               ['CHL', 'XNL']            1        1.098901   \n",
       "23                              ['CHL', 'AUG2']            1        1.098901   \n",
       "24                                      ['XNL']            1        1.098901   \n",
       "25                                      ['KAN']            1        1.098901   \n",
       "26  ['TET', 'AXO', 'AUG2', 'CIP', 'Nal', 'STR']            1        1.098901   \n",
       "27                 ['CHL', 'TET', 'GEN', 'STR']            1        1.098901   \n",
       "28                       ['CHL', 'AXO', 'AUG2']            1        1.098901   \n",
       "29                        ['AMP', 'STR', 'KAN']            1        1.098901   \n",
       "30                        ['TET', 'GEN', 'STR']            1        1.098901   \n",
       "31                               ['CHL', 'SXT']            1        1.098901   \n",
       "32                               ['TET', 'XNL']            1        1.098901   \n",
       "33                       ['AXO', 'AUG2', 'CIP']            1        1.098901   \n",
       "34         ['FOX', 'AXO', 'AUG2', 'XNL', 'AMP']            1        1.098901   \n",
       "35                               ['CHL', 'TET']            1        1.098901   \n",
       "36                               ['TET', 'SXT']            1        1.098901   \n",
       "\n",
       "       lower     upper  std_error  \n",
       "1   0.144204  0.317335   0.044167  \n",
       "2   0.014946  0.116922   0.026015  \n",
       "3   0.014946  0.116922   0.026015  \n",
       "4   0.008126  0.101764   0.023888  \n",
       "5   0.008126  0.101764   0.023888  \n",
       "6   0.001837  0.086075   0.021490  \n",
       "7   0.001837  0.086075   0.021490  \n",
       "8   0.001837  0.086075   0.021490  \n",
       "9   0.000000  0.069652   0.018717  \n",
       "10  0.000000  0.069652   0.018717  \n",
       "11  0.000000  0.069652   0.018717  \n",
       "12  0.000000  0.052101   0.015369  \n",
       "13  0.000000  0.052101   0.015369  \n",
       "14  0.000000  0.032408   0.010928  \n",
       "15  0.000000  0.032408   0.010928  \n",
       "16  0.000000  0.032408   0.010928  \n",
       "17  0.000000  0.032408   0.010928  \n",
       "18  0.000000  0.032408   0.010928  \n",
       "19  0.000000  0.032408   0.010928  \n",
       "20  0.000000  0.032408   0.010928  \n",
       "21  0.000000  0.032408   0.010928  \n",
       "22  0.000000  0.032408   0.010928  \n",
       "23  0.000000  0.032408   0.010928  \n",
       "24  0.000000  0.032408   0.010928  \n",
       "25  0.000000  0.032408   0.010928  \n",
       "26  0.000000  0.032408   0.010928  \n",
       "27  0.000000  0.032408   0.010928  \n",
       "28  0.000000  0.032408   0.010928  \n",
       "29  0.000000  0.032408   0.010928  \n",
       "30  0.000000  0.032408   0.010928  \n",
       "31  0.000000  0.032408   0.010928  \n",
       "32  0.000000  0.032408   0.010928  \n",
       "33  0.000000  0.032408   0.010928  \n",
       "34  0.000000  0.032408   0.010928  \n",
       "35  0.000000  0.032408   0.010928  \n",
       "36  0.000000  0.032408   0.010928  "
      ]
     },
     "execution_count": 168,
     "metadata": {},
     "output_type": "execute_result"
    }
   ],
   "source": [
    "a = df.Ecoli_DrugsR.astype(str).value_counts().reset_index()\n",
    "a.columns = ['Antibiotic', 'ECOLI_DRUGS']\n",
    "a = a[a.Antibiotic != '[]']\n",
    "a['Ecoli_DRUGS_pc'] = a.ECOLI_DRUGS*100/a.ECOLI_DRUGS.sum()\n",
    "lower, upper =stats.proportion.proportion_confint(a.ECOLI_DRUGS, a.ECOLI_DRUGS.sum())\n",
    "std_error = stats.proportion.std_prop(a.ECOLI_DRUGS/a.ECOLI_DRUGS.sum(), a.ECOLI_DRUGS.sum())\n",
    "a['lower'] =lower\n",
    "a['upper'] =upper\n",
    "a['std_error'] = std_error\n",
    "a"
   ]
  },
  {
   "cell_type": "code",
   "execution_count": 169,
   "metadata": {},
   "outputs": [
    {
     "data": {
      "text/plain": [
       "91"
      ]
     },
     "execution_count": 169,
     "metadata": {},
     "output_type": "execute_result"
    }
   ],
   "source": [
    "a.ECOLI_DRUGS.sum()"
   ]
  },
  {
   "cell_type": "code",
   "execution_count": 170,
   "metadata": {},
   "outputs": [
    {
     "data": {
      "text/plain": [
       "(0.025229050103042827, 0.14761045606979667)"
      ]
     },
     "execution_count": 170,
     "metadata": {},
     "output_type": "execute_result"
    }
   ],
   "source": [
    "stats.proportion.proportion_confint(7, 81)"
   ]
  },
  {
   "cell_type": "code",
   "execution_count": 171,
   "metadata": {},
   "outputs": [
    {
     "data": {
      "text/plain": [
       "0.03122032010079847"
      ]
     },
     "execution_count": 171,
     "metadata": {},
     "output_type": "execute_result"
    }
   ],
   "source": [
    "stats.proportion.std_prop(7/81, 81)"
   ]
  },
  {
   "cell_type": "code",
   "execution_count": 172,
   "metadata": {
    "scrolled": false
   },
   "outputs": [
    {
     "data": {
      "text/plain": [
       "[]                                                                                          162\n",
       "['Tetracyclines']                                                                            25\n",
       "['Aminoglycosides']                                                                          11\n",
       "['Cephalosporins']                                                                            9\n",
       "['Aminoglycosides', 'Tetracyclines']                                                          7\n",
       "['Cephalosporins', 'Tetracyclines']                                                           5\n",
       "['Folate pathway antagonist']                                                                 5\n",
       "['Amphenicols']                                                                               5\n",
       "['Amphenicols', 'Aminoglycosides', 'Tetracyclines']                                           2\n",
       "['Amphenicols', 'Cephalosporins']                                                             2\n",
       "['Amphenicols', 'Aminoglycosides', 'Cephalosporins', 'Tetracyclines']                         1\n",
       "['Tetracyclines', 'Folate pathway antagonist']                                                1\n",
       "['Amphenicols', 'Tetracyclines']                                                              1\n",
       "['Amphenicols', 'Aminoglycosides', 'Tetracyclines', 'Folate pathway antagonist']              1\n",
       "['Amphenicols', 'Tetracyclines', 'Folate pathway antagonist']                                 1\n",
       "['Amphenicols', 'Aminoglycosides', 'Folate pathway antagonist']                               1\n",
       "['Quinolones', 'Aminoglycosides']                                                             1\n",
       "['Cephalosporins', 'Fluoroquinolones']                                                        1\n",
       "['Amphenicols', 'Folate pathway antagonist']                                                  1\n",
       "['Fluoroquinolones', 'Cephalosporins', 'Quinolones', 'Aminoglycosides', 'Tetracyclines']      1\n",
       "Name: Ecoli_AbR, dtype: int64"
      ]
     },
     "execution_count": 172,
     "metadata": {},
     "output_type": "execute_result"
    }
   ],
   "source": [
    "df.Ecoli_AbR.astype(str).value_counts()"
   ]
  },
  {
   "cell_type": "code",
   "execution_count": 173,
   "metadata": {
    "scrolled": true
   },
   "outputs": [
    {
     "data": {
      "text/plain": [
       "[]                                             152\n",
       "['TET']                                         21\n",
       "['TET', 'STR']                                   6\n",
       "['AXO']                                          6\n",
       "['SXT']                                          5\n",
       "['AUG2']                                         5\n",
       "['TET', 'AMP']                                   4\n",
       "['TET', 'AXO']                                   4\n",
       "['CHL']                                          4\n",
       "['GEN']                                          3\n",
       "['AUG2', 'AMP']                                  3\n",
       "['STR']                                          3\n",
       "['AMP']                                          2\n",
       "['AUG2', 'STR']                                  2\n",
       "['CHL', 'TET', 'SXT', 'STR']                     1\n",
       "['AXO', 'AUG2']                                  1\n",
       "['CHL', 'SXT', 'AMP', 'STR']                     1\n",
       "['CHL', 'TET', 'AMP', 'KAN']                     1\n",
       "['CHL', 'TET', 'SXT']                            1\n",
       "['CHL', 'TET', 'AXO', 'STR']                     1\n",
       "['Nal', 'KAN']                                   1\n",
       "['AMP', 'KAN']                                   1\n",
       "['CHL', 'XNL']                                   1\n",
       "['CHL', 'AUG2']                                  1\n",
       "['XNL']                                          1\n",
       "['KAN']                                          1\n",
       "['TET', 'AXO', 'AUG2', 'CIP', 'Nal', 'STR']      1\n",
       "['CHL', 'TET', 'GEN', 'STR']                     1\n",
       "['CHL', 'AXO', 'AUG2']                           1\n",
       "['AMP', 'STR', 'KAN']                            1\n",
       "['TET', 'GEN', 'STR']                            1\n",
       "['CHL', 'SXT']                                   1\n",
       "['TET', 'XNL']                                   1\n",
       "['AXO', 'AUG2', 'CIP']                           1\n",
       "['FOX', 'AXO', 'AUG2', 'XNL', 'AMP']             1\n",
       "['CHL', 'TET']                                   1\n",
       "['TET', 'SXT']                                   1\n",
       "Name: Ecoli_DrugsR, dtype: int64"
      ]
     },
     "execution_count": 173,
     "metadata": {},
     "output_type": "execute_result"
    }
   ],
   "source": [
    "df.Ecoli_DrugsR.astype(str).value_counts()"
   ]
  },
  {
   "cell_type": "code",
   "execution_count": 174,
   "metadata": {},
   "outputs": [],
   "source": [
    "temp_df = df[['CowID', 'R_commensal', 'Sal_AbR', 'sharing', 'sharing_2', 'R', 'R_factor', 'Sal_DrugsR', 'Ecoli_DrugsR', 'Entero_DrugsR', 'DrugsR_commensal', 'Dairy ID']]\n",
    "temp_df = pd.concat([temp_df, data[['MT_Results Individual_CowID', 'Dairy ID']]], axis=1)"
   ]
  },
  {
   "cell_type": "code",
   "execution_count": 175,
   "metadata": {},
   "outputs": [
    {
     "data": {
      "text/plain": [
       "Index(['SalmNoDrugsIntermedResist', 'EcoliNoDrugsIntermedResist',\n",
       "       'EnteroNoDrugsIntermedResist', 'HerdSurvey_Q16_Drug_withdrawal',\n",
       "       'HerdSurvey_Q20D_Drug_expiration_date', 'CowSurvey_Q2_Tx1_Drug',\n",
       "       'CowSurvey_Q2_Tx2_Drug', 'CowSurvey_Q2_Tx3_Drug',\n",
       "       'CowSurvey_Q4_Anti-Inflam Drug', 'Sal_DrugsR', 'Ecoli_DrugsR',\n",
       "       'Entero_DrugsR', 'Entero_DrugsR_t', 'Ecoli_DrugsR_t', 'Sal_DrugsR_t'],\n",
       "      dtype='object')"
      ]
     },
     "execution_count": 175,
     "metadata": {},
     "output_type": "execute_result"
    }
   ],
   "source": [
    "data.filter(like = 'Drug').columns"
   ]
  },
  {
   "cell_type": "code",
   "execution_count": 176,
   "metadata": {
    "scrolled": true
   },
   "outputs": [
    {
     "data": {
      "text/html": [
       "<div>\n",
       "<style scoped>\n",
       "    .dataframe tbody tr th:only-of-type {\n",
       "        vertical-align: middle;\n",
       "    }\n",
       "\n",
       "    .dataframe tbody tr th {\n",
       "        vertical-align: top;\n",
       "    }\n",
       "\n",
       "    .dataframe thead th {\n",
       "        text-align: right;\n",
       "    }\n",
       "</style>\n",
       "<table border=\"1\" class=\"dataframe\">\n",
       "  <thead>\n",
       "    <tr style=\"text-align: right;\">\n",
       "      <th></th>\n",
       "      <th>CowID</th>\n",
       "      <th>R_commensal</th>\n",
       "      <th>Sal_AbR</th>\n",
       "      <th>sharing</th>\n",
       "      <th>sharing_2</th>\n",
       "      <th>R</th>\n",
       "      <th>R_factor</th>\n",
       "      <th>Sal_DrugsR</th>\n",
       "      <th>Ecoli_DrugsR</th>\n",
       "      <th>Entero_DrugsR</th>\n",
       "      <th>DrugsR_commensal</th>\n",
       "      <th>Dairy ID</th>\n",
       "      <th>MT_Results Individual_CowID</th>\n",
       "      <th>Dairy ID</th>\n",
       "    </tr>\n",
       "  </thead>\n",
       "  <tbody>\n",
       "    <tr>\n",
       "      <th>0</th>\n",
       "      <td>4672</td>\n",
       "      <td>[Nitrofuran antibacterial, Macrolides]</td>\n",
       "      <td>[]</td>\n",
       "      <td>{}</td>\n",
       "      <td>{}</td>\n",
       "      <td>[Nitrofuran antibacterial, Macrolides]</td>\n",
       "      <td>1</td>\n",
       "      <td>[]</td>\n",
       "      <td>[]</td>\n",
       "      <td>[NIT, ERY, CIP]</td>\n",
       "      <td>{ERY, NIT, CIP}</td>\n",
       "      <td>5</td>\n",
       "      <td>4672</td>\n",
       "      <td>5</td>\n",
       "    </tr>\n",
       "    <tr>\n",
       "      <th>1</th>\n",
       "      <td>1099</td>\n",
       "      <td>[Amphenicols, Macrolides, Tetracyclines, Oxazo...</td>\n",
       "      <td>[]</td>\n",
       "      <td>{}</td>\n",
       "      <td>{}</td>\n",
       "      <td>[Amphenicols, Macrolides, Tetracyclines, Oxazo...</td>\n",
       "      <td>2</td>\n",
       "      <td>[]</td>\n",
       "      <td>[]</td>\n",
       "      <td>[TET, CHL, LZD, ERY, CIP, LIN]</td>\n",
       "      <td>{LIN, CIP, ERY, TET, CHL, LZD}</td>\n",
       "      <td>5</td>\n",
       "      <td>1099</td>\n",
       "      <td>5</td>\n",
       "    </tr>\n",
       "    <tr>\n",
       "      <th>2</th>\n",
       "      <td>3786</td>\n",
       "      <td>[Nitrofuran antibacterial, Amphenicols, Tetrac...</td>\n",
       "      <td>[]</td>\n",
       "      <td>{}</td>\n",
       "      <td>{}</td>\n",
       "      <td>[Nitrofuran antibacterial, Amphenicols, Tetrac...</td>\n",
       "      <td>2</td>\n",
       "      <td>[]</td>\n",
       "      <td>[]</td>\n",
       "      <td>[TET, CHL, NIT]</td>\n",
       "      <td>{NIT, CHL, TET}</td>\n",
       "      <td>5</td>\n",
       "      <td>3786</td>\n",
       "      <td>5</td>\n",
       "    </tr>\n",
       "    <tr>\n",
       "      <th>3</th>\n",
       "      <td>3596</td>\n",
       "      <td>[Streptogramin, Nitrofuran antibacterial, Macr...</td>\n",
       "      <td>[]</td>\n",
       "      <td>{}</td>\n",
       "      <td>{}</td>\n",
       "      <td>[Streptogramin, Nitrofuran antibacterial, Macr...</td>\n",
       "      <td>2</td>\n",
       "      <td>[]</td>\n",
       "      <td>[]</td>\n",
       "      <td>[SYN, LZD, NIT, KAN, ERY, CIP, LIN, GEN]</td>\n",
       "      <td>{LIN, NIT, CIP, ERY, KAN, GEN, LZD, SYN}</td>\n",
       "      <td>5</td>\n",
       "      <td>3596</td>\n",
       "      <td>5</td>\n",
       "    </tr>\n",
       "    <tr>\n",
       "      <th>4</th>\n",
       "      <td>4880</td>\n",
       "      <td>[Macrolides, Oxazolidinones, Streptogramin, Ni...</td>\n",
       "      <td>[]</td>\n",
       "      <td>{}</td>\n",
       "      <td>{}</td>\n",
       "      <td>[Macrolides, Oxazolidinones, Streptogramin, Ni...</td>\n",
       "      <td>2</td>\n",
       "      <td>[]</td>\n",
       "      <td>[]</td>\n",
       "      <td>[TET, CHL, STR, TYLT, SYN, LZD, NIT, KAN, ERY,...</td>\n",
       "      <td>{LIN, NIT, STR, CIP, ERY, KAN, TET, TYLT, GEN,...</td>\n",
       "      <td>5</td>\n",
       "      <td>4880</td>\n",
       "      <td>5</td>\n",
       "    </tr>\n",
       "    <tr>\n",
       "      <th>...</th>\n",
       "      <td>...</td>\n",
       "      <td>...</td>\n",
       "      <td>...</td>\n",
       "      <td>...</td>\n",
       "      <td>...</td>\n",
       "      <td>...</td>\n",
       "      <td>...</td>\n",
       "      <td>...</td>\n",
       "      <td>...</td>\n",
       "      <td>...</td>\n",
       "      <td>...</td>\n",
       "      <td>...</td>\n",
       "      <td>...</td>\n",
       "      <td>...</td>\n",
       "    </tr>\n",
       "    <tr>\n",
       "      <th>238</th>\n",
       "      <td>5821</td>\n",
       "      <td>[Aminoglycosides, Oxazolidinones]</td>\n",
       "      <td>[]</td>\n",
       "      <td>{}</td>\n",
       "      <td>{}</td>\n",
       "      <td>[Aminoglycosides, Oxazolidinones]</td>\n",
       "      <td>1</td>\n",
       "      <td>[]</td>\n",
       "      <td>[GEN]</td>\n",
       "      <td>[LZD, LIN]</td>\n",
       "      <td>{GEN, LIN, LZD}</td>\n",
       "      <td>4</td>\n",
       "      <td>5821</td>\n",
       "      <td>4</td>\n",
       "    </tr>\n",
       "    <tr>\n",
       "      <th>239</th>\n",
       "      <td>8454</td>\n",
       "      <td>[Tetracyclines]</td>\n",
       "      <td>[]</td>\n",
       "      <td>{}</td>\n",
       "      <td>{}</td>\n",
       "      <td>[Tetracyclines]</td>\n",
       "      <td>1</td>\n",
       "      <td>[]</td>\n",
       "      <td>[TET]</td>\n",
       "      <td>[LIN]</td>\n",
       "      <td>{LIN, TET}</td>\n",
       "      <td>4</td>\n",
       "      <td>8454</td>\n",
       "      <td>4</td>\n",
       "    </tr>\n",
       "    <tr>\n",
       "      <th>240</th>\n",
       "      <td>9460</td>\n",
       "      <td>[]</td>\n",
       "      <td>[]</td>\n",
       "      <td>{}</td>\n",
       "      <td>{}</td>\n",
       "      <td>[]</td>\n",
       "      <td>0</td>\n",
       "      <td>[]</td>\n",
       "      <td>[]</td>\n",
       "      <td>[]</td>\n",
       "      <td>{}</td>\n",
       "      <td>4</td>\n",
       "      <td>9460</td>\n",
       "      <td>4</td>\n",
       "    </tr>\n",
       "    <tr>\n",
       "      <th>241</th>\n",
       "      <td>2775</td>\n",
       "      <td>[Cephalosporins, Tetracyclines]</td>\n",
       "      <td>[]</td>\n",
       "      <td>{}</td>\n",
       "      <td>{}</td>\n",
       "      <td>[Cephalosporins, Tetracyclines]</td>\n",
       "      <td>1</td>\n",
       "      <td>[]</td>\n",
       "      <td>[TET, XNL]</td>\n",
       "      <td>[]</td>\n",
       "      <td>{TET, XNL}</td>\n",
       "      <td>4</td>\n",
       "      <td>2775</td>\n",
       "      <td>4</td>\n",
       "    </tr>\n",
       "    <tr>\n",
       "      <th>242</th>\n",
       "      <td>6651</td>\n",
       "      <td>[Amphenicols, Cephalosporins]</td>\n",
       "      <td>[Penicillins, Tetracyclines]</td>\n",
       "      <td>{}</td>\n",
       "      <td>{}</td>\n",
       "      <td>[Amphenicols, Penicillins, Cephalosporins, Tet...</td>\n",
       "      <td>1</td>\n",
       "      <td>[TET, AMP]</td>\n",
       "      <td>[CHL, AXO, AUG2]</td>\n",
       "      <td>[]</td>\n",
       "      <td>{AXO, CHL, AUG2}</td>\n",
       "      <td>4</td>\n",
       "      <td>6651</td>\n",
       "      <td>4</td>\n",
       "    </tr>\n",
       "  </tbody>\n",
       "</table>\n",
       "<p>243 rows × 14 columns</p>\n",
       "</div>"
      ],
      "text/plain": [
       "     CowID                                        R_commensal  \\\n",
       "0     4672             [Nitrofuran antibacterial, Macrolides]   \n",
       "1     1099  [Amphenicols, Macrolides, Tetracyclines, Oxazo...   \n",
       "2     3786  [Nitrofuran antibacterial, Amphenicols, Tetrac...   \n",
       "3     3596  [Streptogramin, Nitrofuran antibacterial, Macr...   \n",
       "4     4880  [Macrolides, Oxazolidinones, Streptogramin, Ni...   \n",
       "..     ...                                                ...   \n",
       "238   5821                  [Aminoglycosides, Oxazolidinones]   \n",
       "239   8454                                    [Tetracyclines]   \n",
       "240   9460                                                 []   \n",
       "241   2775                    [Cephalosporins, Tetracyclines]   \n",
       "242   6651                      [Amphenicols, Cephalosporins]   \n",
       "\n",
       "                          Sal_AbR sharing sharing_2  \\\n",
       "0                              []      {}        {}   \n",
       "1                              []      {}        {}   \n",
       "2                              []      {}        {}   \n",
       "3                              []      {}        {}   \n",
       "4                              []      {}        {}   \n",
       "..                            ...     ...       ...   \n",
       "238                            []      {}        {}   \n",
       "239                            []      {}        {}   \n",
       "240                            []      {}        {}   \n",
       "241                            []      {}        {}   \n",
       "242  [Penicillins, Tetracyclines]      {}        {}   \n",
       "\n",
       "                                                     R R_factor  Sal_DrugsR  \\\n",
       "0               [Nitrofuran antibacterial, Macrolides]        1          []   \n",
       "1    [Amphenicols, Macrolides, Tetracyclines, Oxazo...        2          []   \n",
       "2    [Nitrofuran antibacterial, Amphenicols, Tetrac...        2          []   \n",
       "3    [Streptogramin, Nitrofuran antibacterial, Macr...        2          []   \n",
       "4    [Macrolides, Oxazolidinones, Streptogramin, Ni...        2          []   \n",
       "..                                                 ...      ...         ...   \n",
       "238                  [Aminoglycosides, Oxazolidinones]        1          []   \n",
       "239                                    [Tetracyclines]        1          []   \n",
       "240                                                 []        0          []   \n",
       "241                    [Cephalosporins, Tetracyclines]        1          []   \n",
       "242  [Amphenicols, Penicillins, Cephalosporins, Tet...        1  [TET, AMP]   \n",
       "\n",
       "         Ecoli_DrugsR                                      Entero_DrugsR  \\\n",
       "0                  []                                    [NIT, ERY, CIP]   \n",
       "1                  []                     [TET, CHL, LZD, ERY, CIP, LIN]   \n",
       "2                  []                                    [TET, CHL, NIT]   \n",
       "3                  []           [SYN, LZD, NIT, KAN, ERY, CIP, LIN, GEN]   \n",
       "4                  []  [TET, CHL, STR, TYLT, SYN, LZD, NIT, KAN, ERY,...   \n",
       "..                ...                                                ...   \n",
       "238             [GEN]                                         [LZD, LIN]   \n",
       "239             [TET]                                              [LIN]   \n",
       "240                []                                                 []   \n",
       "241        [TET, XNL]                                                 []   \n",
       "242  [CHL, AXO, AUG2]                                                 []   \n",
       "\n",
       "                                      DrugsR_commensal Dairy ID  \\\n",
       "0                                      {ERY, NIT, CIP}        5   \n",
       "1                       {LIN, CIP, ERY, TET, CHL, LZD}        5   \n",
       "2                                      {NIT, CHL, TET}        5   \n",
       "3             {LIN, NIT, CIP, ERY, KAN, GEN, LZD, SYN}        5   \n",
       "4    {LIN, NIT, STR, CIP, ERY, KAN, TET, TYLT, GEN,...        5   \n",
       "..                                                 ...      ...   \n",
       "238                                    {GEN, LIN, LZD}        4   \n",
       "239                                         {LIN, TET}        4   \n",
       "240                                                 {}        4   \n",
       "241                                         {TET, XNL}        4   \n",
       "242                                   {AXO, CHL, AUG2}        4   \n",
       "\n",
       "     MT_Results Individual_CowID Dairy ID  \n",
       "0                           4672        5  \n",
       "1                           1099        5  \n",
       "2                           3786        5  \n",
       "3                           3596        5  \n",
       "4                           4880        5  \n",
       "..                           ...      ...  \n",
       "238                         5821        4  \n",
       "239                         8454        4  \n",
       "240                         9460        4  \n",
       "241                         2775        4  \n",
       "242                         6651        4  \n",
       "\n",
       "[243 rows x 14 columns]"
      ]
     },
     "execution_count": 176,
     "metadata": {},
     "output_type": "execute_result"
    }
   ],
   "source": [
    "temp_df"
   ]
  },
  {
   "cell_type": "code",
   "execution_count": 177,
   "metadata": {},
   "outputs": [],
   "source": [
    "temp_df.to_csv(output_path+'/sharing.csv')"
   ]
  },
  {
   "cell_type": "code",
   "execution_count": 178,
   "metadata": {
    "scrolled": true
   },
   "outputs": [],
   "source": [
    "c = row['DrugsR_commensal']\n",
    "d = row['Sal_DrugsR']"
   ]
  },
  {
   "cell_type": "code",
   "execution_count": 179,
   "metadata": {},
   "outputs": [
    {
     "data": {
      "text/plain": [
       "243"
      ]
     },
     "execution_count": 179,
     "metadata": {},
     "output_type": "execute_result"
    }
   ],
   "source": [
    "sharing2 = []\n",
    "for index, row in df.iterrows():\n",
    "    sharing2.append(','.join(list(row['sharing_2'])))\n",
    "len(sharing2)"
   ]
  },
  {
   "cell_type": "code",
   "execution_count": 180,
   "metadata": {},
   "outputs": [
    {
     "data": {
      "text/plain": [
       "(243, 14)"
      ]
     },
     "execution_count": 180,
     "metadata": {},
     "output_type": "execute_result"
    }
   ],
   "source": [
    "temp_df.shape"
   ]
  },
  {
   "cell_type": "code",
   "execution_count": 181,
   "metadata": {},
   "outputs": [
    {
     "data": {
      "text/plain": [
       "['CowID',\n",
       " 'R_commensal',\n",
       " 'Sal_AbR',\n",
       " 'sharing',\n",
       " 'sharing_2',\n",
       " 'R',\n",
       " 'R_factor',\n",
       " 'Sal_DrugsR',\n",
       " 'Ecoli_DrugsR',\n",
       " 'Entero_DrugsR',\n",
       " 'DrugsR_commensal',\n",
       " 'Dairy ID',\n",
       " 'MT_Results Individual_CowID',\n",
       " 'Dairy ID']"
      ]
     },
     "execution_count": 181,
     "metadata": {},
     "output_type": "execute_result"
    }
   ],
   "source": [
    "temp_df.columns.tolist()"
   ]
  },
  {
   "cell_type": "code",
   "execution_count": 182,
   "metadata": {},
   "outputs": [],
   "source": [
    "df['Sharing2'] = sharing2"
   ]
  },
  {
   "cell_type": "code",
   "execution_count": 183,
   "metadata": {},
   "outputs": [
    {
     "data": {
      "text/plain": [
       "       229\n",
       "TET     11\n",
       "STR      1\n",
       "CHL      1\n",
       "KAN      1\n",
       "Name: Sharing2, dtype: int64"
      ]
     },
     "execution_count": 183,
     "metadata": {},
     "output_type": "execute_result"
    }
   ],
   "source": [
    "df.Sharing2.value_counts()"
   ]
  },
  {
   "cell_type": "code",
   "execution_count": 184,
   "metadata": {},
   "outputs": [
    {
     "data": {
      "text/plain": [
       "['CowID',\n",
       " 'Ecoli_AbR',\n",
       " 'Entero_AbR',\n",
       " 'Sal_AbR',\n",
       " 'R_commensal',\n",
       " 'R',\n",
       " 'R_factor',\n",
       " 'Entero_DrugsR',\n",
       " 'Sal_DrugsR',\n",
       " 'Ecoli_DrugsR',\n",
       " 'Dairy ID',\n",
       " 'DrugsR_commensal',\n",
       " 'sharing',\n",
       " 'sharing_2',\n",
       " 'Sharing2']"
      ]
     },
     "execution_count": 184,
     "metadata": {},
     "output_type": "execute_result"
    }
   ],
   "source": [
    "df.columns.tolist()"
   ]
  },
  {
   "cell_type": "code",
   "execution_count": 190,
   "metadata": {},
   "outputs": [
    {
     "name": "stdout",
     "output_type": "stream",
     "text": [
      "11 cows shared resistance for TET antibitic in herd number ['5' '1' '3' '6' '2' '4']\n",
      "1 cows shared resistance for KAN antibitic in herd number ['5' '1' '3' '6' '2' '4']\n",
      "1 cows shared resistance for STR antibitic in herd number ['5' '1' '3' '6' '2' '4']\n",
      "1 cows shared resistance for CHL antibitic in herd number ['5' '1' '3' '6' '2' '4']\n"
     ]
    }
   ],
   "source": [
    "anti = []\n",
    "cows = []\n",
    "for a in list(df['Sharing2'].str.split(',', expand = True).stack().unique())[1:]:\n",
    "    print ('%s cows shared resistance for %s antibitic in herd number %s' %(df['Sharing2'].str.contains(a).sum(), a, df['Dairy ID'].unique()))\n",
    "    anti.append(a)\n",
    "    cows.append(df['Sharing2'].str.contains(a).sum())"
   ]
  },
  {
   "cell_type": "code",
   "execution_count": 199,
   "metadata": {},
   "outputs": [
    {
     "data": {
      "text/plain": [
       "R_factor\n",
       "0    []\n",
       "1    []\n",
       "2    []\n",
       "Name: CowID, dtype: object"
      ]
     },
     "execution_count": 199,
     "metadata": {},
     "output_type": "execute_result"
    }
   ],
   "source": [
    "df[df['Sharing2'].astype(str) == \"{'KAN'}\"].groupby('R_factor')['CowID'].unique()"
   ]
  },
  {
   "cell_type": "code",
   "execution_count": 201,
   "metadata": {},
   "outputs": [
    {
     "data": {
      "text/html": [
       "<div>\n",
       "<style scoped>\n",
       "    .dataframe tbody tr th:only-of-type {\n",
       "        vertical-align: middle;\n",
       "    }\n",
       "\n",
       "    .dataframe tbody tr th {\n",
       "        vertical-align: top;\n",
       "    }\n",
       "\n",
       "    .dataframe thead th {\n",
       "        text-align: right;\n",
       "    }\n",
       "</style>\n",
       "<table border=\"1\" class=\"dataframe\">\n",
       "  <thead>\n",
       "    <tr style=\"text-align: right;\">\n",
       "      <th></th>\n",
       "      <th>CowID</th>\n",
       "      <th>Ecoli_AbR</th>\n",
       "      <th>Entero_AbR</th>\n",
       "      <th>Sal_AbR</th>\n",
       "      <th>R_commensal</th>\n",
       "      <th>R</th>\n",
       "      <th>R_factor</th>\n",
       "      <th>Entero_DrugsR</th>\n",
       "      <th>Sal_DrugsR</th>\n",
       "      <th>Ecoli_DrugsR</th>\n",
       "      <th>Dairy ID</th>\n",
       "      <th>DrugsR_commensal</th>\n",
       "      <th>sharing</th>\n",
       "      <th>sharing_2</th>\n",
       "      <th>Sharing2</th>\n",
       "    </tr>\n",
       "  </thead>\n",
       "  <tbody>\n",
       "    <tr>\n",
       "      <th>0</th>\n",
       "      <td>4672</td>\n",
       "      <td>[]</td>\n",
       "      <td>[Nitrofuran antibacterial, Macrolides]</td>\n",
       "      <td>[]</td>\n",
       "      <td>[Nitrofuran antibacterial, Macrolides]</td>\n",
       "      <td>[Nitrofuran antibacterial, Macrolides]</td>\n",
       "      <td>1</td>\n",
       "      <td>[NIT, ERY, CIP]</td>\n",
       "      <td>[]</td>\n",
       "      <td>[]</td>\n",
       "      <td>5</td>\n",
       "      <td>{ERY, NIT, CIP}</td>\n",
       "      <td>{}</td>\n",
       "      <td>{}</td>\n",
       "      <td></td>\n",
       "    </tr>\n",
       "    <tr>\n",
       "      <th>1</th>\n",
       "      <td>1099</td>\n",
       "      <td>[]</td>\n",
       "      <td>[Tetracyclines, Amphenicols, Macrolides, Oxazo...</td>\n",
       "      <td>[]</td>\n",
       "      <td>[Amphenicols, Macrolides, Tetracyclines, Oxazo...</td>\n",
       "      <td>[Amphenicols, Macrolides, Tetracyclines, Oxazo...</td>\n",
       "      <td>2</td>\n",
       "      <td>[TET, CHL, LZD, ERY, CIP, LIN]</td>\n",
       "      <td>[]</td>\n",
       "      <td>[]</td>\n",
       "      <td>5</td>\n",
       "      <td>{LIN, CIP, ERY, TET, CHL, LZD}</td>\n",
       "      <td>{}</td>\n",
       "      <td>{}</td>\n",
       "      <td></td>\n",
       "    </tr>\n",
       "    <tr>\n",
       "      <th>2</th>\n",
       "      <td>3786</td>\n",
       "      <td>[]</td>\n",
       "      <td>[Amphenicols, Nitrofuran antibacterial, Tetrac...</td>\n",
       "      <td>[]</td>\n",
       "      <td>[Nitrofuran antibacterial, Amphenicols, Tetrac...</td>\n",
       "      <td>[Nitrofuran antibacterial, Amphenicols, Tetrac...</td>\n",
       "      <td>2</td>\n",
       "      <td>[TET, CHL, NIT]</td>\n",
       "      <td>[]</td>\n",
       "      <td>[]</td>\n",
       "      <td>5</td>\n",
       "      <td>{NIT, CHL, TET}</td>\n",
       "      <td>{}</td>\n",
       "      <td>{}</td>\n",
       "      <td></td>\n",
       "    </tr>\n",
       "    <tr>\n",
       "      <th>3</th>\n",
       "      <td>3596</td>\n",
       "      <td>[]</td>\n",
       "      <td>[Streptogramin, Nitrofuran antibacterial, Macr...</td>\n",
       "      <td>[]</td>\n",
       "      <td>[Streptogramin, Nitrofuran antibacterial, Macr...</td>\n",
       "      <td>[Streptogramin, Nitrofuran antibacterial, Macr...</td>\n",
       "      <td>2</td>\n",
       "      <td>[SYN, LZD, NIT, KAN, ERY, CIP, LIN, GEN]</td>\n",
       "      <td>[]</td>\n",
       "      <td>[]</td>\n",
       "      <td>5</td>\n",
       "      <td>{LIN, NIT, CIP, ERY, KAN, GEN, LZD, SYN}</td>\n",
       "      <td>{}</td>\n",
       "      <td>{}</td>\n",
       "      <td></td>\n",
       "    </tr>\n",
       "    <tr>\n",
       "      <th>4</th>\n",
       "      <td>4880</td>\n",
       "      <td>[]</td>\n",
       "      <td>[Macrolides, Tetracyclines, Streptogramin, Nit...</td>\n",
       "      <td>[]</td>\n",
       "      <td>[Macrolides, Oxazolidinones, Streptogramin, Ni...</td>\n",
       "      <td>[Macrolides, Oxazolidinones, Streptogramin, Ni...</td>\n",
       "      <td>2</td>\n",
       "      <td>[TET, CHL, STR, TYLT, SYN, LZD, NIT, KAN, ERY,...</td>\n",
       "      <td>[]</td>\n",
       "      <td>[]</td>\n",
       "      <td>5</td>\n",
       "      <td>{LIN, NIT, STR, CIP, ERY, KAN, TET, TYLT, GEN,...</td>\n",
       "      <td>{}</td>\n",
       "      <td>{}</td>\n",
       "      <td></td>\n",
       "    </tr>\n",
       "    <tr>\n",
       "      <th>...</th>\n",
       "      <td>...</td>\n",
       "      <td>...</td>\n",
       "      <td>...</td>\n",
       "      <td>...</td>\n",
       "      <td>...</td>\n",
       "      <td>...</td>\n",
       "      <td>...</td>\n",
       "      <td>...</td>\n",
       "      <td>...</td>\n",
       "      <td>...</td>\n",
       "      <td>...</td>\n",
       "      <td>...</td>\n",
       "      <td>...</td>\n",
       "      <td>...</td>\n",
       "      <td>...</td>\n",
       "    </tr>\n",
       "    <tr>\n",
       "      <th>238</th>\n",
       "      <td>5821</td>\n",
       "      <td>[Aminoglycosides]</td>\n",
       "      <td>[Oxazolidinones]</td>\n",
       "      <td>[]</td>\n",
       "      <td>[Aminoglycosides, Oxazolidinones]</td>\n",
       "      <td>[Aminoglycosides, Oxazolidinones]</td>\n",
       "      <td>1</td>\n",
       "      <td>[LZD, LIN]</td>\n",
       "      <td>[]</td>\n",
       "      <td>[GEN]</td>\n",
       "      <td>4</td>\n",
       "      <td>{GEN, LIN, LZD}</td>\n",
       "      <td>{}</td>\n",
       "      <td>{}</td>\n",
       "      <td></td>\n",
       "    </tr>\n",
       "    <tr>\n",
       "      <th>239</th>\n",
       "      <td>8454</td>\n",
       "      <td>[Tetracyclines]</td>\n",
       "      <td>[]</td>\n",
       "      <td>[]</td>\n",
       "      <td>[Tetracyclines]</td>\n",
       "      <td>[Tetracyclines]</td>\n",
       "      <td>1</td>\n",
       "      <td>[LIN]</td>\n",
       "      <td>[]</td>\n",
       "      <td>[TET]</td>\n",
       "      <td>4</td>\n",
       "      <td>{LIN, TET}</td>\n",
       "      <td>{}</td>\n",
       "      <td>{}</td>\n",
       "      <td></td>\n",
       "    </tr>\n",
       "    <tr>\n",
       "      <th>240</th>\n",
       "      <td>9460</td>\n",
       "      <td>[]</td>\n",
       "      <td>[]</td>\n",
       "      <td>[]</td>\n",
       "      <td>[]</td>\n",
       "      <td>[]</td>\n",
       "      <td>0</td>\n",
       "      <td>[]</td>\n",
       "      <td>[]</td>\n",
       "      <td>[]</td>\n",
       "      <td>4</td>\n",
       "      <td>{}</td>\n",
       "      <td>{}</td>\n",
       "      <td>{}</td>\n",
       "      <td></td>\n",
       "    </tr>\n",
       "    <tr>\n",
       "      <th>241</th>\n",
       "      <td>2775</td>\n",
       "      <td>[Cephalosporins, Tetracyclines]</td>\n",
       "      <td>[]</td>\n",
       "      <td>[]</td>\n",
       "      <td>[Cephalosporins, Tetracyclines]</td>\n",
       "      <td>[Cephalosporins, Tetracyclines]</td>\n",
       "      <td>1</td>\n",
       "      <td>[]</td>\n",
       "      <td>[]</td>\n",
       "      <td>[TET, XNL]</td>\n",
       "      <td>4</td>\n",
       "      <td>{TET, XNL}</td>\n",
       "      <td>{}</td>\n",
       "      <td>{}</td>\n",
       "      <td></td>\n",
       "    </tr>\n",
       "    <tr>\n",
       "      <th>242</th>\n",
       "      <td>6651</td>\n",
       "      <td>[Amphenicols, Cephalosporins]</td>\n",
       "      <td>[]</td>\n",
       "      <td>[Penicillins, Tetracyclines]</td>\n",
       "      <td>[Amphenicols, Cephalosporins]</td>\n",
       "      <td>[Amphenicols, Penicillins, Cephalosporins, Tet...</td>\n",
       "      <td>1</td>\n",
       "      <td>[]</td>\n",
       "      <td>[TET, AMP]</td>\n",
       "      <td>[CHL, AXO, AUG2]</td>\n",
       "      <td>4</td>\n",
       "      <td>{AXO, CHL, AUG2}</td>\n",
       "      <td>{}</td>\n",
       "      <td>{}</td>\n",
       "      <td></td>\n",
       "    </tr>\n",
       "  </tbody>\n",
       "</table>\n",
       "<p>243 rows × 15 columns</p>\n",
       "</div>"
      ],
      "text/plain": [
       "     CowID                        Ecoli_AbR  \\\n",
       "0     4672                               []   \n",
       "1     1099                               []   \n",
       "2     3786                               []   \n",
       "3     3596                               []   \n",
       "4     4880                               []   \n",
       "..     ...                              ...   \n",
       "238   5821                [Aminoglycosides]   \n",
       "239   8454                  [Tetracyclines]   \n",
       "240   9460                               []   \n",
       "241   2775  [Cephalosporins, Tetracyclines]   \n",
       "242   6651    [Amphenicols, Cephalosporins]   \n",
       "\n",
       "                                            Entero_AbR  \\\n",
       "0               [Nitrofuran antibacterial, Macrolides]   \n",
       "1    [Tetracyclines, Amphenicols, Macrolides, Oxazo...   \n",
       "2    [Amphenicols, Nitrofuran antibacterial, Tetrac...   \n",
       "3    [Streptogramin, Nitrofuran antibacterial, Macr...   \n",
       "4    [Macrolides, Tetracyclines, Streptogramin, Nit...   \n",
       "..                                                 ...   \n",
       "238                                   [Oxazolidinones]   \n",
       "239                                                 []   \n",
       "240                                                 []   \n",
       "241                                                 []   \n",
       "242                                                 []   \n",
       "\n",
       "                          Sal_AbR  \\\n",
       "0                              []   \n",
       "1                              []   \n",
       "2                              []   \n",
       "3                              []   \n",
       "4                              []   \n",
       "..                            ...   \n",
       "238                            []   \n",
       "239                            []   \n",
       "240                            []   \n",
       "241                            []   \n",
       "242  [Penicillins, Tetracyclines]   \n",
       "\n",
       "                                           R_commensal  \\\n",
       "0               [Nitrofuran antibacterial, Macrolides]   \n",
       "1    [Amphenicols, Macrolides, Tetracyclines, Oxazo...   \n",
       "2    [Nitrofuran antibacterial, Amphenicols, Tetrac...   \n",
       "3    [Streptogramin, Nitrofuran antibacterial, Macr...   \n",
       "4    [Macrolides, Oxazolidinones, Streptogramin, Ni...   \n",
       "..                                                 ...   \n",
       "238                  [Aminoglycosides, Oxazolidinones]   \n",
       "239                                    [Tetracyclines]   \n",
       "240                                                 []   \n",
       "241                    [Cephalosporins, Tetracyclines]   \n",
       "242                      [Amphenicols, Cephalosporins]   \n",
       "\n",
       "                                                     R R_factor  \\\n",
       "0               [Nitrofuran antibacterial, Macrolides]        1   \n",
       "1    [Amphenicols, Macrolides, Tetracyclines, Oxazo...        2   \n",
       "2    [Nitrofuran antibacterial, Amphenicols, Tetrac...        2   \n",
       "3    [Streptogramin, Nitrofuran antibacterial, Macr...        2   \n",
       "4    [Macrolides, Oxazolidinones, Streptogramin, Ni...        2   \n",
       "..                                                 ...      ...   \n",
       "238                  [Aminoglycosides, Oxazolidinones]        1   \n",
       "239                                    [Tetracyclines]        1   \n",
       "240                                                 []        0   \n",
       "241                    [Cephalosporins, Tetracyclines]        1   \n",
       "242  [Amphenicols, Penicillins, Cephalosporins, Tet...        1   \n",
       "\n",
       "                                         Entero_DrugsR  Sal_DrugsR  \\\n",
       "0                                      [NIT, ERY, CIP]          []   \n",
       "1                       [TET, CHL, LZD, ERY, CIP, LIN]          []   \n",
       "2                                      [TET, CHL, NIT]          []   \n",
       "3             [SYN, LZD, NIT, KAN, ERY, CIP, LIN, GEN]          []   \n",
       "4    [TET, CHL, STR, TYLT, SYN, LZD, NIT, KAN, ERY,...          []   \n",
       "..                                                 ...         ...   \n",
       "238                                         [LZD, LIN]          []   \n",
       "239                                              [LIN]          []   \n",
       "240                                                 []          []   \n",
       "241                                                 []          []   \n",
       "242                                                 []  [TET, AMP]   \n",
       "\n",
       "         Ecoli_DrugsR Dairy ID  \\\n",
       "0                  []        5   \n",
       "1                  []        5   \n",
       "2                  []        5   \n",
       "3                  []        5   \n",
       "4                  []        5   \n",
       "..                ...      ...   \n",
       "238             [GEN]        4   \n",
       "239             [TET]        4   \n",
       "240                []        4   \n",
       "241        [TET, XNL]        4   \n",
       "242  [CHL, AXO, AUG2]        4   \n",
       "\n",
       "                                      DrugsR_commensal sharing sharing_2  \\\n",
       "0                                      {ERY, NIT, CIP}      {}        {}   \n",
       "1                       {LIN, CIP, ERY, TET, CHL, LZD}      {}        {}   \n",
       "2                                      {NIT, CHL, TET}      {}        {}   \n",
       "3             {LIN, NIT, CIP, ERY, KAN, GEN, LZD, SYN}      {}        {}   \n",
       "4    {LIN, NIT, STR, CIP, ERY, KAN, TET, TYLT, GEN,...      {}        {}   \n",
       "..                                                 ...     ...       ...   \n",
       "238                                    {GEN, LIN, LZD}      {}        {}   \n",
       "239                                         {LIN, TET}      {}        {}   \n",
       "240                                                 {}      {}        {}   \n",
       "241                                         {TET, XNL}      {}        {}   \n",
       "242                                   {AXO, CHL, AUG2}      {}        {}   \n",
       "\n",
       "    Sharing2  \n",
       "0             \n",
       "1             \n",
       "2             \n",
       "3             \n",
       "4             \n",
       "..       ...  \n",
       "238           \n",
       "239           \n",
       "240           \n",
       "241           \n",
       "242           \n",
       "\n",
       "[243 rows x 15 columns]"
      ]
     },
     "execution_count": 201,
     "metadata": {},
     "output_type": "execute_result"
    }
   ],
   "source": [
    "df"
   ]
  },
  {
   "cell_type": "code",
   "execution_count": 192,
   "metadata": {},
   "outputs": [
    {
     "data": {
      "text/plain": [
       "[11, 1, 1, 1]"
      ]
     },
     "execution_count": 192,
     "metadata": {},
     "output_type": "execute_result"
    }
   ],
   "source": [
    "cows"
   ]
  },
  {
   "cell_type": "code",
   "execution_count": 193,
   "metadata": {},
   "outputs": [],
   "source": [
    "anti = []\n",
    "cows = []\n",
    "for a in list(temp_df['sharing'].str.split(',', expand = True).stack().unique())[1:]:\n",
    "    print ('%s cows shared resistance for %s antibitic between Salmonella and commensal bacteria' %(temp_df['sharing'].str.contains(a).sum(), a))\n",
    "    anti.append(a)\n",
    "    cows.append(df['sharing'].str.contains(a).sum())"
   ]
  },
  {
   "cell_type": "code",
   "execution_count": 194,
   "metadata": {},
   "outputs": [
    {
     "data": {
      "text/plain": [
       "set()              234\n",
       "{'TET'}              6\n",
       "{'CHL'}              2\n",
       "{'AUG2', 'AMP'}      1\n",
       "Name: sharing, dtype: int64"
      ]
     },
     "execution_count": 194,
     "metadata": {},
     "output_type": "execute_result"
    }
   ],
   "source": [
    "temp_df['sharing'].astype(str).value_counts()"
   ]
  },
  {
   "cell_type": "code",
   "execution_count": 195,
   "metadata": {},
   "outputs": [
    {
     "data": {
      "text/plain": [
       "2    3\n",
       "1    3\n",
       "0    0\n",
       "Name: R_factor, dtype: int64"
      ]
     },
     "execution_count": 195,
     "metadata": {},
     "output_type": "execute_result"
    }
   ],
   "source": [
    "temp_df[temp_df['sharing'].astype(str) == \"{'TET'}\"].R_factor.value_counts()"
   ]
  },
  {
   "cell_type": "code",
   "execution_count": 196,
   "metadata": {},
   "outputs": [
    {
     "data": {
      "text/plain": [
       "R_factor\n",
       "0                    []\n",
       "1    [4612, 9761, 1339]\n",
       "2      [9473, 4920, 49]\n",
       "Name: CowID, dtype: object"
      ]
     },
     "execution_count": 196,
     "metadata": {},
     "output_type": "execute_result"
    }
   ],
   "source": [
    "temp_df[temp_df['sharing'].astype(str) == \"{'TET'}\"].groupby('R_factor')['CowID'].unique()"
   ]
  },
  {
   "cell_type": "code",
   "execution_count": 197,
   "metadata": {},
   "outputs": [
    {
     "data": {
      "text/plain": [
       "array(['4', '6'], dtype=object)"
      ]
     },
     "execution_count": 197,
     "metadata": {},
     "output_type": "execute_result"
    }
   ],
   "source": [
    "data[data['MT_Results Individual_CowID'].isin(temp_df[temp_df['sharing'].astype(str) == \"{'TET'}\"]['CowID'].unique())]['Dairy ID'].unique()"
   ]
  },
  {
   "cell_type": "code",
   "execution_count": null,
   "metadata": {},
   "outputs": [],
   "source": [
    "data[data['MT_Results Individual_CowID'].isin(temp_df[temp_df['sharing'].astype(str) == \"{'TET'}\"]['CowID'].unique())][['Sal_DrugsR', 'Ecoli_DrugsR',\n",
    "       'Entero_DrugsR', 'Entero_DrugsR_t', 'Ecoli_DrugsR_t', 'Sal_DrugsR_t', 'R_factor']]"
   ]
  },
  {
   "cell_type": "code",
   "execution_count": null,
   "metadata": {},
   "outputs": [],
   "source": [
    "data[data['MT_Results Individual_CowID'].isin([4612, 9473, 4920, 49, 9761, 1339])]['Dairy ID'].unique()"
   ]
  },
  {
   "cell_type": "code",
   "execution_count": null,
   "metadata": {},
   "outputs": [],
   "source": [
    "data[data['MT_Results Individual_CowID'].isin([4612, 9473, 4920, 49, 9761, 1339])]['R'].values"
   ]
  },
  {
   "cell_type": "code",
   "execution_count": null,
   "metadata": {},
   "outputs": [],
   "source": [
    "49"
   ]
  },
  {
   "cell_type": "code",
   "execution_count": null,
   "metadata": {},
   "outputs": [],
   "source": [
    "data[data['MT_Results Individual_CowID'].isin([4612, 9473, 4920, 49, 9761, 1339])][['Sal_AbR', 'Entero_AbR', 'Ecoli_AbR', 'Dairy ID', 'R_factor', 'Sal_R', 'Ecoli_R', 'Entero_R', 'Commensal_R', 'Resitance']]"
   ]
  },
  {
   "cell_type": "code",
   "execution_count": null,
   "metadata": {},
   "outputs": [],
   "source": [
    "data[data['MT_Results Individual_CowID'].isin([4612, 9473, 4920, 49, 9761, 1339])][['Sal_AbR', 'Entero_AbR', 'Ecoli_AbR', 'Dairy ID', 'R_factor', 'Sal_R', 'Ecoli_R', 'Entero_R', 'Commensal_R', 'Resitance']].to_excel('outputs/Shared_AMR_profiles.xlsx')"
   ]
  },
  {
   "cell_type": "code",
   "execution_count": null,
   "metadata": {},
   "outputs": [],
   "source": [
    "data.columns.tolist()"
   ]
  },
  {
   "cell_type": "code",
   "execution_count": null,
   "metadata": {},
   "outputs": [],
   "source": [
    "data[['Sal_DrugsR',\n",
    " 'Ecoli_DrugsR',\n",
    " 'Entero_DrugsR',\n",
    " 'Entero_DrugsR_t',\n",
    " 'Ecoli_DrugsR_t',\n",
    " 'Sal_DrugsR_t',\n",
    " 'Ecoli_AbR',\n",
    " 'Entero_AbR',\n",
    " 'Sal_AbR',\n",
    " 'R',\n",
    " 'R_n',\n",
    " 'R_commensal',\n",
    " 'R_commensal_n',\n",
    " 'Sal_AbR_n',\n",
    " 'Entero_AbR_n',\n",
    " 'Ecoli_AbR_n',\n",
    " 'R_factor',\n",
    " 'Sal_R',\n",
    " 'Ecoli_R',\n",
    " 'Entero_R',\n",
    " 'Commensal_R',\n",
    " 'Resitance']].head()"
   ]
  },
  {
   "cell_type": "code",
   "execution_count": null,
   "metadata": {},
   "outputs": [],
   "source": [
    "df.shape"
   ]
  },
  {
   "cell_type": "code",
   "execution_count": null,
   "metadata": {},
   "outputs": [],
   "source": [
    "df.head()"
   ]
  },
  {
   "cell_type": "code",
   "execution_count": null,
   "metadata": {},
   "outputs": [],
   "source": [
    "sharing_in_MDR = df[df.R_factor==2][['CowID','sharing','sharing_2']]\n",
    "def list_maker(c):\n",
    "    return list(c.sharing_2)\n",
    "sharing_in_MDR['Sharing_2'] = sharing_in_MDR.apply(list_maker, axis=1)\n",
    "def list_maker(c):\n",
    "    return list(c.sharing)\n",
    "sharing_in_MDR['Sharing'] = sharing_in_MDR.apply(list_maker, axis=1)\n",
    "q = sharing_in_MDR.Sharing_2.apply(pd.Series)\n",
    "df = pd.concat([sharing_in_MDR, q], axis=1)\n",
    "df.head(10)"
   ]
  },
  {
   "cell_type": "code",
   "execution_count": null,
   "metadata": {},
   "outputs": [],
   "source": [
    "data.filter(like = 'Cow').columns.tolist()"
   ]
  },
  {
   "cell_type": "code",
   "execution_count": null,
   "metadata": {},
   "outputs": [],
   "source": [
    "data.CowID.head()"
   ]
  },
  {
   "cell_type": "code",
   "execution_count": null,
   "metadata": {},
   "outputs": [],
   "source": [
    "temp_df.CowID.head()"
   ]
  },
  {
   "cell_type": "markdown",
   "metadata": {},
   "source": [
    "fig, ax = plt.subplots(figsize =(9,4))\n",
    "anti_sharing = pd.DataFrame({'cows': cows}, index=anti).sort_values('cows')\n",
    "anti_sharing.rename(index={'LIN':'Lincomycin', \n",
    "                          'VAN':'Vancomycin',\n",
    "                           'CIP':'Ciprofloxacin',\n",
    "                           'TET':'Tetracycline',\n",
    "                           'ERY':'Erythromycin',\n",
    "                           'LZD':'Linezolid',\n",
    "                           'KAN':'Kanamycin A',\n",
    "                           'CHL':'Chloramphenicol',\n",
    "                           'SYN':'Quinupristin-dalfopristin',\n",
    "                           'TYLT':'Tylosin',\n",
    "                           'STR':'Streptomycin',\n",
    "                           'GEN':'Gentamicin',},inplace=True)\n",
    "anti_sharing.plot(kind='barh', ax = ax)\n",
    "ax.set_xlabel('number of cows')\n",
    "ax.set_ylabel('antibiotic')\n",
    "ax.set_title('number of cows sharing AMR between $E. coli$ and $Enterococcus$ $sp.$', fontsize = 12)\n",
    "ax.legend_ = None\n",
    "plt.tight_layout()\n",
    "plt.savefig(output_path+'/Sharing_in_commensals.png', dpi = 600)"
   ]
  },
  {
   "cell_type": "code",
   "execution_count": null,
   "metadata": {},
   "outputs": [],
   "source": [
    "data_to_share = pd.concat([data, temp_df], axis=1)\n",
    "data_to_share.head()"
   ]
  },
  {
   "cell_type": "code",
   "execution_count": null,
   "metadata": {},
   "outputs": [],
   "source": [
    "data_to_share.to_excel(output_path+'/data_to_share.xlsx')"
   ]
  },
  {
   "cell_type": "markdown",
   "metadata": {},
   "source": [
    "anti_sharing = anti_sharing.reset_index()\n",
    "anti_sharing.columns = ['antibiotic', 'cows']\n",
    "anti_sharing['Cows_str'] = anti_sharing.cows.apply(str)\n",
    "\n",
    "Class = ['Glycopeptides', 'Aminoglycosides', 'Aminoglycosides', 'Macrolides', 'Others', 'Others', 'Aminoglycosides',\n",
    "        'Oxazolidinones', 'Macrolides', 'Tetracyclines', 'Quinolones', 'Lincosamides']\n",
    "\n",
    "\n",
    "Class_order = ['Aminoglycosides', 'Glycopeptides',   'Lincosamides', 'Macrolides', 'Others', 'Oxazolidinones',\n",
    "               'Tetracyclines', 'Quinolones',]\n",
    "anti_sharing['Class'] =Class\n",
    "anti_sharing['min'] = 0\n",
    "anti_sharing = anti_sharing.set_index('Class')\n",
    "anti_sharing.sort_index(axis=0, inplace = True)\n",
    "anti_sharing = anti_sharing.reset_index()\n",
    "#anti_sharing['Class'] = pd.Categorical(anti_sharing['Class'], categories=Class_order, ordered=True)"
   ]
  },
  {
   "cell_type": "markdown",
   "metadata": {},
   "source": [
    "anti_sharing"
   ]
  },
  {
   "cell_type": "markdown",
   "metadata": {},
   "source": [
    "anti_sharing['Class_orderderd'] = pd.Categorical(anti_sharing['Class'], categories=Class_order, ordered=True)"
   ]
  },
  {
   "cell_type": "markdown",
   "metadata": {},
   "source": [
    "anti_sharing"
   ]
  },
  {
   "cell_type": "markdown",
   "metadata": {},
   "source": [
    "anti_sharing2 = anti_sharing.copy()\n",
    "anti_sharing2 = anti_sharing2.set_index(['Class_orderderd', 'antibiotic'])\n",
    "anti_sharing2"
   ]
  },
  {
   "cell_type": "markdown",
   "metadata": {},
   "source": [
    "## Change Chloramphenicol and Cipro"
   ]
  },
  {
   "cell_type": "markdown",
   "metadata": {
    "scrolled": false
   },
   "source": [
    "p = (ggplot()\n",
    " # Range strip\n",
    " + geom_segment(\n",
    "     anti_sharing,\n",
    "     aes(x='min', xend='cows', y='antibiotic', yend='antibiotic'),\n",
    "     size=3,\n",
    "     color='#a7a9ac'\n",
    " )\n",
    " # Age group markers\n",
    "+ geom_point(\n",
    "     anti_sharing,\n",
    "     aes('cows', 'antibiotic', color='Class', fill='Class'),\n",
    "     size=5,\n",
    "     stroke=0.7, \n",
    "\n",
    " )\n",
    " # Age group percentages\n",
    " + geom_text(\n",
    "     anti_sharing,\n",
    "     aes(x='cows+12', y='antibiotic', label='Cows_str'), #color='Class'\n",
    "     size=12,\n",
    "     ha='right',\n",
    " )\n",
    " + scale_y_discrete(limits=['Autumn', 'Summer', 'Spring', 'Winter'])\n",
    " + xlab('Number of cows')+ ylab('Dairy herds')\n",
    " + theme_538()\n",
    " + theme(figure_size=(6, 4))\n",
    ")\n",
    "ggsave(plot=p, filename='C:/Users/Falco/Desktop/directory/Cattle_AMR/outputs/Figure2.svg', dpi=600)\n",
    "p"
   ]
  },
  {
   "cell_type": "markdown",
   "metadata": {},
   "source": [
    "df_p = pd.melt(df, id_vars=['CowID'], value_vars=[0, 1, 2, 3, 4, 5, 6, 7, 8, 9])\n",
    "pd.pivot_table(data=df_p, columns='value',aggfunc='count', values='CowID' )"
   ]
  },
  {
   "cell_type": "code",
   "execution_count": null,
   "metadata": {},
   "outputs": [],
   "source": [
    "#?pd.wide_to_long"
   ]
  },
  {
   "cell_type": "code",
   "execution_count": null,
   "metadata": {
    "scrolled": true
   },
   "outputs": [],
   "source": []
  },
  {
   "cell_type": "code",
   "execution_count": null,
   "metadata": {},
   "outputs": [],
   "source": [
    "df.Sharing_2.apply(pd.Series).stack().unique()"
   ]
  },
  {
   "cell_type": "code",
   "execution_count": null,
   "metadata": {},
   "outputs": [],
   "source": [
    "import networkx as nx"
   ]
  },
  {
   "cell_type": "code",
   "execution_count": null,
   "metadata": {},
   "outputs": [],
   "source": [
    "n = pd.DataFrame({'LIN':'Lincomycin', \n",
    "                          'VAN':'Vancomycin',\n",
    "                           'CIP':'Ciprofloxacin',\n",
    "                           'TET':'Tetracycline',\n",
    "                           'ERY':'Erythromycin',\n",
    "                           'LZD':'Linezolid',\n",
    "                           'KAN':'Kanamycin A',\n",
    "                           'CHL':'Chloramphenicol',\n",
    "                           'SYN':'Quinupristin-dalfopristin',\n",
    "                           'TYLT':'Tylosin',\n",
    "                           'STR':'Streptomycin',\n",
    "                           'GEN':'Gentamicin'},index=[0]).T\n",
    "n.columns = ['antibiotic']\n",
    "n = pd.merge(n.reset_index(), anti_sharing, on = 'antibiotic', how='left')\n",
    "n.columns = ['Ant', 'antibiotic', 'Class', 'cows', 'Cows_str', 'min', 'Class_orderderd']\n",
    "n"
   ]
  },
  {
   "cell_type": "code",
   "execution_count": null,
   "metadata": {},
   "outputs": [],
   "source": [
    "%%time\n",
    "import itertools\n",
    "G = nx.Graph()\n",
    "for index, row in n.iterrows():\n",
    "    G.add_node(row.Ant, antibiotic=row.antibiotic, anti_class=row.Class)\n",
    "\n",
    "all_edges = []\n",
    "for index, row in df.iterrows():\n",
    "    nodes_comb = list(itertools.combinations(row.Sharing_2, 2))\n",
    "    for e in nodes_comb:\n",
    "        all_edges.append([e[0], e[1]])\n",
    "\n",
    "edges = pd.DataFrame(pd.Series(all_edges).value_counts()).reset_index()\n",
    "edges.columns = ['edge', 'weight']\n",
    "a = edges.edge.apply(pd.Series)\n",
    "edges = pd.concat([edges, a], axis=1)\n",
    "edges.columns = ['edge', 'weight', 'source', 'target']\n",
    "\n",
    "for index, row in edges.iterrows():\n",
    "    G.add_edge(row.source, row.target, weight=row.weight)\n",
    "\n",
    "pos = nx.fruchterman_reingold_layout(G, iterations=10000)\n",
    "\n",
    "edges_list = G.edges()\n",
    "\n",
    "d = dict(nx.betweenness_centrality_source(G))\n",
    "weights = [G[u][v]['weight'] for u, v in edges_list]\n",
    "style.use('fivethirtyeight')\n",
    "plt.rcParams['lines.linewidth'] = 1\n",
    "dpi = 1000\n",
    "fig, ax = plt.subplots(figsize=(6, 6))\n",
    "nx.draw(G,\n",
    "        pos,\n",
    "        nodelist=d.keys(), \n",
    "        node_size=[(v * 30000) for v in d.values()],\n",
    "        edges=edges_list,\n",
    "        width=(np.log(weights)*4)+1,\n",
    "        edge_color='#808080',\n",
    "        node_color = '#fc8d62',\n",
    "        with_labels=True,\n",
    "        ax=ax)\n",
    "plt.tight_layout()\n",
    "#plt.savefig('C:/Users/Falco/Desktop/directory/Cattle_AMR/outputs/Network_diagram.png')\n",
    "plt.savefig('C:/Users/Falco/Desktop/directory/Cattle_AMR/outputs/Network_diagram.svg')\n",
    "plt.show()"
   ]
  },
  {
   "cell_type": "code",
   "execution_count": null,
   "metadata": {},
   "outputs": [],
   "source": [
    "plt.hist(np.log(weights)*4)"
   ]
  },
  {
   "cell_type": "code",
   "execution_count": null,
   "metadata": {},
   "outputs": [],
   "source": [
    "from holoviews.operation.datashader import datashade, bundle_graph\n",
    "import holoviews as hv\n",
    "from holoviews import opts\n",
    "hv.extension('bokeh', 'matplotlib')\n",
    "bundled = bundle_graph(G)\n",
    "bundled"
   ]
  },
  {
   "cell_type": "code",
   "execution_count": null,
   "metadata": {},
   "outputs": [],
   "source": []
  },
  {
   "cell_type": "markdown",
   "metadata": {},
   "source": [
    "## Descriptive analysis of cow factors "
   ]
  },
  {
   "cell_type": "code",
   "execution_count": null,
   "metadata": {},
   "outputs": [],
   "source": [
    "a = data[cow_parameters].apply(pd.Series.value_counts).T.sort_values(1, ascending = False)\n",
    "a.columns = ['no', 'yes']\n",
    "a['total'] = a.no+a.yes\n",
    "a ['percent'] = a.yes/a['total']\n",
    "a"
   ]
  },
  {
   "cell_type": "code",
   "execution_count": null,
   "metadata": {},
   "outputs": [],
   "source": [
    "fig, ax = plt.subplots(figsize =(9,4))\n",
    "index = ['No Treatment', 'Low milk as reason for culling', \n",
    "        \"Poor reporduction as reason for culling\", \"Other reasons for culling\", \n",
    "        'Use of antibiotics', \"Lameness as reason for culling\", \n",
    "        \"Mastitis as reason for culling\", \"Use of anti-inflammatory drugs\",\n",
    "        \"Use of other drugs\"]\n",
    "df2 = data[cow_parameters].apply(pd.Series.value_counts).T.sort_values(1, ascending = True)\n",
    "#df2.index = index\n",
    "df2.columns = ['no', 'yes']\n",
    "df2.plot(kind = 'barh', ax = ax)\n",
    "ax.set_xlabel('number of cows')\n",
    "ax.set_title('distrbution of cow related factors', fontsize = 12)\n",
    "# Put a legend to the right of the current axis\n",
    "ax.legend(loc='center left', bbox_to_anchor=(1, 0.5))\n",
    "plt.tight_layout()\n",
    "plt.savefig(output_path+'/Cow_factors_distrbution.png', dpi = 600)"
   ]
  },
  {
   "cell_type": "code",
   "execution_count": null,
   "metadata": {},
   "outputs": [],
   "source": [
    "df2"
   ]
  },
  {
   "cell_type": "code",
   "execution_count": null,
   "metadata": {},
   "outputs": [],
   "source": [
    "df2['total'] = df2.no+df2.yes\n",
    "df2['yes_percent'] = df2.yes*100/df2['total']\n",
    "df2"
   ]
  },
  {
   "cell_type": "code",
   "execution_count": null,
   "metadata": {},
   "outputs": [],
   "source": [
    "74+14+24+27+66"
   ]
  },
  {
   "cell_type": "code",
   "execution_count": null,
   "metadata": {
    "scrolled": false
   },
   "outputs": [],
   "source": [
    "\n",
    "cows = data['MT_Results Individual_CowID'].unique().tolist()\n",
    "cows = pd.DataFrame(list(itertools.combinations(cows, 2)))"
   ]
  },
  {
   "cell_type": "code",
   "execution_count": null,
   "metadata": {},
   "outputs": [],
   "source": [
    "cows.columns = ['C1', 'C2']\n",
    "cows.head()"
   ]
  },
  {
   "cell_type": "code",
   "execution_count": null,
   "metadata": {},
   "outputs": [],
   "source": [
    "data.columns.tolist()"
   ]
  },
  {
   "cell_type": "code",
   "execution_count": null,
   "metadata": {},
   "outputs": [],
   "source": [
    "df.head()"
   ]
  },
  {
   "cell_type": "code",
   "execution_count": null,
   "metadata": {},
   "outputs": [],
   "source": [
    "df2 = pd.concat([data[['MT_Results Individual_CowID']], df], axis=1)  "
   ]
  },
  {
   "cell_type": "code",
   "execution_count": null,
   "metadata": {
    "scrolled": true
   },
   "outputs": [],
   "source": [
    "df2.head()"
   ]
  },
  {
   "cell_type": "code",
   "execution_count": null,
   "metadata": {},
   "outputs": [],
   "source": [
    "def get_all_drugs(c):\n",
    "    return list(set(c['Sal_DrugsR']).union(set(c['ECOLI_DRUGS'])).union(set(c['Entero_DRUGS'])))  "
   ]
  },
  {
   "cell_type": "code",
   "execution_count": null,
   "metadata": {},
   "outputs": [],
   "source": [
    "df2['all_drugs'] = df2.apply(get_all_drugs, axis=1)\n",
    "df2['all_drugs'].head(20)"
   ]
  },
  {
   "cell_type": "code",
   "execution_count": null,
   "metadata": {},
   "outputs": [],
   "source": [
    "net1 = pd.merge(cows, df2[['MT_Results Individual_CowID', 'all_drugs']], left_on='C1', right_on='MT_Results Individual_CowID', how='left')\n",
    "net1.columns = ['C1', 'C2', 'CowID1', 'C1_drugs']"
   ]
  },
  {
   "cell_type": "code",
   "execution_count": null,
   "metadata": {},
   "outputs": [],
   "source": [
    "net2 = pd.merge(net1, df2[['MT_Results Individual_CowID', 'all_drugs']], left_on='C2', right_on='MT_Results Individual_CowID', how='left')\n",
    "net2.columns = ['C1', 'C2', 'CowID1', 'C1_drugs', 'CowID2', 'C2_drugs']\n",
    "net2.head()"
   ]
  },
  {
   "cell_type": "code",
   "execution_count": null,
   "metadata": {},
   "outputs": [],
   "source": [
    "def sharing_cows (c):\n",
    "    return set(c['C1_drugs']).intersection(set(c['C2_drugs']))\n",
    "def number_shared_drugs (c):\n",
    "    return len(set(c['C1_drugs']).intersection(set(c['C2_drugs'])))\n"
   ]
  },
  {
   "cell_type": "code",
   "execution_count": null,
   "metadata": {},
   "outputs": [],
   "source": [
    "net2['shared_Drugs'] = net2.apply(sharing_cows, axis=1)\n",
    "net2['edge_width'] = net2.apply(number_shared_drugs, axis=1)\n",
    "net2.head()"
   ]
  },
  {
   "cell_type": "code",
   "execution_count": null,
   "metadata": {},
   "outputs": [],
   "source": [
    "network_df = net2[net2.edge_width>0]"
   ]
  },
  {
   "cell_type": "code",
   "execution_count": null,
   "metadata": {},
   "outputs": [],
   "source": [
    "network_df.edge_width.hist()"
   ]
  },
  {
   "cell_type": "code",
   "execution_count": null,
   "metadata": {},
   "outputs": [],
   "source": [
    "network_df"
   ]
  },
  {
   "cell_type": "raw",
   "metadata": {},
   "source": [
    "import networkx as nx\n",
    "import holoviews as hv\n",
    "import networkx as nx\n",
    "from holoviews import opts\n",
    "\n",
    "hv.extension('matplotlib')\n",
    "\n",
    "defaults = dict(width=1000, height=1000, padding=0.1)\n",
    "#hv.opts.defaults(\n",
    "#    opts.EdgePaths(**defaults), opts.Graph(**defaults), opts.Nodes(**defaults))"
   ]
  },
  {
   "cell_type": "raw",
   "metadata": {},
   "source": [
    "G=nx.from_pandas_edgelist(network_df, 'C1', 'C2', ['shared_Drugs', 'edge_width'])"
   ]
  },
  {
   "cell_type": "code",
   "execution_count": null,
   "metadata": {},
   "outputs": [],
   "source": [
    "#kwargs = dict(cbar_width=800, height=800, xaxis=None, yaxis=None)\n",
    "#opts.defaults(opts.Nodes(**kwargs), opts.Graph(**kwargs))\n",
    "graph = hv.Graph.from_networkx(G, nx.layout.fruchterman_reingold_layout)\n",
    "graph"
   ]
  }
 ],
 "metadata": {
  "hide_input": false,
  "kernelspec": {
   "display_name": "Python 3",
   "language": "python",
   "name": "python3"
  },
  "language_info": {
   "codemirror_mode": {
    "name": "ipython",
    "version": 3
   },
   "file_extension": ".py",
   "mimetype": "text/x-python",
   "name": "python",
   "nbconvert_exporter": "python",
   "pygments_lexer": "ipython3",
   "version": "3.8.3"
  },
  "toc": {
   "base_numbering": 1,
   "nav_menu": {},
   "number_sections": true,
   "sideBar": true,
   "skip_h1_title": false,
   "title_cell": "Table of Contents",
   "title_sidebar": "Contents",
   "toc_cell": false,
   "toc_position": {},
   "toc_section_display": true,
   "toc_window_display": false
  },
  "varInspector": {
   "cols": {
    "lenName": 16,
    "lenType": 16,
    "lenVar": 40
   },
   "kernels_config": {
    "python": {
     "delete_cmd_postfix": "",
     "delete_cmd_prefix": "del ",
     "library": "var_list.py",
     "varRefreshCmd": "print(var_dic_list())"
    },
    "r": {
     "delete_cmd_postfix": ") ",
     "delete_cmd_prefix": "rm(",
     "library": "var_list.r",
     "varRefreshCmd": "cat(var_dic_list()) "
    }
   },
   "types_to_exclude": [
    "module",
    "function",
    "builtin_function_or_method",
    "instance",
    "_Feature"
   ],
   "window_display": false
  }
 },
 "nbformat": 4,
 "nbformat_minor": 2
}
