{
 "cells": [
  {
   "cell_type": "code",
   "execution_count": 1,
   "metadata": {},
   "outputs": [],
   "source": [
    "import os as os\n",
    "path = r'/home/falco/Desktop/directory/Cattle_AMR_2/'\n",
    "os.chdir(r'/home/falco/Desktop/directory/Cattle_AMR_2/')\n",
    "data_path = r\"/home/falco/Desktop/directory/Cattle_AMR_2/data/\"\n",
    "output_path = r\"/home/falco/Desktop/directory/Cattle_AMR_2/outputs/\"\n",
    "\n",
    "import sklearn\n",
    "from sklearn.metrics import classification_report, f1_score, accuracy_score, confusion_matrix\n",
    "from sklearn.pipeline import Pipeline\n",
    "from sklearn.ensemble import ExtraTreesClassifier, RandomForestClassifier, AdaBoostClassifier, GradientBoostingClassifier\n",
    "from sklearn.model_selection import GridSearchCV\n",
    "from sklearn.model_selection import StratifiedKFold ,cross_val_score, train_test_split, cross_val_predict\n",
    "from sklearn.tree import DecisionTreeClassifier \n",
    "from sklearn.model_selection import learning_curve\n",
    "from pandas_ml import ConfusionMatrix\n",
    "import re\n",
    "import pandas as pd\n",
    "import numpy as np\n",
    "import seaborn as sns\n",
    "from matplotlib import pyplot as plt\n",
    "import matplotlib.style as style\n",
    "\n",
    "import pandas.api.types as pdtypes\n",
    "\n",
    "from plotnine import *\n",
    "from plydata import *\n",
    "\n",
    "np.random.seed(1234)\n",
    "import pandas as pd\n",
    "from sklearn.ensemble import RandomForestRegressor, RandomForestClassifier\n",
    "from sklearn.model_selection import train_test_split\n",
    "from functions import functions as f\n",
    "\n",
    "\n",
    "style.use('fivethirtyeight')\n",
    "plt.rcParams['lines.linewidth'] = 1\n",
    "dpi = 1000\n",
    "plt.rcParams['font.size'] = 13\n",
    "plt.rcParams['font.family'] = 'Times New Roman'\n",
    "plt.rcParams['axes.labelsize'] = plt.rcParams['font.size']\n",
    "plt.rcParams['axes.titlesize'] = 1.5*plt.rcParams['font.size']\n",
    "plt.rcParams['legend.fontsize'] = plt.rcParams['font.size']+1\n",
    "plt.rcParams['xtick.labelsize'] = plt.rcParams['font.size']\n",
    "plt.rcParams['ytick.labelsize'] = plt.rcParams['font.size']\n",
    "plt.rcParams['figure.figsize'] = 8, 8\n",
    "import warnings\n",
    "warnings.filterwarnings('ignore')"
   ]
  },
  {
   "cell_type": "code",
   "execution_count": 2,
   "metadata": {},
   "outputs": [
    {
     "name": "stdout",
     "output_type": "stream",
     "text": [
      "reading datafile\n",
      "fill missing values and correct some values\n",
      "changing the column names\n",
      "generating output variables\n",
      "final R_factor output\n",
      "1    213\n",
      "0     30\n",
      "Name: Ceftiofur, dtype: int64\n",
      "1    213\n",
      "0     30\n",
      "Name: Penicillin, dtype: int64\n",
      "0    204\n",
      "1     39\n",
      "Name: Tetracycline, dtype: int64\n",
      "CPU times: user 539 ms, sys: 509 µs, total: 539 ms\n",
      "Wall time: 532 ms\n"
     ]
    }
   ],
   "source": [
    "%%time\n",
    "data, d = f.read_process_data(data_path=data_path)"
   ]
  },
  {
   "cell_type": "code",
   "execution_count": 3,
   "metadata": {},
   "outputs": [
    {
     "data": {
      "text/html": [
       "<div>\n",
       "<style scoped>\n",
       "    .dataframe tbody tr th:only-of-type {\n",
       "        vertical-align: middle;\n",
       "    }\n",
       "\n",
       "    .dataframe tbody tr th {\n",
       "        vertical-align: top;\n",
       "    }\n",
       "\n",
       "    .dataframe thead th {\n",
       "        text-align: right;\n",
       "    }\n",
       "</style>\n",
       "<table border=\"1\" class=\"dataframe\">\n",
       "  <thead>\n",
       "    <tr style=\"text-align: right;\">\n",
       "      <th></th>\n",
       "      <th>MT_Results Individual_CowID</th>\n",
       "      <th>F_Salmonella PCR_Result</th>\n",
       "      <th>F_AMR_CowID</th>\n",
       "      <th>SR_FOX</th>\n",
       "      <th>SR_AZI</th>\n",
       "      <th>SR_CHL</th>\n",
       "      <th>SR_TET</th>\n",
       "      <th>SR_AXO</th>\n",
       "      <th>SR_AUG2</th>\n",
       "      <th>SR_CIP</th>\n",
       "      <th>...</th>\n",
       "      <th>R_commensal</th>\n",
       "      <th>R_commensal_n</th>\n",
       "      <th>Sal_AbR_n</th>\n",
       "      <th>Entero_AbR_n</th>\n",
       "      <th>Ecoli_AbR_n</th>\n",
       "      <th>R_factor</th>\n",
       "      <th>Sal_R</th>\n",
       "      <th>Ecoli_R</th>\n",
       "      <th>Entero_R</th>\n",
       "      <th>Commensal_R</th>\n",
       "    </tr>\n",
       "  </thead>\n",
       "  <tbody>\n",
       "    <tr>\n",
       "      <th>0</th>\n",
       "      <td>4672</td>\n",
       "      <td>Negative</td>\n",
       "      <td>NaN</td>\n",
       "      <td>NaN</td>\n",
       "      <td>NaN</td>\n",
       "      <td>NaN</td>\n",
       "      <td>NaN</td>\n",
       "      <td>NaN</td>\n",
       "      <td>NaN</td>\n",
       "      <td>NaN</td>\n",
       "      <td>...</td>\n",
       "      <td>[Nitrofuran antibacterial, Macrolides]</td>\n",
       "      <td>2</td>\n",
       "      <td>0</td>\n",
       "      <td>2</td>\n",
       "      <td>0</td>\n",
       "      <td>1</td>\n",
       "      <td>0</td>\n",
       "      <td>0</td>\n",
       "      <td>1</td>\n",
       "      <td>1</td>\n",
       "    </tr>\n",
       "    <tr>\n",
       "      <th>1</th>\n",
       "      <td>1099</td>\n",
       "      <td>Negative</td>\n",
       "      <td>NaN</td>\n",
       "      <td>NaN</td>\n",
       "      <td>NaN</td>\n",
       "      <td>NaN</td>\n",
       "      <td>NaN</td>\n",
       "      <td>NaN</td>\n",
       "      <td>NaN</td>\n",
       "      <td>NaN</td>\n",
       "      <td>...</td>\n",
       "      <td>[Amphenicols, Macrolides, Tetracyclines, Oxazo...</td>\n",
       "      <td>4</td>\n",
       "      <td>0</td>\n",
       "      <td>4</td>\n",
       "      <td>0</td>\n",
       "      <td>2</td>\n",
       "      <td>0</td>\n",
       "      <td>0</td>\n",
       "      <td>2</td>\n",
       "      <td>2</td>\n",
       "    </tr>\n",
       "    <tr>\n",
       "      <th>2</th>\n",
       "      <td>3786</td>\n",
       "      <td>Negative</td>\n",
       "      <td>NaN</td>\n",
       "      <td>NaN</td>\n",
       "      <td>NaN</td>\n",
       "      <td>NaN</td>\n",
       "      <td>NaN</td>\n",
       "      <td>NaN</td>\n",
       "      <td>NaN</td>\n",
       "      <td>NaN</td>\n",
       "      <td>...</td>\n",
       "      <td>[Amphenicols, Nitrofuran antibacterial, Tetrac...</td>\n",
       "      <td>3</td>\n",
       "      <td>0</td>\n",
       "      <td>3</td>\n",
       "      <td>0</td>\n",
       "      <td>2</td>\n",
       "      <td>0</td>\n",
       "      <td>0</td>\n",
       "      <td>2</td>\n",
       "      <td>2</td>\n",
       "    </tr>\n",
       "    <tr>\n",
       "      <th>3</th>\n",
       "      <td>3596</td>\n",
       "      <td>Negative</td>\n",
       "      <td>NaN</td>\n",
       "      <td>NaN</td>\n",
       "      <td>NaN</td>\n",
       "      <td>NaN</td>\n",
       "      <td>NaN</td>\n",
       "      <td>NaN</td>\n",
       "      <td>NaN</td>\n",
       "      <td>NaN</td>\n",
       "      <td>...</td>\n",
       "      <td>[Streptogramin, Nitrofuran antibacterial, Macr...</td>\n",
       "      <td>4</td>\n",
       "      <td>0</td>\n",
       "      <td>4</td>\n",
       "      <td>0</td>\n",
       "      <td>2</td>\n",
       "      <td>0</td>\n",
       "      <td>0</td>\n",
       "      <td>2</td>\n",
       "      <td>2</td>\n",
       "    </tr>\n",
       "    <tr>\n",
       "      <th>4</th>\n",
       "      <td>4880</td>\n",
       "      <td>Negative</td>\n",
       "      <td>NaN</td>\n",
       "      <td>NaN</td>\n",
       "      <td>NaN</td>\n",
       "      <td>NaN</td>\n",
       "      <td>NaN</td>\n",
       "      <td>NaN</td>\n",
       "      <td>NaN</td>\n",
       "      <td>NaN</td>\n",
       "      <td>...</td>\n",
       "      <td>[Nitrofuran antibacterial, Macrolides, Tetracy...</td>\n",
       "      <td>6</td>\n",
       "      <td>0</td>\n",
       "      <td>6</td>\n",
       "      <td>0</td>\n",
       "      <td>2</td>\n",
       "      <td>0</td>\n",
       "      <td>0</td>\n",
       "      <td>2</td>\n",
       "      <td>2</td>\n",
       "    </tr>\n",
       "  </tbody>\n",
       "</table>\n",
       "<p>5 rows × 91 columns</p>\n",
       "</div>"
      ],
      "text/plain": [
       "   MT_Results Individual_CowID F_Salmonella PCR_Result  F_AMR_CowID SR_FOX  \\\n",
       "0                         4672                Negative          NaN    NaN   \n",
       "1                         1099                Negative          NaN    NaN   \n",
       "2                         3786                Negative          NaN    NaN   \n",
       "3                         3596                Negative          NaN    NaN   \n",
       "4                         4880                Negative          NaN    NaN   \n",
       "\n",
       "  SR_AZI SR_CHL SR_TET SR_AXO SR_AUG2 SR_CIP  ...  \\\n",
       "0    NaN    NaN    NaN    NaN     NaN    NaN  ...   \n",
       "1    NaN    NaN    NaN    NaN     NaN    NaN  ...   \n",
       "2    NaN    NaN    NaN    NaN     NaN    NaN  ...   \n",
       "3    NaN    NaN    NaN    NaN     NaN    NaN  ...   \n",
       "4    NaN    NaN    NaN    NaN     NaN    NaN  ...   \n",
       "\n",
       "                                         R_commensal R_commensal_n Sal_AbR_n  \\\n",
       "0             [Nitrofuran antibacterial, Macrolides]             2         0   \n",
       "1  [Amphenicols, Macrolides, Tetracyclines, Oxazo...             4         0   \n",
       "2  [Amphenicols, Nitrofuran antibacterial, Tetrac...             3         0   \n",
       "3  [Streptogramin, Nitrofuran antibacterial, Macr...             4         0   \n",
       "4  [Nitrofuran antibacterial, Macrolides, Tetracy...             6         0   \n",
       "\n",
       "  Entero_AbR_n Ecoli_AbR_n R_factor Sal_R  Ecoli_R  Entero_R  Commensal_R  \n",
       "0            2           0        1     0        0         1            1  \n",
       "1            4           0        2     0        0         2            2  \n",
       "2            3           0        2     0        0         2            2  \n",
       "3            4           0        2     0        0         2            2  \n",
       "4            6           0        2     0        0         2            2  \n",
       "\n",
       "[5 rows x 91 columns]"
      ]
     },
     "execution_count": 3,
     "metadata": {},
     "output_type": "execute_result"
    }
   ],
   "source": [
    "data.filter(like = 'R').head()"
   ]
  },
  {
   "cell_type": "markdown",
   "metadata": {},
   "source": [
    "# Model Predictors"
   ]
  },
  {
   "cell_type": "code",
   "execution_count": 4,
   "metadata": {
    "cell_style": "split"
   },
   "outputs": [],
   "source": [
    "herd_parameters = [\n",
    "    'HerdSize', \n",
    "    'RollingHerdAvg', \n",
    "    'Holstein',\n",
    "    'Jersey',\n",
    "    'CullPctMonth',\n",
    "    'CullTimesMonth',\n",
    "    'MainCullReason',\n",
    "    'PctCullBeef',\n",
    "    'PctCullCondemned',\n",
    "    'PctInject',\n",
    "    'VetTreats',\n",
    "    'ManagerTreats',\n",
    "    'StaffTreats',\n",
    "    'ResiduePrevent',\n",
    "    'Chalk4Withdrawal',\n",
    "    'Inventory',\n",
    "    'SeparateUse',\n",
    "    'CombinationUse',\n",
    "    'TrackAntibioticDose',\n",
    "    'TrackAntibioticRoute',\n",
    "    'FamiliarELDU',\n",
    "    'FreqELDU',\n",
    "    'NoELDU',\n",
    "    'NumberCulled',\n",
    "    'SalmonellaVaccine'\n",
    "]"
   ]
  },
  {
   "cell_type": "code",
   "execution_count": 5,
   "metadata": {
    "cell_style": "split"
   },
   "outputs": [],
   "source": [
    "cow_parameters = ['LowMilkCull',\n",
    "                  'ReproCull',\n",
    "                  'LameCull',\n",
    "                  'MastitisCull',\n",
    "                  'OtherCull',\n",
    "                  'AMD',\n",
    "                  'Ani-Inf',\n",
    "                  'No-Treatment',\n",
    "                  'Other',\n",
    "                  'Tetracycline',\n",
    "                  'Penicillin',\n",
    "                  'Ceftiofur',\n",
    "                  'Season'\n",
    "]"
   ]
  },
  {
   "cell_type": "code",
   "execution_count": 6,
   "metadata": {
    "cell_style": "split"
   },
   "outputs": [],
   "source": [
    "categorical = ['CullTimesMonth',\n",
    "               'PctCullCondemned',\n",
    "               'PctInject',\n",
    "               'FreqELDU',\n",
    "               'Season'\n",
    "               ]"
   ]
  },
  {
   "cell_type": "code",
   "execution_count": 7,
   "metadata": {
    "cell_style": "split"
   },
   "outputs": [
    {
     "data": {
      "text/plain": [
       "38"
      ]
     },
     "execution_count": 7,
     "metadata": {},
     "output_type": "execute_result"
    }
   ],
   "source": [
    "features = cow_parameters+ herd_parameters\n",
    "len(features)"
   ]
  },
  {
   "cell_type": "code",
   "execution_count": 8,
   "metadata": {},
   "outputs": [
    {
     "data": {
      "text/plain": [
       "1    107\n",
       "2     75\n",
       "0     61\n",
       "Name: R_factor, dtype: int64"
      ]
     },
     "execution_count": 8,
     "metadata": {},
     "output_type": "execute_result"
    }
   ],
   "source": [
    "data['R_factor'].value_counts()"
   ]
  },
  {
   "cell_type": "code",
   "execution_count": 9,
   "metadata": {},
   "outputs": [
    {
     "name": "stderr",
     "output_type": "stream",
     "text": [
      "findfont: Font family ['Times New Roman'] not found. Falling back to DejaVu Sans.\n"
     ]
    },
    {
     "data": {
      "image/png": "[encoded data removed]",
      "text/plain": [
       "<Figure size 432x288 with 1 Axes>"
      ]
     },
     "metadata": {
      "needs_background": "light"
     },
     "output_type": "display_data"
    }
   ],
   "source": [
    "data_m = data[data['F_Salmonella PCR_Result'] == 'Positive']\n",
    "plt.hist(data_m['Sal_R'], bins=3)\n",
    "plt.show()"
   ]
  },
  {
   "cell_type": "code",
   "execution_count": 10,
   "metadata": {},
   "outputs": [
    {
     "data": {
      "text/plain": [
       "0    37\n",
       "1    19\n",
       "2     5\n",
       "Name: Sal_R, dtype: int64"
      ]
     },
     "execution_count": 10,
     "metadata": {},
     "output_type": "execute_result"
    }
   ],
   "source": [
    "data_m['Sal_R'].value_counts()"
   ]
  },
  {
   "cell_type": "markdown",
   "metadata": {},
   "source": [
    "## Model functions"
   ]
  },
  {
   "cell_type": "code",
   "execution_count": 11,
   "metadata": {},
   "outputs": [],
   "source": [
    "from model_functions import *"
   ]
  },
  {
   "cell_type": "code",
   "execution_count": 12,
   "metadata": {},
   "outputs": [],
   "source": [
    "from xgboost import XGBClassifier"
   ]
  },
  {
   "cell_type": "code",
   "execution_count": 13,
   "metadata": {},
   "outputs": [],
   "source": [
    "parameters = {\n",
    "    \"learning_rate\":[0.001, 0.002, 0.005, 0.008, 0.01, 0.02, 0.05, 0.10, 0.25, 0.5],\n",
    "    \"max_depth\": [3,4,7, 8,9, 10,15, 20],\n",
    "    \"min_child_weight\": [1, 3, 5, 7],\n",
    "    \"gamma\": [0.0, 0.1, 0.2, 0.4, 0.45, 0.5, 0.6, 0.7],\n",
    "    \"colsample_bytree\": [0.2, 0.1,0.15, 0.4, 0.7],\n",
    "    \"objective\":['multi:softprob'],\n",
    "    \"n_estimators\":[3, 5, 10, 30, 40, 50, 100]\n",
    "}"
   ]
  },
  {
   "cell_type": "markdown",
   "metadata": {},
   "source": [
    "## XgBoost"
   ]
  },
  {
   "cell_type": "code",
   "execution_count": 14,
   "metadata": {
    "scrolled": false
   },
   "outputs": [
    {
     "name": "stdout",
     "output_type": "stream",
     "text": [
      "\n",
      "    \n",
      "    Testing and Training datasets and preprocessing\n",
      "    \n",
      "    \n",
      "(170,)\n",
      "\n",
      "    \n",
      "    Simple cross validation with default parameters\n",
      "    \n",
      "    \n",
      "[0.43103448 0.44642857 0.60714286]\n",
      "              precision    recall  f1-score   support\n",
      "\n",
      "           0       0.49      0.42      0.45        43\n",
      "           1       0.49      0.60      0.54        75\n",
      "           2       0.51      0.40      0.45        52\n",
      "\n",
      "    accuracy                           0.49       170\n",
      "   macro avg       0.50      0.47      0.48       170\n",
      "weighted avg       0.50      0.49      0.49       170\n",
      "\n",
      "\n",
      "    \n",
      "    Plot shows internal validation of the random forest model with default parameters\n",
      "    \n",
      "    \n"
     ]
    },
    {
     "name": "stderr",
     "output_type": "stream",
     "text": [
      "findfont: Font family ['Times New Roman'] not found. Falling back to DejaVu Sans.\n"
     ]
    },
    {
     "data": {
      "image/png": "[encoded data removed]",
      "text/plain": [
       "<Figure size 432x288 with 2 Axes>"
      ]
     },
     "metadata": {
      "needs_background": "light"
     },
     "output_type": "display_data"
    },
    {
     "name": "stdout",
     "output_type": "stream",
     "text": [
      "\n",
      "    \n",
      "    Exrernal validation Multiple random forest model parameters are tested with k-fold cross validation (internal validation) method\n",
      "    The cross validated model is then used on a \"Holdout dataset\" (data which is not seen by the model in cross validation)\n",
      "    to understand its external validity.\n",
      "    \n",
      "    \n",
      "    \n",
      "# Tuning hyper-parameters for precision\n",
      "\n",
      "Best parameters set found on development set:\n",
      "\n",
      "{'colsample_bytree': 0.1, 'gamma': 0.5, 'learning_rate': 0.05, 'max_depth': 7, 'min_child_weight': 7, 'n_estimators': 30, 'objective': 'multi:softprob'}\n",
      "\n",
      "Grid scores on development set:\n",
      "\n",
      "\n",
      "Detailed classification report:\n",
      "\n",
      "The model is trained on the full development set.\n",
      "The scores are computed on the full evaluation set.\n",
      "\n"
     ]
    },
    {
     "data": {
      "image/png": "[encoded data removed]",
      "text/plain": [
       "<Figure size 432x288 with 2 Axes>"
      ]
     },
     "metadata": {
      "needs_background": "light"
     },
     "output_type": "display_data"
    },
    {
     "name": "stdout",
     "output_type": "stream",
     "text": [
      "              precision    recall  f1-score   support\n",
      "\n",
      "           0       0.38      0.17      0.23        18\n",
      "           1       0.43      0.78      0.56        32\n",
      "           2       0.57      0.17      0.27        23\n",
      "\n",
      "    accuracy                           0.44        73\n",
      "   macro avg       0.46      0.37      0.35        73\n",
      "weighted avg       0.46      0.44      0.38        73\n",
      "\n"
     ]
    }
   ],
   "source": [
    "%%time \n",
    "gbc = XGBClassifier()\n",
    "run_classifier(clf=gbc, k=3, \n",
    "               tuned_parameters=parameters,\n",
    "               y='R_factor',\n",
    "               cow_parameters= cow_parameters,\n",
    "               herd_parameters = herd_parameters,  \n",
    "               categorical=categorical, \n",
    "               data= data)"
   ]
  },
  {
   "cell_type": "code",
   "execution_count": 15,
   "metadata": {
    "cell_style": "center",
    "scrolled": false
   },
   "outputs": [
    {
     "name": "stdout",
     "output_type": "stream",
     "text": [
      "\n",
      "    \n",
      "    Testing and Training datasets and preprocessing\n",
      "    \n",
      "    \n",
      "(42,)\n",
      "\n",
      "    \n",
      "    Simple cross validation with default parameters\n",
      "    \n",
      "    \n",
      "[0.8        0.57142857 0.46153846]\n",
      "              precision    recall  f1-score   support\n",
      "\n",
      "           0       0.72      0.69      0.71        26\n",
      "           1       0.47      0.62      0.53        13\n",
      "           2       0.00      0.00      0.00         3\n",
      "\n",
      "    accuracy                           0.62        42\n",
      "   macro avg       0.40      0.44      0.41        42\n",
      "weighted avg       0.59      0.62      0.60        42\n",
      "\n",
      "\n",
      "    \n",
      "    Plot shows internal validation of the random forest model with default parameters\n",
      "    \n",
      "    \n"
     ]
    },
    {
     "data": {
      "image/png": "[encoded data removed]",
      "text/plain": [
       "<Figure size 432x288 with 2 Axes>"
      ]
     },
     "metadata": {
      "needs_background": "light"
     },
     "output_type": "display_data"
    },
    {
     "name": "stdout",
     "output_type": "stream",
     "text": [
      "\n",
      "    \n",
      "    Exrernal validation Multiple random forest model parameters are tested with k-fold cross validation (internal validation) method\n",
      "    The cross validated model is then used on a \"Holdout dataset\" (data which is not seen by the model in cross validation)\n",
      "    to understand its external validity.\n",
      "    \n",
      "    \n",
      "    \n",
      "# Tuning hyper-parameters for precision\n",
      "\n",
      "Best parameters set found on development set:\n",
      "\n",
      "{'colsample_bytree': 0.1, 'gamma': 0.1, 'learning_rate': 0.25, 'max_depth': 3, 'min_child_weight': 3, 'n_estimators': 5, 'objective': 'multi:softprob'}\n",
      "\n",
      "Grid scores on development set:\n",
      "\n",
      "\n",
      "Detailed classification report:\n",
      "\n",
      "The model is trained on the full development set.\n",
      "The scores are computed on the full evaluation set.\n",
      "\n"
     ]
    },
    {
     "data": {
      "image/png": "[encoded data removed]",
      "text/plain": [
       "<Figure size 432x288 with 2 Axes>"
      ]
     },
     "metadata": {
      "needs_background": "light"
     },
     "output_type": "display_data"
    },
    {
     "name": "stdout",
     "output_type": "stream",
     "text": [
      "              precision    recall  f1-score   support\n",
      "\n",
      "           0       0.75      0.82      0.78        11\n",
      "           1       0.57      0.67      0.62         6\n",
      "           2       0.00      0.00      0.00         2\n",
      "\n",
      "    accuracy                           0.68        19\n",
      "   macro avg       0.44      0.49      0.47        19\n",
      "weighted avg       0.61      0.68      0.65        19\n",
      "\n",
      "CPU times: user 48min 18s, sys: 908 ms, total: 48min 18s\n",
      "Wall time: 48min 18s\n"
     ]
    }
   ],
   "source": [
    "%%time\n",
    "\"\"\" \n",
    "Multi Drug resistance\n",
    "\"\"\"\n",
    "gbc = XGBClassifier()\n",
    "run_classifier(clf=gbc, k=3, \n",
    "               tuned_parameters=parameters,\n",
    "               y='Sal_R',\n",
    "               cow_parameters= cow_parameters,\n",
    "               herd_parameters = herd_parameters,  \n",
    "               categorical=categorical, \n",
    "               data= data_m)"
   ]
  },
  {
   "cell_type": "code",
   "execution_count": null,
   "metadata": {},
   "outputs": [],
   "source": []
  },
  {
   "cell_type": "raw",
   "metadata": {
    "cell_style": "split",
    "scrolled": false
   },
   "source": [
    "%%time\n",
    "\"\"\" \n",
    "Multi Drug resistance\n",
    "\"\"\"\n",
    "gbc = XGBClassifier()\n",
    "run_classifier(clf=gbc, k=3, \n",
    "               tuned_parameters=parameters,\n",
    "               y='R',\n",
    "               cow_parameters= cow_parameters,\n",
    "               herd_parameters = herd_parameters,  \n",
    "               categorical=categorical, \n",
    "               data= data)"
   ]
  },
  {
   "cell_type": "raw",
   "metadata": {
    "cell_style": "split",
    "scrolled": false
   },
   "source": [
    "%%time\n",
    "\"\"\" \n",
    "Entero_R\n",
    "\"\"\"\n",
    "parameters = {\"learning_rate\"    : [0.05, 0.10, 0.15, 0.20, 0.25, 0.30 ] ,\n",
    "               \"max_depth\"        : [ 3, 4, 5, 6, 8, 10, 12, 15],\n",
    "               \"min_child_weight\" : [ 1, 3, 5, 7 ],\n",
    "               \"gamma\"            : [ 0.0, 0.1, 0.2 , 0.3, 0.4 ],\n",
    "               \"colsample_bytree\" : [ 0.3, 0.4, 0.5 , 0.7 ] }\n",
    "\n",
    "\n",
    "gbc = XGBClassifier()\n",
    "run_classifier(clf=gbc, k=3, \n",
    "               tuned_parameters=parameters,\n",
    "               y='Entero_R',\n",
    "               cow_parameters= cow_parameters,\n",
    "               herd_parameters = herd_parameters,  \n",
    "               categorical=categorical, \n",
    "               data= data)"
   ]
  },
  {
   "cell_type": "raw",
   "metadata": {
    "cell_style": "split"
   },
   "source": [
    "%%time\n",
    "\"\"\" \n",
    "Ecoli_R\n",
    "\"\"\"\n",
    "parameters = {\"learning_rate\"    : [0.05, 0.10, 0.15, 0.20, 0.25, 0.30 ] ,\n",
    "               \"max_depth\"        : [ 3, 4, 5, 6, 8, 10, 12, 15],\n",
    "               \"min_child_weight\" : [ 1, 3, 5, 7 ],\n",
    "               \"gamma\"            : [ 0.0, 0.1, 0.2 , 0.3, 0.4 ],\n",
    "               \"colsample_bytree\" : [ 0.3, 0.4, 0.5 , 0.7 ] }\n",
    "\n",
    "\n",
    "gbc = XGBClassifier()\n",
    "run_classifier(clf=gbc, k=3, \n",
    "               tuned_parameters=parameters,\n",
    "               y='Ecoli_R',\n",
    "               cow_parameters= cow_parameters,\n",
    "               herd_parameters = herd_parameters,  \n",
    "               categorical=categorical, \n",
    "               data= data)"
   ]
  },
  {
   "cell_type": "raw",
   "metadata": {
    "cell_style": "split"
   },
   "source": [
    "%%time\n",
    "\"\"\" \n",
    "Salm_R\n",
    "\"\"\"\n",
    "parameters = {\"learning_rate\"    : [0.05, 0.10, 0.15, 0.20, 0.25, 0.30 ] ,\n",
    "               \"max_depth\"        : [ 3, 4, 5, 6, 8, 10, 12, 15],\n",
    "               \"min_child_weight\" : [ 1, 3, 5, 7 ],\n",
    "               \"gamma\"            : [ 0.0, 0.1, 0.2 , 0.3, 0.4 ],\n",
    "               \"colsample_bytree\" : [ 0.3, 0.4, 0.5 , 0.7 ] }\n",
    "\n",
    "\n",
    "gbc = XGBClassifier()\n",
    "run_classifier(clf=gbc, k=3, \n",
    "               tuned_parameters=parameters,\n",
    "               y='Salm_R',\n",
    "               cow_parameters= cow_parameters,\n",
    "               herd_parameters = herd_parameters,  \n",
    "               categorical=categorical, \n",
    "               data= data)"
   ]
  }
 ],
 "metadata": {
  "hide_input": false,
  "kernelspec": {
   "display_name": "py37 [conda env:py37]",
   "language": "python",
   "name": "conda-env-py37-py"
  },
  "language_info": {
   "codemirror_mode": {
    "name": "ipython",
    "version": 3
   },
   "file_extension": ".py",
   "mimetype": "text/x-python",
   "name": "python",
   "nbconvert_exporter": "python",
   "pygments_lexer": "ipython3",
   "version": "3.7.6"
  },
  "toc": {
   "base_numbering": 1,
   "nav_menu": {},
   "number_sections": true,
   "sideBar": true,
   "skip_h1_title": false,
   "title_cell": "Table of Contents",
   "title_sidebar": "Contents",
   "toc_cell": false,
   "toc_position": {},
   "toc_section_display": true,
   "toc_window_display": false
  },
  "varInspector": {
   "cols": {
    "lenName": 16,
    "lenType": 16,
    "lenVar": 40
   },
   "kernels_config": {
    "python": {
     "delete_cmd_postfix": "",
     "delete_cmd_prefix": "del ",
     "library": "var_list.py",
     "varRefreshCmd": "print(var_dic_list())"
    },
    "r": {
     "delete_cmd_postfix": ") ",
     "delete_cmd_prefix": "rm(",
     "library": "var_list.r",
     "varRefreshCmd": "cat(var_dic_list()) "
    }
   },
   "types_to_exclude": [
    "module",
    "function",
    "builtin_function_or_method",
    "instance",
    "_Feature"
   ],
   "window_display": false
  }
 },
 "nbformat": 4,
 "nbformat_minor": 2
}
